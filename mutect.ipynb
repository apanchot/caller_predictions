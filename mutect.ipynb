{
 "cells": [
  {
   "cell_type": "code",
   "execution_count": 2,
   "id": "cd08d612",
   "metadata": {},
   "outputs": [],
   "source": [
    "import CSV\n",
    "using DataFrames\n",
    "# using StatsBase\n",
    "include(\"pred_funcs.jl\")\n",
    "using MLJ\n",
    "# import MLJBase\n",
    "import TableView.showtable\n",
    "using Plots\n",
    "import FileIO\n",
    "import Statistics\n",
    "using LazyArrays\n",
    "using Zygote\n",
    "import LinearAlgebra"
   ]
  },
  {
   "cell_type": "code",
   "execution_count": 3,
   "id": "ca312d16",
   "metadata": {},
   "outputs": [
    {
     "name": "stderr",
     "output_type": "stream",
     "text": [
      "WARNING: using Distributions.sampler in module Main conflicts with an existing identifier.\n"
     ]
    }
   ],
   "source": [
    "using Turing, Distributions\n",
    "\n",
    "using MCMCChains, StatsPlots\n",
    "\n",
    "using StatsFuns: logistic\n",
    "\n",
    "using Random\n",
    "Random.seed!(0);\n",
    "\n",
    "using StatsBase\n",
    "import MLJBase"
   ]
  },
  {
   "cell_type": "code",
   "execution_count": 4,
   "id": "42dbb043",
   "metadata": {},
   "outputs": [
    {
     "name": "stdout",
     "output_type": "stream",
     "text": [
      "import MLJFlux ✔"
     ]
    },
    {
     "name": "stderr",
     "output_type": "stream",
     "text": [
      "┌ Info: For silent loading, specify `verbosity=0`. \n",
      "└ @ Main /Users/alexpanchot/.julia/packages/MLJModels/4sRmw/src/loading.jl:168\n"
     ]
    },
    {
     "name": "stdout",
     "output_type": "stream",
     "text": [
      "\n"
     ]
    },
    {
     "data": {
      "text/plain": [
       "MLJFlux.NeuralNetworkClassifier"
      ]
     },
     "execution_count": 4,
     "metadata": {},
     "output_type": "execute_result"
    }
   ],
   "source": [
    "MissingImputator = @load MissingImputator pkg=\"BetaML\" verbosity=0\n",
    "XGBoostClassifier = @load XGBoostClassifier verbosity=0  # loads code defining a model type\n",
    "LogisticClassifier = @load LogisticClassifier pkg=\"MLJLinearModels\" verbosity=0;  # loads code defining a model type\n",
    "AdaBoostStumpClassifier = @load AdaBoostStumpClassifier verbosity=0;  # loads code defining a model type\n",
    "EvoTreeClassifier = @load EvoTreeClassifier verbosity=0\n",
    "GradientBoostingClassifier = @load GradientBoostingClassifier verbosity=0\n",
    "EvoTreeGaussian = @load EvoTreeGaussian verbosity=0\n",
    "SVC = @load SVC verbosity=0\n",
    "\n",
    "EvoTreeRegressor = @load EvoTreeRegressor verbosity=0\n",
    "EvoTreeCount = @load EvoTreeCount verbosity=0\n",
    "\n",
    "NeuralNetworkClassifier = @load NeuralNetworkClassifier\n"
   ]
  },
  {
   "cell_type": "code",
   "execution_count": 5,
   "id": "07c8b030",
   "metadata": {},
   "outputs": [],
   "source": [
    "# run(`unzip data_full.zip`)\n",
    "# run(`rm data_full.jld2`)"
   ]
  },
  {
   "cell_type": "code",
   "execution_count": null,
   "id": "d5dbc0c2",
   "metadata": {},
   "outputs": [],
   "source": []
  },
  {
   "cell_type": "code",
   "execution_count": 248,
   "id": "4d64a9c7",
   "metadata": {},
   "outputs": [
    {
     "name": "stdout",
     "output_type": "stream",
     "text": [
      "2111440\n",
      "1771230\n",
      "1771230\n",
      "1710006\n",
      "1289\n"
     ]
    }
   ],
   "source": [
    "\n",
    "sample_key2, xold, yold = FileIO.load(\"data_full.jld2\",\"sample_key\",\"x\" ,\"y\");\n",
    "\n",
    "\n",
    "\n",
    "xold.col1=collect(1:nrow(xold));\n",
    "println(nrow(xold))\n",
    "filter!(x->x.ALTREF_I ≈ 0,xold)\n",
    "println(nrow(xold))\n",
    "# filter!(x->x.ALT_I>0.5 || x.REF_I>0.5,xold) # indel\n",
    "# filter!(x->x.ALT_I<0.5 && x.REF_I<0.5,xold) # SNV\n",
    "println(nrow(xold))\n",
    "filter!(x->x.training>0.5,xold)\n",
    "# select!(xold,Not(\"training\"));\n",
    "println(nrow(xold))\n",
    "filter!(x->!ismissing(x.dust_score_Mutect),xold);\n",
    "println(nrow(xold))"
   ]
  },
  {
   "cell_type": "code",
   "execution_count": 249,
   "id": "fcb4d7ba",
   "metadata": {},
   "outputs": [],
   "source": [
    "# [\"gt_AF_Mutect\",\"MPOS_Mutect\",\"TLOD_Mutect\", \"alt_len\",\"MBQ_Mutect_2\",\"pon_pvalue_Mutect\" ]\n",
    "\n",
    "# density(collect(skipmissing(filter(x->x.training > 0.5,xold)[:,\"MPOS_Mutect\"])),alpha=1.0)\n",
    "# density!(collect(skipmissing(filter(x->x.training < 0.5,xold)[:,\"MPOS_Mutect\"])),alpha=1.0)"
   ]
  },
  {
   "cell_type": "code",
   "execution_count": 250,
   "id": "3cf62b5d",
   "metadata": {},
   "outputs": [],
   "source": [
    "# showtable(sample_key2[findall(x->x,[i==true for i in yold]),:]);"
   ]
  },
  {
   "cell_type": "code",
   "execution_count": 251,
   "id": "52c82c5f",
   "metadata": {},
   "outputs": [],
   "source": [
    "for j in 1:ncol(xold), i in 1:nrow(xold)\n",
    "    if !ismissing(xold[i,j]) && (isnan(xold[i,j]) || isinf(xold[i,j]) )\n",
    "        xold[i,j] = missing\n",
    "    end\n",
    "end"
   ]
  },
  {
   "cell_type": "code",
   "execution_count": 252,
   "id": "8bb1c143",
   "metadata": {},
   "outputs": [],
   "source": [
    "coldrop = [] #\"FPpass\",\"FILTER_Mutect_PASS\"] # [\"gt_AF_Mutect\",\"AltFwd_Mutect\",\"RefFwd_Mutect\",\"AltRev_Mutect\",\"RefRev_Mutect\",\"gt_AD_ref_Mutect\",\"gt_AD_alt_Mutect\"]\n",
    "for i in names(xold)\n",
    "    if i == \"col1\" || i==\"training\"\n",
    "        continue\n",
    "    end\n",
    "    if length(unique(xold[:,i])) < 2 || occursin(\"Pindel\",i) || occursin(\"Lofreq\",i) || occursin(\"Vardict\",i) # || occursin(\"ALT\",i) || occursin(\"REF\",i)\n",
    "        push!(coldrop,i)\n",
    "#         println(i)\n",
    "    end \n",
    "end\n",
    "unique!(coldrop);"
   ]
  },
  {
   "cell_type": "code",
   "execution_count": 253,
   "id": "6e8cc807",
   "metadata": {},
   "outputs": [
    {
     "name": "stdout",
     "output_type": "stream",
     "text": [
      "239\n",
      "(2111440,)\n",
      "2111440\n",
      "\n",
      "(1289, 56)\n",
      "(1289,)\n",
      "1289\n",
      "67\n"
     ]
    }
   ],
   "source": [
    "select!(xold, Not(coldrop));\n",
    "println(sum([i==true for i in yold]))\n",
    "# println(nrow(xold))\n",
    "# dropmissing!(xold)\n",
    "# println(nrow(xold))\n",
    "\n",
    "println(size(yold))\n",
    "println(length(sample_key2))\n",
    "println()\n",
    "yold = yold[xold.col1]\n",
    "# println(xold[findall(x->x,[i==true for i in yold]),\"col1\"])\n",
    "# println(xold[findall(x->!x,[i==true for i in yold]),\"col1\"])\n",
    "sample_key2 = sample_key2[xold.col1]\n",
    "select!(xold,Not(\"col1\"));\n",
    "\n",
    "println(size(xold))\n",
    "println(size(yold))\n",
    "println(length(sample_key2))\n",
    "println(sum([i==true for i in yold]))"
   ]
  },
  {
   "cell_type": "code",
   "execution_count": 254,
   "id": "d688fe15",
   "metadata": {},
   "outputs": [],
   "source": [
    "# n=names(xold)\n",
    "# i=12\n",
    "# col = n[i]\n",
    "# c = collect(skipmissing(xold[:,col ]))\n",
    "# c = logger.(c)\n",
    "# density(c ,title=col,label=false)"
   ]
  },
  {
   "cell_type": "code",
   "execution_count": 255,
   "id": "348ec2e5",
   "metadata": {},
   "outputs": [],
   "source": [
    "# istrain=0\n",
    "# for i in 1:nrow(xold)\n",
    "#     if sum(ismissing.(Vector(xold[i,:]))) > 0\n",
    "# #         if xold[i,:training] > 0.5\n",
    "# #             istrain += 1\n",
    "# #         end\n",
    "#         println(sample_key[i],\" \",i)\n",
    "#     end\n",
    "# end\n",
    "# println(istrain)"
   ]
  },
  {
   "cell_type": "code",
   "execution_count": 256,
   "id": "e72d667d",
   "metadata": {},
   "outputs": [],
   "source": [
    "# showtable(xold[60:65,:])"
   ]
  },
  {
   "cell_type": "code",
   "execution_count": 257,
   "id": "4599cfd1",
   "metadata": {},
   "outputs": [],
   "source": [
    "# for col in names(xold)\n",
    "#     println(col,\"  \",1-sum(ismissing.(xold[:,col]))/nrow(xold) )\n",
    "# end"
   ]
  },
  {
   "cell_type": "code",
   "execution_count": 258,
   "id": "9c2011aa",
   "metadata": {},
   "outputs": [],
   "source": [
    "# xold.sample_key=sample_key\n",
    "# xold.real=[i==true for i in yold]\n",
    "# filter(x->x.training>0.5 && x.real && (ismissing(x.MPOS_Mutect) || x.MPOS_Mutect < 30),xold)[:,[\"MPOS_Mutect\",\"sample_key\",\"real\"]]"
   ]
  },
  {
   "cell_type": "code",
   "execution_count": 259,
   "id": "7be38f25",
   "metadata": {},
   "outputs": [],
   "source": [
    "# namd=names(xsnv)[13] # 2,6,8,9,13\n",
    "# namd=\"MBQ_Mutect_1\"\n",
    "# namd=\"MPOS_Mutect\"\n",
    "# xold.sample_key=sample_key\n",
    "# xold.real=[i==true for i in yold]\n",
    "# print(namd)\n",
    "# histogram(collect(skipmissing(filter(x->x.training>0.5 && x.real,xold)[:,namd])),legend=true,label=\"TT\",alpha=0.3,bins=10)\n",
    "# histogram!(collect(skipmissing(filter(x->x.training<0.5 && x.real,xold)[:,namd])),label=\"BMT\",alpha=0.3,bins=10)\n",
    "\n"
   ]
  },
  {
   "cell_type": "code",
   "execution_count": 260,
   "id": "beb15d37",
   "metadata": {},
   "outputs": [],
   "source": [
    "# ysnv[[9, 12, 13, 14, 21, 24, 25, 26, 40, 41, 42, 44]];"
   ]
  },
  {
   "cell_type": "code",
   "execution_count": 261,
   "id": "ae098ab1",
   "metadata": {},
   "outputs": [],
   "source": [
    "# ysnv[[1, 2, 3, 4, 5, 6, 7, 8, 10, 11, 15,16]];"
   ]
  },
  {
   "cell_type": "code",
   "execution_count": 262,
   "id": "1fc10d5f",
   "metadata": {},
   "outputs": [
    {
     "name": "stderr",
     "output_type": "stream",
     "text": [
      "┌ Warning: Some splits have a single or no representative of some class.\n",
      "└ @ MLJBase /Users/alexpanchot/.julia/packages/MLJBase/HZmTU/src/data/data.jl:63\n"
     ]
    }
   ],
   "source": [
    "xsnv = copy(xold);\n",
    "ysnv = copy(yold);\n",
    "\n",
    "# train2 = findall(x->x,[i>0.5 for i in xsnv.training])\n",
    "# test2 = findall(x->x,[i<0.5 for i in xsnv.training])\n",
    "\n",
    "# train2 = [9, 12, 13, 14, 21, 24, 25, 26, 40, 41, 42, 44,\n",
    "# 1, 2, 3, 4, 5, 6, 7, 8, 10, 11, 15,16\n",
    "# ]\n",
    "\n",
    "# test2=setdiff(collect(1:length(ysnv)),train2)\n",
    "\n",
    "train2, test2 = partition(eachindex(ysnv), 0.02, stratify=ysnv,  shuffle=true, rng=12344);\n",
    "\n",
    "select!(xsnv,Not(\"training\"));"
   ]
  },
  {
   "cell_type": "code",
   "execution_count": 263,
   "id": "d66c3ed0",
   "metadata": {},
   "outputs": [],
   "source": [
    "transform_log!(xsnv,10)"
   ]
  },
  {
   "cell_type": "code",
   "execution_count": 264,
   "id": "91593284",
   "metadata": {},
   "outputs": [],
   "source": [
    "stnd = fit_standardizer(xsnv[train2,:])\n",
    "transform_standardizer!(xsnv,stnd);"
   ]
  },
  {
   "cell_type": "code",
   "execution_count": 265,
   "id": "aca1c924",
   "metadata": {},
   "outputs": [],
   "source": [
    "# showtable(xsnv[1:10,:])"
   ]
  },
  {
   "cell_type": "code",
   "execution_count": 266,
   "id": "b4a683b9",
   "metadata": {},
   "outputs": [
    {
     "data": {
      "text/plain": [
       "92"
      ]
     },
     "execution_count": 266,
     "metadata": {},
     "output_type": "execute_result"
    }
   ],
   "source": [
    "sum(ismissing.(Matrix(xsnv)))"
   ]
  },
  {
   "cell_type": "code",
   "execution_count": 267,
   "id": "64d379e7",
   "metadata": {},
   "outputs": [
    {
     "name": "stderr",
     "output_type": "stream",
     "text": [
      "┌ Info: Training Machine{MissingImputator,…}.\n",
      "└ @ MLJBase /Users/alexpanchot/.julia/packages/MLJBase/HZmTU/src/machines.jl:403\n"
     ]
    },
    {
     "name": "stdout",
     "output_type": "stream",
     "text": [
      "  0.213899 seconds (443.22 k allocations: 31.324 MiB, 13.31% gc time, 81.83% compilation time)\n"
     ]
    },
    {
     "data": {
      "text/plain": [
       "Machine{MissingImputator,…} trained 1 time; caches data\n",
       "  args: \n",
       "    1:\tSource @895 ⏎ `Table{Union{AbstractVector{Union{Missing, ScientificTypesBase.Continuous}}, AbstractVector{ScientificTypesBase.Continuous}}}`\n"
      ]
     },
     "execution_count": 267,
     "metadata": {},
     "output_type": "execute_result"
    }
   ],
   "source": [
    "stmach = machine(MissingImputator(K=5),xsnv[train2,:]) \n",
    "@time sttran = fit!(stmach,verbosity=1)"
   ]
  },
  {
   "cell_type": "code",
   "execution_count": 268,
   "id": "4094afc8",
   "metadata": {},
   "outputs": [],
   "source": [
    "tt = MLJ.transform(sttran,xsnv);\n",
    "for i in 1:ncol(xsnv)\n",
    "    xsnv[:,i] = tt[i]\n",
    "end"
   ]
  },
  {
   "cell_type": "code",
   "execution_count": 269,
   "id": "e17782e9",
   "metadata": {},
   "outputs": [],
   "source": [
    "disallowmissing!(xsnv);"
   ]
  },
  {
   "cell_type": "code",
   "execution_count": 270,
   "id": "374815ae",
   "metadata": {},
   "outputs": [],
   "source": [
    "sample_key = copy(sample_key2)\n",
    "train = copy(train2)\n",
    "test = copy(test2)\n",
    "x = copy(xsnv);\n",
    "y = copy(ysnv);"
   ]
  },
  {
   "cell_type": "code",
   "execution_count": 271,
   "id": "59c255e5",
   "metadata": {},
   "outputs": [
    {
     "name": "stdout",
     "output_type": "stream",
     "text": [
      "(25, 55) 1\n",
      "(1264, 55) 66\n",
      "(25,)\n",
      "(1289,)\n"
     ]
    }
   ],
   "source": [
    "println(size(x[train,:]),\" \",sum([i==true for i in y[train]] ) )\n",
    "println(size(x[test,:]),\" \",sum([i==true for i in y[test]] ) )\n",
    "println(size(y[train]))\n",
    "println(size(sample_key))"
   ]
  },
  {
   "cell_type": "code",
   "execution_count": 272,
   "id": "5fdccf9d",
   "metadata": {},
   "outputs": [],
   "source": [
    "# x,y,train,test,sample_key = sampler(x,y,train,test,sample_key,\"under\",0.8);\n",
    "# x,y,train,test,sample_key = sampler(x,y,train,test,sample_key,\"over\",0.2);"
   ]
  },
  {
   "cell_type": "code",
   "execution_count": 273,
   "id": "a40c28bd",
   "metadata": {},
   "outputs": [],
   "source": [
    "y = coerce(copy(y),OrderedFactor);"
   ]
  },
  {
   "cell_type": "code",
   "execution_count": 274,
   "id": "9884ee7c",
   "metadata": {},
   "outputs": [
    {
     "name": "stdout",
     "output_type": "stream",
     "text": [
      "(25, 55) 1\n",
      "(1264, 55) 66\n",
      "(25,)\n",
      "(1289,)\n"
     ]
    }
   ],
   "source": [
    "println(size(x[train,:]),\" \",sum([i==true for i in y[train]] ) )\n",
    "println(size(x[test,:]),\" \",sum([i==true for i in y[test]] ) )\n",
    "println(size(y[train]))\n",
    "println(size(sample_key))"
   ]
  },
  {
   "cell_type": "markdown",
   "id": "c2b63753",
   "metadata": {},
   "source": [
    "# MLJ Models"
   ]
  },
  {
   "cell_type": "code",
   "execution_count": 275,
   "id": "796c1356",
   "metadata": {},
   "outputs": [],
   "source": [
    "# inputvars = [\"TLOD_Mutect\",\n",
    "# #     \"MPOS_Mutect\",\"MBQ_Mutect_2\",\n",
    "#     \"dust_score_Mutect\",\n",
    "#     \"dust_score_3_Mutect\",\n",
    "#     \"dust_score_5_Mutect\",\"dust_score_10_Mutect\",\"alt_len\",\"VARIANT_CLASS_SNV\"\n",
    "# ]\n"
   ]
  },
  {
   "cell_type": "code",
   "execution_count": 276,
   "id": "0b823c39",
   "metadata": {},
   "outputs": [],
   "source": [
    "# info(NeuralNetworkClassifier)"
   ]
  },
  {
   "cell_type": "code",
   "execution_count": 277,
   "id": "4fca1b25",
   "metadata": {},
   "outputs": [],
   "source": [
    "# NeuralNetworkClassifier(builder = (\n",
    "# \t\t\tn_hidden = 1,\n",
    "# \t\t\tdropout = 0.5,))"
   ]
  },
  {
   "cell_type": "code",
   "execution_count": 278,
   "id": "de36b6c5",
   "metadata": {},
   "outputs": [
    {
     "data": {
      "text/plain": [
       "8-element Vector{MLJBase.NumericRange{T, MLJBase.Bounded, Symbol} where T}:\n",
       " NumericRange(2 ≤ max_depth ≤ 8; origin=5.0, unit=3.0)\n",
       " NumericRange(0.0 ≤ η ≤ 1.0; origin=0.5, unit=0.5)\n",
       " NumericRange(0.0 ≤ γ ≤ 1.0; origin=0.5, unit=0.5)\n",
       " NumericRange(0.0 ≤ λ ≤ 1.0; origin=0.5, unit=0.5)\n",
       " NumericRange(0.0 ≤ α ≤ 1.0; origin=0.5, unit=0.5)\n",
       " NumericRange(0.0 ≤ min_weight ≤ 1.0; origin=0.5, unit=0.5)\n",
       " NumericRange(1 ≤ nrounds ≤ 10; origin=5.5, unit=4.5)\n",
       " NumericRange(4 ≤ nbins ≤ 128; origin=66.0, unit=62.0)"
      ]
     },
     "execution_count": 278,
     "metadata": {},
     "output_type": "execute_result"
    }
   ],
   "source": [
    "\n",
    "r = [\n",
    "    range(EvoTreeClassifier(), :max_depth, lower=2,upper=8),\n",
    "    range(EvoTreeClassifier(), :η, lower=0.0,upper=1.0),\n",
    "    range(EvoTreeClassifier(), :γ, lower=0.0,upper=1.0),\n",
    "    range(EvoTreeClassifier(), :λ, lower=0.0,upper=1.0),\n",
    "    range(EvoTreeClassifier(), :α, lower=0.0,upper=1.0),\n",
    "    range(EvoTreeClassifier(), :min_weight, lower=0.0,upper=1.0),\n",
    "    range(EvoTreeClassifier(), :nrounds, lower=1,upper=10),\n",
    "    range(EvoTreeClassifier(), :nbins, lower=4, upper=128),\n",
    "    \n",
    "    \n",
    "#     range(LogisticClassifier(), :lambda, lower=0.0,upper=1.0),\n",
    "#     range(LogisticClassifier(), :gamma, lower=0.0,upper=1.0),\n",
    "    \n",
    "#     range(SVC(), :degree, lower=1,upper=4),\n",
    "#     range(SVC(), :gamma, lower=0.0,upper=1.0),   \n",
    "    \n",
    "#     range(NeuralNetworkClassifier(), :alpha, lower=0.0, upper=1.0),\n",
    "]"
   ]
  },
  {
   "cell_type": "code",
   "execution_count": 279,
   "id": "63384216",
   "metadata": {},
   "outputs": [
    {
     "data": {
      "text/plain": [
       "(:linear, :logistic, :poisson, :L1, :quantile, :softmax, :gaussian)"
      ]
     },
     "execution_count": 279,
     "metadata": {},
     "output_type": "execute_result"
    }
   ],
   "source": [
    ":linear, :logistic, :poisson, :L1, :quantile, :softmax, :gaussian"
   ]
  },
  {
   "cell_type": "code",
   "execution_count": 280,
   "id": "d03bd315",
   "metadata": {},
   "outputs": [],
   "source": [
    "# NeuralNetworkClassifier()"
   ]
  },
  {
   "cell_type": "code",
   "execution_count": 281,
   "id": "527d8a1f",
   "metadata": {},
   "outputs": [],
   "source": [
    "# nnmm=machine(\n",
    "#     NeuralNetworkClassifier(builder=MLJFlux.Short(n_hidden=2)),\n",
    "#     x[train,:],y[train])"
   ]
  },
  {
   "cell_type": "code",
   "execution_count": 282,
   "id": "a895123e",
   "metadata": {
    "scrolled": true
   },
   "outputs": [
    {
     "name": "stderr",
     "output_type": "stream",
     "text": [
      "┌ Info: Training Machine{ProbabilisticTunedModel{LatinHypercube,…},…}.\n",
      "└ @ MLJBase /Users/alexpanchot/.julia/packages/MLJBase/HZmTU/src/machines.jl:403\n",
      "┌ Info: Attempting to evaluate 20 models.\n",
      "└ @ MLJTuning /Users/alexpanchot/.julia/packages/MLJTuning/efiDR/src/tuned_models.jl:685\n",
      "\u001b[33mEvaluating over 20 metamodels: 100%[=========================] Time: 0:00:03\u001b[39m\n"
     ]
    },
    {
     "data": {
      "text/plain": [
       "Machine{ProbabilisticTunedModel{LatinHypercube,…},…} trained 1 time; caches data\n",
       "  args: \n",
       "    1:\tSource @206 ⏎ `Table{AbstractVector{ScientificTypesBase.Continuous}}`\n",
       "    2:\tSource @032 ⏎ `AbstractVector{OrderedFactor{2}}`\n"
      ]
     },
     "execution_count": 282,
     "metadata": {},
     "output_type": "execute_result"
    }
   ],
   "source": [
    "self_tune = TunedModel(\n",
    "#     model=LogisticClassifier(penalty=:l1),\n",
    "#     model=SVC(),\n",
    "    model=EvoTreeClassifier(),\n",
    "#     model = NeuralNetworkClassifier(),\n",
    "    \n",
    "    resampling=StratifiedCV(nfolds=5, rng=123),\n",
    "\n",
    "    tuning=LatinHypercube(),  #     tuning=Grid(resolution=2), \n",
    "    range = r,\n",
    "    n=20,\n",
    "    operation=predict_mode, # use for probabalistic \n",
    "    measure = fnr,  # use for deterministic or with predict_mode for probab \n",
    "#     measure = brier_loss # use for probabalistic \n",
    "    acceleration=CPUThreads(),\n",
    ")\n",
    "\n",
    "machbest = machine(\n",
    "    self_tune,\n",
    "    x[train,:],y[train])\n",
    "fit!(machbest,verbosity=1 )\n",
    "# evaluate!(machbest,verbosity=2,resampling=StratifiedCV(nfolds=5, rng=123) )\n",
    "\n",
    "# fit!(nnmm,verbosity=1 )\n",
    "\n"
   ]
  },
  {
   "cell_type": "code",
   "execution_count": 283,
   "id": "3daf568f",
   "metadata": {},
   "outputs": [
    {
     "data": {
      "text/plain": [
       "EvoTreeClassifier(\n",
       "    loss = EvoTrees.Softmax(),\n",
       "    nrounds = 10,\n",
       "    λ = 0.15789473684210525,\n",
       "    γ = 0.7894736842105263,\n",
       "    η = 0.2631578947368421,\n",
       "    max_depth = 5,\n",
       "    min_weight = 0.47368421052631576,\n",
       "    rowsample = 1.0,\n",
       "    colsample = 1.0,\n",
       "    nbins = 89,\n",
       "    α = 0.7894736842105263,\n",
       "    metric = :mlogloss,\n",
       "    rng = MersenneTwister(123, (0, 5010, 4008, 542)),\n",
       "    device = \"cpu\")"
      ]
     },
     "execution_count": 283,
     "metadata": {},
     "output_type": "execute_result"
    }
   ],
   "source": [
    "fitted_params(machbest).best_model"
   ]
  },
  {
   "cell_type": "code",
   "execution_count": 284,
   "id": "85935d65",
   "metadata": {},
   "outputs": [
    {
     "name": "stderr",
     "output_type": "stream",
     "text": [
      "┌ Info: Training Machine{EvoTreeClassifier{Float64,…},…}.\n",
      "└ @ MLJBase /Users/alexpanchot/.julia/packages/MLJBase/HZmTU/src/machines.jl:403\n"
     ]
    },
    {
     "data": {
      "text/plain": [
       "Machine{EvoTreeClassifier{Float64,…},…} trained 1 time; caches data\n",
       "  args: \n",
       "    1:\tSource @828 ⏎ `Table{AbstractVector{ScientificTypesBase.Continuous}}`\n",
       "    2:\tSource @428 ⏎ `AbstractVector{OrderedFactor{2}}`\n"
      ]
     },
     "execution_count": 284,
     "metadata": {},
     "output_type": "execute_result"
    }
   ],
   "source": [
    "mach = machine(\n",
    "    fitted_params(machbest).best_model,\n",
    "    untransform_standardizer(x[train,:],stnd),y[train])\n",
    "fit!(mach,verbosity=4 )"
   ]
  },
  {
   "cell_type": "code",
   "execution_count": 285,
   "id": "8821fc99",
   "metadata": {},
   "outputs": [
    {
     "data": {
      "image/svg+xml": [
       "<?xml version=\"1.0\" encoding=\"utf-8\"?>\n",
       "<svg xmlns=\"http://www.w3.org/2000/svg\" xmlns:xlink=\"http://www.w3.org/1999/xlink\" width=\"128\" height=\"96\" viewBox=\"0 0 512 384\">\n",
       "<defs>\n",
       "  <clipPath id=\"clip370\">\n",
       "    <rect x=\"0\" y=\"0\" width=\"512\" height=\"384\"/>\n",
       "  </clipPath>\n",
       "</defs>\n",
       "<path clip-path=\"url(#clip370)\" d=\"\n",
       "M0 384 L512 384 L512 0 L0 0  Z\n",
       "  \" fill=\"#ffffff\" fill-rule=\"evenodd\" fill-opacity=\"1\"/>\n",
       "<defs>\n",
       "  <clipPath id=\"clip371\">\n",
       "    <rect x=\"102\" y=\"0\" width=\"359\" height=\"359\"/>\n",
       "  </clipPath>\n",
       "</defs>\n",
       "<path clip-path=\"url(#clip370)\" d=\"\n",
       "M47.2441 336.756 L464.756 336.756 L464.756 47.2441 L47.2441 47.2441  Z\n",
       "  \" fill=\"#ffffff\" fill-rule=\"evenodd\" fill-opacity=\"1\"/>\n",
       "<defs>\n",
       "  <clipPath id=\"clip372\">\n",
       "    <rect x=\"47\" y=\"47\" width=\"419\" height=\"291\"/>\n",
       "  </clipPath>\n",
       "</defs>\n",
       "<path clip-path=\"url(#clip372)\" d=\"\n",
       "M59.0605 55.4378 L452.94 55.4378 L452.94 328.562 L59.0605 328.562 L59.0605 55.4378  Z\n",
       "  \" fill=\"#84dcc6\" fill-rule=\"evenodd\" fill-opacity=\"1\"/>\n",
       "<polyline clip-path=\"url(#clip372)\" style=\"stroke:#000000; stroke-linecap:butt; stroke-linejoin:round; stroke-width:4; stroke-opacity:1; fill:none\" points=\"\n",
       "  59.0605,55.4378 452.94,55.4378 452.94,328.562 59.0605,328.562 59.0605,55.4378 \n",
       "  \"/>\n",
       "<path clip-path=\"url(#clip370)\" d=\"M190.144 176.339 L190.144 193.526 L184.791 193.526 L184.791 148.793 L190.144 148.793 L190.144 153.712 Q191.822 150.818 194.368 149.429 Q196.944 148.012 200.503 148.012 Q206.405 148.012 210.08 152.699 Q213.784 157.386 213.784 165.025 Q213.784 172.664 210.08 177.352 Q206.405 182.039 200.503 182.039 Q196.944 182.039 194.368 180.65 Q191.822 179.232 190.144 176.339 M208.257 165.025 Q208.257 159.152 205.827 155.824 Q203.425 152.468 199.201 152.468 Q194.976 152.468 192.545 155.824 Q190.144 159.152 190.144 165.025 Q190.144 170.899 192.545 174.256 Q194.976 177.583 199.201 177.583 Q203.425 177.583 205.827 174.256 Q208.257 170.899 208.257 165.025 Z\" fill=\"#000000\" fill-rule=\"evenodd\" fill-opacity=\"1\" /><path clip-path=\"url(#clip370)\" d=\"M241.388 153.77 Q240.491 153.249 239.42 153.017 Q238.379 152.757 237.105 152.757 Q232.592 152.757 230.161 155.708 Q227.759 158.631 227.759 164.128 L227.759 181.2 L222.406 181.2 L222.406 148.793 L227.759 148.793 L227.759 153.827 Q229.438 150.876 232.129 149.458 Q234.82 148.012 238.668 148.012 Q239.218 148.012 239.883 148.098 Q240.549 148.156 241.359 148.301 L241.388 153.77 Z\" fill=\"#000000\" fill-rule=\"evenodd\" fill-opacity=\"1\" /><path clip-path=\"url(#clip370)\" d=\"M273.39 163.665 L273.39 166.27 L248.911 166.27 Q249.258 171.767 252.21 174.661 Q255.19 177.525 260.485 177.525 Q263.552 177.525 266.417 176.773 Q269.31 176.021 272.146 174.516 L272.146 179.551 Q269.281 180.766 266.272 181.403 Q263.263 182.039 260.167 182.039 Q252.412 182.039 247.869 177.525 Q243.355 173.011 243.355 165.315 Q243.355 157.358 247.638 152.699 Q251.949 148.012 259.241 148.012 Q265.78 148.012 269.571 152.236 Q273.39 156.432 273.39 163.665 M268.066 162.103 Q268.008 157.734 265.606 155.13 Q263.234 152.525 259.299 152.525 Q254.843 152.525 252.152 155.043 Q249.49 157.56 249.085 162.132 L268.066 162.103 Z\" fill=\"#000000\" fill-rule=\"evenodd\" fill-opacity=\"1\" /><path clip-path=\"url(#clip370)\" d=\"M303.453 153.712 L303.453 136.177 L308.777 136.177 L308.777 181.2 L303.453 181.2 L303.453 176.339 Q301.775 179.232 299.2 180.65 Q296.654 182.039 293.066 182.039 Q287.192 182.039 283.488 177.352 Q279.814 172.664 279.814 165.025 Q279.814 157.386 283.488 152.699 Q287.192 148.012 293.066 148.012 Q296.654 148.012 299.2 149.429 Q301.775 150.818 303.453 153.712 M285.311 165.025 Q285.311 170.899 287.713 174.256 Q290.143 177.583 294.368 177.583 Q298.592 177.583 301.023 174.256 Q303.453 170.899 303.453 165.025 Q303.453 159.152 301.023 155.824 Q298.592 152.468 294.368 152.468 Q290.143 152.468 287.713 155.824 Q285.311 159.152 285.311 165.025 Z\" fill=\"#000000\" fill-rule=\"evenodd\" fill-opacity=\"1\" /><path clip-path=\"url(#clip370)\" d=\"M321.104 173.851 L327.209 173.851 L327.209 181.2 L321.104 181.2 L321.104 173.851 M321.104 150.558 L327.209 150.558 L327.209 157.907 L321.104 157.907 L321.104 150.558 Z\" fill=\"#000000\" fill-rule=\"evenodd\" fill-opacity=\"1\" /><path clip-path=\"url(#clip370)\" d=\"M191.026 206.648 Q186.513 206.648 184.227 211.104 Q181.97 215.531 181.97 224.443 Q181.97 233.326 184.227 237.782 Q186.513 242.21 191.026 242.21 Q195.569 242.21 197.826 237.782 Q200.112 233.326 200.112 224.443 Q200.112 215.531 197.826 211.104 Q195.569 206.648 191.026 206.648 M191.026 202.019 Q198.289 202.019 202.109 207.777 Q205.957 213.506 205.957 224.443 Q205.957 235.352 202.109 241.11 Q198.289 246.839 191.026 246.839 Q183.764 246.839 179.915 241.11 Q176.096 235.352 176.096 224.443 Q176.096 213.506 179.915 207.777 Q183.764 202.019 191.026 202.019 Z\" fill=\"#000000\" fill-rule=\"evenodd\" fill-opacity=\"1\" /><path clip-path=\"url(#clip370)\" d=\"M216.229 238.651 L222.334 238.651 L222.334 246 L216.229 246 L216.229 238.651 Z\" fill=\"#000000\" fill-rule=\"evenodd\" fill-opacity=\"1\" /><path clip-path=\"url(#clip370)\" d=\"M236.078 241.081 L245.627 241.081 L245.627 208.124 L235.239 210.207 L235.239 204.883 L245.569 202.8 L251.414 202.8 L251.414 241.081 L260.962 241.081 L260.962 246 L236.078 246 L236.078 241.081 Z\" fill=\"#000000\" fill-rule=\"evenodd\" fill-opacity=\"1\" /><path clip-path=\"url(#clip370)\" d=\"M290.476 222.707 Q294.672 223.604 297.015 226.44 Q299.388 229.276 299.388 233.442 Q299.388 239.837 294.99 243.338 Q290.592 246.839 282.49 246.839 Q279.77 246.839 276.877 246.289 Q274.012 245.769 270.945 244.698 L270.945 239.056 Q273.375 240.473 276.269 241.197 Q279.162 241.92 282.316 241.92 Q287.814 241.92 290.679 239.75 Q293.572 237.58 293.572 233.442 Q293.572 229.623 290.881 227.482 Q288.219 225.311 283.445 225.311 L278.41 225.311 L278.41 220.508 L283.676 220.508 Q287.988 220.508 290.274 218.801 Q292.559 217.065 292.559 213.824 Q292.559 210.497 290.187 208.732 Q287.843 206.938 283.445 206.938 Q281.043 206.938 278.294 207.459 Q275.546 207.979 272.247 209.079 L272.247 203.871 Q275.575 202.945 278.468 202.482 Q281.39 202.019 283.966 202.019 Q290.621 202.019 294.498 205.057 Q298.375 208.066 298.375 213.217 Q298.375 216.805 296.321 219.293 Q294.267 221.752 290.476 222.707 Z\" fill=\"#000000\" fill-rule=\"evenodd\" fill-opacity=\"1\" /><path clip-path=\"url(#clip370)\" d=\"M315.505 241.081 L335.904 241.081 L335.904 246 L308.474 246 L308.474 241.081 Q311.801 237.638 317.53 231.851 Q323.288 226.035 324.764 224.357 Q327.571 221.203 328.67 219.033 Q329.799 216.833 329.799 214.721 Q329.799 211.278 327.368 209.108 Q324.967 206.938 321.089 206.938 Q318.341 206.938 315.273 207.893 Q312.235 208.847 308.763 210.786 L308.763 204.883 Q312.293 203.466 315.36 202.742 Q318.427 202.019 320.974 202.019 Q327.687 202.019 331.68 205.375 Q335.673 208.732 335.673 214.345 Q335.673 217.007 334.66 219.409 Q333.676 221.781 331.043 225.022 Q330.32 225.861 326.442 229.883 Q322.565 233.876 315.505 241.081 Z\" fill=\"#000000\" fill-rule=\"evenodd\" fill-opacity=\"1\" /></svg>\n"
      ]
     },
     "execution_count": 285,
     "metadata": {},
     "output_type": "execute_result"
    }
   ],
   "source": [
    "plot(fitted_params(mach)[1],6)"
   ]
  },
  {
   "cell_type": "code",
   "execution_count": 286,
   "id": "a3f8ca4e",
   "metadata": {},
   "outputs": [],
   "source": [
    "yhat=MLJ.predict_mode(machbest, x[test,:]); # probab\n",
    "# yhat=MLJ.predict(machbest, x[test,:]); # determ"
   ]
  },
  {
   "cell_type": "code",
   "execution_count": 287,
   "id": "ab7b4368",
   "metadata": {},
   "outputs": [
    {
     "data": {
      "text/plain": [
       "0.6250408685389296"
      ]
     },
     "execution_count": 287,
     "metadata": {},
     "output_type": "execute_result"
    }
   ],
   "source": [
    "logistic(0.511)"
   ]
  },
  {
   "cell_type": "code",
   "execution_count": 288,
   "id": "0b68cb9f",
   "metadata": {},
   "outputs": [
    {
     "data": {
      "text/plain": [
       "1264-element MLJBase.UnivariateFiniteVector{Multiclass{2}, Bool, UInt8, Float64}:\n",
       " UnivariateFinite{Multiclass{2}}(false=>0.914, true=>0.0864)\n",
       " UnivariateFinite{Multiclass{2}}(false=>0.914, true=>0.0864)\n",
       " UnivariateFinite{Multiclass{2}}(false=>0.914, true=>0.0864)\n",
       " UnivariateFinite{Multiclass{2}}(false=>0.914, true=>0.0864)\n",
       " UnivariateFinite{Multiclass{2}}(false=>0.914, true=>0.0864)\n",
       " UnivariateFinite{Multiclass{2}}(false=>0.914, true=>0.0864)\n",
       " UnivariateFinite{Multiclass{2}}(false=>0.914, true=>0.0864)\n",
       " UnivariateFinite{Multiclass{2}}(false=>0.914, true=>0.0864)\n",
       " UnivariateFinite{Multiclass{2}}(false=>0.914, true=>0.0864)\n",
       " UnivariateFinite{Multiclass{2}}(false=>0.914, true=>0.0864)\n",
       " UnivariateFinite{Multiclass{2}}(false=>0.914, true=>0.0864)\n",
       " UnivariateFinite{Multiclass{2}}(false=>0.832, true=>0.168)\n",
       " UnivariateFinite{Multiclass{2}}(false=>0.914, true=>0.0864)\n",
       " ⋮\n",
       " UnivariateFinite{Multiclass{2}}(false=>0.914, true=>0.0864)\n",
       " UnivariateFinite{Multiclass{2}}(false=>0.914, true=>0.0864)\n",
       " UnivariateFinite{Multiclass{2}}(false=>0.914, true=>0.0864)\n",
       " UnivariateFinite{Multiclass{2}}(false=>0.914, true=>0.0864)\n",
       " UnivariateFinite{Multiclass{2}}(false=>0.914, true=>0.0864)\n",
       " UnivariateFinite{Multiclass{2}}(false=>0.914, true=>0.0864)\n",
       " UnivariateFinite{Multiclass{2}}(false=>0.914, true=>0.0864)\n",
       " UnivariateFinite{Multiclass{2}}(false=>0.914, true=>0.0864)\n",
       " UnivariateFinite{Multiclass{2}}(false=>0.914, true=>0.0864)\n",
       " UnivariateFinite{Multiclass{2}}(false=>0.914, true=>0.0864)\n",
       " UnivariateFinite{Multiclass{2}}(false=>0.914, true=>0.0864)\n",
       " UnivariateFinite{Multiclass{2}}(false=>0.914, true=>0.0864)"
      ]
     },
     "execution_count": 288,
     "metadata": {},
     "output_type": "execute_result"
    }
   ],
   "source": [
    "MLJ.predict(mach, x[test,:])"
   ]
  },
  {
   "cell_type": "code",
   "execution_count": 289,
   "id": "259a30ce",
   "metadata": {},
   "outputs": [
    {
     "data": {
      "text/plain": [
       "              ┌───────────────────────────┐\n",
       "              │       Ground Truth        │\n",
       "┌─────────────┼─────────────┬─────────────┤\n",
       "│  Predicted  │    false    │    true     │\n",
       "├─────────────┼─────────────┼─────────────┤\n",
       "│    false    │    1196     │     51      │\n",
       "├─────────────┼─────────────┼─────────────┤\n",
       "│    true     │      2      │     15      │\n",
       "└─────────────┴─────────────┴─────────────┘\n"
      ]
     },
     "execution_count": 289,
     "metadata": {},
     "output_type": "execute_result"
    }
   ],
   "source": [
    "ConfusionMatrix()(yhat,y[test])"
   ]
  },
  {
   "cell_type": "code",
   "execution_count": 113,
   "id": "d9846c95",
   "metadata": {},
   "outputs": [],
   "source": [
    "# density(x.gt_AF_Mutect[train],alpha=1,bins=30)\n",
    "# density!(x.gt_AF_Mutect[test],alpha=1,bins=30)"
   ]
  },
  {
   "cell_type": "code",
   "execution_count": 114,
   "id": "f336c3b7",
   "metadata": {},
   "outputs": [
    {
     "data": {
      "text/plain": [
       "63-element Vector{Pair{String, Float64}}:\n",
       "           \"gt_AD_alt_Mutect\" => 0.6932344483682384\n",
       "               \"gt_AF_Mutect\" => 0.23828071386978597\n",
       "                \"TLOD_Mutect\" => 0.031208602660732915\n",
       " \"FILTER_Mutect_multiallelic\" => 0.02020903052115441\n",
       "       \"gt_AD_ref_Mutect_std\" => 0.017067204580088324\n",
       "              \"RefRev_Mutect\" => 0.0\n",
       "                 \"ROQ_Mutect\" => 0.0\n",
       "                  \"ALTREF_AG\" => 0.0\n",
       "        \"dust_score_5_Mutect\" => 0.0\n",
       "                \"SYMBOL_TP53\" => 0.0\n",
       "                \"SYMBOL_TET2\" => 0.0\n",
       "                  \"ALTREF_GT\" => 0.0\n",
       "                  \"ALTREF_AC\" => 0.0\n",
       "                              ⋮\n",
       "     \"FILTER_Mutect_map_qual\" => 0.0\n",
       "                \"MPOS_Mutect\" => 0.0\n",
       "               \"SYMBOL_SRSF2\" => 0.0\n",
       "     \"FILTER_Mutect_slippage\" => 0.0\n",
       "               \"SYMBOL_SF3B1\" => 0.0\n",
       "               \"SYMBOL_PPM1D\" => 0.0\n",
       "           \"gt_AD_ref_Mutect\" => 0.0\n",
       "               \"MBQ_Mutect_1\" => 0.0\n",
       "                    \"ref_len\" => 0.0\n",
       "               \"MMQ_Mutect_2\" => 0.0\n",
       "              \"SYMBOL_DNMT3A\" => 0.0\n",
       "               \"MBQ_Mutect_2\" => 0.0"
      ]
     },
     "execution_count": 114,
     "metadata": {},
     "output_type": "execute_result"
    }
   ],
   "source": [
    "report(machbest).best_report.feature_importances # Evo Tree\n",
    "# fitted_params(machbest).best_fitted_params.coefs[sortperm([i[2] for i in fitted_params(machbest).best_fitted_params.coefs])]\n",
    "\n"
   ]
  },
  {
   "cell_type": "code",
   "execution_count": 115,
   "id": "24164a32",
   "metadata": {},
   "outputs": [
    {
     "data": {
      "text/html": [
       "<div class=\"data-frame\"><p>23 rows × 4 columns</p><table class=\"data-frame\"><thead><tr><th></th><th>x1</th><th>x2</th><th>sample_key</th><th>vaf</th></tr><tr><th></th><th title=\"CategoricalArrays.CategoricalValue{Bool, UInt8}\">Cat…</th><th title=\"CategoricalArrays.CategoricalValue{Bool, UInt32}\">Cat…</th><th title=\"String\">String</th><th title=\"Float32\">Float32</th></tr></thead><tbody><tr><th>1</th><td>false</td><td>true</td><td>736399_1_100 4:106156187 C&gt;T</td><td>0.007284</td></tr><tr><th>2</th><td>false</td><td>true</td><td>736399_1_100 17:58740521 G&gt;T</td><td>0.006505</td></tr><tr><th>3</th><td>false</td><td>true</td><td>887041_1_100 2:25467083 G&gt;A</td><td>0.004888</td></tr><tr><th>4</th><td>false</td><td>true</td><td>736399_1_100 4:106190822 C&gt;A</td><td>0.007215</td></tr><tr><th>5</th><td>false</td><td>true</td><td>809382_1_100 2:25467032 G&gt;A</td><td>0.005099</td></tr><tr><th>6</th><td>false</td><td>true</td><td>736399_1_100 4:106196951 A&gt;G</td><td>0.007316</td></tr><tr><th>7</th><td>false</td><td>true</td><td>272341_1_100 4:106190862 T&gt;C</td><td>0.012</td></tr><tr><th>8</th><td>false</td><td>true</td><td>809382_1_100 4:106157983 C&gt;T</td><td>0.00584</td></tr><tr><th>9</th><td>false</td><td>true</td><td>218281_1_100 4:106180823 C&gt;T</td><td>0.004588</td></tr><tr><th>10</th><td>false</td><td>true</td><td>887041_1_100 17:7579472 G&gt;C</td><td>0.004914</td></tr><tr><th>11</th><td>false</td><td>true</td><td>887041_1_100 2:198265526 A&gt;G</td><td>0.005574</td></tr><tr><th>12</th><td>false</td><td>true</td><td>218281_1_100 2:25457243 G&gt;A</td><td>0.0051</td></tr><tr><th>13</th><td>false</td><td>true</td><td>809382_1_100 2:25536827 G&gt;A</td><td>0.005074</td></tr><tr><th>14</th><td>false</td><td>true</td><td>736399_1_100 4:106196829 T&gt;G</td><td>0.006829</td></tr><tr><th>15</th><td>false</td><td>true</td><td>887041_1_100 4:106196951 A&gt;G</td><td>0.005061</td></tr><tr><th>16</th><td>false</td><td>true</td><td>272341_1_100 4:106180838 G&gt;T</td><td>0.007113</td></tr><tr><th>17</th><td>false</td><td>true</td><td>809382_1_100 4:106157569 A&gt;T</td><td>0.005567</td></tr><tr><th>18</th><td>false</td><td>true</td><td>887041_1_100 4:106156163 G&gt;A</td><td>0.005789</td></tr><tr><th>19</th><td>false</td><td>true</td><td>272341_1_100 4:106158216 G&gt;A</td><td>0.012</td></tr><tr><th>20</th><td>false</td><td>true</td><td>761809_1_10 2:25464501 GT&gt;G</td><td>0.005619</td></tr><tr><th>21</th><td>false</td><td>true</td><td>761809_1_100 2:25536827 G&gt;A</td><td>0.004253</td></tr><tr><th>22</th><td>false</td><td>true</td><td>218281_1_100 4:106193940 A&gt;T</td><td>0.005816</td></tr><tr><th>23</th><td>false</td><td>true</td><td>218281_1_100 17:7578534 C&gt;G</td><td>0.005244</td></tr></tbody></table></div>"
      ],
      "text/latex": [
       "\\begin{tabular}{r|cccc}\n",
       "\t& x1 & x2 & sample\\_key & vaf\\\\\n",
       "\t\\hline\n",
       "\t& Cat… & Cat… & String & Float32\\\\\n",
       "\t\\hline\n",
       "\t1 & false & true & 736399\\_1\\_100 4:106156187 C>T & 0.007284 \\\\\n",
       "\t2 & false & true & 736399\\_1\\_100 17:58740521 G>T & 0.006505 \\\\\n",
       "\t3 & false & true & 887041\\_1\\_100 2:25467083 G>A & 0.004888 \\\\\n",
       "\t4 & false & true & 736399\\_1\\_100 4:106190822 C>A & 0.007215 \\\\\n",
       "\t5 & false & true & 809382\\_1\\_100 2:25467032 G>A & 0.005099 \\\\\n",
       "\t6 & false & true & 736399\\_1\\_100 4:106196951 A>G & 0.007316 \\\\\n",
       "\t7 & false & true & 272341\\_1\\_100 4:106190862 T>C & 0.012 \\\\\n",
       "\t8 & false & true & 809382\\_1\\_100 4:106157983 C>T & 0.00584 \\\\\n",
       "\t9 & false & true & 218281\\_1\\_100 4:106180823 C>T & 0.004588 \\\\\n",
       "\t10 & false & true & 887041\\_1\\_100 17:7579472 G>C & 0.004914 \\\\\n",
       "\t11 & false & true & 887041\\_1\\_100 2:198265526 A>G & 0.005574 \\\\\n",
       "\t12 & false & true & 218281\\_1\\_100 2:25457243 G>A & 0.0051 \\\\\n",
       "\t13 & false & true & 809382\\_1\\_100 2:25536827 G>A & 0.005074 \\\\\n",
       "\t14 & false & true & 736399\\_1\\_100 4:106196829 T>G & 0.006829 \\\\\n",
       "\t15 & false & true & 887041\\_1\\_100 4:106196951 A>G & 0.005061 \\\\\n",
       "\t16 & false & true & 272341\\_1\\_100 4:106180838 G>T & 0.007113 \\\\\n",
       "\t17 & false & true & 809382\\_1\\_100 4:106157569 A>T & 0.005567 \\\\\n",
       "\t18 & false & true & 887041\\_1\\_100 4:106156163 G>A & 0.005789 \\\\\n",
       "\t19 & false & true & 272341\\_1\\_100 4:106158216 G>A & 0.012 \\\\\n",
       "\t20 & false & true & 761809\\_1\\_10 2:25464501 GT>G & 0.005619 \\\\\n",
       "\t21 & false & true & 761809\\_1\\_100 2:25536827 G>A & 0.004253 \\\\\n",
       "\t22 & false & true & 218281\\_1\\_100 4:106193940 A>T & 0.005816 \\\\\n",
       "\t23 & false & true & 218281\\_1\\_100 17:7578534 C>G & 0.005244 \\\\\n",
       "\\end{tabular}\n"
      ],
      "text/plain": [
       "\u001b[1m23×4 DataFrame\u001b[0m\n",
       "\u001b[1m Row \u001b[0m│\u001b[1m x1    \u001b[0m\u001b[1m x2   \u001b[0m\u001b[1m sample_key                   \u001b[0m\u001b[1m vaf      \u001b[0m\n",
       "\u001b[1m     \u001b[0m│\u001b[90m Cat…  \u001b[0m\u001b[90m Cat… \u001b[0m\u001b[90m String                       \u001b[0m\u001b[90m Float32  \u001b[0m\n",
       "─────┼─────────────────────────────────────────────────────\n",
       "   1 │ false  true  736399_1_100 4:106156187 C>T  0.007284\n",
       "   2 │ false  true  736399_1_100 17:58740521 G>T  0.006505\n",
       "   3 │ false  true  887041_1_100 2:25467083 G>A   0.004888\n",
       "   4 │ false  true  736399_1_100 4:106190822 C>A  0.007215\n",
       "   5 │ false  true  809382_1_100 2:25467032 G>A   0.005099\n",
       "   6 │ false  true  736399_1_100 4:106196951 A>G  0.007316\n",
       "   7 │ false  true  272341_1_100 4:106190862 T>C  0.012\n",
       "   8 │ false  true  809382_1_100 4:106157983 C>T  0.00584\n",
       "   9 │ false  true  218281_1_100 4:106180823 C>T  0.004588\n",
       "  10 │ false  true  887041_1_100 17:7579472 G>C   0.004914\n",
       "  11 │ false  true  887041_1_100 2:198265526 A>G  0.005574\n",
       "  12 │ false  true  218281_1_100 2:25457243 G>A   0.0051\n",
       "  13 │ false  true  809382_1_100 2:25536827 G>A   0.005074\n",
       "  14 │ false  true  736399_1_100 4:106196829 T>G  0.006829\n",
       "  15 │ false  true  887041_1_100 4:106196951 A>G  0.005061\n",
       "  16 │ false  true  272341_1_100 4:106180838 G>T  0.007113\n",
       "  17 │ false  true  809382_1_100 4:106157569 A>T  0.005567\n",
       "  18 │ false  true  887041_1_100 4:106156163 G>A  0.005789\n",
       "  19 │ false  true  272341_1_100 4:106158216 G>A  0.012\n",
       "  20 │ false  true  761809_1_10 2:25464501 GT>G   0.005619\n",
       "  21 │ false  true  761809_1_100 2:25536827 G>A   0.004253\n",
       "  22 │ false  true  218281_1_100 4:106193940 A>T  0.005816\n",
       "  23 │ false  true  218281_1_100 17:7578534 C>G   0.005244"
      ]
     },
     "execution_count": 115,
     "metadata": {},
     "output_type": "execute_result"
    }
   ],
   "source": [
    "aa = DataFrame(x1=yhat,x2=y[test],sample_key=sample_key[test], vaf=untransform_log(untransform_standardizer(x,stnd),10)[test,\"gt_AF_Mutect\"])\n",
    "# filter!(x-> x.x1==false && x.x2==true ,aa)\n",
    "aafn=filter(x-> x.x1==false && x.x2==true ,aa)\n",
    "# # aatp=filter(x-> x.x1==true && x.x2==true ,aa)\n",
    "\n",
    "# CSV.write(\"bmtreals1.csv\",leftjoin(CSV.read(\"bmtreals.csv\",DataFrame),\n",
    "#         DataFrame(sample_key=aafn.sample_key, mutectFN = [1 for i in nrow(aafn)])\n",
    "#         ,on=:sample_key))\n",
    "# CSV.write(\"bmtreals1.csv\",leftjoin(CSV.read(\"bmtreals1.csv\",DataFrame),\n",
    "#         DataFrame(sample_key=aatp.sample_key, mutectTP = [1 for i in nrow(aatp)])\n",
    "#         ,on=:sample_key))\n"
   ]
  },
  {
   "cell_type": "markdown",
   "id": "07e121a1",
   "metadata": {},
   "source": [
    "# Bayes"
   ]
  },
  {
   "cell_type": "code",
   "execution_count": 46,
   "id": "e6c8d890",
   "metadata": {},
   "outputs": [
    {
     "data": {
      "text/plain": [
       ":forwarddiff"
      ]
     },
     "execution_count": 46,
     "metadata": {},
     "output_type": "execute_result"
    }
   ],
   "source": [
    "Turing.setadbackend(:forwarddiff)"
   ]
  },
  {
   "cell_type": "code",
   "execution_count": 290,
   "id": "9e3a6c60",
   "metadata": {},
   "outputs": [],
   "source": [
    "xb = copy(x);\n",
    "yb = [i==true for i in copy(y)];"
   ]
  },
  {
   "cell_type": "code",
   "execution_count": 291,
   "id": "47d16424",
   "metadata": {},
   "outputs": [],
   "source": [
    "# histogram(xb.TLOD_Mutect,bins=200,yscale=:log10)"
   ]
  },
  {
   "cell_type": "code",
   "execution_count": 292,
   "id": "eb4fd038",
   "metadata": {},
   "outputs": [],
   "source": [
    "# lazyarray(f, x) = LazyArray(Base.broadcasted(f, x))\n",
    "@model function logreg(X,  y; predictors=size(X, 2))\n",
    "    #priors\n",
    "    α ~ Normal(0, 3)\n",
    "    β ~ filldist(TDist(3), predictors)\n",
    "\n",
    "    #likelihood\n",
    "#     for i in 1:predictors\n",
    "#         y[i] ~ BernoulliLogit(α + LinearAlgebra.dot(X[i,:], β) ) # arraydist( LazyArray(@~ BernoulliLogit.(α .+ X * β) ) )\n",
    "#     end\n",
    "    y ~ arraydist(LazyArray(Base.broadcasted(x -> BernoulliLogit(x), α .+ X * β) ))\n",
    "end;\n"
   ]
  },
  {
   "cell_type": "code",
   "execution_count": 299,
   "id": "d6b409aa",
   "metadata": {},
   "outputs": [
    {
     "data": {
      "text/plain": [
       "7-element Vector{String}:\n",
       " \"gt_AF_Mutect\"\n",
       " \"MPOS_Mutect\"\n",
       " \"TLOD_Mutect\"\n",
       " \"MBQ_Mutect_2\"\n",
       " \"pon_pvalue_Mutect\"\n",
       " \"gt_AD_ref_Mutect_std\"\n",
       " \"gt_AD_alt_Mutect\""
      ]
     },
     "execution_count": 299,
     "metadata": {},
     "output_type": "execute_result"
    }
   ],
   "source": [
    "d = train; #vcat(train[findall(x->x,yb[train])],train[1:1425])\n",
    "cols = [\"gt_AF_Mutect\",\"MPOS_Mutect\",\"TLOD_Mutect\",\"MBQ_Mutect_2\",\"pon_pvalue_Mutect\",\n",
    "\"gt_AD_ref_Mutect_std\",\n",
    "    \"gt_AD_alt_Mutect\"\n",
    "]"
   ]
  },
  {
   "cell_type": "code",
   "execution_count": 300,
   "id": "8ee352e0",
   "metadata": {},
   "outputs": [
    {
     "data": {
      "text/plain": [
       "24"
      ]
     },
     "execution_count": 300,
     "metadata": {},
     "output_type": "execute_result"
    }
   ],
   "source": [
    "sum(.~ yb[d])"
   ]
  },
  {
   "cell_type": "code",
   "execution_count": 301,
   "id": "7bca9b7d",
   "metadata": {},
   "outputs": [
    {
     "data": {
      "text/plain": [
       "1"
      ]
     },
     "execution_count": 301,
     "metadata": {},
     "output_type": "execute_result"
    }
   ],
   "source": [
    "sum(yb[d])"
   ]
  },
  {
   "cell_type": "code",
   "execution_count": 302,
   "id": "fa003deb",
   "metadata": {},
   "outputs": [],
   "source": [
    "# findall(x->x,yb[train])"
   ]
  },
  {
   "cell_type": "code",
   "execution_count": 303,
   "id": "9eac3d85",
   "metadata": {},
   "outputs": [],
   "source": [
    "# train[1:385]"
   ]
  },
  {
   "cell_type": "code",
   "execution_count": 323,
   "id": "83e85071",
   "metadata": {},
   "outputs": [
    {
     "name": "stderr",
     "output_type": "stream",
     "text": [
      "┌ Info: Found initial step size\n",
      "│   ϵ = 1.6\n",
      "└ @ Turing.Inference /Users/alexpanchot/.julia/packages/Turing/uMQmD/src/inference/hmc.jl:188\n",
      "┌ Info: Found initial step size\n",
      "│   ϵ = 0.8\n",
      "└ @ Turing.Inference /Users/alexpanchot/.julia/packages/Turing/uMQmD/src/inference/hmc.jl:188\n",
      "┌ Info: Found initial step size\n",
      "│   ϵ = 0.8\n",
      "└ @ Turing.Inference /Users/alexpanchot/.julia/packages/Turing/uMQmD/src/inference/hmc.jl:188\n",
      "┌ Info: Found initial step size\n",
      "│   ϵ = 0.8\n",
      "└ @ Turing.Inference /Users/alexpanchot/.julia/packages/Turing/uMQmD/src/inference/hmc.jl:188\n",
      "┌ Info: Found initial step size\n",
      "│   ϵ = 1.6\n",
      "└ @ Turing.Inference /Users/alexpanchot/.julia/packages/Turing/uMQmD/src/inference/hmc.jl:188\n"
     ]
    },
    {
     "data": {
      "text/plain": [
       "Chains MCMC chain (5000×68×5 Array{Float64, 3}):\n",
       "\n",
       "Iterations        = 1001:1:6000\n",
       "Number of chains  = 5\n",
       "Samples per chain = 5000\n",
       "Wall duration     = 84.98 seconds\n",
       "Compute duration  = 380.74 seconds\n",
       "parameters        = α, β[1], β[2], β[3], β[4], β[5], β[6], β[7], β[8], β[9], β[10], β[11], β[12], β[13], β[14], β[15], β[16], β[17], β[18], β[19], β[20], β[21], β[22], β[23], β[24], β[25], β[26], β[27], β[28], β[29], β[30], β[31], β[32], β[33], β[34], β[35], β[36], β[37], β[38], β[39], β[40], β[41], β[42], β[43], β[44], β[45], β[46], β[47], β[48], β[49], β[50], β[51], β[52], β[53], β[54], β[55]\n",
       "internals         = lp, n_steps, is_accept, acceptance_rate, log_density, hamiltonian_energy, hamiltonian_energy_error, max_hamiltonian_energy_error, tree_depth, numerical_error, step_size, nom_step_size\n",
       "\n",
       "Summary Statistics\n",
       " \u001b[1m parameters \u001b[0m \u001b[1m    mean \u001b[0m \u001b[1m     std \u001b[0m \u001b[1m naive_se \u001b[0m \u001b[1m    mcse \u001b[0m \u001b[1m        ess \u001b[0m \u001b[1m    rhat \u001b[0m \u001b[1m\u001b[0m ⋯\n",
       " \u001b[90m     Symbol \u001b[0m \u001b[90m Float64 \u001b[0m \u001b[90m Float64 \u001b[0m \u001b[90m  Float64 \u001b[0m \u001b[90m Float64 \u001b[0m \u001b[90m    Float64 \u001b[0m \u001b[90m Float64 \u001b[0m \u001b[90m\u001b[0m ⋯\n",
       "\n",
       "           α   -3.6961    2.6123     0.0165    0.0226   11973.1187    1.0001   ⋯\n",
       "        β[1]    0.0107    1.6998     0.0108    0.0175    8837.9743    1.0001   ⋯\n",
       "        β[2]    0.3684    1.3770     0.0087    0.0142    8740.0130    1.0001   ⋯\n",
       "        β[3]    0.3615    1.1373     0.0072    0.0086   15213.9419    0.9999   ⋯\n",
       "        β[4]    0.4095    1.3231     0.0084    0.0092   17488.0193    1.0002   ⋯\n",
       "        β[5]    0.1969    1.2557     0.0079    0.0094   17225.2172    1.0000   ⋯\n",
       "        β[6]    0.0199    1.2593     0.0080    0.0088   18140.4504    1.0000   ⋯\n",
       "        β[7]    0.3223    1.2597     0.0080    0.0096   18715.9087    1.0002   ⋯\n",
       "        β[8]   -0.1628    1.2596     0.0080    0.0101   15544.4263    1.0000   ⋯\n",
       "        β[9]    0.2039    1.2426     0.0079    0.0082   20312.7782    1.0002   ⋯\n",
       "       β[10]    0.2406    1.2481     0.0079    0.0088   18967.9498    1.0001   ⋯\n",
       "       β[11]    0.0442    1.2693     0.0080    0.0093   19067.1104    1.0001   ⋯\n",
       "       β[12]   -0.4037    1.2633     0.0080    0.0101   15623.7151    1.0002   ⋯\n",
       "       β[13]   -0.2084    1.2678     0.0080    0.0091   20115.9370    1.0000   ⋯\n",
       "       β[14]    0.0817    1.2646     0.0080    0.0114   13506.5504    1.0003   ⋯\n",
       "       β[15]    0.5692    1.2849     0.0081    0.0116   13938.4307    1.0003   ⋯\n",
       "       β[16]   -0.3558    1.1895     0.0075    0.0088   18883.1635    1.0000   ⋯\n",
       "       β[17]   -0.7251    1.2964     0.0082    0.0099   16078.4148    1.0001   ⋯\n",
       "       β[18]   -0.1486    1.2672     0.0080    0.0102   16353.2779    1.0000   ⋯\n",
       "       β[19]   -0.0264    1.3499     0.0085    0.0091   19367.4520    1.0001   ⋯\n",
       "       β[20]   -1.0577    2.1248     0.0134    0.0255    7196.3223    1.0003   ⋯\n",
       "       β[21]   -0.2769    1.2063     0.0076    0.0084   18849.1947    1.0000   ⋯\n",
       "       β[22]    0.2872    1.2367     0.0078    0.0096   14487.9950    1.0000   ⋯\n",
       "      ⋮           ⋮         ⋮         ⋮          ⋮          ⋮           ⋮      ⋱\n",
       "\u001b[36m                                                    1 column and 33 rows omitted\u001b[0m\n",
       "\n",
       "Quantiles\n",
       " \u001b[1m parameters \u001b[0m \u001b[1m    2.5% \u001b[0m \u001b[1m   25.0% \u001b[0m \u001b[1m   50.0% \u001b[0m \u001b[1m   75.0% \u001b[0m \u001b[1m   97.5% \u001b[0m\n",
       " \u001b[90m     Symbol \u001b[0m \u001b[90m Float64 \u001b[0m \u001b[90m Float64 \u001b[0m \u001b[90m Float64 \u001b[0m \u001b[90m Float64 \u001b[0m \u001b[90m Float64 \u001b[0m\n",
       "\n",
       "           α   -8.6484   -5.4677   -3.7568   -2.0195    1.6919\n",
       "        β[1]   -3.2324   -0.7966   -0.0036    0.7852    3.3737\n",
       "        β[2]   -1.8080   -0.4359    0.2161    0.9495    3.5727\n",
       "        β[3]   -1.7729   -0.3428    0.3079    1.0011    2.8404\n",
       "        β[4]   -1.9379   -0.3818    0.3025    1.0652    3.4051\n",
       "        β[5]   -2.1603   -0.5375    0.1361    0.8590    2.9348\n",
       "        β[6]   -2.4960   -0.6877    0.0073    0.7206    2.5409\n",
       "        β[7]   -1.9807   -0.4310    0.2377    0.9758    3.1426\n",
       "        β[8]   -2.7856   -0.8325   -0.1244    0.5661    2.2206\n",
       "        β[9]   -2.1411   -0.5219    0.1453    0.8663    2.8238\n",
       "       β[10]   -2.0373   -0.5032    0.1742    0.8868    3.0171\n",
       "       β[11]   -2.4394   -0.6853    0.0071    0.7326    2.7845\n",
       "       β[12]   -3.2739   -1.0564   -0.2922    0.3618    1.8338\n",
       "       β[13]   -2.9023   -0.8755   -0.1664    0.5263    2.2305\n",
       "       β[14]   -2.2953   -0.6474    0.0386    0.7398    2.7413\n",
       "       β[15]   -1.5958   -0.2274    0.4410    1.1877    3.5248\n",
       "       β[16]   -2.9893   -0.9917   -0.2902    0.3749    1.8527\n",
       "       β[17]   -3.7675   -1.3720   -0.5685    0.0982    1.4260\n",
       "       β[18]   -2.8186   -0.8345   -0.1156    0.5667    2.3697\n",
       "       β[19]   -2.7746   -0.7456   -0.0216    0.6969    2.7000\n",
       "       β[20]   -6.7366   -1.6904   -0.6443    0.1473    1.7558\n",
       "       β[21]   -2.8570   -0.9427   -0.2323    0.4411    2.0335\n",
       "       β[22]   -1.9462   -0.4567    0.2128    0.9263    2.9985\n",
       "      ⋮           ⋮         ⋮         ⋮         ⋮         ⋮\n",
       "\u001b[36m                                                 33 rows omitted\u001b[0m\n"
      ]
     },
     "execution_count": 323,
     "metadata": {},
     "output_type": "execute_result"
    }
   ],
   "source": [
    "\n",
    "# gmm_sampler = Gibbs(PG(100,:p5,:p7,:p10,:p11,:p12), HMC(0.05, 100, :intercept, :p1,:p2,:p3,:p4,:p6,:p8,:p9))\n",
    "\n",
    "# Sample using HMC.\n",
    "m = logreg(Matrix(xb[d,:]), convert.(Float32,yb[d]) )\n",
    "\n",
    "chain = sample(m, NUTS(), MCMCThreads(), 5000, 5, progress=true)\n",
    "# chain = sample(m, gmm_sampler, MCMCThreads(), 100, 5, progress=true)\n",
    "# chain = sample(m, NUTS(50,0.65), MCMCThreads(), 100, 2, progress=true)\n",
    "# describe(chain)"
   ]
  },
  {
   "cell_type": "code",
   "execution_count": 324,
   "id": "b82bc10a",
   "metadata": {
    "scrolled": false
   },
   "outputs": [],
   "source": [
    "# plot(chain[:,1:10,:])"
   ]
  },
  {
   "cell_type": "code",
   "execution_count": 325,
   "id": "612b5575",
   "metadata": {},
   "outputs": [],
   "source": [
    "# mean(chain[\"β[5]\"])"
   ]
  },
  {
   "cell_type": "code",
   "execution_count": 326,
   "id": "e825c7e9",
   "metadata": {},
   "outputs": [],
   "source": [
    "# mode(round.(chain[\"β[5]\"],digits=2))\n"
   ]
  },
  {
   "cell_type": "code",
   "execution_count": 327,
   "id": "de8aac40",
   "metadata": {},
   "outputs": [],
   "source": [
    "# for beta_j in 1:size(xb,2)\n",
    "#             if abs(mean(chain[\"β[$(beta_j)]\"])) < 0.1\n",
    "#                 println(beta_j)\n",
    "#             end\n",
    "# end"
   ]
  },
  {
   "cell_type": "code",
   "execution_count": 328,
   "id": "887d18d7",
   "metadata": {},
   "outputs": [],
   "source": [
    "# @time abs(mean(chain[\"β[1]\"]))"
   ]
  },
  {
   "cell_type": "code",
   "execution_count": 329,
   "id": "d2292b0b",
   "metadata": {},
   "outputs": [],
   "source": [
    "function prediction_turing(x, chain)\n",
    "    # Pull the means from each parameter's sampled values in the chain.\n",
    "\n",
    "\n",
    "    # Retrieve the number of rows.\n",
    "    n = size(x,1)\n",
    "\n",
    "    # Generate a vector to store our predictions.\n",
    "    v = fill(mean(chain[\"α\"]), n)\n",
    "\n",
    "    # Calculate the logistic function for each element in the test set.\n",
    "    \n",
    "\n",
    "    for beta_j in 1:size(x,2)\n",
    "        mm = mean(chain[\"β[$(beta_j)]\"])\n",
    "#         mm = mode(round.(chain[\"β[$(beta_j)]\"],digits=4))\n",
    "        if abs(mm) > 0.00001\n",
    "            for i in 1:n\n",
    "                v[i] += mm * x[i,beta_j] \n",
    "            end\n",
    "        end\n",
    "    end\n",
    "        \n",
    "\n",
    "    v = logistic.(v)\n",
    "    return v\n",
    "end;"
   ]
  },
  {
   "cell_type": "code",
   "execution_count": 330,
   "id": "d9c84879",
   "metadata": {},
   "outputs": [
    {
     "name": "stdout",
     "output_type": "stream",
     "text": [
      "  0.063285 seconds (539.16 k allocations: 20.864 MiB, 70.66% compilation time)\n"
     ]
    }
   ],
   "source": [
    "@time ypred = prediction_turing(xb[test,:],chain);"
   ]
  },
  {
   "cell_type": "code",
   "execution_count": 331,
   "id": "3cb29afe",
   "metadata": {},
   "outputs": [],
   "source": [
    "yhat2 = [i>.01 ? true : false for i in ypred];"
   ]
  },
  {
   "cell_type": "code",
   "execution_count": 332,
   "id": "7d1f1cdd",
   "metadata": {},
   "outputs": [
    {
     "name": "stderr",
     "output_type": "stream",
     "text": [
      "┌ Warning: The classes are un-ordered,\n",
      "│ using: negative='false' and positive='true'.\n",
      "│ To suppress this warning, consider coercing to OrderedFactor.\n",
      "└ @ MLJBase /Users/alexpanchot/.julia/packages/MLJBase/HZmTU/src/measures/confusion_matrix.jl:112\n"
     ]
    },
    {
     "data": {
      "text/plain": [
       "              ┌───────────────────────────┐\n",
       "              │       Ground Truth        │\n",
       "┌─────────────┼─────────────┬─────────────┤\n",
       "│  Predicted  │    false    │    true     │\n",
       "├─────────────┼─────────────┼─────────────┤\n",
       "│    false    │    1062     │     23      │\n",
       "├─────────────┼─────────────┼─────────────┤\n",
       "│    true     │     136     │     43      │\n",
       "└─────────────┴─────────────┴─────────────┘\n"
      ]
     },
     "execution_count": 332,
     "metadata": {},
     "output_type": "execute_result"
    }
   ],
   "source": [
    "MLJ.ConfusionMatrix()(yhat2,yb[test])"
   ]
  },
  {
   "cell_type": "code",
   "execution_count": 314,
   "id": "09c92438",
   "metadata": {},
   "outputs": [],
   "source": [
    "# [print(i,\" \") for i in train]"
   ]
  },
  {
   "cell_type": "code",
   "execution_count": 315,
   "id": "d3f978d5",
   "metadata": {},
   "outputs": [],
   "source": [
    "asd=yhat2 .< yb[test];"
   ]
  },
  {
   "cell_type": "code",
   "execution_count": 316,
   "id": "63bbdb93",
   "metadata": {},
   "outputs": [
    {
     "data": {
      "text/plain": [
       "66"
      ]
     },
     "execution_count": 316,
     "metadata": {},
     "output_type": "execute_result"
    }
   ],
   "source": [
    "sum(yb[test])"
   ]
  },
  {
   "cell_type": "code",
   "execution_count": 317,
   "id": "33c728f5",
   "metadata": {},
   "outputs": [],
   "source": [
    "yb[test[asd]];"
   ]
  },
  {
   "cell_type": "code",
   "execution_count": 318,
   "id": "94514553",
   "metadata": {
    "scrolled": false
   },
   "outputs": [
    {
     "data": {
      "text/plain": [
       "String[]"
      ]
     },
     "execution_count": 318,
     "metadata": {},
     "output_type": "execute_result"
    }
   ],
   "source": [
    "sample_key[test][asd]"
   ]
  },
  {
   "cell_type": "code",
   "execution_count": 322,
   "id": "e2cd71fd",
   "metadata": {},
   "outputs": [
    {
     "data": {
      "text/html": [
       "<div class=\"data-frame\"><p>142 rows × 5 columns</p><table class=\"data-frame\"><thead><tr><th></th><th>x1</th><th>x2</th><th>sample_key</th><th>vaf</th><th>fp</th></tr><tr><th></th><th title=\"Bool\">Bool</th><th title=\"Bool\">Bool</th><th title=\"String\">String</th><th title=\"Float32\">Float32</th><th title=\"Float32\">Float32</th></tr></thead><tbody><tr><th>1</th><td>1</td><td>0</td><td>887041_1_5000 20:31023301 A&gt;G</td><td>0.00473</td><td>1.0</td></tr><tr><th>2</th><td>1</td><td>0</td><td>736399_1_5000 20:31022542 A&gt;G</td><td>0.003702</td><td>1.0</td></tr><tr><th>3</th><td>1</td><td>0</td><td>736399_1_100 20:31022542 A&gt;G</td><td>0.003894</td><td>1.0</td></tr><tr><th>4</th><td>1</td><td>0</td><td>272341_1_100 20:31022545 C&gt;T</td><td>0.00267</td><td>1.0</td></tr><tr><th>5</th><td>1</td><td>0</td><td>761809_1_5000 20:31023301 A&gt;G</td><td>0.005531</td><td>1.0</td></tr><tr><th>6</th><td>1</td><td>0</td><td>761809_T 20:31022542 A&gt;G</td><td>0.003957</td><td>1.0</td></tr><tr><th>7</th><td>1</td><td>0</td><td>272341_1_100 20:31022552 A&gt;T</td><td>0.002667</td><td>1.0</td></tr><tr><th>8</th><td>1</td><td>0</td><td>218281_1_1000 20:31022542 A&gt;G</td><td>0.003664</td><td>1.0</td></tr><tr><th>9</th><td>1</td><td>0</td><td>272341_1_5000 20:31023301 A&gt;G</td><td>0.00549</td><td>1.0</td></tr><tr><th>10</th><td>1</td><td>0</td><td>218281_1_10 20:31022542 A&gt;G</td><td>0.003531</td><td>1.0</td></tr><tr><th>11</th><td>1</td><td>0</td><td>887041_1_5000 20:31022545 C&gt;T</td><td>0.00394</td><td>1.0</td></tr><tr><th>12</th><td>1</td><td>0</td><td>736399_1_5000 20:31022545 C&gt;T</td><td>0.002783</td><td>1.0</td></tr><tr><th>13</th><td>1</td><td>0</td><td>809382_T 20:31023301 A&gt;G</td><td>0.002899</td><td>1.0</td></tr><tr><th>14</th><td>1</td><td>0</td><td>761809_T 20:31022559 A&gt;G</td><td>0.006082</td><td>1.0</td></tr><tr><th>15</th><td>1</td><td>0</td><td>761809_1_100 20:31023301 A&gt;G</td><td>0.005486</td><td>1.0</td></tr><tr><th>16</th><td>1</td><td>0</td><td>272341_1_1000 20:31022545 C&gt;T</td><td>0.002696</td><td>1.0</td></tr><tr><th>17</th><td>1</td><td>0</td><td>809382_T 20:31022559 A&gt;G</td><td>0.006774</td><td>1.0</td></tr><tr><th>18</th><td>1</td><td>0</td><td>887041_1_10 20:31019284 A&gt;G</td><td>0.001656</td><td>1.0</td></tr><tr><th>19</th><td>1</td><td>0</td><td>761809_1_10 20:31017719 A&gt;T</td><td>0.004438</td><td>1.0</td></tr><tr><th>20</th><td>1</td><td>0</td><td>809382_1_100 20:31023292 T&gt;A</td><td>0.001353</td><td>1.0</td></tr><tr><th>21</th><td>1</td><td>0</td><td>272341_1_1000 20:31023301 A&gt;G</td><td>0.005487</td><td>1.0</td></tr><tr><th>22</th><td>1</td><td>0</td><td>887041_1_10 20:31019270 C&gt;T</td><td>0.001962</td><td>1.0</td></tr><tr><th>23</th><td>1</td><td>0</td><td>761809_1_5000 20:31022552 A&gt;T</td><td>0.002698</td><td>1.0</td></tr><tr><th>24</th><td>1</td><td>0</td><td>809382_T 4:106156953 A&gt;T</td><td>0.003719</td><td>1.0</td></tr><tr><th>25</th><td>1</td><td>0</td><td>809382_1_1000 20:31022542 A&gt;G</td><td>0.003606</td><td>1.0</td></tr><tr><th>26</th><td>1</td><td>0</td><td>887041_T 20:31022542 A&gt;G</td><td>0.003446</td><td>1.0</td></tr><tr><th>27</th><td>1</td><td>0</td><td>218281_1_1000 20:31022552 A&gt;T</td><td>0.003538</td><td>1.0</td></tr><tr><th>28</th><td>1</td><td>0</td><td>218281_T 17:74732341 T&gt;A</td><td>0.002079</td><td>1.0</td></tr><tr><th>29</th><td>1</td><td>0</td><td>887041_1_10 20:31022552 A&gt;T</td><td>0.004147</td><td>1.0</td></tr><tr><th>30</th><td>1</td><td>0</td><td>736399_T 20:31022552 A&gt;T</td><td>0.00264</td><td>1.0</td></tr><tr><th>&vellip;</th><td>&vellip;</td><td>&vellip;</td><td>&vellip;</td><td>&vellip;</td><td>&vellip;</td></tr></tbody></table></div>"
      ],
      "text/latex": [
       "\\begin{tabular}{r|ccccc}\n",
       "\t& x1 & x2 & sample\\_key & vaf & fp\\\\\n",
       "\t\\hline\n",
       "\t& Bool & Bool & String & Float32 & Float32\\\\\n",
       "\t\\hline\n",
       "\t1 & 1 & 0 & 887041\\_1\\_5000 20:31023301 A>G & 0.00473 & 1.0 \\\\\n",
       "\t2 & 1 & 0 & 736399\\_1\\_5000 20:31022542 A>G & 0.003702 & 1.0 \\\\\n",
       "\t3 & 1 & 0 & 736399\\_1\\_100 20:31022542 A>G & 0.003894 & 1.0 \\\\\n",
       "\t4 & 1 & 0 & 272341\\_1\\_100 20:31022545 C>T & 0.00267 & 1.0 \\\\\n",
       "\t5 & 1 & 0 & 761809\\_1\\_5000 20:31023301 A>G & 0.005531 & 1.0 \\\\\n",
       "\t6 & 1 & 0 & 761809\\_T 20:31022542 A>G & 0.003957 & 1.0 \\\\\n",
       "\t7 & 1 & 0 & 272341\\_1\\_100 20:31022552 A>T & 0.002667 & 1.0 \\\\\n",
       "\t8 & 1 & 0 & 218281\\_1\\_1000 20:31022542 A>G & 0.003664 & 1.0 \\\\\n",
       "\t9 & 1 & 0 & 272341\\_1\\_5000 20:31023301 A>G & 0.00549 & 1.0 \\\\\n",
       "\t10 & 1 & 0 & 218281\\_1\\_10 20:31022542 A>G & 0.003531 & 1.0 \\\\\n",
       "\t11 & 1 & 0 & 887041\\_1\\_5000 20:31022545 C>T & 0.00394 & 1.0 \\\\\n",
       "\t12 & 1 & 0 & 736399\\_1\\_5000 20:31022545 C>T & 0.002783 & 1.0 \\\\\n",
       "\t13 & 1 & 0 & 809382\\_T 20:31023301 A>G & 0.002899 & 1.0 \\\\\n",
       "\t14 & 1 & 0 & 761809\\_T 20:31022559 A>G & 0.006082 & 1.0 \\\\\n",
       "\t15 & 1 & 0 & 761809\\_1\\_100 20:31023301 A>G & 0.005486 & 1.0 \\\\\n",
       "\t16 & 1 & 0 & 272341\\_1\\_1000 20:31022545 C>T & 0.002696 & 1.0 \\\\\n",
       "\t17 & 1 & 0 & 809382\\_T 20:31022559 A>G & 0.006774 & 1.0 \\\\\n",
       "\t18 & 1 & 0 & 887041\\_1\\_10 20:31019284 A>G & 0.001656 & 1.0 \\\\\n",
       "\t19 & 1 & 0 & 761809\\_1\\_10 20:31017719 A>T & 0.004438 & 1.0 \\\\\n",
       "\t20 & 1 & 0 & 809382\\_1\\_100 20:31023292 T>A & 0.001353 & 1.0 \\\\\n",
       "\t21 & 1 & 0 & 272341\\_1\\_1000 20:31023301 A>G & 0.005487 & 1.0 \\\\\n",
       "\t22 & 1 & 0 & 887041\\_1\\_10 20:31019270 C>T & 0.001962 & 1.0 \\\\\n",
       "\t23 & 1 & 0 & 761809\\_1\\_5000 20:31022552 A>T & 0.002698 & 1.0 \\\\\n",
       "\t24 & 1 & 0 & 809382\\_T 4:106156953 A>T & 0.003719 & 1.0 \\\\\n",
       "\t25 & 1 & 0 & 809382\\_1\\_1000 20:31022542 A>G & 0.003606 & 1.0 \\\\\n",
       "\t26 & 1 & 0 & 887041\\_T 20:31022542 A>G & 0.003446 & 1.0 \\\\\n",
       "\t27 & 1 & 0 & 218281\\_1\\_1000 20:31022552 A>T & 0.003538 & 1.0 \\\\\n",
       "\t28 & 1 & 0 & 218281\\_T 17:74732341 T>A & 0.002079 & 1.0 \\\\\n",
       "\t29 & 1 & 0 & 887041\\_1\\_10 20:31022552 A>T & 0.004147 & 1.0 \\\\\n",
       "\t30 & 1 & 0 & 736399\\_T 20:31022552 A>T & 0.00264 & 1.0 \\\\\n",
       "\t$\\dots$ & $\\dots$ & $\\dots$ & $\\dots$ & $\\dots$ & $\\dots$ \\\\\n",
       "\\end{tabular}\n"
      ],
      "text/plain": [
       "\u001b[1m142×5 DataFrame\u001b[0m\n",
       "\u001b[1m Row \u001b[0m│\u001b[1m x1   \u001b[0m\u001b[1m x2    \u001b[0m\u001b[1m sample_key                    \u001b[0m\u001b[1m vaf      \u001b[0m\u001b[1m fp      \u001b[0m\n",
       "\u001b[1m     \u001b[0m│\u001b[90m Bool \u001b[0m\u001b[90m Bool  \u001b[0m\u001b[90m String                        \u001b[0m\u001b[90m Float32  \u001b[0m\u001b[90m Float32 \u001b[0m\n",
       "─────┼───────────────────────────────────────────────────────────────\n",
       "   1 │ true  false  887041_1_5000 20:31023301 A>G  0.00473       1.0\n",
       "   2 │ true  false  736399_1_5000 20:31022542 A>G  0.003702      1.0\n",
       "   3 │ true  false  736399_1_100 20:31022542 A>G   0.003894      1.0\n",
       "   4 │ true  false  272341_1_100 20:31022545 C>T   0.00267       1.0\n",
       "   5 │ true  false  761809_1_5000 20:31023301 A>G  0.005531      1.0\n",
       "   6 │ true  false  761809_T 20:31022542 A>G       0.003957      1.0\n",
       "   7 │ true  false  272341_1_100 20:31022552 A>T   0.002667      1.0\n",
       "   8 │ true  false  218281_1_1000 20:31022542 A>G  0.003664      1.0\n",
       "   9 │ true  false  272341_1_5000 20:31023301 A>G  0.00549       1.0\n",
       "  10 │ true  false  218281_1_10 20:31022542 A>G    0.003531      1.0\n",
       "  11 │ true  false  887041_1_5000 20:31022545 C>T  0.00394       1.0\n",
       "  ⋮  │  ⋮      ⋮                  ⋮                   ⋮         ⋮\n",
       " 133 │ true  false  272341_1_10 20:31023301 A>G    0.005011      1.0\n",
       " 134 │ true  false  736399_T 20:31022556 C>T       0.002668      1.0\n",
       " 135 │ true  false  761809_1_10 20:31022552 A>T    0.002592      1.0\n",
       " 136 │ true  false  761809_1_100 20:31022552 A>T   0.002674      1.0\n",
       " 137 │ true  false  272341_1_5000 20:31022552 A>T  0.002697      1.0\n",
       " 138 │ true  false  736399_T 20:31022545 C>T       0.002635      1.0\n",
       " 139 │ true  false  809382_1_100 20:31022544 C>T   0.008706      1.0\n",
       " 140 │ true  false  809382_1_10 20:31022552 A>T    0.003496      1.0\n",
       " 141 │ true  false  218281_1_100 20:31022552 A>T   0.003557      1.0\n",
       " 142 │ true  false  218281_1_1000 20:31023292 T>A  0.001463      1.0\n",
       "\u001b[36m                                                     121 rows omitted\u001b[0m"
      ]
     },
     "execution_count": 322,
     "metadata": {},
     "output_type": "execute_result"
    }
   ],
   "source": [
    "aa = DataFrame(x1=yhat2,x2=yb[test],sample_key=sample_key[test], vaf=untransform_log(untransform_standardizer(xb,stnd),10)[test,\"gt_AF_Mutect\"],\n",
    "fp=xb[test,:FPpass])\n",
    "# filter!(x-> x.x1==false && x.x2==true ,aa)\n",
    "aafn=filter(x-> x.x1==true && x.x2==false && x.vaf > 0.001 && x.fp > 0.5,aa)\n",
    "# aafn=filter(x-> x.x1==false && x.x2==true ,aa)\n",
    "# # aatp=filter(x-> x.x1==true && x.x2==true ,aa)\n",
    "\n",
    "# CSV.write(\"bmtreals1.csv\",leftjoin(CSV.read(\"bmtreals.csv\",DataFrame),\n",
    "#         DataFrame(sample_key=aafn.sample_key, mutectFN = [1 for i in nrow(aafn)])\n",
    "#         ,on=:sample_key))\n",
    "# CSV.write(\"bmtreals1.csv\",leftjoin(CSV.read(\"bmtreals1.csv\",DataFrame),\n",
    "#         DataFrame(sample_key=aatp.sample_key, mutectTP = [1 for i in nrow(aatp)])\n",
    "#         ,on=:sample_key))"
   ]
  },
  {
   "cell_type": "code",
   "execution_count": 398,
   "id": "96fe57b7",
   "metadata": {},
   "outputs": [
    {
     "data": {
      "text/plain": [
       "34-element Vector{String}:\n",
       " \"887041_1_100 20:31017746 CCAG>C\"\n",
       " \"D-1002 X:39923810 G>T\"\n",
       " \"218281_1_10 2:25457243 G>A\"\n",
       " \"761809_1_100 22:29085168 C>G\"\n",
       " \"218281_1_10 4:106193940 A>T\"\n",
       " \"887041_1_5000 20:30946591 CAGA>C\"\n",
       " \"272341_1_1000 20:31024787 T>C\"\n",
       " \"736399_1_5000 20:31022441 AG>A\"\n",
       " \"D-942 19:33792748 G>A\"\n",
       " \"736399_1_100 20:31022441 AG>A\"\n",
       " \"D-1002 X:39922132 A>C\"\n",
       " \"736399_1_10 4:106190822 C>A\"\n",
       " \"887041_1_1000 20:31023301 A>G\"\n",
       " ⋮\n",
       " \"D-1002 X:39909190 C>A\"\n",
       " \"D-1002 X:39922009 G>A\"\n",
       " \"736399_1_100 4:106196829 T>G\"\n",
       " \"809382_1_1000 20:31017746 CCAG>C\"\n",
       " \"887041_1_5000 17:74732995 C>G\"\n",
       " \"887041_1_100 4:106197574 GTC>G\"\n",
       " \"809382_1_5000 17:58678009 T>C\"\n",
       " \"D-1002 X:39916503 G>T\"\n",
       " \"887041_1_5000 2:198265526 A>G\"\n",
       " \"D-942 4:106157663 C>T\"\n",
       " \"218281_1_100 4:106180823 C>T\"\n",
       " \"809382_1_100 2:25464444 A>G\""
      ]
     },
     "execution_count": 398,
     "metadata": {},
     "output_type": "execute_result"
    }
   ],
   "source": [
    "sample_key[train][yb[train]]"
   ]
  }
 ],
 "metadata": {
  "@webio": {
   "lastCommId": "caef054550ad4b109451733b4b7556a2",
   "lastKernelId": "ead086a5-fff3-4c7b-9711-36125657546f"
  },
  "kernelspec": {
   "display_name": "Julia 1.6.2",
   "language": "julia",
   "name": "julia-1.6"
  },
  "language_info": {
   "file_extension": ".jl",
   "mimetype": "application/julia",
   "name": "julia",
   "version": "1.6.2"
  }
 },
 "nbformat": 4,
 "nbformat_minor": 5
}
