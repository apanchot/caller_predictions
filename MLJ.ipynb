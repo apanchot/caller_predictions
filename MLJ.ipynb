{
 "cells": [
  {
   "cell_type": "code",
   "execution_count": 3,
   "id": "697b82ee",
   "metadata": {},
   "outputs": [
    {
     "data": {
      "application/vnd.webio.node+json": {
       "children": [],
       "instanceArgs": {
        "namespace": "html",
        "tag": "div"
       },
       "nodeType": "DOM",
       "props": {},
       "type": "node"
      },
      "text/html": [
       "<div style=\"padding: 1em; background-color: #f8d6da; border: 1px solid #f5c6cb; font-weight: bold;\">\n",
       "<p>The WebIO Jupyter extension was not detected. See the\n",
       "<a href=\"https://juliagizmos.github.io/WebIO.jl/latest/providers/ijulia/\" target=\"_blank\">\n",
       "    WebIO Jupyter integration documentation\n",
       "</a>\n",
       "for more information.\n",
       "</div>\n"
      ],
      "text/plain": [
       "WebIO._IJuliaInit()"
      ]
     },
     "metadata": {
      "application/vnd.webio.node+json": {
       "kernelId": null
      }
     },
     "output_type": "display_data"
    }
   ],
   "source": [
    "using StatsBase\n",
    "using MLJ\n",
    "using MLJBase\n",
    "using DataFrames\n",
    "import CSV\n",
    "using TableView"
   ]
  },
  {
   "cell_type": "code",
   "execution_count": 4,
   "id": "4479d6b5",
   "metadata": {},
   "outputs": [
    {
     "data": {
      "application/vnd.webio.node+json": {
       "children": [
        {
         "children": [
          {
           "children": [
            ""
           ],
           "instanceArgs": {
            "namespace": "html",
            "tag": "div"
           },
           "nodeType": "DOM",
           "props": {
            "style": {
             "background-color": "#F5F7F7",
             "color": "#1c1f20",
             "font-family": "-apple-system, BlinkMacSystemFont, \"Segoe UI\", Roboto, Oxygen-Sans, Ubuntu, Cantarell, \"Helvetica Neue\", sans-serif",
             "height": "0",
             "padding": "0"
            }
           },
           "type": "node"
          },
          {
           "children": [],
           "instanceArgs": {
            "namespace": "html",
            "tag": "div"
           },
           "nodeType": "DOM",
           "props": {
            "className": "ag-theme-balham",
            "id": "grid-ff0c5e1c",
            "style": {
             "height": "500px",
             "width": "100%"
            }
           },
           "type": "node"
          }
         ],
         "instanceArgs": {
          "namespace": "html",
          "tag": "div"
         },
         "nodeType": "DOM",
         "props": {},
         "type": "node"
        }
       ],
       "instanceArgs": {
        "handlers": {},
        "id": "12808970643626436571",
        "imports": {
         "data": [
          {
           "name": null,
           "type": "js",
           "url": "/assetserver/ff7cedeb3c0be1fe3b78420e39e5831529252e27-rowNumberRenderer.js"
          },
          {
           "name": null,
           "type": "js",
           "url": "/assetserver/bd0edaba5158ded95855aef34fd8f3dd96ae49fb-ag-grid.js"
          },
          {
           "name": null,
           "type": "css",
           "url": "/assetserver/77a698eb508b878c6fc123d504f8b478c0953d4e-ag-grid.css"
          },
          {
           "name": null,
           "type": "css",
           "url": "/assetserver/e32886774615890ea3135fc2948c5a5d84679ad0-ag-grid-light.css"
          },
          {
           "name": null,
           "type": "css",
           "url": "/assetserver/d729992f1accd067e59a3e0aef7bd027c5dbf032-ag-grid-dark.css"
          }
         ],
         "type": "async_block"
        },
        "mount_callbacks": [
         "function () {\n    var handler = ((function (RowNumberRenderer,agGrid){var gridOptions={\"onCellFocused\":(function (ev){var x={}; (ev.rowIndex!==undefined) ? (x[\"rowIndex\"]=(ev.rowIndex+1)) : undefined; (ev.colDef!==undefined) ? (x[\"column\"]=ev.colDef.headerName) : undefined; return WebIO.setval({\"name\":\"onCellFocused\",\"scope\":\"12808970643626436571\",\"id\":\"10151213947527662052\",\"type\":\"observable\"},x)}),\"onCellValueChanged\":(function (){return }),\"rowSelection\":\"multiple\",\"multiSortKey\":\"ctrl\",\"columnDefs\":[{\"filter\":false,\"editable\":false,\"headerTooltip\":\"\",\"field\":\"__row__\",\"headerName\":\"Row\",\"sortable\":true,\"type\":\"numericColumn\",\"cellRenderer\":\"rowNumberRenderer\",\"resizable\":true},{\"filter\":\"agNumberColumnFilter\",\"editable\":false,\"headerTooltip\":\"Float64\",\"field\":\"sepal_length\",\"headerName\":\"sepal_length\",\"sortable\":true,\"type\":\"numericColumn\",\"resizable\":true},{\"filter\":\"agNumberColumnFilter\",\"editable\":false,\"headerTooltip\":\"Float64\",\"field\":\"sepal_width\",\"headerName\":\"sepal_width\",\"sortable\":true,\"type\":\"numericColumn\",\"resizable\":true},{\"filter\":\"agNumberColumnFilter\",\"editable\":false,\"headerTooltip\":\"Float64\",\"field\":\"petal_length\",\"headerName\":\"petal_length\",\"sortable\":true,\"type\":\"numericColumn\",\"resizable\":true},{\"filter\":\"agNumberColumnFilter\",\"editable\":false,\"headerTooltip\":\"Float64\",\"field\":\"petal_width\",\"headerName\":\"petal_width\",\"sortable\":true,\"type\":\"numericColumn\",\"resizable\":true},{\"filter\":true,\"editable\":false,\"headerTooltip\":\"String\",\"field\":\"class\",\"headerName\":\"class\",\"sortable\":true,\"type\":null,\"resizable\":true}],\"onCellDoubleClicked\":(function (ev){var x={}; (ev.rowIndex!==undefined) ? (x[\"rowIndex\"]=(ev.rowIndex+1)) : undefined; (ev.colDef!==undefined) ? (x[\"column\"]=ev.colDef.headerName) : undefined; return WebIO.setval({\"name\":\"onCellDoubleClicked\",\"scope\":\"12808970643626436571\",\"id\":\"976886556713095443\",\"type\":\"observable\"},x)}),\"onRowClicked\":(function (ev){var x={}; (ev.rowIndex!==undefined) ? (x[\"rowIndex\"]=(ev.rowIndex+1)) : undefined; (ev.colDef!==undefined) ? (x[\"column\"]=ev.colDef.headerName) : undefined; return WebIO.setval({\"name\":\"onRowClicked\",\"scope\":\"12808970643626436571\",\"id\":\"14111712387330316437\",\"type\":\"observable\"},x)}),\"onCellKeyDown\":(function (ev){var x={}; (ev.rowIndex!==undefined) ? (x[\"rowIndex\"]=(ev.rowIndex+1)) : undefined; (ev.colDef!==undefined) ? (x[\"column\"]=ev.colDef.headerName) : undefined; return WebIO.setval({\"name\":\"onCellKeyDown\",\"scope\":\"12808970643626436571\",\"id\":\"14266340231637122970\",\"type\":\"observable\"},x)}),\"rowData\":[{\"sepal_length\":5.1,\"sepal_width\":3.5,\"petal_length\":1.4,\"petal_width\":0.2,\"class\":\"Iris-setosa\"},{\"sepal_length\":4.9,\"sepal_width\":3.0,\"petal_length\":1.4,\"petal_width\":0.2,\"class\":\"Iris-setosa\"},{\"sepal_length\":4.7,\"sepal_width\":3.2,\"petal_length\":1.3,\"petal_width\":0.2,\"class\":\"Iris-setosa\"},{\"sepal_length\":4.6,\"sepal_width\":3.1,\"petal_length\":1.5,\"petal_width\":0.2,\"class\":\"Iris-setosa\"},{\"sepal_length\":5.0,\"sepal_width\":3.6,\"petal_length\":1.4,\"petal_width\":0.2,\"class\":\"Iris-setosa\"},{\"sepal_length\":5.4,\"sepal_width\":3.9,\"petal_length\":1.7,\"petal_width\":0.4,\"class\":\"Iris-setosa\"},{\"sepal_length\":4.6,\"sepal_width\":3.4,\"petal_length\":1.4,\"petal_width\":0.3,\"class\":\"Iris-setosa\"},{\"sepal_length\":5.0,\"sepal_width\":3.4,\"petal_length\":1.5,\"petal_width\":0.2,\"class\":\"Iris-setosa\"},{\"sepal_length\":4.4,\"sepal_width\":2.9,\"petal_length\":1.4,\"petal_width\":0.2,\"class\":\"Iris-setosa\"},{\"sepal_length\":4.9,\"sepal_width\":3.1,\"petal_length\":1.5,\"petal_width\":0.1,\"class\":\"Iris-setosa\"},{\"sepal_length\":5.4,\"sepal_width\":3.7,\"petal_length\":1.5,\"petal_width\":0.2,\"class\":\"Iris-setosa\"},{\"sepal_length\":4.8,\"sepal_width\":3.4,\"petal_length\":1.6,\"petal_width\":0.2,\"class\":\"Iris-setosa\"},{\"sepal_length\":4.8,\"sepal_width\":3.0,\"petal_length\":1.4,\"petal_width\":0.1,\"class\":\"Iris-setosa\"},{\"sepal_length\":4.3,\"sepal_width\":3.0,\"petal_length\":1.1,\"petal_width\":0.1,\"class\":\"Iris-setosa\"},{\"sepal_length\":5.8,\"sepal_width\":4.0,\"petal_length\":1.2,\"petal_width\":0.2,\"class\":\"Iris-setosa\"},{\"sepal_length\":5.7,\"sepal_width\":4.4,\"petal_length\":1.5,\"petal_width\":0.4,\"class\":\"Iris-setosa\"},{\"sepal_length\":5.4,\"sepal_width\":3.9,\"petal_length\":1.3,\"petal_width\":0.4,\"class\":\"Iris-setosa\"},{\"sepal_length\":5.1,\"sepal_width\":3.5,\"petal_length\":1.4,\"petal_width\":0.3,\"class\":\"Iris-setosa\"},{\"sepal_length\":5.7,\"sepal_width\":3.8,\"petal_length\":1.7,\"petal_width\":0.3,\"class\":\"Iris-setosa\"},{\"sepal_length\":5.1,\"sepal_width\":3.8,\"petal_length\":1.5,\"petal_width\":0.3,\"class\":\"Iris-setosa\"},{\"sepal_length\":5.4,\"sepal_width\":3.4,\"petal_length\":1.7,\"petal_width\":0.2,\"class\":\"Iris-setosa\"},{\"sepal_length\":5.1,\"sepal_width\":3.7,\"petal_length\":1.5,\"petal_width\":0.4,\"class\":\"Iris-setosa\"},{\"sepal_length\":4.6,\"sepal_width\":3.6,\"petal_length\":1.0,\"petal_width\":0.2,\"class\":\"Iris-setosa\"},{\"sepal_length\":5.1,\"sepal_width\":3.3,\"petal_length\":1.7,\"petal_width\":0.5,\"class\":\"Iris-setosa\"},{\"sepal_length\":4.8,\"sepal_width\":3.4,\"petal_length\":1.9,\"petal_width\":0.2,\"class\":\"Iris-setosa\"},{\"sepal_length\":5.0,\"sepal_width\":3.0,\"petal_length\":1.6,\"petal_width\":0.2,\"class\":\"Iris-setosa\"},{\"sepal_length\":5.0,\"sepal_width\":3.4,\"petal_length\":1.6,\"petal_width\":0.4,\"class\":\"Iris-setosa\"},{\"sepal_length\":5.2,\"sepal_width\":3.5,\"petal_length\":1.5,\"petal_width\":0.2,\"class\":\"Iris-setosa\"},{\"sepal_length\":5.2,\"sepal_width\":3.4,\"petal_length\":1.4,\"petal_width\":0.2,\"class\":\"Iris-setosa\"},{\"sepal_length\":4.7,\"sepal_width\":3.2,\"petal_length\":1.6,\"petal_width\":0.2,\"class\":\"Iris-setosa\"},{\"sepal_length\":4.8,\"sepal_width\":3.1,\"petal_length\":1.6,\"petal_width\":0.2,\"class\":\"Iris-setosa\"},{\"sepal_length\":5.4,\"sepal_width\":3.4,\"petal_length\":1.5,\"petal_width\":0.4,\"class\":\"Iris-setosa\"},{\"sepal_length\":5.2,\"sepal_width\":4.1,\"petal_length\":1.5,\"petal_width\":0.1,\"class\":\"Iris-setosa\"},{\"sepal_length\":5.5,\"sepal_width\":4.2,\"petal_length\":1.4,\"petal_width\":0.2,\"class\":\"Iris-setosa\"},{\"sepal_length\":4.9,\"sepal_width\":3.1,\"petal_length\":1.5,\"petal_width\":0.1,\"class\":\"Iris-setosa\"},{\"sepal_length\":5.0,\"sepal_width\":3.2,\"petal_length\":1.2,\"petal_width\":0.2,\"class\":\"Iris-setosa\"},{\"sepal_length\":5.5,\"sepal_width\":3.5,\"petal_length\":1.3,\"petal_width\":0.2,\"class\":\"Iris-setosa\"},{\"sepal_length\":4.9,\"sepal_width\":3.1,\"petal_length\":1.5,\"petal_width\":0.1,\"class\":\"Iris-setosa\"},{\"sepal_length\":4.4,\"sepal_width\":3.0,\"petal_length\":1.3,\"petal_width\":0.2,\"class\":\"Iris-setosa\"},{\"sepal_length\":5.1,\"sepal_width\":3.4,\"petal_length\":1.5,\"petal_width\":0.2,\"class\":\"Iris-setosa\"},{\"sepal_length\":5.0,\"sepal_width\":3.5,\"petal_length\":1.3,\"petal_width\":0.3,\"class\":\"Iris-setosa\"},{\"sepal_length\":4.5,\"sepal_width\":2.3,\"petal_length\":1.3,\"petal_width\":0.3,\"class\":\"Iris-setosa\"},{\"sepal_length\":4.4,\"sepal_width\":3.2,\"petal_length\":1.3,\"petal_width\":0.2,\"class\":\"Iris-setosa\"},{\"sepal_length\":5.0,\"sepal_width\":3.5,\"petal_length\":1.6,\"petal_width\":0.6,\"class\":\"Iris-setosa\"},{\"sepal_length\":5.1,\"sepal_width\":3.8,\"petal_length\":1.9,\"petal_width\":0.4,\"class\":\"Iris-setosa\"},{\"sepal_length\":4.8,\"sepal_width\":3.0,\"petal_length\":1.4,\"petal_width\":0.3,\"class\":\"Iris-setosa\"},{\"sepal_length\":5.1,\"sepal_width\":3.8,\"petal_length\":1.6,\"petal_width\":0.2,\"class\":\"Iris-setosa\"},{\"sepal_length\":4.6,\"sepal_width\":3.2,\"petal_length\":1.4,\"petal_width\":0.2,\"class\":\"Iris-setosa\"},{\"sepal_length\":5.3,\"sepal_width\":3.7,\"petal_length\":1.5,\"petal_width\":0.2,\"class\":\"Iris-setosa\"},{\"sepal_length\":5.0,\"sepal_width\":3.3,\"petal_length\":1.4,\"petal_width\":0.2,\"class\":\"Iris-setosa\"},{\"sepal_length\":7.0,\"sepal_width\":3.2,\"petal_length\":4.7,\"petal_width\":1.4,\"class\":\"Iris-versicolor\"},{\"sepal_length\":6.4,\"sepal_width\":3.2,\"petal_length\":4.5,\"petal_width\":1.5,\"class\":\"Iris-versicolor\"},{\"sepal_length\":6.9,\"sepal_width\":3.1,\"petal_length\":4.9,\"petal_width\":1.5,\"class\":\"Iris-versicolor\"},{\"sepal_length\":5.5,\"sepal_width\":2.3,\"petal_length\":4.0,\"petal_width\":1.3,\"class\":\"Iris-versicolor\"},{\"sepal_length\":6.5,\"sepal_width\":2.8,\"petal_length\":4.6,\"petal_width\":1.5,\"class\":\"Iris-versicolor\"},{\"sepal_length\":5.7,\"sepal_width\":2.8,\"petal_length\":4.5,\"petal_width\":1.3,\"class\":\"Iris-versicolor\"},{\"sepal_length\":6.3,\"sepal_width\":3.3,\"petal_length\":4.7,\"petal_width\":1.6,\"class\":\"Iris-versicolor\"},{\"sepal_length\":4.9,\"sepal_width\":2.4,\"petal_length\":3.3,\"petal_width\":1.0,\"class\":\"Iris-versicolor\"},{\"sepal_length\":6.6,\"sepal_width\":2.9,\"petal_length\":4.6,\"petal_width\":1.3,\"class\":\"Iris-versicolor\"},{\"sepal_length\":5.2,\"sepal_width\":2.7,\"petal_length\":3.9,\"petal_width\":1.4,\"class\":\"Iris-versicolor\"},{\"sepal_length\":5.0,\"sepal_width\":2.0,\"petal_length\":3.5,\"petal_width\":1.0,\"class\":\"Iris-versicolor\"},{\"sepal_length\":5.9,\"sepal_width\":3.0,\"petal_length\":4.2,\"petal_width\":1.5,\"class\":\"Iris-versicolor\"},{\"sepal_length\":6.0,\"sepal_width\":2.2,\"petal_length\":4.0,\"petal_width\":1.0,\"class\":\"Iris-versicolor\"},{\"sepal_length\":6.1,\"sepal_width\":2.9,\"petal_length\":4.7,\"petal_width\":1.4,\"class\":\"Iris-versicolor\"},{\"sepal_length\":5.6,\"sepal_width\":2.9,\"petal_length\":3.6,\"petal_width\":1.3,\"class\":\"Iris-versicolor\"},{\"sepal_length\":6.7,\"sepal_width\":3.1,\"petal_length\":4.4,\"petal_width\":1.4,\"class\":\"Iris-versicolor\"},{\"sepal_length\":5.6,\"sepal_width\":3.0,\"petal_length\":4.5,\"petal_width\":1.5,\"class\":\"Iris-versicolor\"},{\"sepal_length\":5.8,\"sepal_width\":2.7,\"petal_length\":4.1,\"petal_width\":1.0,\"class\":\"Iris-versicolor\"},{\"sepal_length\":6.2,\"sepal_width\":2.2,\"petal_length\":4.5,\"petal_width\":1.5,\"class\":\"Iris-versicolor\"},{\"sepal_length\":5.6,\"sepal_width\":2.5,\"petal_length\":3.9,\"petal_width\":1.1,\"class\":\"Iris-versicolor\"},{\"sepal_length\":5.9,\"sepal_width\":3.2,\"petal_length\":4.8,\"petal_width\":1.8,\"class\":\"Iris-versicolor\"},{\"sepal_length\":6.1,\"sepal_width\":2.8,\"petal_length\":4.0,\"petal_width\":1.3,\"class\":\"Iris-versicolor\"},{\"sepal_length\":6.3,\"sepal_width\":2.5,\"petal_length\":4.9,\"petal_width\":1.5,\"class\":\"Iris-versicolor\"},{\"sepal_length\":6.1,\"sepal_width\":2.8,\"petal_length\":4.7,\"petal_width\":1.2,\"class\":\"Iris-versicolor\"},{\"sepal_length\":6.4,\"sepal_width\":2.9,\"petal_length\":4.3,\"petal_width\":1.3,\"class\":\"Iris-versicolor\"},{\"sepal_length\":6.6,\"sepal_width\":3.0,\"petal_length\":4.4,\"petal_width\":1.4,\"class\":\"Iris-versicolor\"},{\"sepal_length\":6.8,\"sepal_width\":2.8,\"petal_length\":4.8,\"petal_width\":1.4,\"class\":\"Iris-versicolor\"},{\"sepal_length\":6.7,\"sepal_width\":3.0,\"petal_length\":5.0,\"petal_width\":1.7,\"class\":\"Iris-versicolor\"},{\"sepal_length\":6.0,\"sepal_width\":2.9,\"petal_length\":4.5,\"petal_width\":1.5,\"class\":\"Iris-versicolor\"},{\"sepal_length\":5.7,\"sepal_width\":2.6,\"petal_length\":3.5,\"petal_width\":1.0,\"class\":\"Iris-versicolor\"},{\"sepal_length\":5.5,\"sepal_width\":2.4,\"petal_length\":3.8,\"petal_width\":1.1,\"class\":\"Iris-versicolor\"},{\"sepal_length\":5.5,\"sepal_width\":2.4,\"petal_length\":3.7,\"petal_width\":1.0,\"class\":\"Iris-versicolor\"},{\"sepal_length\":5.8,\"sepal_width\":2.7,\"petal_length\":3.9,\"petal_width\":1.2,\"class\":\"Iris-versicolor\"},{\"sepal_length\":6.0,\"sepal_width\":2.7,\"petal_length\":5.1,\"petal_width\":1.6,\"class\":\"Iris-versicolor\"},{\"sepal_length\":5.4,\"sepal_width\":3.0,\"petal_length\":4.5,\"petal_width\":1.5,\"class\":\"Iris-versicolor\"},{\"sepal_length\":6.0,\"sepal_width\":3.4,\"petal_length\":4.5,\"petal_width\":1.6,\"class\":\"Iris-versicolor\"},{\"sepal_length\":6.7,\"sepal_width\":3.1,\"petal_length\":4.7,\"petal_width\":1.5,\"class\":\"Iris-versicolor\"},{\"sepal_length\":6.3,\"sepal_width\":2.3,\"petal_length\":4.4,\"petal_width\":1.3,\"class\":\"Iris-versicolor\"},{\"sepal_length\":5.6,\"sepal_width\":3.0,\"petal_length\":4.1,\"petal_width\":1.3,\"class\":\"Iris-versicolor\"},{\"sepal_length\":5.5,\"sepal_width\":2.5,\"petal_length\":4.0,\"petal_width\":1.3,\"class\":\"Iris-versicolor\"},{\"sepal_length\":5.5,\"sepal_width\":2.6,\"petal_length\":4.4,\"petal_width\":1.2,\"class\":\"Iris-versicolor\"},{\"sepal_length\":6.1,\"sepal_width\":3.0,\"petal_length\":4.6,\"petal_width\":1.4,\"class\":\"Iris-versicolor\"},{\"sepal_length\":5.8,\"sepal_width\":2.6,\"petal_length\":4.0,\"petal_width\":1.2,\"class\":\"Iris-versicolor\"},{\"sepal_length\":5.0,\"sepal_width\":2.3,\"petal_length\":3.3,\"petal_width\":1.0,\"class\":\"Iris-versicolor\"},{\"sepal_length\":5.6,\"sepal_width\":2.7,\"petal_length\":4.2,\"petal_width\":1.3,\"class\":\"Iris-versicolor\"},{\"sepal_length\":5.7,\"sepal_width\":3.0,\"petal_length\":4.2,\"petal_width\":1.2,\"class\":\"Iris-versicolor\"},{\"sepal_length\":5.7,\"sepal_width\":2.9,\"petal_length\":4.2,\"petal_width\":1.3,\"class\":\"Iris-versicolor\"},{\"sepal_length\":6.2,\"sepal_width\":2.9,\"petal_length\":4.3,\"petal_width\":1.3,\"class\":\"Iris-versicolor\"},{\"sepal_length\":5.1,\"sepal_width\":2.5,\"petal_length\":3.0,\"petal_width\":1.1,\"class\":\"Iris-versicolor\"},{\"sepal_length\":5.7,\"sepal_width\":2.8,\"petal_length\":4.1,\"petal_width\":1.3,\"class\":\"Iris-versicolor\"},{\"sepal_length\":6.3,\"sepal_width\":3.3,\"petal_length\":6.0,\"petal_width\":2.5,\"class\":\"Iris-virginica\"},{\"sepal_length\":5.8,\"sepal_width\":2.7,\"petal_length\":5.1,\"petal_width\":1.9,\"class\":\"Iris-virginica\"},{\"sepal_length\":7.1,\"sepal_width\":3.0,\"petal_length\":5.9,\"petal_width\":2.1,\"class\":\"Iris-virginica\"},{\"sepal_length\":6.3,\"sepal_width\":2.9,\"petal_length\":5.6,\"petal_width\":1.8,\"class\":\"Iris-virginica\"},{\"sepal_length\":6.5,\"sepal_width\":3.0,\"petal_length\":5.8,\"petal_width\":2.2,\"class\":\"Iris-virginica\"},{\"sepal_length\":7.6,\"sepal_width\":3.0,\"petal_length\":6.6,\"petal_width\":2.1,\"class\":\"Iris-virginica\"},{\"sepal_length\":4.9,\"sepal_width\":2.5,\"petal_length\":4.5,\"petal_width\":1.7,\"class\":\"Iris-virginica\"},{\"sepal_length\":7.3,\"sepal_width\":2.9,\"petal_length\":6.3,\"petal_width\":1.8,\"class\":\"Iris-virginica\"},{\"sepal_length\":6.7,\"sepal_width\":2.5,\"petal_length\":5.8,\"petal_width\":1.8,\"class\":\"Iris-virginica\"},{\"sepal_length\":7.2,\"sepal_width\":3.6,\"petal_length\":6.1,\"petal_width\":2.5,\"class\":\"Iris-virginica\"},{\"sepal_length\":6.5,\"sepal_width\":3.2,\"petal_length\":5.1,\"petal_width\":2.0,\"class\":\"Iris-virginica\"},{\"sepal_length\":6.4,\"sepal_width\":2.7,\"petal_length\":5.3,\"petal_width\":1.9,\"class\":\"Iris-virginica\"},{\"sepal_length\":6.8,\"sepal_width\":3.0,\"petal_length\":5.5,\"petal_width\":2.1,\"class\":\"Iris-virginica\"},{\"sepal_length\":5.7,\"sepal_width\":2.5,\"petal_length\":5.0,\"petal_width\":2.0,\"class\":\"Iris-virginica\"},{\"sepal_length\":5.8,\"sepal_width\":2.8,\"petal_length\":5.1,\"petal_width\":2.4,\"class\":\"Iris-virginica\"},{\"sepal_length\":6.4,\"sepal_width\":3.2,\"petal_length\":5.3,\"petal_width\":2.3,\"class\":\"Iris-virginica\"},{\"sepal_length\":6.5,\"sepal_width\":3.0,\"petal_length\":5.5,\"petal_width\":1.8,\"class\":\"Iris-virginica\"},{\"sepal_length\":7.7,\"sepal_width\":3.8,\"petal_length\":6.7,\"petal_width\":2.2,\"class\":\"Iris-virginica\"},{\"sepal_length\":7.7,\"sepal_width\":2.6,\"petal_length\":6.9,\"petal_width\":2.3,\"class\":\"Iris-virginica\"},{\"sepal_length\":6.0,\"sepal_width\":2.2,\"petal_length\":5.0,\"petal_width\":1.5,\"class\":\"Iris-virginica\"},{\"sepal_length\":6.9,\"sepal_width\":3.2,\"petal_length\":5.7,\"petal_width\":2.3,\"class\":\"Iris-virginica\"},{\"sepal_length\":5.6,\"sepal_width\":2.8,\"petal_length\":4.9,\"petal_width\":2.0,\"class\":\"Iris-virginica\"},{\"sepal_length\":7.7,\"sepal_width\":2.8,\"petal_length\":6.7,\"petal_width\":2.0,\"class\":\"Iris-virginica\"},{\"sepal_length\":6.3,\"sepal_width\":2.7,\"petal_length\":4.9,\"petal_width\":1.8,\"class\":\"Iris-virginica\"},{\"sepal_length\":6.7,\"sepal_width\":3.3,\"petal_length\":5.7,\"petal_width\":2.1,\"class\":\"Iris-virginica\"},{\"sepal_length\":7.2,\"sepal_width\":3.2,\"petal_length\":6.0,\"petal_width\":1.8,\"class\":\"Iris-virginica\"},{\"sepal_length\":6.2,\"sepal_width\":2.8,\"petal_length\":4.8,\"petal_width\":1.8,\"class\":\"Iris-virginica\"},{\"sepal_length\":6.1,\"sepal_width\":3.0,\"petal_length\":4.9,\"petal_width\":1.8,\"class\":\"Iris-virginica\"},{\"sepal_length\":6.4,\"sepal_width\":2.8,\"petal_length\":5.6,\"petal_width\":2.1,\"class\":\"Iris-virginica\"},{\"sepal_length\":7.2,\"sepal_width\":3.0,\"petal_length\":5.8,\"petal_width\":1.6,\"class\":\"Iris-virginica\"},{\"sepal_length\":7.4,\"sepal_width\":2.8,\"petal_length\":6.1,\"petal_width\":1.9,\"class\":\"Iris-virginica\"},{\"sepal_length\":7.9,\"sepal_width\":3.8,\"petal_length\":6.4,\"petal_width\":2.0,\"class\":\"Iris-virginica\"},{\"sepal_length\":6.4,\"sepal_width\":2.8,\"petal_length\":5.6,\"petal_width\":2.2,\"class\":\"Iris-virginica\"},{\"sepal_length\":6.3,\"sepal_width\":2.8,\"petal_length\":5.1,\"petal_width\":1.5,\"class\":\"Iris-virginica\"},{\"sepal_length\":6.1,\"sepal_width\":2.6,\"petal_length\":5.6,\"petal_width\":1.4,\"class\":\"Iris-virginica\"},{\"sepal_length\":7.7,\"sepal_width\":3.0,\"petal_length\":6.1,\"petal_width\":2.3,\"class\":\"Iris-virginica\"},{\"sepal_length\":6.3,\"sepal_width\":3.4,\"petal_length\":5.6,\"petal_width\":2.4,\"class\":\"Iris-virginica\"},{\"sepal_length\":6.4,\"sepal_width\":3.1,\"petal_length\":5.5,\"petal_width\":1.8,\"class\":\"Iris-virginica\"},{\"sepal_length\":6.0,\"sepal_width\":3.0,\"petal_length\":4.8,\"petal_width\":1.8,\"class\":\"Iris-virginica\"},{\"sepal_length\":6.9,\"sepal_width\":3.1,\"petal_length\":5.4,\"petal_width\":2.1,\"class\":\"Iris-virginica\"},{\"sepal_length\":6.7,\"sepal_width\":3.1,\"petal_length\":5.6,\"petal_width\":2.4,\"class\":\"Iris-virginica\"},{\"sepal_length\":6.9,\"sepal_width\":3.1,\"petal_length\":5.1,\"petal_width\":2.3,\"class\":\"Iris-virginica\"},{\"sepal_length\":5.8,\"sepal_width\":2.7,\"petal_length\":5.1,\"petal_width\":1.9,\"class\":\"Iris-virginica\"},{\"sepal_length\":6.8,\"sepal_width\":3.2,\"petal_length\":5.9,\"petal_width\":2.3,\"class\":\"Iris-virginica\"},{\"sepal_length\":6.7,\"sepal_width\":3.3,\"petal_length\":5.7,\"petal_width\":2.5,\"class\":\"Iris-virginica\"},{\"sepal_length\":6.7,\"sepal_width\":3.0,\"petal_length\":5.2,\"petal_width\":2.3,\"class\":\"Iris-virginica\"},{\"sepal_length\":6.3,\"sepal_width\":2.5,\"petal_length\":5.0,\"petal_width\":1.9,\"class\":\"Iris-virginica\"},{\"sepal_length\":6.5,\"sepal_width\":3.0,\"petal_length\":5.2,\"petal_width\":2.0,\"class\":\"Iris-virginica\"},{\"sepal_length\":6.2,\"sepal_width\":3.4,\"petal_length\":5.4,\"petal_width\":2.3,\"class\":\"Iris-virginica\"},{\"sepal_length\":5.9,\"sepal_width\":3.0,\"petal_length\":5.1,\"petal_width\":1.8,\"class\":\"Iris-virginica\"}],\"onCellClicked\":(function (ev){var x={}; (ev.rowIndex!==undefined) ? (x[\"rowIndex\"]=(ev.rowIndex+1)) : undefined; (ev.colDef!==undefined) ? (x[\"column\"]=ev.colDef.headerName) : undefined; return WebIO.setval({\"name\":\"onCellClicked\",\"scope\":\"12808970643626436571\",\"id\":\"7874171459477235224\",\"type\":\"observable\"},x)})}; var el=document.getElementById(\"grid-ff0c5e1c\"); gridOptions.components={\"rowNumberRenderer\":RowNumberRenderer}; false ? (agGrid.LicenseManager.setLicenseKey(null)) : undefined; this.table=new agGrid.Grid(el,gridOptions); return gridOptions.columnApi.autoSizeAllColumns()}));\n    (WebIO.importBlock({\"data\":[{\"name\":null,\"type\":\"js\",\"url\":\"/assetserver/ff7cedeb3c0be1fe3b78420e39e5831529252e27-rowNumberRenderer.js\"},{\"name\":null,\"type\":\"js\",\"url\":\"/assetserver/bd0edaba5158ded95855aef34fd8f3dd96ae49fb-ag-grid.js\"},{\"name\":null,\"type\":\"css\",\"url\":\"/assetserver/77a698eb508b878c6fc123d504f8b478c0953d4e-ag-grid.css\"},{\"name\":null,\"type\":\"css\",\"url\":\"/assetserver/e32886774615890ea3135fc2948c5a5d84679ad0-ag-grid-light.css\"},{\"name\":null,\"type\":\"css\",\"url\":\"/assetserver/d729992f1accd067e59a3e0aef7bd027c5dbf032-ag-grid-dark.css\"}],\"type\":\"async_block\"})).then((imports) => handler.apply(this, imports));\n}\n"
        ],
        "observables": {
         "onCellClicked": {
          "id": "7874171459477235224",
          "sync": false,
          "value": null
         },
         "onCellDoubleClicked": {
          "id": "976886556713095443",
          "sync": false,
          "value": null
         },
         "onCellFocused": {
          "id": "10151213947527662052",
          "sync": false,
          "value": null
         },
         "onCellKeyDown": {
          "id": "14266340231637122970",
          "sync": false,
          "value": null
         },
         "onRowClicked": {
          "id": "14111712387330316437",
          "sync": false,
          "value": null
         }
        },
        "systemjs_options": null
       },
       "nodeType": "Scope",
       "props": {},
       "type": "node"
      },
      "text/html": [
       "<div\n",
       "    class=\"webio-mountpoint\"\n",
       "    data-webio-mountpoint=\"12121906616143962854\"\n",
       ">\n",
       "    <script>\n",
       "    (function(){\n",
       "    // Some integrations (namely, IJulia/Jupyter) use an alternate render pathway than\n",
       "    // just putting the html on the page. If WebIO isn't defined, then it's pretty likely\n",
       "    // that we're in one of those situations and the integration just isn't installed\n",
       "    // correctly.\n",
       "    if (typeof window.WebIO === \"undefined\") {\n",
       "        document\n",
       "            .querySelector('[data-webio-mountpoint=\"12121906616143962854\"]')\n",
       "            .innerHTML = (\n",
       "                '<div style=\"padding: 1em; background-color: #f8d6da; border: 1px solid #f5c6cb; font-weight: bold;\">' +\n",
       "                '<p><strong>WebIO not detected.</strong></p>' +\n",
       "                '<p>Please read ' +\n",
       "                '<a href=\"https://juliagizmos.github.io/WebIO.jl/latest/troubleshooting/not-detected/\" target=\"_blank\">the troubleshooting guide</a> ' +\n",
       "                'for more information on how to resolve this issue.</p>' +\n",
       "                '<p><a href=\"https://juliagizmos.github.io/WebIO.jl/latest/troubleshooting/not-detected/\" target=\"_blank\">https://juliagizmos.github.io/WebIO.jl/latest/troubleshooting/not-detected/</a></p>' +\n",
       "                '</div>'\n",
       "            );\n",
       "        return;\n",
       "    }\n",
       "    WebIO.mount(\n",
       "        document.querySelector('[data-webio-mountpoint=\"12121906616143962854\"]'),\n",
       "        {\"props\":{},\"nodeType\":\"Scope\",\"type\":\"node\",\"instanceArgs\":{\"imports\":{\"data\":[{\"name\":null,\"type\":\"js\",\"url\":\"\\/assetserver\\/ff7cedeb3c0be1fe3b78420e39e5831529252e27-rowNumberRenderer.js\"},{\"name\":null,\"type\":\"js\",\"url\":\"\\/assetserver\\/bd0edaba5158ded95855aef34fd8f3dd96ae49fb-ag-grid.js\"},{\"name\":null,\"type\":\"css\",\"url\":\"\\/assetserver\\/77a698eb508b878c6fc123d504f8b478c0953d4e-ag-grid.css\"},{\"name\":null,\"type\":\"css\",\"url\":\"\\/assetserver\\/e32886774615890ea3135fc2948c5a5d84679ad0-ag-grid-light.css\"},{\"name\":null,\"type\":\"css\",\"url\":\"\\/assetserver\\/d729992f1accd067e59a3e0aef7bd027c5dbf032-ag-grid-dark.css\"}],\"type\":\"async_block\"},\"id\":\"12808970643626436571\",\"handlers\":{},\"systemjs_options\":null,\"mount_callbacks\":[\"function () {\\n    var handler = ((function (RowNumberRenderer,agGrid){var gridOptions={\\\"onCellFocused\\\":(function (ev){var x={}; (ev.rowIndex!==undefined) ? (x[\\\"rowIndex\\\"]=(ev.rowIndex+1)) : undefined; (ev.colDef!==undefined) ? (x[\\\"column\\\"]=ev.colDef.headerName) : undefined; return WebIO.setval({\\\"name\\\":\\\"onCellFocused\\\",\\\"scope\\\":\\\"12808970643626436571\\\",\\\"id\\\":\\\"10151213947527662052\\\",\\\"type\\\":\\\"observable\\\"},x)}),\\\"onCellValueChanged\\\":(function (){return }),\\\"rowSelection\\\":\\\"multiple\\\",\\\"multiSortKey\\\":\\\"ctrl\\\",\\\"columnDefs\\\":[{\\\"filter\\\":false,\\\"editable\\\":false,\\\"headerTooltip\\\":\\\"\\\",\\\"field\\\":\\\"__row__\\\",\\\"headerName\\\":\\\"Row\\\",\\\"sortable\\\":true,\\\"type\\\":\\\"numericColumn\\\",\\\"cellRenderer\\\":\\\"rowNumberRenderer\\\",\\\"resizable\\\":true},{\\\"filter\\\":\\\"agNumberColumnFilter\\\",\\\"editable\\\":false,\\\"headerTooltip\\\":\\\"Float64\\\",\\\"field\\\":\\\"sepal_length\\\",\\\"headerName\\\":\\\"sepal_length\\\",\\\"sortable\\\":true,\\\"type\\\":\\\"numericColumn\\\",\\\"resizable\\\":true},{\\\"filter\\\":\\\"agNumberColumnFilter\\\",\\\"editable\\\":false,\\\"headerTooltip\\\":\\\"Float64\\\",\\\"field\\\":\\\"sepal_width\\\",\\\"headerName\\\":\\\"sepal_width\\\",\\\"sortable\\\":true,\\\"type\\\":\\\"numericColumn\\\",\\\"resizable\\\":true},{\\\"filter\\\":\\\"agNumberColumnFilter\\\",\\\"editable\\\":false,\\\"headerTooltip\\\":\\\"Float64\\\",\\\"field\\\":\\\"petal_length\\\",\\\"headerName\\\":\\\"petal_length\\\",\\\"sortable\\\":true,\\\"type\\\":\\\"numericColumn\\\",\\\"resizable\\\":true},{\\\"filter\\\":\\\"agNumberColumnFilter\\\",\\\"editable\\\":false,\\\"headerTooltip\\\":\\\"Float64\\\",\\\"field\\\":\\\"petal_width\\\",\\\"headerName\\\":\\\"petal_width\\\",\\\"sortable\\\":true,\\\"type\\\":\\\"numericColumn\\\",\\\"resizable\\\":true},{\\\"filter\\\":true,\\\"editable\\\":false,\\\"headerTooltip\\\":\\\"String\\\",\\\"field\\\":\\\"class\\\",\\\"headerName\\\":\\\"class\\\",\\\"sortable\\\":true,\\\"type\\\":null,\\\"resizable\\\":true}],\\\"onCellDoubleClicked\\\":(function (ev){var x={}; (ev.rowIndex!==undefined) ? (x[\\\"rowIndex\\\"]=(ev.rowIndex+1)) : undefined; (ev.colDef!==undefined) ? (x[\\\"column\\\"]=ev.colDef.headerName) : undefined; return WebIO.setval({\\\"name\\\":\\\"onCellDoubleClicked\\\",\\\"scope\\\":\\\"12808970643626436571\\\",\\\"id\\\":\\\"976886556713095443\\\",\\\"type\\\":\\\"observable\\\"},x)}),\\\"onRowClicked\\\":(function (ev){var x={}; (ev.rowIndex!==undefined) ? (x[\\\"rowIndex\\\"]=(ev.rowIndex+1)) : undefined; (ev.colDef!==undefined) ? (x[\\\"column\\\"]=ev.colDef.headerName) : undefined; return WebIO.setval({\\\"name\\\":\\\"onRowClicked\\\",\\\"scope\\\":\\\"12808970643626436571\\\",\\\"id\\\":\\\"14111712387330316437\\\",\\\"type\\\":\\\"observable\\\"},x)}),\\\"onCellKeyDown\\\":(function (ev){var x={}; (ev.rowIndex!==undefined) ? (x[\\\"rowIndex\\\"]=(ev.rowIndex+1)) : undefined; (ev.colDef!==undefined) ? (x[\\\"column\\\"]=ev.colDef.headerName) : undefined; return WebIO.setval({\\\"name\\\":\\\"onCellKeyDown\\\",\\\"scope\\\":\\\"12808970643626436571\\\",\\\"id\\\":\\\"14266340231637122970\\\",\\\"type\\\":\\\"observable\\\"},x)}),\\\"rowData\\\":[{\\\"sepal_length\\\":5.1,\\\"sepal_width\\\":3.5,\\\"petal_length\\\":1.4,\\\"petal_width\\\":0.2,\\\"class\\\":\\\"Iris-setosa\\\"},{\\\"sepal_length\\\":4.9,\\\"sepal_width\\\":3.0,\\\"petal_length\\\":1.4,\\\"petal_width\\\":0.2,\\\"class\\\":\\\"Iris-setosa\\\"},{\\\"sepal_length\\\":4.7,\\\"sepal_width\\\":3.2,\\\"petal_length\\\":1.3,\\\"petal_width\\\":0.2,\\\"class\\\":\\\"Iris-setosa\\\"},{\\\"sepal_length\\\":4.6,\\\"sepal_width\\\":3.1,\\\"petal_length\\\":1.5,\\\"petal_width\\\":0.2,\\\"class\\\":\\\"Iris-setosa\\\"},{\\\"sepal_length\\\":5.0,\\\"sepal_width\\\":3.6,\\\"petal_length\\\":1.4,\\\"petal_width\\\":0.2,\\\"class\\\":\\\"Iris-setosa\\\"},{\\\"sepal_length\\\":5.4,\\\"sepal_width\\\":3.9,\\\"petal_length\\\":1.7,\\\"petal_width\\\":0.4,\\\"class\\\":\\\"Iris-setosa\\\"},{\\\"sepal_length\\\":4.6,\\\"sepal_width\\\":3.4,\\\"petal_length\\\":1.4,\\\"petal_width\\\":0.3,\\\"class\\\":\\\"Iris-setosa\\\"},{\\\"sepal_length\\\":5.0,\\\"sepal_width\\\":3.4,\\\"petal_length\\\":1.5,\\\"petal_width\\\":0.2,\\\"class\\\":\\\"Iris-setosa\\\"},{\\\"sepal_length\\\":4.4,\\\"sepal_width\\\":2.9,\\\"petal_length\\\":1.4,\\\"petal_width\\\":0.2,\\\"class\\\":\\\"Iris-setosa\\\"},{\\\"sepal_length\\\":4.9,\\\"sepal_width\\\":3.1,\\\"petal_length\\\":1.5,\\\"petal_width\\\":0.1,\\\"class\\\":\\\"Iris-setosa\\\"},{\\\"sepal_length\\\":5.4,\\\"sepal_width\\\":3.7,\\\"petal_length\\\":1.5,\\\"petal_width\\\":0.2,\\\"class\\\":\\\"Iris-setosa\\\"},{\\\"sepal_length\\\":4.8,\\\"sepal_width\\\":3.4,\\\"petal_length\\\":1.6,\\\"petal_width\\\":0.2,\\\"class\\\":\\\"Iris-setosa\\\"},{\\\"sepal_length\\\":4.8,\\\"sepal_width\\\":3.0,\\\"petal_length\\\":1.4,\\\"petal_width\\\":0.1,\\\"class\\\":\\\"Iris-setosa\\\"},{\\\"sepal_length\\\":4.3,\\\"sepal_width\\\":3.0,\\\"petal_length\\\":1.1,\\\"petal_width\\\":0.1,\\\"class\\\":\\\"Iris-setosa\\\"},{\\\"sepal_length\\\":5.8,\\\"sepal_width\\\":4.0,\\\"petal_length\\\":1.2,\\\"petal_width\\\":0.2,\\\"class\\\":\\\"Iris-setosa\\\"},{\\\"sepal_length\\\":5.7,\\\"sepal_width\\\":4.4,\\\"petal_length\\\":1.5,\\\"petal_width\\\":0.4,\\\"class\\\":\\\"Iris-setosa\\\"},{\\\"sepal_length\\\":5.4,\\\"sepal_width\\\":3.9,\\\"petal_length\\\":1.3,\\\"petal_width\\\":0.4,\\\"class\\\":\\\"Iris-setosa\\\"},{\\\"sepal_length\\\":5.1,\\\"sepal_width\\\":3.5,\\\"petal_length\\\":1.4,\\\"petal_width\\\":0.3,\\\"class\\\":\\\"Iris-setosa\\\"},{\\\"sepal_length\\\":5.7,\\\"sepal_width\\\":3.8,\\\"petal_length\\\":1.7,\\\"petal_width\\\":0.3,\\\"class\\\":\\\"Iris-setosa\\\"},{\\\"sepal_length\\\":5.1,\\\"sepal_width\\\":3.8,\\\"petal_length\\\":1.5,\\\"petal_width\\\":0.3,\\\"class\\\":\\\"Iris-setosa\\\"},{\\\"sepal_length\\\":5.4,\\\"sepal_width\\\":3.4,\\\"petal_length\\\":1.7,\\\"petal_width\\\":0.2,\\\"class\\\":\\\"Iris-setosa\\\"},{\\\"sepal_length\\\":5.1,\\\"sepal_width\\\":3.7,\\\"petal_length\\\":1.5,\\\"petal_width\\\":0.4,\\\"class\\\":\\\"Iris-setosa\\\"},{\\\"sepal_length\\\":4.6,\\\"sepal_width\\\":3.6,\\\"petal_length\\\":1.0,\\\"petal_width\\\":0.2,\\\"class\\\":\\\"Iris-setosa\\\"},{\\\"sepal_length\\\":5.1,\\\"sepal_width\\\":3.3,\\\"petal_length\\\":1.7,\\\"petal_width\\\":0.5,\\\"class\\\":\\\"Iris-setosa\\\"},{\\\"sepal_length\\\":4.8,\\\"sepal_width\\\":3.4,\\\"petal_length\\\":1.9,\\\"petal_width\\\":0.2,\\\"class\\\":\\\"Iris-setosa\\\"},{\\\"sepal_length\\\":5.0,\\\"sepal_width\\\":3.0,\\\"petal_length\\\":1.6,\\\"petal_width\\\":0.2,\\\"class\\\":\\\"Iris-setosa\\\"},{\\\"sepal_length\\\":5.0,\\\"sepal_width\\\":3.4,\\\"petal_length\\\":1.6,\\\"petal_width\\\":0.4,\\\"class\\\":\\\"Iris-setosa\\\"},{\\\"sepal_length\\\":5.2,\\\"sepal_width\\\":3.5,\\\"petal_length\\\":1.5,\\\"petal_width\\\":0.2,\\\"class\\\":\\\"Iris-setosa\\\"},{\\\"sepal_length\\\":5.2,\\\"sepal_width\\\":3.4,\\\"petal_length\\\":1.4,\\\"petal_width\\\":0.2,\\\"class\\\":\\\"Iris-setosa\\\"},{\\\"sepal_length\\\":4.7,\\\"sepal_width\\\":3.2,\\\"petal_length\\\":1.6,\\\"petal_width\\\":0.2,\\\"class\\\":\\\"Iris-setosa\\\"},{\\\"sepal_length\\\":4.8,\\\"sepal_width\\\":3.1,\\\"petal_length\\\":1.6,\\\"petal_width\\\":0.2,\\\"class\\\":\\\"Iris-setosa\\\"},{\\\"sepal_length\\\":5.4,\\\"sepal_width\\\":3.4,\\\"petal_length\\\":1.5,\\\"petal_width\\\":0.4,\\\"class\\\":\\\"Iris-setosa\\\"},{\\\"sepal_length\\\":5.2,\\\"sepal_width\\\":4.1,\\\"petal_length\\\":1.5,\\\"petal_width\\\":0.1,\\\"class\\\":\\\"Iris-setosa\\\"},{\\\"sepal_length\\\":5.5,\\\"sepal_width\\\":4.2,\\\"petal_length\\\":1.4,\\\"petal_width\\\":0.2,\\\"class\\\":\\\"Iris-setosa\\\"},{\\\"sepal_length\\\":4.9,\\\"sepal_width\\\":3.1,\\\"petal_length\\\":1.5,\\\"petal_width\\\":0.1,\\\"class\\\":\\\"Iris-setosa\\\"},{\\\"sepal_length\\\":5.0,\\\"sepal_width\\\":3.2,\\\"petal_length\\\":1.2,\\\"petal_width\\\":0.2,\\\"class\\\":\\\"Iris-setosa\\\"},{\\\"sepal_length\\\":5.5,\\\"sepal_width\\\":3.5,\\\"petal_length\\\":1.3,\\\"petal_width\\\":0.2,\\\"class\\\":\\\"Iris-setosa\\\"},{\\\"sepal_length\\\":4.9,\\\"sepal_width\\\":3.1,\\\"petal_length\\\":1.5,\\\"petal_width\\\":0.1,\\\"class\\\":\\\"Iris-setosa\\\"},{\\\"sepal_length\\\":4.4,\\\"sepal_width\\\":3.0,\\\"petal_length\\\":1.3,\\\"petal_width\\\":0.2,\\\"class\\\":\\\"Iris-setosa\\\"},{\\\"sepal_length\\\":5.1,\\\"sepal_width\\\":3.4,\\\"petal_length\\\":1.5,\\\"petal_width\\\":0.2,\\\"class\\\":\\\"Iris-setosa\\\"},{\\\"sepal_length\\\":5.0,\\\"sepal_width\\\":3.5,\\\"petal_length\\\":1.3,\\\"petal_width\\\":0.3,\\\"class\\\":\\\"Iris-setosa\\\"},{\\\"sepal_length\\\":4.5,\\\"sepal_width\\\":2.3,\\\"petal_length\\\":1.3,\\\"petal_width\\\":0.3,\\\"class\\\":\\\"Iris-setosa\\\"},{\\\"sepal_length\\\":4.4,\\\"sepal_width\\\":3.2,\\\"petal_length\\\":1.3,\\\"petal_width\\\":0.2,\\\"class\\\":\\\"Iris-setosa\\\"},{\\\"sepal_length\\\":5.0,\\\"sepal_width\\\":3.5,\\\"petal_length\\\":1.6,\\\"petal_width\\\":0.6,\\\"class\\\":\\\"Iris-setosa\\\"},{\\\"sepal_length\\\":5.1,\\\"sepal_width\\\":3.8,\\\"petal_length\\\":1.9,\\\"petal_width\\\":0.4,\\\"class\\\":\\\"Iris-setosa\\\"},{\\\"sepal_length\\\":4.8,\\\"sepal_width\\\":3.0,\\\"petal_length\\\":1.4,\\\"petal_width\\\":0.3,\\\"class\\\":\\\"Iris-setosa\\\"},{\\\"sepal_length\\\":5.1,\\\"sepal_width\\\":3.8,\\\"petal_length\\\":1.6,\\\"petal_width\\\":0.2,\\\"class\\\":\\\"Iris-setosa\\\"},{\\\"sepal_length\\\":4.6,\\\"sepal_width\\\":3.2,\\\"petal_length\\\":1.4,\\\"petal_width\\\":0.2,\\\"class\\\":\\\"Iris-setosa\\\"},{\\\"sepal_length\\\":5.3,\\\"sepal_width\\\":3.7,\\\"petal_length\\\":1.5,\\\"petal_width\\\":0.2,\\\"class\\\":\\\"Iris-setosa\\\"},{\\\"sepal_length\\\":5.0,\\\"sepal_width\\\":3.3,\\\"petal_length\\\":1.4,\\\"petal_width\\\":0.2,\\\"class\\\":\\\"Iris-setosa\\\"},{\\\"sepal_length\\\":7.0,\\\"sepal_width\\\":3.2,\\\"petal_length\\\":4.7,\\\"petal_width\\\":1.4,\\\"class\\\":\\\"Iris-versicolor\\\"},{\\\"sepal_length\\\":6.4,\\\"sepal_width\\\":3.2,\\\"petal_length\\\":4.5,\\\"petal_width\\\":1.5,\\\"class\\\":\\\"Iris-versicolor\\\"},{\\\"sepal_length\\\":6.9,\\\"sepal_width\\\":3.1,\\\"petal_length\\\":4.9,\\\"petal_width\\\":1.5,\\\"class\\\":\\\"Iris-versicolor\\\"},{\\\"sepal_length\\\":5.5,\\\"sepal_width\\\":2.3,\\\"petal_length\\\":4.0,\\\"petal_width\\\":1.3,\\\"class\\\":\\\"Iris-versicolor\\\"},{\\\"sepal_length\\\":6.5,\\\"sepal_width\\\":2.8,\\\"petal_length\\\":4.6,\\\"petal_width\\\":1.5,\\\"class\\\":\\\"Iris-versicolor\\\"},{\\\"sepal_length\\\":5.7,\\\"sepal_width\\\":2.8,\\\"petal_length\\\":4.5,\\\"petal_width\\\":1.3,\\\"class\\\":\\\"Iris-versicolor\\\"},{\\\"sepal_length\\\":6.3,\\\"sepal_width\\\":3.3,\\\"petal_length\\\":4.7,\\\"petal_width\\\":1.6,\\\"class\\\":\\\"Iris-versicolor\\\"},{\\\"sepal_length\\\":4.9,\\\"sepal_width\\\":2.4,\\\"petal_length\\\":3.3,\\\"petal_width\\\":1.0,\\\"class\\\":\\\"Iris-versicolor\\\"},{\\\"sepal_length\\\":6.6,\\\"sepal_width\\\":2.9,\\\"petal_length\\\":4.6,\\\"petal_width\\\":1.3,\\\"class\\\":\\\"Iris-versicolor\\\"},{\\\"sepal_length\\\":5.2,\\\"sepal_width\\\":2.7,\\\"petal_length\\\":3.9,\\\"petal_width\\\":1.4,\\\"class\\\":\\\"Iris-versicolor\\\"},{\\\"sepal_length\\\":5.0,\\\"sepal_width\\\":2.0,\\\"petal_length\\\":3.5,\\\"petal_width\\\":1.0,\\\"class\\\":\\\"Iris-versicolor\\\"},{\\\"sepal_length\\\":5.9,\\\"sepal_width\\\":3.0,\\\"petal_length\\\":4.2,\\\"petal_width\\\":1.5,\\\"class\\\":\\\"Iris-versicolor\\\"},{\\\"sepal_length\\\":6.0,\\\"sepal_width\\\":2.2,\\\"petal_length\\\":4.0,\\\"petal_width\\\":1.0,\\\"class\\\":\\\"Iris-versicolor\\\"},{\\\"sepal_length\\\":6.1,\\\"sepal_width\\\":2.9,\\\"petal_length\\\":4.7,\\\"petal_width\\\":1.4,\\\"class\\\":\\\"Iris-versicolor\\\"},{\\\"sepal_length\\\":5.6,\\\"sepal_width\\\":2.9,\\\"petal_length\\\":3.6,\\\"petal_width\\\":1.3,\\\"class\\\":\\\"Iris-versicolor\\\"},{\\\"sepal_length\\\":6.7,\\\"sepal_width\\\":3.1,\\\"petal_length\\\":4.4,\\\"petal_width\\\":1.4,\\\"class\\\":\\\"Iris-versicolor\\\"},{\\\"sepal_length\\\":5.6,\\\"sepal_width\\\":3.0,\\\"petal_length\\\":4.5,\\\"petal_width\\\":1.5,\\\"class\\\":\\\"Iris-versicolor\\\"},{\\\"sepal_length\\\":5.8,\\\"sepal_width\\\":2.7,\\\"petal_length\\\":4.1,\\\"petal_width\\\":1.0,\\\"class\\\":\\\"Iris-versicolor\\\"},{\\\"sepal_length\\\":6.2,\\\"sepal_width\\\":2.2,\\\"petal_length\\\":4.5,\\\"petal_width\\\":1.5,\\\"class\\\":\\\"Iris-versicolor\\\"},{\\\"sepal_length\\\":5.6,\\\"sepal_width\\\":2.5,\\\"petal_length\\\":3.9,\\\"petal_width\\\":1.1,\\\"class\\\":\\\"Iris-versicolor\\\"},{\\\"sepal_length\\\":5.9,\\\"sepal_width\\\":3.2,\\\"petal_length\\\":4.8,\\\"petal_width\\\":1.8,\\\"class\\\":\\\"Iris-versicolor\\\"},{\\\"sepal_length\\\":6.1,\\\"sepal_width\\\":2.8,\\\"petal_length\\\":4.0,\\\"petal_width\\\":1.3,\\\"class\\\":\\\"Iris-versicolor\\\"},{\\\"sepal_length\\\":6.3,\\\"sepal_width\\\":2.5,\\\"petal_length\\\":4.9,\\\"petal_width\\\":1.5,\\\"class\\\":\\\"Iris-versicolor\\\"},{\\\"sepal_length\\\":6.1,\\\"sepal_width\\\":2.8,\\\"petal_length\\\":4.7,\\\"petal_width\\\":1.2,\\\"class\\\":\\\"Iris-versicolor\\\"},{\\\"sepal_length\\\":6.4,\\\"sepal_width\\\":2.9,\\\"petal_length\\\":4.3,\\\"petal_width\\\":1.3,\\\"class\\\":\\\"Iris-versicolor\\\"},{\\\"sepal_length\\\":6.6,\\\"sepal_width\\\":3.0,\\\"petal_length\\\":4.4,\\\"petal_width\\\":1.4,\\\"class\\\":\\\"Iris-versicolor\\\"},{\\\"sepal_length\\\":6.8,\\\"sepal_width\\\":2.8,\\\"petal_length\\\":4.8,\\\"petal_width\\\":1.4,\\\"class\\\":\\\"Iris-versicolor\\\"},{\\\"sepal_length\\\":6.7,\\\"sepal_width\\\":3.0,\\\"petal_length\\\":5.0,\\\"petal_width\\\":1.7,\\\"class\\\":\\\"Iris-versicolor\\\"},{\\\"sepal_length\\\":6.0,\\\"sepal_width\\\":2.9,\\\"petal_length\\\":4.5,\\\"petal_width\\\":1.5,\\\"class\\\":\\\"Iris-versicolor\\\"},{\\\"sepal_length\\\":5.7,\\\"sepal_width\\\":2.6,\\\"petal_length\\\":3.5,\\\"petal_width\\\":1.0,\\\"class\\\":\\\"Iris-versicolor\\\"},{\\\"sepal_length\\\":5.5,\\\"sepal_width\\\":2.4,\\\"petal_length\\\":3.8,\\\"petal_width\\\":1.1,\\\"class\\\":\\\"Iris-versicolor\\\"},{\\\"sepal_length\\\":5.5,\\\"sepal_width\\\":2.4,\\\"petal_length\\\":3.7,\\\"petal_width\\\":1.0,\\\"class\\\":\\\"Iris-versicolor\\\"},{\\\"sepal_length\\\":5.8,\\\"sepal_width\\\":2.7,\\\"petal_length\\\":3.9,\\\"petal_width\\\":1.2,\\\"class\\\":\\\"Iris-versicolor\\\"},{\\\"sepal_length\\\":6.0,\\\"sepal_width\\\":2.7,\\\"petal_length\\\":5.1,\\\"petal_width\\\":1.6,\\\"class\\\":\\\"Iris-versicolor\\\"},{\\\"sepal_length\\\":5.4,\\\"sepal_width\\\":3.0,\\\"petal_length\\\":4.5,\\\"petal_width\\\":1.5,\\\"class\\\":\\\"Iris-versicolor\\\"},{\\\"sepal_length\\\":6.0,\\\"sepal_width\\\":3.4,\\\"petal_length\\\":4.5,\\\"petal_width\\\":1.6,\\\"class\\\":\\\"Iris-versicolor\\\"},{\\\"sepal_length\\\":6.7,\\\"sepal_width\\\":3.1,\\\"petal_length\\\":4.7,\\\"petal_width\\\":1.5,\\\"class\\\":\\\"Iris-versicolor\\\"},{\\\"sepal_length\\\":6.3,\\\"sepal_width\\\":2.3,\\\"petal_length\\\":4.4,\\\"petal_width\\\":1.3,\\\"class\\\":\\\"Iris-versicolor\\\"},{\\\"sepal_length\\\":5.6,\\\"sepal_width\\\":3.0,\\\"petal_length\\\":4.1,\\\"petal_width\\\":1.3,\\\"class\\\":\\\"Iris-versicolor\\\"},{\\\"sepal_length\\\":5.5,\\\"sepal_width\\\":2.5,\\\"petal_length\\\":4.0,\\\"petal_width\\\":1.3,\\\"class\\\":\\\"Iris-versicolor\\\"},{\\\"sepal_length\\\":5.5,\\\"sepal_width\\\":2.6,\\\"petal_length\\\":4.4,\\\"petal_width\\\":1.2,\\\"class\\\":\\\"Iris-versicolor\\\"},{\\\"sepal_length\\\":6.1,\\\"sepal_width\\\":3.0,\\\"petal_length\\\":4.6,\\\"petal_width\\\":1.4,\\\"class\\\":\\\"Iris-versicolor\\\"},{\\\"sepal_length\\\":5.8,\\\"sepal_width\\\":2.6,\\\"petal_length\\\":4.0,\\\"petal_width\\\":1.2,\\\"class\\\":\\\"Iris-versicolor\\\"},{\\\"sepal_length\\\":5.0,\\\"sepal_width\\\":2.3,\\\"petal_length\\\":3.3,\\\"petal_width\\\":1.0,\\\"class\\\":\\\"Iris-versicolor\\\"},{\\\"sepal_length\\\":5.6,\\\"sepal_width\\\":2.7,\\\"petal_length\\\":4.2,\\\"petal_width\\\":1.3,\\\"class\\\":\\\"Iris-versicolor\\\"},{\\\"sepal_length\\\":5.7,\\\"sepal_width\\\":3.0,\\\"petal_length\\\":4.2,\\\"petal_width\\\":1.2,\\\"class\\\":\\\"Iris-versicolor\\\"},{\\\"sepal_length\\\":5.7,\\\"sepal_width\\\":2.9,\\\"petal_length\\\":4.2,\\\"petal_width\\\":1.3,\\\"class\\\":\\\"Iris-versicolor\\\"},{\\\"sepal_length\\\":6.2,\\\"sepal_width\\\":2.9,\\\"petal_length\\\":4.3,\\\"petal_width\\\":1.3,\\\"class\\\":\\\"Iris-versicolor\\\"},{\\\"sepal_length\\\":5.1,\\\"sepal_width\\\":2.5,\\\"petal_length\\\":3.0,\\\"petal_width\\\":1.1,\\\"class\\\":\\\"Iris-versicolor\\\"},{\\\"sepal_length\\\":5.7,\\\"sepal_width\\\":2.8,\\\"petal_length\\\":4.1,\\\"petal_width\\\":1.3,\\\"class\\\":\\\"Iris-versicolor\\\"},{\\\"sepal_length\\\":6.3,\\\"sepal_width\\\":3.3,\\\"petal_length\\\":6.0,\\\"petal_width\\\":2.5,\\\"class\\\":\\\"Iris-virginica\\\"},{\\\"sepal_length\\\":5.8,\\\"sepal_width\\\":2.7,\\\"petal_length\\\":5.1,\\\"petal_width\\\":1.9,\\\"class\\\":\\\"Iris-virginica\\\"},{\\\"sepal_length\\\":7.1,\\\"sepal_width\\\":3.0,\\\"petal_length\\\":5.9,\\\"petal_width\\\":2.1,\\\"class\\\":\\\"Iris-virginica\\\"},{\\\"sepal_length\\\":6.3,\\\"sepal_width\\\":2.9,\\\"petal_length\\\":5.6,\\\"petal_width\\\":1.8,\\\"class\\\":\\\"Iris-virginica\\\"},{\\\"sepal_length\\\":6.5,\\\"sepal_width\\\":3.0,\\\"petal_length\\\":5.8,\\\"petal_width\\\":2.2,\\\"class\\\":\\\"Iris-virginica\\\"},{\\\"sepal_length\\\":7.6,\\\"sepal_width\\\":3.0,\\\"petal_length\\\":6.6,\\\"petal_width\\\":2.1,\\\"class\\\":\\\"Iris-virginica\\\"},{\\\"sepal_length\\\":4.9,\\\"sepal_width\\\":2.5,\\\"petal_length\\\":4.5,\\\"petal_width\\\":1.7,\\\"class\\\":\\\"Iris-virginica\\\"},{\\\"sepal_length\\\":7.3,\\\"sepal_width\\\":2.9,\\\"petal_length\\\":6.3,\\\"petal_width\\\":1.8,\\\"class\\\":\\\"Iris-virginica\\\"},{\\\"sepal_length\\\":6.7,\\\"sepal_width\\\":2.5,\\\"petal_length\\\":5.8,\\\"petal_width\\\":1.8,\\\"class\\\":\\\"Iris-virginica\\\"},{\\\"sepal_length\\\":7.2,\\\"sepal_width\\\":3.6,\\\"petal_length\\\":6.1,\\\"petal_width\\\":2.5,\\\"class\\\":\\\"Iris-virginica\\\"},{\\\"sepal_length\\\":6.5,\\\"sepal_width\\\":3.2,\\\"petal_length\\\":5.1,\\\"petal_width\\\":2.0,\\\"class\\\":\\\"Iris-virginica\\\"},{\\\"sepal_length\\\":6.4,\\\"sepal_width\\\":2.7,\\\"petal_length\\\":5.3,\\\"petal_width\\\":1.9,\\\"class\\\":\\\"Iris-virginica\\\"},{\\\"sepal_length\\\":6.8,\\\"sepal_width\\\":3.0,\\\"petal_length\\\":5.5,\\\"petal_width\\\":2.1,\\\"class\\\":\\\"Iris-virginica\\\"},{\\\"sepal_length\\\":5.7,\\\"sepal_width\\\":2.5,\\\"petal_length\\\":5.0,\\\"petal_width\\\":2.0,\\\"class\\\":\\\"Iris-virginica\\\"},{\\\"sepal_length\\\":5.8,\\\"sepal_width\\\":2.8,\\\"petal_length\\\":5.1,\\\"petal_width\\\":2.4,\\\"class\\\":\\\"Iris-virginica\\\"},{\\\"sepal_length\\\":6.4,\\\"sepal_width\\\":3.2,\\\"petal_length\\\":5.3,\\\"petal_width\\\":2.3,\\\"class\\\":\\\"Iris-virginica\\\"},{\\\"sepal_length\\\":6.5,\\\"sepal_width\\\":3.0,\\\"petal_length\\\":5.5,\\\"petal_width\\\":1.8,\\\"class\\\":\\\"Iris-virginica\\\"},{\\\"sepal_length\\\":7.7,\\\"sepal_width\\\":3.8,\\\"petal_length\\\":6.7,\\\"petal_width\\\":2.2,\\\"class\\\":\\\"Iris-virginica\\\"},{\\\"sepal_length\\\":7.7,\\\"sepal_width\\\":2.6,\\\"petal_length\\\":6.9,\\\"petal_width\\\":2.3,\\\"class\\\":\\\"Iris-virginica\\\"},{\\\"sepal_length\\\":6.0,\\\"sepal_width\\\":2.2,\\\"petal_length\\\":5.0,\\\"petal_width\\\":1.5,\\\"class\\\":\\\"Iris-virginica\\\"},{\\\"sepal_length\\\":6.9,\\\"sepal_width\\\":3.2,\\\"petal_length\\\":5.7,\\\"petal_width\\\":2.3,\\\"class\\\":\\\"Iris-virginica\\\"},{\\\"sepal_length\\\":5.6,\\\"sepal_width\\\":2.8,\\\"petal_length\\\":4.9,\\\"petal_width\\\":2.0,\\\"class\\\":\\\"Iris-virginica\\\"},{\\\"sepal_length\\\":7.7,\\\"sepal_width\\\":2.8,\\\"petal_length\\\":6.7,\\\"petal_width\\\":2.0,\\\"class\\\":\\\"Iris-virginica\\\"},{\\\"sepal_length\\\":6.3,\\\"sepal_width\\\":2.7,\\\"petal_length\\\":4.9,\\\"petal_width\\\":1.8,\\\"class\\\":\\\"Iris-virginica\\\"},{\\\"sepal_length\\\":6.7,\\\"sepal_width\\\":3.3,\\\"petal_length\\\":5.7,\\\"petal_width\\\":2.1,\\\"class\\\":\\\"Iris-virginica\\\"},{\\\"sepal_length\\\":7.2,\\\"sepal_width\\\":3.2,\\\"petal_length\\\":6.0,\\\"petal_width\\\":1.8,\\\"class\\\":\\\"Iris-virginica\\\"},{\\\"sepal_length\\\":6.2,\\\"sepal_width\\\":2.8,\\\"petal_length\\\":4.8,\\\"petal_width\\\":1.8,\\\"class\\\":\\\"Iris-virginica\\\"},{\\\"sepal_length\\\":6.1,\\\"sepal_width\\\":3.0,\\\"petal_length\\\":4.9,\\\"petal_width\\\":1.8,\\\"class\\\":\\\"Iris-virginica\\\"},{\\\"sepal_length\\\":6.4,\\\"sepal_width\\\":2.8,\\\"petal_length\\\":5.6,\\\"petal_width\\\":2.1,\\\"class\\\":\\\"Iris-virginica\\\"},{\\\"sepal_length\\\":7.2,\\\"sepal_width\\\":3.0,\\\"petal_length\\\":5.8,\\\"petal_width\\\":1.6,\\\"class\\\":\\\"Iris-virginica\\\"},{\\\"sepal_length\\\":7.4,\\\"sepal_width\\\":2.8,\\\"petal_length\\\":6.1,\\\"petal_width\\\":1.9,\\\"class\\\":\\\"Iris-virginica\\\"},{\\\"sepal_length\\\":7.9,\\\"sepal_width\\\":3.8,\\\"petal_length\\\":6.4,\\\"petal_width\\\":2.0,\\\"class\\\":\\\"Iris-virginica\\\"},{\\\"sepal_length\\\":6.4,\\\"sepal_width\\\":2.8,\\\"petal_length\\\":5.6,\\\"petal_width\\\":2.2,\\\"class\\\":\\\"Iris-virginica\\\"},{\\\"sepal_length\\\":6.3,\\\"sepal_width\\\":2.8,\\\"petal_length\\\":5.1,\\\"petal_width\\\":1.5,\\\"class\\\":\\\"Iris-virginica\\\"},{\\\"sepal_length\\\":6.1,\\\"sepal_width\\\":2.6,\\\"petal_length\\\":5.6,\\\"petal_width\\\":1.4,\\\"class\\\":\\\"Iris-virginica\\\"},{\\\"sepal_length\\\":7.7,\\\"sepal_width\\\":3.0,\\\"petal_length\\\":6.1,\\\"petal_width\\\":2.3,\\\"class\\\":\\\"Iris-virginica\\\"},{\\\"sepal_length\\\":6.3,\\\"sepal_width\\\":3.4,\\\"petal_length\\\":5.6,\\\"petal_width\\\":2.4,\\\"class\\\":\\\"Iris-virginica\\\"},{\\\"sepal_length\\\":6.4,\\\"sepal_width\\\":3.1,\\\"petal_length\\\":5.5,\\\"petal_width\\\":1.8,\\\"class\\\":\\\"Iris-virginica\\\"},{\\\"sepal_length\\\":6.0,\\\"sepal_width\\\":3.0,\\\"petal_length\\\":4.8,\\\"petal_width\\\":1.8,\\\"class\\\":\\\"Iris-virginica\\\"},{\\\"sepal_length\\\":6.9,\\\"sepal_width\\\":3.1,\\\"petal_length\\\":5.4,\\\"petal_width\\\":2.1,\\\"class\\\":\\\"Iris-virginica\\\"},{\\\"sepal_length\\\":6.7,\\\"sepal_width\\\":3.1,\\\"petal_length\\\":5.6,\\\"petal_width\\\":2.4,\\\"class\\\":\\\"Iris-virginica\\\"},{\\\"sepal_length\\\":6.9,\\\"sepal_width\\\":3.1,\\\"petal_length\\\":5.1,\\\"petal_width\\\":2.3,\\\"class\\\":\\\"Iris-virginica\\\"},{\\\"sepal_length\\\":5.8,\\\"sepal_width\\\":2.7,\\\"petal_length\\\":5.1,\\\"petal_width\\\":1.9,\\\"class\\\":\\\"Iris-virginica\\\"},{\\\"sepal_length\\\":6.8,\\\"sepal_width\\\":3.2,\\\"petal_length\\\":5.9,\\\"petal_width\\\":2.3,\\\"class\\\":\\\"Iris-virginica\\\"},{\\\"sepal_length\\\":6.7,\\\"sepal_width\\\":3.3,\\\"petal_length\\\":5.7,\\\"petal_width\\\":2.5,\\\"class\\\":\\\"Iris-virginica\\\"},{\\\"sepal_length\\\":6.7,\\\"sepal_width\\\":3.0,\\\"petal_length\\\":5.2,\\\"petal_width\\\":2.3,\\\"class\\\":\\\"Iris-virginica\\\"},{\\\"sepal_length\\\":6.3,\\\"sepal_width\\\":2.5,\\\"petal_length\\\":5.0,\\\"petal_width\\\":1.9,\\\"class\\\":\\\"Iris-virginica\\\"},{\\\"sepal_length\\\":6.5,\\\"sepal_width\\\":3.0,\\\"petal_length\\\":5.2,\\\"petal_width\\\":2.0,\\\"class\\\":\\\"Iris-virginica\\\"},{\\\"sepal_length\\\":6.2,\\\"sepal_width\\\":3.4,\\\"petal_length\\\":5.4,\\\"petal_width\\\":2.3,\\\"class\\\":\\\"Iris-virginica\\\"},{\\\"sepal_length\\\":5.9,\\\"sepal_width\\\":3.0,\\\"petal_length\\\":5.1,\\\"petal_width\\\":1.8,\\\"class\\\":\\\"Iris-virginica\\\"}],\\\"onCellClicked\\\":(function (ev){var x={}; (ev.rowIndex!==undefined) ? (x[\\\"rowIndex\\\"]=(ev.rowIndex+1)) : undefined; (ev.colDef!==undefined) ? (x[\\\"column\\\"]=ev.colDef.headerName) : undefined; return WebIO.setval({\\\"name\\\":\\\"onCellClicked\\\",\\\"scope\\\":\\\"12808970643626436571\\\",\\\"id\\\":\\\"7874171459477235224\\\",\\\"type\\\":\\\"observable\\\"},x)})}; var el=document.getElementById(\\\"grid-ff0c5e1c\\\"); gridOptions.components={\\\"rowNumberRenderer\\\":RowNumberRenderer}; false ? (agGrid.LicenseManager.setLicenseKey(null)) : undefined; this.table=new agGrid.Grid(el,gridOptions); return gridOptions.columnApi.autoSizeAllColumns()}));\\n    (WebIO.importBlock({\\\"data\\\":[{\\\"name\\\":null,\\\"type\\\":\\\"js\\\",\\\"url\\\":\\\"\\/assetserver\\/ff7cedeb3c0be1fe3b78420e39e5831529252e27-rowNumberRenderer.js\\\"},{\\\"name\\\":null,\\\"type\\\":\\\"js\\\",\\\"url\\\":\\\"\\/assetserver\\/bd0edaba5158ded95855aef34fd8f3dd96ae49fb-ag-grid.js\\\"},{\\\"name\\\":null,\\\"type\\\":\\\"css\\\",\\\"url\\\":\\\"\\/assetserver\\/77a698eb508b878c6fc123d504f8b478c0953d4e-ag-grid.css\\\"},{\\\"name\\\":null,\\\"type\\\":\\\"css\\\",\\\"url\\\":\\\"\\/assetserver\\/e32886774615890ea3135fc2948c5a5d84679ad0-ag-grid-light.css\\\"},{\\\"name\\\":null,\\\"type\\\":\\\"css\\\",\\\"url\\\":\\\"\\/assetserver\\/d729992f1accd067e59a3e0aef7bd027c5dbf032-ag-grid-dark.css\\\"}],\\\"type\\\":\\\"async_block\\\"})).then((imports) => handler.apply(this, imports));\\n}\\n\"],\"observables\":{\"onCellKeyDown\":{\"sync\":false,\"id\":\"14266340231637122970\",\"value\":null},\"onRowClicked\":{\"sync\":false,\"id\":\"14111712387330316437\",\"value\":null},\"onCellDoubleClicked\":{\"sync\":false,\"id\":\"976886556713095443\",\"value\":null},\"onCellClicked\":{\"sync\":false,\"id\":\"7874171459477235224\",\"value\":null},\"onCellFocused\":{\"sync\":false,\"id\":\"10151213947527662052\",\"value\":null}}},\"children\":[{\"props\":{},\"nodeType\":\"DOM\",\"type\":\"node\",\"instanceArgs\":{\"namespace\":\"html\",\"tag\":\"div\"},\"children\":[{\"props\":{\"style\":{\"height\":\"0\",\"padding\":\"0\",\"background-color\":\"#F5F7F7\",\"color\":\"#1c1f20\",\"font-family\":\"-apple-system, BlinkMacSystemFont, \\\"Segoe UI\\\", Roboto, Oxygen-Sans, Ubuntu, Cantarell, \\\"Helvetica Neue\\\", sans-serif\"}},\"nodeType\":\"DOM\",\"type\":\"node\",\"instanceArgs\":{\"namespace\":\"html\",\"tag\":\"div\"},\"children\":[\"\"]},{\"props\":{\"id\":\"grid-ff0c5e1c\",\"className\":\"ag-theme-balham\",\"style\":{\"height\":\"500px\",\"width\":\"100%\"}},\"nodeType\":\"DOM\",\"type\":\"node\",\"instanceArgs\":{\"namespace\":\"html\",\"tag\":\"div\"},\"children\":[]}]}]},\n",
       "        window,\n",
       "    );\n",
       "    })()\n",
       "    </script>\n",
       "</div>\n"
      ],
      "text/plain": [
       "WebIO.Scope(WebIO.Node{WebIO.DOM}(WebIO.DOM(:html, :div), Any[WebIO.Node{WebIO.DOM}(WebIO.DOM(:html, :div), Any[\"\"], Dict{Symbol, Any}(:style => Dict(\"height\" => \"0\", \"padding\" => \"0\", \"background-color\" => \"#F5F7F7\", \"color\" => \"#1c1f20\", \"font-family\" => \"-apple-system, BlinkMacSystemFont, \\\"Segoe UI\\\", Roboto, Oxygen-Sans, Ubuntu, Cantarell, \\\"Helvetica Neue\\\", sans-serif\"))), WebIO.Node{WebIO.DOM}(WebIO.DOM(:html, :div), Any[], Dict{Symbol, Any}(:id => \"grid-ff0c5e1c\", :className => \"ag-theme-balham\", :style => Dict(\"height\" => \"500px\", \"width\" => \"100%\")))], Dict{Symbol, Any}()), Dict{String, Tuple{Observables.AbstractObservable, Union{Nothing, Bool}}}(\"onCellKeyDown\" => (Observable{Any} with 0 listeners. Value:\n",
       "nothing, nothing), \"onRowClicked\" => (Observable{Any} with 0 listeners. Value:\n",
       "nothing, nothing), \"onCellDoubleClicked\" => (Observable{Any} with 0 listeners. Value:\n",
       "nothing, nothing), \"onCellClicked\" => (Observable{Any} with 0 listeners. Value:\n",
       "nothing, nothing), \"onCellFocused\" => (Observable{Any} with 0 listeners. Value:\n",
       "nothing, nothing)), Set{String}(), nothing, WebIO.Asset[WebIO.Asset(\"js\", nothing, \"/Users/alexpanchot/.julia/packages/TableView/CaHPi/src/rowNumberRenderer.js\"), WebIO.Asset(\"js\", nothing, \"/Users/alexpanchot/.julia/packages/TableView/CaHPi/deps/ag-grid-25.2.0/ag-grid.js\"), WebIO.Asset(\"css\", nothing, \"/Users/alexpanchot/.julia/packages/TableView/CaHPi/deps/ag-grid-25.2.0/ag-grid.css\"), WebIO.Asset(\"css\", nothing, \"/Users/alexpanchot/.julia/packages/TableView/CaHPi/deps/ag-grid-25.2.0/ag-grid-light.css\"), WebIO.Asset(\"css\", nothing, \"/Users/alexpanchot/.julia/packages/TableView/CaHPi/deps/ag-grid-25.2.0/ag-grid-dark.css\")], Dict{Any, Any}(), WebIO.ConnectionPool(Channel{Any}(32), Set{WebIO.AbstractConnection}(), Condition(Base.InvasiveLinkedList{Task}(Task (runnable) @0x0000000157c4acb0, Task (runnable) @0x0000000157c4acb0), Base.AlwaysLockedST(1))), WebIO.JSString[WebIO.JSString(\"function () {\\n    var handler = ((function (RowNumberRenderer,agGrid){var gridOptions={\\\"onCellFocused\\\":(function (ev){var x={}; (ev.rowIndex!==undefined) ? (x[\\\"rowIndex\\\"]=(ev.rowIndex+1)) : undefined; (ev.colDef!==undefined) ? (x[\\\"column\\\"]=ev.colDef.headerName) : undefined; return WebIO.setval({\\\"name\\\":\\\"onCellFocused\\\",\\\"scope\\\":\\\"12808970643626436571\\\",\\\"id\\\":\\\"10151213947527662052\\\",\\\"type\\\":\\\"observable\\\"},x)}),\\\"onCellValueChanged\\\":(function (){return }),\\\"rowSelection\\\":\\\"multiple\\\",\\\"multiSortKey\\\":\\\"ctrl\\\",\\\"columnDefs\\\":[{\\\"filter\\\":false,\\\"editable\\\":false,\\\"headerTooltip\\\":\\\"\\\",\\\"field\\\":\\\"__row__\\\",\\\"headerName\\\":\\\"Row\\\",\\\"sortable\\\":true,\\\"type\\\":\\\"numericColumn\\\",\\\"cellRenderer\\\":\\\"rowNumberRenderer\\\",\\\"resizable\\\":true},{\\\"filter\\\":\\\"agNumberColumnFilter\\\",\\\"editable\\\":false,\\\"headerTooltip\\\":\\\"Float64\\\",\\\"field\\\":\\\"sepal_length\\\",\\\"headerName\\\":\\\"sepal_length\\\",\\\"sortable\\\":true,\\\"type\\\":\\\"numericColumn\\\",\\\"resizable\\\":true},{\\\"filter\\\":\\\"agNumberColumnFilter\\\",\\\"editable\\\":false,\\\"headerTooltip\\\":\\\"Float64\\\",\\\"field\\\":\\\"sepal_width\\\",\\\"headerName\\\":\\\"sepal_width\\\",\\\"sortable\\\":true,\\\"type\\\":\\\"numericColumn\\\",\\\"resizable\\\":true},{\\\"filter\\\":\\\"agNumberColumnFilter\\\",\\\"editable\\\":false,\\\"headerTooltip\\\":\\\"Float64\\\",\\\"field\\\":\\\"petal_length\\\",\\\"headerName\\\":\\\"petal_length\\\",\\\"sortable\\\":true,\\\"type\\\":\\\"numericColumn\\\",\\\"resizable\\\":true},{\\\"filter\\\":\\\"agNumberColumnFilter\\\",\\\"editable\\\":false,\\\"headerTooltip\\\":\\\"Float64\\\",\\\"field\\\":\\\"petal_width\\\",\\\"headerName\\\":\\\"petal_width\\\",\\\"sortable\\\":true,\\\"type\\\":\\\"numericColumn\\\",\\\"resizable\\\":true},{\\\"filter\\\":true,\\\"editable\\\":false,\\\"headerTooltip\\\":\\\"String\\\",\\\"field\\\":\\\"class\\\",\\\"headerName\\\":\\\"class\\\",\\\"sortable\\\":true,\\\"type\\\":null,\\\"resizable\\\":true}],\\\"onCellDoubleClicked\\\":(function (ev){var x={}; (ev.rowIndex!==undefined) ? (x[\\\"rowIndex\\\"]=(ev.rowIndex+1)) : undefined; (ev.colDef!==undefined) ? (x[\\\"column\\\"]=ev.colDef.headerName) : undefined; return WebIO.setval({\\\"name\\\":\\\"onCellDoubleClicked\\\",\\\"scope\\\":\\\"12808970643626436571\\\",\\\"id\\\":\\\"976886556713095443\\\",\\\"type\\\":\\\"observable\\\"},x)}),\\\"onRowClicked\\\":(function (ev){var x={}; (ev.rowIndex!==undefined) ? (x[\\\"rowIndex\\\"]=(ev.rowIndex+1)) : undefined; (ev.colDef!==undefined) ? (x[\\\"column\\\"]=ev.colDef.headerName) : undefined; return WebIO.setval({\\\"name\\\":\\\"onRowClicked\\\",\\\"scope\\\":\\\"12808970643626436571\\\",\\\"id\\\":\\\"14111712387330316437\\\",\\\"type\\\":\\\"observable\\\"},x)}),\\\"onCellKeyDown\\\":(function (ev){var x={}; (ev.rowIndex!==undefined) ? (x[\\\"rowIndex\\\"]=(ev.rowIndex+1)) : undefined; (ev.colDef!==undefined) ? (x[\\\"column\\\"]=ev.colDef.headerName) : undefined; return WebIO.setval({\\\"name\\\":\\\"onCellKeyDown\\\",\\\"scope\\\":\\\"12808970643626436571\\\",\\\"id\\\":\\\"14266340231637122970\\\",\\\"type\\\":\\\"observable\\\"},x)}),\\\"rowData\\\":[{\\\"sepal_length\\\":5.1,\\\"sepal_width\\\":3.5,\\\"petal_length\\\":1.4,\\\"petal_width\\\":0.2,\\\"class\\\":\\\"Iris-setosa\\\"},{\\\"sepal_length\\\":4.9,\\\"sepal_width\\\":3.0,\\\"petal_length\\\":1.4,\\\"petal_width\\\":0.2,\\\"class\\\":\\\"Iris-setosa\\\"},{\\\"sepal_length\\\":4.7,\\\"sepal_width\\\":3.2,\\\"petal_length\\\":1.3,\\\"petal_width\\\":0.2,\\\"class\\\":\\\"Iris-setosa\\\"},{\\\"sepal_length\\\":4.6,\\\"sepal_width\\\":3.1,\\\"petal_length\\\":1.5,\\\"petal_width\\\":0.2,\\\"class\\\":\\\"Iris-setosa\\\"},{\\\"sepal_length\\\":5.0,\\\"sepal_width\\\":3.6,\\\"petal_length\\\":1.4,\\\"petal_width\\\":0.2,\\\"class\\\":\\\"Iris-setosa\\\"},{\\\"sepal_length\\\":5.4,\\\"sepal_width\\\":3.9,\\\"petal_length\\\":1.7,\\\"petal_width\\\":0.4,\\\"class\\\":\\\"Iris-setosa\\\"},{\\\"sepal_length\\\":4.6,\\\"sepal_width\\\":3.4,\\\"petal_length\\\":1.4,\\\"petal_width\\\":0.3,\\\"class\\\":\\\"Iris-setosa\\\"},{\\\"sepal_length\\\":5.0,\\\"sepal_width\\\":3.4,\\\"petal_length\\\":1.5,\\\"petal_width\\\":0.2,\\\"class\\\":\\\"Iris-setosa\\\"},{\\\"sepal_length\\\":4.4,\\\"sepal_width\\\":2.9,\\\"petal_length\\\":1.4,\\\"petal_width\\\":0.2,\\\"class\\\":\\\"Iris-setosa\\\"},{\\\"sepal_length\\\":4.9,\\\"sepal_width\\\":3.1,\\\"petal_length\\\":1.5,\\\"petal_width\\\":0.1,\\\"class\\\":\\\"Iris-setosa\\\"},{\\\"sepal_length\\\":5.4,\\\"sepal_width\\\":3.7,\\\"petal_length\\\":1.5,\\\"petal_width\\\":0.2,\\\"class\\\":\\\"Iris-setosa\\\"},{\\\"sepal_length\\\":4.8,\\\"sepal_width\\\":3.4,\\\"petal_length\\\":1.6,\\\"petal_width\\\":0.2,\\\"class\\\":\\\"Iris-setosa\\\"},{\\\"sepal_length\\\":4.8,\\\"sepal_width\\\":3.0,\\\"petal_length\\\":1.4,\\\"petal_width\\\":0.1,\\\"class\\\":\\\"Iris-setosa\\\"},{\\\"sepal_length\\\":4.3,\\\"sepal_width\\\":3.0,\\\"petal_length\\\":1.1,\\\"petal_width\\\":0.1,\\\"class\\\":\\\"Iris-setosa\\\"},{\\\"sepal_length\\\":5.8,\\\"sepal_width\\\":4.0,\\\"petal_length\\\":1.2,\\\"petal_width\\\":0.2,\\\"class\\\":\\\"Iris-setosa\\\"},{\\\"sepal_length\\\":5.7,\\\"sepal_width\\\":4.4,\\\"petal_length\\\":1.5,\\\"petal_width\\\":0.4,\\\"class\\\":\\\"Iris-setosa\\\"},{\\\"sepal_length\\\":5.4,\\\"sepal_width\\\":3.9,\\\"petal_length\\\":1.3,\\\"petal_width\\\":0.4,\\\"class\\\":\\\"Iris-setosa\\\"},{\\\"sepal_length\\\":5.1,\\\"sepal_width\\\":3.5,\\\"petal_length\\\":1.4,\\\"petal_width\\\":0.3,\\\"class\\\":\\\"Iris-setosa\\\"},{\\\"sepal_length\\\":5.7,\\\"sepal_width\\\":3.8,\\\"petal_length\\\":1.7,\\\"petal_width\\\":0.3,\\\"class\\\":\\\"Iris-setosa\\\"},{\\\"sepal_length\\\":5.1,\\\"sepal_width\\\":3.8,\\\"petal_length\\\":1.5,\\\"petal_width\\\":0.3,\\\"class\\\":\\\"Iris-setosa\\\"},{\\\"sepal_length\\\":5.4,\\\"sepal_width\\\":3.4,\\\"petal_length\\\":1.7,\\\"petal_width\\\":0.2,\\\"class\\\":\\\"Iris-setosa\\\"},{\\\"sepal_length\\\":5.1,\\\"sepal_width\\\":3.7,\\\"petal_length\\\":1.5,\\\"petal_width\\\":0.4,\\\"class\\\":\\\"Iris-setosa\\\"},{\\\"sepal_length\\\":4.6,\\\"sepal_width\\\":3.6,\\\"petal_length\\\":1.0,\\\"petal_width\\\":0.2,\\\"class\\\":\\\"Iris-setosa\\\"},{\\\"sepal_length\\\":5.1,\\\"sepal_width\\\":3.3,\\\"petal_length\\\":1.7,\\\"petal_width\\\":0.5,\\\"class\\\":\\\"Iris-setosa\\\"},{\\\"sepal_length\\\":4.8,\\\"sepal_width\\\":3.4,\\\"petal_length\\\":1.9,\\\"petal_width\\\":0.2,\\\"class\\\":\\\"Iris-setosa\\\"},{\\\"sepal_length\\\":5.0,\\\"sepal_width\\\":3.0,\\\"petal_length\\\":1.6,\\\"petal_width\\\":0.2,\\\"class\\\":\\\"Iris-setosa\\\"},{\\\"sepal_length\\\":5.0,\\\"sepal_width\\\":3.4,\\\"petal_length\\\":1.6,\\\"petal_width\\\":0.4,\\\"class\\\":\\\"Iris-setosa\\\"},{\\\"sepal_length\\\":5.2,\\\"sepal_width\\\":3.5,\\\"petal_length\\\":1.5,\\\"petal_width\\\":0.2,\\\"class\\\":\\\"Iris-setosa\\\"},{\\\"sepal_length\\\":5.2,\\\"sepal_width\\\":3.4,\\\"petal_length\\\":1.4,\\\"petal_width\\\":0.2,\\\"class\\\":\\\"Iris-setosa\\\"},{\\\"sepal_length\\\":4.7,\\\"sepal_width\\\":3.2,\\\"petal_length\\\":1.6,\\\"petal_width\\\":0.2,\\\"class\\\":\\\"Iris-setosa\\\"},{\\\"sepal_length\\\":4.8,\\\"sepal_width\\\":3.1,\\\"petal_length\\\":1.6,\\\"petal_width\\\":0.2,\\\"class\\\":\\\"Iris-setosa\\\"},{\\\"sepal_length\\\":5.4,\\\"sepal_width\\\":3.4,\\\"petal_length\\\":1.5,\\\"petal_width\\\":0.4,\\\"class\\\":\\\"Iris-setosa\\\"},{\\\"sepal_length\\\":5.2,\\\"sepal_width\\\":4.1,\\\"petal_length\\\":1.5,\\\"petal_width\\\":0.1,\\\"class\\\":\\\"Iris-setosa\\\"},{\\\"sepal_length\\\":5.5,\\\"sepal_width\\\":4.2,\\\"petal_length\\\":1.4,\\\"petal_width\\\":0.2,\\\"class\\\":\\\"Iris-setosa\\\"},{\\\"sepal_length\\\":4.9,\\\"sepal_width\\\":3.1,\\\"petal_length\\\":1.5,\\\"petal_width\\\":0.1,\\\"class\\\":\\\"Iris-setosa\\\"},{\\\"sepal_length\\\":5.0,\\\"sepal_width\\\":3.2,\\\"petal_length\\\":1.2,\\\"petal_width\\\":0.2,\\\"class\\\":\\\"Iris-setosa\\\"},{\\\"sepal_length\\\":5.5,\\\"sepal_width\\\":3.5,\\\"petal_length\\\":1.3,\\\"petal_width\\\":0.2,\\\"class\\\":\\\"Iris-setosa\\\"},{\\\"sepal_length\\\":4.9,\\\"sepal_width\\\":3.1,\\\"petal_length\\\":1.5,\\\"petal_width\\\":0.1,\\\"class\\\":\\\"Iris-setosa\\\"},{\\\"sepal_length\\\":4.4,\\\"sepal_width\\\":3.0,\\\"petal_length\\\":1.3,\\\"petal_width\\\":0.2,\\\"class\\\":\\\"Iris-setosa\\\"},{\\\"sepal_length\\\":5.1,\\\"sepal_width\\\":3.4,\\\"petal_length\\\":1.5,\\\"petal_width\\\":0.2,\\\"class\\\":\\\"Iris-setosa\\\"},{\\\"sepal_length\\\":5.0,\\\"sepal_width\\\":3.5,\\\"petal_length\\\":1.3,\\\"petal_width\\\":0.3,\\\"class\\\":\\\"Iris-setosa\\\"},{\\\"sepal_length\\\":4.5,\\\"sepal_width\\\":2.3,\\\"petal_length\\\":1.3,\\\"petal_width\\\":0.3,\\\"class\\\":\\\"Iris-setosa\\\"},{\\\"sepal_length\\\":4.4,\\\"sepal_width\\\":3.2,\\\"petal_length\\\":1.3,\\\"petal_width\\\":0.2,\\\"class\\\":\\\"Iris-setosa\\\"},{\\\"sepal_length\\\":5.0,\\\"sepal_width\\\":3.5,\\\"petal_length\\\":1.6,\\\"petal_width\\\":0.6,\\\"class\\\":\\\"Iris-setosa\\\"},{\\\"sepal_length\\\":5.1,\\\"sepal_width\\\":3.8,\\\"petal_length\\\":1.9,\\\"petal_width\\\":0.4,\\\"class\\\":\\\"Iris-setosa\\\"},{\\\"sepal_length\\\":4.8,\\\"sepal_width\\\":3.0,\\\"petal_length\\\":1.4,\\\"petal_width\\\":0.3,\\\"class\\\":\\\"Iris-setosa\\\"},{\\\"sepal_length\\\":5.1,\\\"sepal_width\\\":3.8,\\\"petal_length\\\":1.6,\\\"petal_width\\\":0.2,\\\"class\\\":\\\"Iris-setosa\\\"},{\\\"sepal_length\\\":4.6,\\\"sepal_width\\\":3.2,\\\"petal_length\\\":1.4,\\\"petal_width\\\":0.2,\\\"class\\\":\\\"Iris-setosa\\\"},{\\\"sepal_length\\\":5.3,\\\"sepal_width\\\":3.7,\\\"petal_length\\\":1.5,\\\"petal_width\\\":0.2,\\\"class\\\":\\\"Iris-setosa\\\"},{\\\"sepal_length\\\":5.0,\\\"sepal_width\\\":3.3,\\\"petal_length\\\":1.4,\\\"petal_width\\\":0.2,\\\"class\\\":\\\"Iris-setosa\\\"},{\\\"sepal_length\\\":7.0,\\\"sepal_width\\\":3.2,\\\"petal_length\\\":4.7,\\\"petal_width\\\":1.4,\\\"class\\\":\\\"Iris-versicolor\\\"},{\\\"sepal_length\\\":6.4,\\\"sepal_width\\\":3.2,\\\"petal_length\\\":4.5,\\\"petal_width\\\":1.5,\\\"class\\\":\\\"Iris-versicolor\\\"},{\\\"sepal_length\\\":6.9,\\\"sepal_width\\\":3.1,\\\"petal_length\\\":4.9,\\\"petal_width\\\":1.5,\\\"class\\\":\\\"Iris-versicolor\\\"},{\\\"sepal_length\\\":5.5,\\\"sepal_width\\\":2.3,\\\"petal_length\\\":4.0,\\\"petal_width\\\":1.3,\\\"class\\\":\\\"Iris-versicolor\\\"},{\\\"sepal_length\\\":6.5,\\\"sepal_width\\\":2.8,\\\"petal_length\\\":4.6,\\\"petal_width\\\":1.5,\\\"class\\\":\\\"Iris-versicolor\\\"},{\\\"sepal_length\\\":5.7,\\\"sepal_width\\\":2.8,\\\"petal_length\\\":4.5,\\\"petal_width\\\":1.3,\\\"class\\\":\\\"Iris-versicolor\\\"},{\\\"sepal_length\\\":6.3,\\\"sepal_width\\\":3.3,\\\"petal_length\\\":4.7,\\\"petal_width\\\":1.6,\\\"class\\\":\\\"Iris-versicolor\\\"},{\\\"sepal_length\\\":4.9,\\\"sepal_width\\\":2.4,\\\"petal_length\\\":3.3,\\\"petal_width\\\":1.0,\\\"class\\\":\\\"Iris-versicolor\\\"},{\\\"sepal_length\\\":6.6,\\\"sepal_width\\\":2.9,\\\"petal_length\\\":4.6,\\\"petal_width\\\":1.3,\\\"class\\\":\\\"Iris-versicolor\\\"},{\\\"sepal_length\\\":5.2,\\\"sepal_width\\\":2.7,\\\"petal_length\\\":3.9,\\\"petal_width\\\":1.4,\\\"class\\\":\\\"Iris-versicolor\\\"},{\\\"sepal_length\\\":5.0,\\\"sepal_width\\\":2.0,\\\"petal_length\\\":3.5,\\\"petal_width\\\":1.0,\\\"class\\\":\\\"Iris-versicolor\\\"},{\\\"sepal_length\\\":5.9,\\\"sepal_width\\\":3.0,\\\"petal_length\\\":4.2,\\\"petal_width\\\":1.5,\\\"class\\\":\\\"Iris-versicolor\\\"},{\\\"sepal_length\\\":6.0,\\\"sepal_width\\\":2.2,\\\"petal_length\\\":4.0,\\\"petal_width\\\":1.0,\\\"class\\\":\\\"Iris-versicolor\\\"},{\\\"sepal_length\\\":6.1,\\\"sepal_width\\\":2.9,\\\"petal_length\\\":4.7,\\\"petal_width\\\":1.4,\\\"class\\\":\\\"Iris-versicolor\\\"},{\\\"sepal_length\\\":5.6,\\\"sepal_width\\\":2.9,\\\"petal_length\\\":3.6,\\\"petal_width\\\":1.3,\\\"class\\\":\\\"Iris-versicolor\\\"},{\\\"sepal_length\\\":6.7,\\\"sepal_width\\\":3.1,\\\"petal_length\\\":4.4,\\\"petal_width\\\":1.4,\\\"class\\\":\\\"Iris-versicolor\\\"},{\\\"sepal_length\\\":5.6,\\\"sepal_width\\\":3.0,\\\"petal_length\\\":4.5,\\\"petal_width\\\":1.5,\\\"class\\\":\\\"Iris-versicolor\\\"},{\\\"sepal_length\\\":5.8,\\\"sepal_width\\\":2.7,\\\"petal_length\\\":4.1,\\\"petal_width\\\":1.0,\\\"class\\\":\\\"Iris-versicolor\\\"},{\\\"sepal_length\\\":6.2,\\\"sepal_width\\\":2.2,\\\"petal_length\\\":4.5,\\\"petal_width\\\":1.5,\\\"class\\\":\\\"Iris-versicolor\\\"},{\\\"sepal_length\\\":5.6,\\\"sepal_width\\\":2.5,\\\"petal_length\\\":3.9,\\\"petal_width\\\":1.1,\\\"class\\\":\\\"Iris-versicolor\\\"},{\\\"sepal_length\\\":5.9,\\\"sepal_width\\\":3.2,\\\"petal_length\\\":4.8,\\\"petal_width\\\":1.8,\\\"class\\\":\\\"Iris-versicolor\\\"},{\\\"sepal_length\\\":6.1,\\\"sepal_width\\\":2.8,\\\"petal_length\\\":4.0,\\\"petal_width\\\":1.3,\\\"class\\\":\\\"Iris-versicolor\\\"},{\\\"sepal_length\\\":6.3,\\\"sepal_width\\\":2.5,\\\"petal_length\\\":4.9,\\\"petal_width\\\":1.5,\\\"class\\\":\\\"Iris-versicolor\\\"},{\\\"sepal_length\\\":6.1,\\\"sepal_width\\\":2.8,\\\"petal_length\\\":4.7,\\\"petal_width\\\":1.2,\\\"class\\\":\\\"Iris-versicolor\\\"},{\\\"sepal_length\\\":6.4,\\\"sepal_width\\\":2.9,\\\"petal_length\\\":4.3,\\\"petal_width\\\":1.3,\\\"class\\\":\\\"Iris-versicolor\\\"},{\\\"sepal_length\\\":6.6,\\\"sepal_width\\\":3.0,\\\"petal_length\\\":4.4,\\\"petal_width\\\":1.4,\\\"class\\\":\\\"Iris-versicolor\\\"},{\\\"sepal_length\\\":6.8,\\\"sepal_width\\\":2.8,\\\"petal_length\\\":4.8,\\\"petal_width\\\":1.4,\\\"class\\\":\\\"Iris-versicolor\\\"},{\\\"sepal_length\\\":6.7,\\\"sepal_width\\\":3.0,\\\"petal_length\\\":5.0,\\\"petal_width\\\":1.7,\\\"class\\\":\\\"Iris-versicolor\\\"},{\\\"sepal_length\\\":6.0,\\\"sepal_width\\\":2.9,\\\"petal_length\\\":4.5,\\\"petal_width\\\":1.5,\\\"class\\\":\\\"Iris-versicolor\\\"},{\\\"sepal_length\\\":5.7,\\\"sepal_width\\\":2.6,\\\"petal_length\\\":3.5,\\\"petal_width\\\":1.0,\\\"class\\\":\\\"Iris-versicolor\\\"},{\\\"sepal_length\\\":5.5,\\\"sepal_width\\\":2.4,\\\"petal_length\\\":3.8,\\\"petal_width\\\":1.1,\\\"class\\\":\\\"Iris-versicolor\\\"},{\\\"sepal_length\\\":5.5,\\\"sepal_width\\\":2.4,\\\"petal_length\\\":3.7,\\\"petal_width\\\":1.0,\\\"class\\\":\\\"Iris-versicolor\\\"},{\\\"sepal_length\\\":5.8,\\\"sepal_width\\\":2.7,\\\"petal_length\\\":3.9,\\\"petal_width\\\":1.2,\\\"class\\\":\\\"Iris-versicolor\\\"},{\\\"sepal_length\\\":6.0,\\\"sepal_width\\\":2.7,\\\"petal_length\\\":5.1,\\\"petal_width\\\":1.6,\\\"class\\\":\\\"Iris-versicolor\\\"},{\\\"sepal_length\\\":5.4,\\\"sepal_width\\\":3.0,\\\"petal_length\\\":4.5,\\\"petal_width\\\":1.5,\\\"class\\\":\\\"Iris-versicolor\\\"},{\\\"sepal_length\\\":6.0,\\\"sepal_width\\\":3.4,\\\"petal_length\\\":4.5,\\\"petal_width\\\":1.6,\\\"class\\\":\\\"Iris-versicolor\\\"},{\\\"sepal_length\\\":6.7,\\\"sepal_width\\\":3.1,\\\"petal_length\\\":4.7,\\\"petal_width\\\":1.5,\\\"class\\\":\\\"Iris-versicolor\\\"},{\\\"sepal_length\\\":6.3,\\\"sepal_width\\\":2.3,\\\"petal_length\\\":4.4,\\\"petal_width\\\":1.3,\\\"class\\\":\\\"Iris-versicolor\\\"},{\\\"sepal_length\\\":5.6,\\\"sepal_width\\\":3.0,\\\"petal_length\\\":4.1,\\\"petal_width\\\":1.3,\\\"class\\\":\\\"Iris-versicolor\\\"},{\\\"sepal_length\\\":5.5,\\\"sepal_width\\\":2.5,\\\"petal_length\\\":4.0,\\\"petal_width\\\":1.3,\\\"class\\\":\\\"Iris-versicolor\\\"},{\\\"sepal_length\\\":5.5,\\\"sepal_width\\\":2.6,\\\"petal_length\\\":4.4,\\\"petal_width\\\":1.2,\\\"class\\\":\\\"Iris-versicolor\\\"},{\\\"sepal_length\\\":6.1,\\\"sepal_width\\\":3.0,\\\"petal_length\\\":4.6,\\\"petal_width\\\":1.4,\\\"class\\\":\\\"Iris-versicolor\\\"},{\\\"sepal_length\\\":5.8,\\\"sepal_width\\\":2.6,\\\"petal_length\\\":4.0,\\\"petal_width\\\":1.2,\\\"class\\\":\\\"Iris-versicolor\\\"},{\\\"sepal_length\\\":5.0,\\\"sepal_width\\\":2.3,\\\"petal_length\\\":3.3,\\\"petal_width\\\":1.0,\\\"class\\\":\\\"Iris-versicolor\\\"},{\\\"sepal_length\\\":5.6,\\\"sepal_width\\\":2.7,\\\"petal_length\\\":4.2,\\\"petal_width\\\":1.3,\\\"class\\\":\\\"Iris-versicolor\\\"},{\\\"sepal_length\\\":5.7,\\\"sepal_width\\\":3.0,\\\"petal_length\\\":4.2,\\\"petal_width\\\":1.2,\\\"class\\\":\\\"Iris-versicolor\\\"},{\\\"sepal_length\\\":5.7,\\\"sepal_width\\\":2.9,\\\"petal_length\\\":4.2,\\\"petal_width\\\":1.3,\\\"class\\\":\\\"Iris-versicolor\\\"},{\\\"sepal_length\\\":6.2,\\\"sepal_width\\\":2.9,\\\"petal_length\\\":4.3,\\\"petal_width\\\":1.3,\\\"class\\\":\\\"Iris-versicolor\\\"},{\\\"sepal_length\\\":5.1,\\\"sepal_width\\\":2.5,\\\"petal_length\\\":3.0,\\\"petal_width\\\":1.1,\\\"class\\\":\\\"Iris-versicolor\\\"},{\\\"sepal_length\\\":5.7,\\\"sepal_width\\\":2.8,\\\"petal_length\\\":4.1,\\\"petal_width\\\":1.3,\\\"class\\\":\\\"Iris-versicolor\\\"},{\\\"sepal_length\\\":6.3,\\\"sepal_width\\\":3.3,\\\"petal_length\\\":6.0,\\\"petal_width\\\":2.5,\\\"class\\\":\\\"Iris-virginica\\\"},{\\\"sepal_length\\\":5.8,\\\"sepal_width\\\":2.7,\\\"petal_length\\\":5.1,\\\"petal_width\\\":1.9,\\\"class\\\":\\\"Iris-virginica\\\"},{\\\"sepal_length\\\":7.1,\\\"sepal_width\\\":3.0,\\\"petal_length\\\":5.9,\\\"petal_width\\\":2.1,\\\"class\\\":\\\"Iris-virginica\\\"},{\\\"sepal_length\\\":6.3,\\\"sepal_width\\\":2.9,\\\"petal_length\\\":5.6,\\\"petal_width\\\":1.8,\\\"class\\\":\\\"Iris-virginica\\\"},{\\\"sepal_length\\\":6.5,\\\"sepal_width\\\":3.0,\\\"petal_length\\\":5.8,\\\"petal_width\\\":2.2,\\\"class\\\":\\\"Iris-virginica\\\"},{\\\"sepal_length\\\":7.6,\\\"sepal_width\\\":3.0,\\\"petal_length\\\":6.6,\\\"petal_width\\\":2.1,\\\"class\\\":\\\"Iris-virginica\\\"},{\\\"sepal_length\\\":4.9,\\\"sepal_width\\\":2.5,\\\"petal_length\\\":4.5,\\\"petal_width\\\":1.7,\\\"class\\\":\\\"Iris-virginica\\\"},{\\\"sepal_length\\\":7.3,\\\"sepal_width\\\":2.9,\\\"petal_length\\\":6.3,\\\"petal_width\\\":1.8,\\\"class\\\":\\\"Iris-virginica\\\"},{\\\"sepal_length\\\":6.7,\\\"sepal_width\\\":2.5,\\\"petal_length\\\":5.8,\\\"petal_width\\\":1.8,\\\"class\\\":\\\"Iris-virginica\\\"},{\\\"sepal_length\\\":7.2,\\\"sepal_width\\\":3.6,\\\"petal_length\\\":6.1,\\\"petal_width\\\":2.5,\\\"class\\\":\\\"Iris-virginica\\\"},{\\\"sepal_length\\\":6.5,\\\"sepal_width\\\":3.2,\\\"petal_length\\\":5.1,\\\"petal_width\\\":2.0,\\\"class\\\":\\\"Iris-virginica\\\"},{\\\"sepal_length\\\":6.4,\\\"sepal_width\\\":2.7,\\\"petal_length\\\":5.3,\\\"petal_width\\\":1.9,\\\"class\\\":\\\"Iris-virginica\\\"},{\\\"sepal_length\\\":6.8,\\\"sepal_width\\\":3.0,\\\"petal_length\\\":5.5,\\\"petal_width\\\":2.1,\\\"class\\\":\\\"Iris-virginica\\\"},{\\\"sepal_length\\\":5.7,\\\"sepal_width\\\":2.5,\\\"petal_length\\\":5.0,\\\"petal_width\\\":2.0,\\\"class\\\":\\\"Iris-virginica\\\"},{\\\"sepal_length\\\":5.8,\\\"sepal_width\\\":2.8,\\\"petal_length\\\":5.1,\\\"petal_width\\\":2.4,\\\"class\\\":\\\"Iris-virginica\\\"},{\\\"sepal_length\\\":6.4,\\\"sepal_width\\\":3.2,\\\"petal_length\\\":5.3,\\\"petal_width\\\":2.3,\\\"class\\\":\\\"Iris-virginica\\\"},{\\\"sepal_length\\\":6.5,\\\"sepal_width\\\":3.0,\\\"petal_length\\\":5.5,\\\"petal_width\\\":1.8,\\\"class\\\":\\\"Iris-virginica\\\"},{\\\"sepal_length\\\":7.7,\\\"sepal_width\\\":3.8,\\\"petal_length\\\":6.7,\\\"petal_width\\\":2.2,\\\"class\\\":\\\"Iris-virginica\\\"},{\\\"sepal_length\\\":7.7,\\\"sepal_width\\\":2.6,\\\"petal_length\\\":6.9,\\\"petal_width\\\":2.3,\\\"class\\\":\\\"Iris-virginica\\\"},{\\\"sepal_length\\\":6.0,\\\"sepal_width\\\":2.2,\\\"petal_length\\\":5.0,\\\"petal_width\\\":1.5,\\\"class\\\":\\\"Iris-virginica\\\"},{\\\"sepal_length\\\":6.9,\\\"sepal_width\\\":3.2,\\\"petal_length\\\":5.7,\\\"petal_width\\\":2.3,\\\"class\\\":\\\"Iris-virginica\\\"},{\\\"sepal_length\\\":5.6,\\\"sepal_width\\\":2.8,\\\"petal_length\\\":4.9,\\\"petal_width\\\":2.0,\\\"class\\\":\\\"Iris-virginica\\\"},{\\\"sepal_length\\\":7.7,\\\"sepal_width\\\":2.8,\\\"petal_length\\\":6.7,\\\"petal_width\\\":2.0,\\\"class\\\":\\\"Iris-virginica\\\"},{\\\"sepal_length\\\":6.3,\\\"sepal_width\\\":2.7,\\\"petal_length\\\":4.9,\\\"petal_width\\\":1.8,\\\"class\\\":\\\"Iris-virginica\\\"},{\\\"sepal_length\\\":6.7,\\\"sepal_width\\\":3.3,\\\"petal_length\\\":5.7,\\\"petal_width\\\":2.1,\\\"class\\\":\\\"Iris-virginica\\\"},{\\\"sepal_length\\\":7.2,\\\"sepal_width\\\":3.2,\\\"petal_length\\\":6.0,\\\"petal_width\\\":1.8,\\\"class\\\":\\\"Iris-virginica\\\"},{\\\"sepal_length\\\":6.2,\\\"sepal_width\\\":2.8,\\\"petal_length\\\":4.8,\\\"petal_width\\\":1.8,\\\"class\\\":\\\"Iris-virginica\\\"},{\\\"sepal_length\\\":6.1,\\\"sepal_width\\\":3.0,\\\"petal_length\\\":4.9,\\\"petal_width\\\":1.8,\\\"class\\\":\\\"Iris-virginica\\\"},{\\\"sepal_length\\\":6.4,\\\"sepal_width\\\":2.8,\\\"petal_length\\\":5.6,\\\"petal_width\\\":2.1,\\\"class\\\":\\\"Iris-virginica\\\"},{\\\"sepal_length\\\":7.2,\\\"sepal_width\\\":3.0,\\\"petal_length\\\":5.8,\\\"petal_width\\\":1.6,\\\"class\\\":\\\"Iris-virginica\\\"},{\\\"sepal_length\\\":7.4,\\\"sepal_width\\\":2.8,\\\"petal_length\\\":6.1,\\\"petal_width\\\":1.9,\\\"class\\\":\\\"Iris-virginica\\\"},{\\\"sepal_length\\\":7.9,\\\"sepal_width\\\":3.8,\\\"petal_length\\\":6.4,\\\"petal_width\\\":2.0,\\\"class\\\":\\\"Iris-virginica\\\"},{\\\"sepal_length\\\":6.4,\\\"sepal_width\\\":2.8,\\\"petal_length\\\":5.6,\\\"petal_width\\\":2.2,\\\"class\\\":\\\"Iris-virginica\\\"},{\\\"sepal_length\\\":6.3,\\\"sepal_width\\\":2.8,\\\"petal_length\\\":5.1,\\\"petal_width\\\":1.5,\\\"class\\\":\\\"Iris-virginica\\\"},{\\\"sepal_length\\\":6.1,\\\"sepal_width\\\":2.6,\\\"petal_length\\\":5.6,\\\"petal_width\\\":1.4,\\\"class\\\":\\\"Iris-virginica\\\"},{\\\"sepal_length\\\":7.7,\\\"sepal_width\\\":3.0,\\\"petal_length\\\":6.1,\\\"petal_width\\\":2.3,\\\"class\\\":\\\"Iris-virginica\\\"},{\\\"sepal_length\\\":6.3,\\\"sepal_width\\\":3.4,\\\"petal_length\\\":5.6,\\\"petal_width\\\":2.4,\\\"class\\\":\\\"Iris-virginica\\\"},{\\\"sepal_length\\\":6.4,\\\"sepal_width\\\":3.1,\\\"petal_length\\\":5.5,\\\"petal_width\\\":1.8,\\\"class\\\":\\\"Iris-virginica\\\"},{\\\"sepal_length\\\":6.0,\\\"sepal_width\\\":3.0,\\\"petal_length\\\":4.8,\\\"petal_width\\\":1.8,\\\"class\\\":\\\"Iris-virginica\\\"},{\\\"sepal_length\\\":6.9,\\\"sepal_width\\\":3.1,\\\"petal_length\\\":5.4,\\\"petal_width\\\":2.1,\\\"class\\\":\\\"Iris-virginica\\\"},{\\\"sepal_length\\\":6.7,\\\"sepal_width\\\":3.1,\\\"petal_length\\\":5.6,\\\"petal_width\\\":2.4,\\\"class\\\":\\\"Iris-virginica\\\"},{\\\"sepal_length\\\":6.9,\\\"sepal_width\\\":3.1,\\\"petal_length\\\":5.1,\\\"petal_width\\\":2.3,\\\"class\\\":\\\"Iris-virginica\\\"},{\\\"sepal_length\\\":5.8,\\\"sepal_width\\\":2.7,\\\"petal_length\\\":5.1,\\\"petal_width\\\":1.9,\\\"class\\\":\\\"Iris-virginica\\\"},{\\\"sepal_length\\\":6.8,\\\"sepal_width\\\":3.2,\\\"petal_length\\\":5.9,\\\"petal_width\\\":2.3,\\\"class\\\":\\\"Iris-virginica\\\"},{\\\"sepal_length\\\":6.7,\\\"sepal_width\\\":3.3,\\\"petal_length\\\":5.7,\\\"petal_width\\\":2.5,\\\"class\\\":\\\"Iris-virginica\\\"},{\\\"sepal_length\\\":6.7,\\\"sepal_width\\\":3.0,\\\"petal_length\\\":5.2,\\\"petal_width\\\":2.3,\\\"class\\\":\\\"Iris-virginica\\\"},{\\\"sepal_length\\\":6.3,\\\"sepal_width\\\":2.5,\\\"petal_length\\\":5.0,\\\"petal_width\\\":1.9,\\\"class\\\":\\\"Iris-virginica\\\"},{\\\"sepal_length\\\":6.5,\\\"sepal_width\\\":3.0,\\\"petal_length\\\":5.2,\\\"petal_width\\\":2.0,\\\"class\\\":\\\"Iris-virginica\\\"},{\\\"sepal_length\\\":6.2,\\\"sepal_width\\\":3.4,\\\"petal_length\\\":5.4,\\\"petal_width\\\":2.3,\\\"class\\\":\\\"Iris-virginica\\\"},{\\\"sepal_length\\\":5.9,\\\"sepal_width\\\":3.0,\\\"petal_length\\\":5.1,\\\"petal_width\\\":1.8,\\\"class\\\":\\\"Iris-virginica\\\"}],\\\"onCellClicked\\\":(function (ev){var x={}; (ev.rowIndex!==undefined) ? (x[\\\"rowIndex\\\"]=(ev.rowIndex+1)) : undefined; (ev.colDef!==undefined) ? (x[\\\"column\\\"]=ev.colDef.headerName) : undefined; return WebIO.setval({\\\"name\\\":\\\"onCellClicked\\\",\\\"scope\\\":\\\"12808970643626436571\\\",\\\"id\\\":\\\"7874171459477235224\\\",\\\"type\\\":\\\"observable\\\"},x)})}; var el=document.getElementById(\\\"grid-ff0c5e1c\\\"); gridOptions.components={\\\"rowNumberRenderer\\\":RowNumberRenderer}; false ? (agGrid.LicenseManager.setLicenseKey(null)) : undefined; this.table=new agGrid.Grid(el,gridOptions); return gridOptions.columnApi.autoSizeAllColumns()}));\\n    (WebIO.importBlock({\\\"data\\\":[{\\\"name\\\":null,\\\"type\\\":\\\"js\\\",\\\"url\\\":\\\"/assetserver/ff7cedeb3c0be1fe3b78420e39e5831529252e27-rowNumberRenderer.js\\\"},{\\\"name\\\":null,\\\"type\\\":\\\"js\\\",\\\"url\\\":\\\"/assetserver/bd0edaba5158ded95855aef34fd8f3dd96ae49fb-ag-grid.js\\\"},{\\\"name\\\":null,\\\"type\\\":\\\"css\\\",\\\"url\\\":\\\"/assetserver/77a698eb508b878c6fc123d504f8b478c0953d4e-ag-grid.css\\\"},{\\\"name\\\":null,\\\"type\\\":\\\"css\\\",\\\"url\\\":\\\"/assetserver/e32886774615890ea3135fc2948c5a5d84679ad0-ag-grid-light.css\\\"},{\\\"name\\\":null,\\\"type\\\":\\\"css\\\",\\\"url\\\":\\\"/assetserver/d729992f1accd067e59a3e0aef7bd027c5dbf032-ag-grid-dark.css\\\"}],\\\"type\\\":\\\"async_block\\\"})).then((imports) => handler.apply(this, imports));\\n}\\n\")])"
      ]
     },
     "execution_count": 4,
     "metadata": {
      "application/vnd.webio.node+json": {
       "kernelId": null
      }
     },
     "output_type": "execute_result"
    }
   ],
   "source": [
    "iris = CSV.read(\"iris.csv\",DataFrames.DataFrame,stringtype=String)\n",
    "showtable(iris)"
   ]
  },
  {
   "cell_type": "code",
   "execution_count": 5,
   "id": "7794ddfb",
   "metadata": {
    "scrolled": true
   },
   "outputs": [
    {
     "data": {
      "text/plain": [
       "(CategoricalArrays.CategoricalValue{String, UInt32}[\"Iris-setosa\", \"Iris-setosa\", \"Iris-setosa\", \"Iris-setosa\", \"Iris-setosa\", \"Iris-setosa\", \"Iris-setosa\", \"Iris-setosa\", \"Iris-setosa\", \"Iris-setosa\"  …  \"Iris-virginica\", \"Iris-virginica\", \"Iris-virginica\", \"Iris-virginica\", \"Iris-virginica\", \"Iris-virginica\", \"Iris-virginica\", \"Iris-virginica\", \"Iris-virginica\", \"Iris-virginica\"], \u001b[1m150×4 DataFrame\u001b[0m\n",
       "\u001b[1m Row \u001b[0m│\u001b[1m sepal_length \u001b[0m\u001b[1m sepal_width \u001b[0m\u001b[1m petal_length \u001b[0m\u001b[1m petal_width \u001b[0m\n",
       "\u001b[1m     \u001b[0m│\u001b[90m Float64      \u001b[0m\u001b[90m Float64     \u001b[0m\u001b[90m Float64      \u001b[0m\u001b[90m Float64     \u001b[0m\n",
       "─────┼──────────────────────────────────────────────────────\n",
       "   1 │          5.1          3.5           1.4          0.2\n",
       "   2 │          4.9          3.0           1.4          0.2\n",
       "   3 │          4.7          3.2           1.3          0.2\n",
       "   4 │          4.6          3.1           1.5          0.2\n",
       "   5 │          5.0          3.6           1.4          0.2\n",
       "   6 │          5.4          3.9           1.7          0.4\n",
       "   7 │          4.6          3.4           1.4          0.3\n",
       "   8 │          5.0          3.4           1.5          0.2\n",
       "   9 │          4.4          2.9           1.4          0.2\n",
       "  10 │          4.9          3.1           1.5          0.1\n",
       "  11 │          5.4          3.7           1.5          0.2\n",
       "  ⋮  │      ⋮             ⋮            ⋮             ⋮\n",
       " 141 │          6.7          3.1           5.6          2.4\n",
       " 142 │          6.9          3.1           5.1          2.3\n",
       " 143 │          5.8          2.7           5.1          1.9\n",
       " 144 │          6.8          3.2           5.9          2.3\n",
       " 145 │          6.7          3.3           5.7          2.5\n",
       " 146 │          6.7          3.0           5.2          2.3\n",
       " 147 │          6.3          2.5           5.0          1.9\n",
       " 148 │          6.5          3.0           5.2          2.0\n",
       " 149 │          6.2          3.4           5.4          2.3\n",
       " 150 │          5.9          3.0           5.1          1.8\n",
       "\u001b[36m                                            129 rows omitted\u001b[0m)"
      ]
     },
     "execution_count": 5,
     "metadata": {},
     "output_type": "execute_result"
    }
   ],
   "source": [
    "coerce!(iris,:class=>Multiclass)\n",
    "schema(iris)\n",
    "y,x=unpack(iris,\n",
    "    ==(:class),colname -> true )"
   ]
  },
  {
   "cell_type": "code",
   "execution_count": 10,
   "id": "6665c286",
   "metadata": {},
   "outputs": [
    {
     "data": {
      "text/plain": [
       "150-element Vector{String}:\n",
       " \"Iris-setosa\"\n",
       " \"Iris-setosa\"\n",
       " \"Iris-setosa\"\n",
       " \"Iris-setosa\"\n",
       " \"Iris-setosa\"\n",
       " \"Iris-setosa\"\n",
       " \"Iris-setosa\"\n",
       " \"Iris-setosa\"\n",
       " \"Iris-setosa\"\n",
       " \"Iris-setosa\"\n",
       " \"Iris-setosa\"\n",
       " \"Iris-setosa\"\n",
       " \"Iris-setosa\"\n",
       " ⋮\n",
       " \"Iris-virginica\"\n",
       " \"Iris-virginica\"\n",
       " \"Iris-virginica\"\n",
       " \"Iris-virginica\"\n",
       " \"Iris-virginica\"\n",
       " \"Iris-virginica\"\n",
       " \"Iris-virginica\"\n",
       " \"Iris-virginica\"\n",
       " \"Iris-virginica\"\n",
       " \"Iris-virginica\"\n",
       " \"Iris-virginica\"\n",
       " \"Iris-virginica\""
      ]
     },
     "execution_count": 10,
     "metadata": {},
     "output_type": "execute_result"
    }
   ],
   "source": [
    "y = [string(i) for i in y]"
   ]
  },
  {
   "cell_type": "code",
   "execution_count": 11,
   "id": "91a88628",
   "metadata": {
    "scrolled": true
   },
   "outputs": [
    {
     "ename": "LoadError",
     "evalue": "ArgumentError: `stratify` must have `Count`, `Continuous` or `Finite` element scitpye. Consider `coerce(stratify, Finite)`. ",
     "output_type": "error",
     "traceback": [
      "ArgumentError: `stratify` must have `Count`, `Continuous` or `Finite` element scitpye. Consider `coerce(stratify, Finite)`. ",
      "",
      "Stacktrace:",
      " [1] _make_numerical(v::Vector{String})",
      "   @ MLJBase ~/.julia/packages/MLJBase/W4gFl/src/data/data.jl:31",
      " [2] _partition(rows::Vector{Int64}, fractions::Vector{Float64}, raw_stratify::Vector{String})",
      "   @ MLJBase ~/.julia/packages/MLJBase/W4gFl/src/data/data.jl:41",
      " [3] partition(rows::Base.OneTo{Int64}, fractions::Float64; shuffle::Bool, rng::Int64, stratify::Vector{String})",
      "   @ MLJBase ~/.julia/packages/MLJBase/W4gFl/src/data/data.jl:149",
      " [4] top-level scope",
      "   @ In[11]:1",
      " [5] eval",
      "   @ ./boot.jl:360 [inlined]",
      " [6] include_string(mapexpr::typeof(REPL.softscope), mod::Module, code::String, filename::String)",
      "   @ Base ./loading.jl:1116"
     ]
    }
   ],
   "source": [
    "train, test = partition(eachindex(y), 0.8, stratify=y,  shuffle=true, rng=1234)"
   ]
  },
  {
   "cell_type": "code",
   "execution_count": null,
   "id": "d17f81e6",
   "metadata": {},
   "outputs": [],
   "source": [
    "? partition()"
   ]
  },
  {
   "cell_type": "code",
   "execution_count": 11,
   "id": "6544f2f6",
   "metadata": {},
   "outputs": [
    {
     "name": "stdout",
     "output_type": "stream",
     "text": [
      "search:\n",
      "\n",
      "Couldn't find \u001b[36mpartition()\u001b[39m\n",
      "\n",
      "\n",
      "\u001b[36m# lcc = @load MultinomialClassifier pkg =\"MLJLinearModels\" # loads code defining a model type\u001b[39m\n",
      "\u001b[36m# lc = lcc()\u001b[39m\n",
      "Perhaps you meant MulticlassNegativePredictiveValue\n"
     ]
    },
    {
     "data": {
      "text/latex": [
       "No documentation found.\n",
       "\n",
       "Binding `partition()\n",
       "\n",
       "\\section{lcc = @load MultinomialClassifier pkg =\"MLJLinearModels\" \\# loads code defining a model type}\n",
       "\\section{lc = lcc()` does not exist.}\n"
      ],
      "text/markdown": [
       "No documentation found.\n",
       "\n",
       "Binding `partition()\n",
       "\n",
       "# lcc = @load MultinomialClassifier pkg =\"MLJLinearModels\" # loads code defining a model type\n",
       "\n",
       "# lc = lcc()` does not exist.\n"
      ],
      "text/plain": [
       "  No documentation found.\n",
       "\n",
       "  Binding `partition()\n",
       "\n",
       "\u001b[1m  lcc = @load MultinomialClassifier pkg =\"MLJLinearModels\" # loads code\u001b[22m\n",
       "\u001b[1m defining a model type\u001b[22m\n",
       "\u001b[1m  ≡≡≡≡≡≡≡≡≡≡≡≡≡≡≡≡≡≡≡≡≡≡≡≡≡≡\u001b[22m\n",
       "\n",
       "\u001b[1m  lc = lcc()` does not exist.\u001b[22m\n",
       "\u001b[1m  ≡≡≡≡≡≡≡≡≡≡≡≡≡≡≡≡≡≡≡≡≡≡≡≡≡≡≡≡≡\u001b[22m"
      ]
     },
     "execution_count": 11,
     "metadata": {},
     "output_type": "execute_result"
    }
   ],
   "source": [
    "\n",
    "\n",
    "\n",
    "\n",
    "# lcc = @load MultinomialClassifier pkg =\"MLJLinearModels\" # loads code defining a model type\n",
    "# lc = lcc()\n",
    "\n"
   ]
  },
  {
   "cell_type": "code",
   "execution_count": 101,
   "id": "f93a6eec",
   "metadata": {},
   "outputs": [
    {
     "data": {
      "text/plain": [
       "Pipeline289(\n",
       "    standardizer = Standardizer(\n",
       "            features = Symbol[],\n",
       "            ignore = false,\n",
       "            ordered_factor = false,\n",
       "            count = false),\n",
       "    multinomial_classifier = MultinomialClassifier(\n",
       "            lambda = 1.0,\n",
       "            gamma = 0.0,\n",
       "            penalty = :l2,\n",
       "            fit_intercept = true,\n",
       "            penalize_intercept = false,\n",
       "            solver = nothing))\u001b[34m @287\u001b[39m"
      ]
     },
     "execution_count": 101,
     "metadata": {},
     "output_type": "execute_result"
    }
   ],
   "source": [
    "pipe = @pipeline Standardizer lcc() "
   ]
  },
  {
   "cell_type": "code",
   "execution_count": 112,
   "id": "c5a4848c",
   "metadata": {},
   "outputs": [
    {
     "name": "stderr",
     "output_type": "stream",
     "text": [
      "┌ Info: Creating subsamples from a subset of all rows. \n",
      "└ @ MLJBase /Users/alexpanchot/.julia/packages/MLJBase/W4gFl/src/resampling.jl:492\n",
      "┌ Info: Performing evaluations using 6 threads.\n",
      "└ @ MLJBase /Users/alexpanchot/.julia/packages/MLJBase/W4gFl/src/resampling.jl:1118\n",
      "┌ Info: Training \u001b[34mMachine{Pipeline289,…} @392\u001b[39m.\n",
      "└ @ MLJBase /Users/alexpanchot/.julia/packages/MLJBase/W4gFl/src/machines.jl:391\n",
      "┌ Info: Training \u001b[34mMachine{Pipeline289,…} @208\u001b[39m.\n",
      "└ @ MLJBase /Users/alexpanchot/.julia/packages/MLJBase/W4gFl/src/machines.jl:391\n",
      "┌ Info: Training \u001b[34mMachine{Pipeline289,…} @088\u001b[39m.\n",
      "└ @ MLJBase /Users/alexpanchot/.julia/packages/MLJBase/W4gFl/src/machines.jl:391\n",
      "┌ Info: Training \u001b[34mMachine{Pipeline289,…} @211\u001b[39m.\n",
      "└ @ MLJBase /Users/alexpanchot/.julia/packages/MLJBase/W4gFl/src/machines.jl:391\n",
      "┌ Info: Training \u001b[34mMachine{Pipeline289,…} @627\u001b[39m.\n",
      "└ @ MLJBase /Users/alexpanchot/.julia/packages/MLJBase/W4gFl/src/machines.jl:391\n",
      "┌ Info: Training \u001b[34mMachine{Standardizer,…} @530\u001b[39m.\n",
      "└ @ MLJBase /Users/alexpanchot/.julia/packages/MLJBase/W4gFl/src/machines.jl:391\n",
      "┌ Info: Training \u001b[34mMachine{Standardizer,…} @246\u001b[39m.\n",
      "└ @ MLJBase /Users/alexpanchot/.julia/packages/MLJBase/W4gFl/src/machines.jl:391\n",
      "┌ Info: Training \u001b[34mMachine{Standardizer,…} @098\u001b[39m.\n",
      "└ @ MLJBase /Users/alexpanchot/.julia/packages/MLJBase/W4gFl/src/machines.jl:391\n",
      "┌ Info: Training \u001b[34mMachine{Standardizer,…} @245\u001b[39m.\n",
      "└ @ MLJBase /Users/alexpanchot/.julia/packages/MLJBase/W4gFl/src/machines.jl:391\n",
      "┌ Info: Training \u001b[34mMachine{Standardizer,…} @401\u001b[39m.\n",
      "└ @ MLJBase /Users/alexpanchot/.julia/packages/MLJBase/W4gFl/src/machines.jl:391\n",
      "┌ Info: Training \u001b[34mMachine{MultinomialClassifier,…} @518\u001b[39m.\n",
      "└ @ MLJBase /Users/alexpanchot/.julia/packages/MLJBase/W4gFl/src/machines.jl:391\n",
      "┌ Info: Training \u001b[34mMachine{MultinomialClassifier,…} @169\u001b[39m.\n",
      "└ @ MLJBase /Users/alexpanchot/.julia/packages/MLJBase/W4gFl/src/machines.jl:391\n",
      "┌ Info: Training \u001b[34mMachine{MultinomialClassifier,…} @231\u001b[39m.\n",
      "└ @ MLJBase /Users/alexpanchot/.julia/packages/MLJBase/W4gFl/src/machines.jl:391\n",
      "┌ Info: Training \u001b[34mMachine{MultinomialClassifier,…} @588\u001b[39m.\n",
      "└ @ MLJBase /Users/alexpanchot/.julia/packages/MLJBase/W4gFl/src/machines.jl:391\n",
      "┌ Info: Training \u001b[34mMachine{MultinomialClassifier,…} @704\u001b[39m.\n",
      "└ @ MLJBase /Users/alexpanchot/.julia/packages/MLJBase/W4gFl/src/machines.jl:391\n",
      "\u001b[33mEvaluating over 5 folds: 100%[=========================] Time: 0:00:00\u001b[39m\n"
     ]
    }
   ],
   "source": [
    "res=evaluate(pipe,x,y, rows=train,\n",
    "                 measures=accuracy,\n",
    "                 resampling=StratifiedCV(nfolds=5, rng=123),\n",
    "                 acceleration=CPUThreads(),\n",
    "                 verbosity=2);"
   ]
  },
  {
   "cell_type": "code",
   "execution_count": 113,
   "id": "15bc22a4",
   "metadata": {},
   "outputs": [
    {
     "data": {
      "text/plain": [
       "1-element Vector{Vector{Float64}}:\n",
       " [0.9583333333333334, 0.9583333333333334, 1.0, 0.9166666666666666, 1.0]"
      ]
     },
     "execution_count": 113,
     "metadata": {},
     "output_type": "execute_result"
    }
   ],
   "source": [
    "res.per_fold"
   ]
  },
  {
   "cell_type": "code",
   "execution_count": 104,
   "id": "28e48f3b",
   "metadata": {},
   "outputs": [
    {
     "data": {
      "text/plain": [
       "30-element UnivariateFiniteVector{Multiclass{3}, String, UInt32, Float64}:\n",
       " UnivariateFinite{Multiclass{3}}(Iris-setosa=>0.00375, Iris-versicolor=>0.258, Iris-virginica=>0.739)\n",
       " UnivariateFinite{Multiclass{3}}(Iris-setosa=>0.00418, Iris-versicolor=>0.216, Iris-virginica=>0.78)\n",
       " UnivariateFinite{Multiclass{3}}(Iris-setosa=>0.0001, Iris-versicolor=>0.0544, Iris-virginica=>0.945)\n",
       " UnivariateFinite{Multiclass{3}}(Iris-setosa=>0.99, Iris-versicolor=>0.0102, Iris-virginica=>2.51e-7)\n",
       " UnivariateFinite{Multiclass{3}}(Iris-setosa=>0.105, Iris-versicolor=>0.88, Iris-virginica=>0.0145)\n",
       " UnivariateFinite{Multiclass{3}}(Iris-setosa=>0.973, Iris-versicolor=>0.027, Iris-virginica=>9.37e-7)\n",
       " UnivariateFinite{Multiclass{3}}(Iris-setosa=>0.993, Iris-versicolor=>0.00722, Iris-virginica=>1.9e-7)\n",
       " UnivariateFinite{Multiclass{3}}(Iris-setosa=>0.106, Iris-versicolor=>0.704, Iris-virginica=>0.19)\n",
       " UnivariateFinite{Multiclass{3}}(Iris-setosa=>0.017, Iris-versicolor=>0.725, Iris-virginica=>0.258)\n",
       " UnivariateFinite{Multiclass{3}}(Iris-setosa=>0.134, Iris-versicolor=>0.817, Iris-virginica=>0.0493)\n",
       " UnivariateFinite{Multiclass{3}}(Iris-setosa=>0.985, Iris-versicolor=>0.0146, Iris-virginica=>5.13e-7)\n",
       " UnivariateFinite{Multiclass{3}}(Iris-setosa=>0.00516, Iris-versicolor=>0.211, Iris-virginica=>0.784)\n",
       " UnivariateFinite{Multiclass{3}}(Iris-setosa=>0.0698, Iris-versicolor=>0.85, Iris-virginica=>0.0803)\n",
       " ⋮\n",
       " UnivariateFinite{Multiclass{3}}(Iris-setosa=>0.00555, Iris-versicolor=>0.734, Iris-virginica=>0.261)\n",
       " UnivariateFinite{Multiclass{3}}(Iris-setosa=>0.047, Iris-versicolor=>0.763, Iris-virginica=>0.19)\n",
       " UnivariateFinite{Multiclass{3}}(Iris-setosa=>0.000856, Iris-versicolor=>0.0375, Iris-virginica=>0.962)\n",
       " UnivariateFinite{Multiclass{3}}(Iris-setosa=>0.000146, Iris-versicolor=>0.0313, Iris-virginica=>0.969)\n",
       " UnivariateFinite{Multiclass{3}}(Iris-setosa=>0.979, Iris-versicolor=>0.0214, Iris-virginica=>7.03e-7)\n",
       " UnivariateFinite{Multiclass{3}}(Iris-setosa=>0.972, Iris-versicolor=>0.0281, Iris-virginica=>1.2e-6)\n",
       " UnivariateFinite{Multiclass{3}}(Iris-setosa=>0.00134, Iris-versicolor=>0.489, Iris-virginica=>0.509)\n",
       " UnivariateFinite{Multiclass{3}}(Iris-setosa=>0.956, Iris-versicolor=>0.0439, Iris-virginica=>1.26e-6)\n",
       " UnivariateFinite{Multiclass{3}}(Iris-setosa=>0.0199, Iris-versicolor=>0.869, Iris-virginica=>0.111)\n",
       " UnivariateFinite{Multiclass{3}}(Iris-setosa=>4.66e-5, Iris-versicolor=>0.0749, Iris-virginica=>0.925)\n",
       " UnivariateFinite{Multiclass{3}}(Iris-setosa=>0.00569, Iris-versicolor=>0.47, Iris-virginica=>0.525)\n",
       " UnivariateFinite{Multiclass{3}}(Iris-setosa=>0.0009, Iris-versicolor=>0.0638, Iris-virginica=>0.935)"
      ]
     },
     "execution_count": 104,
     "metadata": {},
     "output_type": "execute_result"
    }
   ],
   "source": [
    "MLJ.predict(mach, rows=test)"
   ]
  },
  {
   "cell_type": "code",
   "execution_count": 116,
   "id": "9b69ec24",
   "metadata": {},
   "outputs": [],
   "source": [
    "yhat=MLJ.predict_mode(mach, rows=test);"
   ]
  },
  {
   "cell_type": "code",
   "execution_count": 115,
   "id": "849a0711",
   "metadata": {},
   "outputs": [
    {
     "name": "stderr",
     "output_type": "stream",
     "text": [
      "┌ Warning: The classes are un-ordered,\n",
      "│ using order: [\"Iris-setosa\", \"Iris-versicolor\", \"Iris-virginica\"].\n",
      "│ To suppress this warning, consider coercing to OrderedFactor.\n",
      "└ @ MLJBase /Users/alexpanchot/.julia/packages/MLJBase/W4gFl/src/measures/confusion_matrix.jl:118\n"
     ]
    },
    {
     "data": {
      "text/plain": [
       "              ┌─────────────────────────────────────────┐\n",
       "              │              Ground Truth               │\n",
       "┌─────────────┼─────────────┬─────────────┬─────────────┤\n",
       "│  Predicted  │  Iris-set…  │  Iris-ver…  │  Iris-vir…  │\n",
       "├─────────────┼─────────────┼─────────────┼─────────────┤\n",
       "│  Iris-set…  │     10      │      0      │      0      │\n",
       "├─────────────┼─────────────┼─────────────┼─────────────┤\n",
       "│  Iris-ver…  │      0      │      9      │      1      │\n",
       "├─────────────┼─────────────┼─────────────┼─────────────┤\n",
       "│  Iris-vir…  │      0      │      1      │      9      │\n",
       "└─────────────┴─────────────┴─────────────┴─────────────┘\n"
      ]
     },
     "execution_count": 115,
     "metadata": {},
     "output_type": "execute_result"
    }
   ],
   "source": [
    "ConfusionMatrix()(yhat,y[test])"
   ]
  }
 ],
 "metadata": {
  "@webio": {
   "lastCommId": null,
   "lastKernelId": null
  },
  "kernelspec": {
   "display_name": "Julia 1.6.2",
   "language": "julia",
   "name": "julia-1.6"
  },
  "language_info": {
   "file_extension": ".jl",
   "mimetype": "application/julia",
   "name": "julia",
   "version": "1.6.2"
  }
 },
 "nbformat": 4,
 "nbformat_minor": 5
}
