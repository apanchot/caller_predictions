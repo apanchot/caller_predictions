{
 "cells": [
  {
   "cell_type": "code",
   "execution_count": 1,
   "id": "beeca6c0",
   "metadata": {},
   "outputs": [
    {
     "name": "stdout",
     "output_type": "stream",
     "text": [
      "Julia Version 1.6.2\n",
      "Commit 1b93d53fc4* (2021-07-14 15:36 UTC)\n",
      "Platform Info:\n",
      "  OS: macOS (x86_64-apple-darwin20.4.0)\n",
      "  CPU: Intel(R) Core(TM) i7-9750H CPU @ 2.60GHz\n",
      "  WORD_SIZE: 64\n",
      "  LIBM: libopenlibm\n",
      "  LLVM: libLLVM-12.0.1 (ORCJIT, skylake)\n",
      "Environment:\n",
      "  JULIA_NUM_THREADS = 6\n"
     ]
    }
   ],
   "source": [
    "versioninfo()"
   ]
  },
  {
   "cell_type": "code",
   "execution_count": 2,
   "id": "eca18ecf",
   "metadata": {},
   "outputs": [
    {
     "data": {
      "application/vnd.webio.node+json": {
       "children": [],
       "instanceArgs": {
        "namespace": "html",
        "tag": "div"
       },
       "nodeType": "DOM",
       "props": {},
       "type": "node"
      },
      "text/html": [
       "<div style=\"padding: 1em; background-color: #f8d6da; border: 1px solid #f5c6cb; font-weight: bold;\">\n",
       "<p>The WebIO Jupyter extension was not detected. See the\n",
       "<a href=\"https://juliagizmos.github.io/WebIO.jl/latest/providers/ijulia/\" target=\"_blank\">\n",
       "    WebIO Jupyter integration documentation\n",
       "</a>\n",
       "for more information.\n",
       "</div>\n"
      ],
      "text/plain": [
       "WebIO._IJuliaInit()"
      ]
     },
     "metadata": {
      "application/vnd.webio.node+json": {
       "kernelId": "26f9aa73-3ed9-4a43-83e5-5a33f7ef7e00"
      }
     },
     "output_type": "display_data"
    }
   ],
   "source": [
    "import CSV\n",
    "using DataFrames\n",
    "# using StatsBase\n",
    "include(\"pred_funcs.jl\")\n",
    "using MLJ\n",
    "# import MLJBase\n",
    "import TableView.showtable\n",
    "using Plots\n",
    "import FileIO\n",
    "# using Statistics"
   ]
  },
  {
   "cell_type": "code",
   "execution_count": 3,
   "id": "ac90372a",
   "metadata": {},
   "outputs": [
    {
     "data": {
      "text/plain": [
       "2"
      ]
     },
     "execution_count": 3,
     "metadata": {},
     "output_type": "execute_result"
    }
   ],
   "source": [
    "1+1"
   ]
  },
  {
   "cell_type": "code",
   "execution_count": 4,
   "id": "d58ead5a",
   "metadata": {},
   "outputs": [],
   "source": [
    "# XGBoostClassifier = @load XGBoostClassifier verbosity=0  # loads code defining a model type\n",
    "# LogisticClassifier = @load LogisticClassifier pkg=\"MLJLinearModels\" verbosity=0  # loads code defining a model type\n",
    "# AdaBoostStumpClassifier = @load AdaBoostStumpClassifier verbosity=0  # loads code defining a model type\n",
    "# EvoTreeClassifier = @load EvoTreeClassifier verbosity=0\n",
    "# GradientBoostingClassifier = @load GradientBoostingClassifier verbosity=0\n",
    "# EvoTreeGaussian = @load EvoTreeGaussian verbosity=0\n",
    "# SVC = @load SVC verbosity=0\n",
    "# LGBMClassifier = @load LGBMClassifier verbosity=0"
   ]
  },
  {
   "cell_type": "code",
   "execution_count": 5,
   "id": "321dff81",
   "metadata": {},
   "outputs": [],
   "source": [
    "L=CSV.read(\"lofreq_start.csv\",DataFrame,downcast=true,stringtype=String, missingstring=[\"\",\"NA\", \"NAN\", \"NULL\"]);\n",
    "L.real = [ismissing(i) ? false : i==1 ? true : false for i in L.real];\n",
    "L.training = [true for i in 1:nrow(L)]\n",
    "\n",
    "M=CSV.read(\"mutect_start.csv\",DataFrame,downcast=true,stringtype=String, missingstring=[\"\",\"NA\", \"NAN\", \"NULL\"]);\n",
    "M.real = [ismissing(i) ? false : i==1 ? true : false for i in M.real];\n",
    "M.training = [true for i in 1:nrow(M)]\n",
    "\n",
    "V=CSV.read(\"vardict_start.csv\",DataFrame,downcast=true,stringtype=String, missingstring=[\"\",\"NA\", \"NAN\", \"NULL\"]);\n",
    "V.real = [ismissing(i) ? false : i==1 ? true : false for i in V.real];\n",
    "V.training = [true for i in 1:nrow(V)]\n",
    "\n",
    "V2=CSV.read(\"vardict_BMT.csv\",DataFrame,downcast=false,stringtype=String, missingstring=[\"\",\"NA\", \"NAN\", \"NULL\"]);\n",
    "V2.real = [false for i in 1:nrow(V2) ];\n",
    "V2.sample_key = V2.subject .*\" \".* V2.key\n",
    "V2.FPpass = [true for i in 1:nrow(V2)]\n",
    "V2.training = [false for i in 1:nrow(V2)];\n",
    "\n",
    "P=CSV.read(\"pindel_start.csv\",DataFrame,downcast=true,stringtype=String, missingstring=[\"\",\"NA\", \"NAN\", \"NULL\"]);\n",
    "P.real = [ismissing(i) ? false : i==1 ? true : false for i in P.real];\n",
    "P.training = [true for i in 1:nrow(P)]\n",
    "\n",
    "M2=CSV.read(\"mutect_BMT.csv\",DataFrame,downcast=false,stringtype=String, missingstring=[\"\",\"NA\", \"NAN\", \"NULL\"]);\n",
    "M2.real = [false for i in 1:nrow(M2) ];\n",
    "M2.sample_key = M2.subject .*\" \".* M2.key\n",
    "M2.FPpass = [true for i in 1:nrow(M2)];\n",
    "M2.training = [false for i in 1:nrow(M2)];\n",
    "\n",
    "M3=CSV.read(\"mutect_BMT_old.csv\",DataFrame,downcast=true,stringtype=String, missingstring=[\"\",\"NA\", \"NAN\", \"NULL\"]);\n",
    "M3.real = [false for i in 1:nrow(M3) ];\n",
    "M3.sample_key = M3.subject .*\" \".* M3.key;\n",
    "M3.FPpass = [true for i in 1:nrow(M3)];\n",
    "M3.training = [false for i in 1:nrow(M3)];\n"
   ]
  },
  {
   "cell_type": "code",
   "execution_count": 6,
   "id": "d70fef4f",
   "metadata": {},
   "outputs": [],
   "source": [
    "temp=CSV.read(\"bmt_real_1.csv\",DataFrame,downcast=true,stringtype=String, missingstring=[\"\",\"NA\", \"NAN\", \"NULL\"]);\n",
    "temp.sample_key = temp.SAMPLE .*\" \".* temp.key;\n",
    "#filter!(x->ismissing(x.artifact)||x.artifact!=1,temp)\n",
    "#select!(temp,[:sample_key,:artifact])\n",
    "\n"
   ]
  },
  {
   "cell_type": "code",
   "execution_count": 202,
   "id": "e6828b62-d5e0-4916-b9d1-35145b522b4f",
   "metadata": {},
   "outputs": [],
   "source": [
    "select!(P,[\"sample_key\",\"REF\",\"ALT\",\"VARIANT_CLASS\",\"QUAL_Pindel\",\"FILTER_Pindel\",\n",
    "        \"gt_AD_alt_Pindel\",\"gt_AD_ref_Pindel\",\"gt_AF_Pindel\",\n",
    "#         \"RefFwd_Pindel\",\"RefRev_Pindel\",\"AltFwd_Pindel\",\"AltRev_Pindel\",\n",
    "        \"SYMBOL\",\"pon_pvalue_Pindel\",\"total_greater_than_min_alt_count_Pindel\",\n",
    "        \"dust_score\",\"dust_score_3\",\"dust_score_5\",\"dust_score_10\",\"pass_homopolymer_filter\",\"total_Pindel\",\"real\",\"FPpass\"    \n",
    "        ]);\n",
    "# rename!(P,:FPpass=>:FPpass_Pindel);\n",
    "# rename!(P,:VARIANT_CLASS=>:VARIANT_CLASS_Pindel);\n",
    "# rename!(P,:REF=>:REF_Pindel;\n",
    "# rename!(P,:ALT=>:ALT_Pindel);\n",
    "# rename!(P,:SYMBOL=>:SYMBOL_Pindel);\n",
    "# rename!(P,:pass_homopolymer_filter=>:pass_homopolymer_filter_Pindel);\n",
    "for nam in names(P)\n",
    "    if ! occursin(\"Pindel\",nam) && nam != \"sample_key\"\n",
    "        rename!(P,\"$(nam)\"=>string(nam,\"_Pindel\"))\n",
    "    end\n",
    "end"
   ]
  },
  {
   "cell_type": "code",
   "execution_count": 203,
   "id": "589f1444-a87a-4899-b82e-3224911bb7d8",
   "metadata": {},
   "outputs": [],
   "source": [
    "select!(V,[\"sample_key\",\"REF\",\"ALT\",\"VARIANT_CLASS\",\"QUAL_Vardict\",\"FILTER_Vardict\",\n",
    "        \"PMEAN\",\n",
    "#         \"ReadQual\",\n",
    "        \"SBF\",\"ODDRATIO\",\"SN\",\"HIAF\",\"ADJAF\",\"SHIFT3\",\"NM\",\"HICNT\",\"HICOV\",\"gt_AD_alt_Vardict\",\"gt_AD_ref_Vardict\",\n",
    "        \"gt_AF_Vardict\",\"RefFwd_Vardict\",\"RefRev_Vardict\",\"AltFwd_Vardict\",\"AltRev_Vardict\",\"SYMBOL\",\"pon_pvalue_Vardict\",\n",
    "        \"dust_score\",\"dust_score_3\",\"dust_score_5\",\"dust_score_10\",\"pass_homopolymer_filter\",\"total_Vardict\",\"real\",\"FPpass\",\"total_greater_than_min_alt_count_Vardict\"    \n",
    "        ]);\n",
    "# rename!(V,:FPpass=>:FPpass_Vardict);\n",
    "# rename!(V,:VARIANT_CLASS=>:VARIANT_CLASS_Vardict);\n",
    "# rename!(V,:REF=>:REF_Vardict;\n",
    "# rename!(V,:ALT=>:ALT_Vardict);\n",
    "# rename!(V,:SYMBOL=>:SYMBOL_Vardict);\n",
    "# rename!(V,:pass_homopolymer_filter=>:pass_homopolymer_filter_Vardict);\n",
    "for nam in names(V)\n",
    "    if ! occursin(\"Vardict\",nam) && nam != \"sample_key\"\n",
    "        rename!(V,\"$(nam)\"=>string(nam,\"_Vardict\"))\n",
    "    end\n",
    "end"
   ]
  },
  {
   "cell_type": "code",
   "execution_count": 204,
   "id": "872a1d4e",
   "metadata": {},
   "outputs": [],
   "source": [
    "rename!(V2,\"QUAL...6\"=>\"QUAL_Vardict\");\n",
    "select!(V2,[\"sample_key\",\"REF\",\"ALT\",\"VARIANT_CLASS\",\n",
    "        \"QUAL_Vardict\",\n",
    "        \"FILTER_Vardict\",\n",
    "        \"PMEAN\",\n",
    "#         \"ReadQual\",\n",
    "        \"SBF\",\"ODDRATIO\",\"SN\",\"HIAF\",\"ADJAF\",\"SHIFT3\",\"NM\",\"HICNT\",\"HICOV\",\"gt_AD_alt_Vardict\",\"gt_AD_ref_Vardict\",\n",
    "        \"gt_AF_Vardict\",\"RefFwd_Vardict\",\"RefRev_Vardict\",\"AltFwd_Vardict\",\"AltRev_Vardict\",\"SYMBOL\",\"pon_pvalue_Vardict\",\n",
    "        \"dust_score\",\"dust_score_3\",\"dust_score_5\",\"dust_score_10\",\"pass_homopolymer_filter\",\"total_Vardict\",\"real\",\"FPpass\",\"total_greater_than_min_alt_count_Vardict\"    \n",
    "        ]);\n",
    "# rename!(V,:FPpass=>:FPpass_Vardict);\n",
    "# rename!(V,:VARIANT_CLASS=>:VARIANT_CLASS_Vardict);\n",
    "# rename!(V,:REF=>:REF_Vardict;\n",
    "# rename!(V,:ALT=>:ALT_Vardict);\n",
    "# rename!(V,:SYMBOL=>:SYMBOL_Vardict);\n",
    "# rename!(V,:pass_homopolymer_filter=>:pass_homopolymer_filter_Vardict);\n",
    "for nam in names(V2)\n",
    "    if ! occursin(\"Vardict\",nam) && nam != \"sample_key\"\n",
    "        rename!(V2,\"$(nam)\"=>string(nam,\"_Vardict\"))\n",
    "    end\n",
    "end"
   ]
  },
  {
   "cell_type": "code",
   "execution_count": 205,
   "id": "2debbf9d",
   "metadata": {},
   "outputs": [],
   "source": [
    "select!(L,[\"sample_key\",\"SYMBOL\",\"REF\",\"ALT\",\"VARIANT_CLASS\",\"QUAL_Lofreq\",\"FILTER_Lofreq\",\n",
    "        \"gt_AD_alt_Lofreq\",\"gt_AD_ref_Lofreq\",\"gt_AF_Lofreq\",\"RefFwd_Lofreq\",\"RefRev_Lofreq\",\"AltFwd_Lofreq\",\"AltRev_Lofreq\",\"pon_pvalue_Lofreq\",\n",
    "        \"dust_score\",\"dust_score_3\",\"dust_score_5\",\"dust_score_10\",\"pass_homopolymer_filter\",\"total_Lofreq\",\"real\",\"FPpass\",\"total_greater_than_min_alt_count_Lofreq\"         \n",
    "        ]);\n",
    "# rename!(L,:FPpass=>:FPpass_Lofreq);\n",
    "# rename!(L,:VARIANT_CLASS=>:VARIANT_CLASS_Lofreq);\n",
    "# rename!(L,:REF=>:REF_Lofreq;\n",
    "# rename!(L,:SYMBOL=>:SYMBOL_Lofreq);\n",
    "# rename!(L,:ALT=>:ALT_Lofreq);\n",
    "# rename!(L,:pass_homopolymer_filter=>:pass_homopolymer_filter_Lofreq);\n",
    "for nam in names(L)\n",
    "    if ! occursin(\"Lofreq\",nam) && nam != \"sample_key\"\n",
    "        rename!(L,\"$(nam)\"=>string(nam,\"_Lofreq\"))\n",
    "    end\n",
    "end"
   ]
  },
  {
   "cell_type": "code",
   "execution_count": 206,
   "id": "1ff91bcd-aded-4631-88e6-128aef001b54",
   "metadata": {},
   "outputs": [],
   "source": [
    "select!(M,[\"sample_key\",\"SYMBOL\",\"REF\",\"ALT\",\"VARIANT_CLASS\",\"QUAL_Mutect\",\"FILTER_Mutect\",\n",
    "        \"GERMQ\",\"MBQ\",\"MFRL\",\"MMQ\",\"MPOS\",\"ROQ\",\"TLOD\",\"gt_AD_alt_Mutect\",\"gt_AD_ref_Mutect\",\n",
    "        \"gt_AF_Mutect\",\"RefFwd_Mutect\",\"RefRev_Mutect\",\"AltFwd_Mutect\",\"AltRev_Mutect\",\"pon_pvalue_Mutect\",\"total_greater_than_min_alt_count_Mutect\",\n",
    "        \"dust_score\",\"dust_score_3\",\"dust_score_5\",\"dust_score_10\",\"pass_homopolymer_filter\",\"total_Mutect\",\"real\",\"FPpass\"    \n",
    "        ]);\n",
    "# rename!(M,:FPpass=>:FPpass_Mutect);\n",
    "# rename!(M,:VARIANT_CLASS=>:VARIANT_CLASS_Mutect);\n",
    "# rename!(M,:REF=>:REF_Mutect;\n",
    "# rename!(M,:SYMBOL=>:SYMBOL_Mutect);\n",
    "# rename!(M,:ALT=>:ALT_Mutect);\n",
    "# rename!(M,:pass_homopolymer_filter=>:pass_homopolymer_filter_Mutect);\n",
    "for nam in names(M)\n",
    "    if ! occursin(\"Mutect\",nam) && nam != \"sample_key\"\n",
    "        rename!(M,\"$(nam)\"=>string(nam,\"_Mutect\"))\n",
    "    end\n",
    "end"
   ]
  },
  {
   "cell_type": "code",
   "execution_count": 207,
   "id": "64645a7e",
   "metadata": {},
   "outputs": [],
   "source": [
    "select!(M2,[\"sample_key\",\"SYMBOL\",\"REF\",\"ALT\",\"VARIANT_CLASS\",\"QUAL_Mutect\",\"FILTER_Mutect\",\n",
    "        \"GERMQ\",\"MBQ\",\"MFRL\",\"MMQ\",\"MPOS\",\"ROQ\",\"TLOD\",\"gt_AD_alt_Mutect\",\"gt_AD_ref_Mutect\",\n",
    "        \"gt_AF_Mutect\",\"RefFwd_Mutect\",\"RefRev_Mutect\",\"AltFwd_Mutect\",\"AltRev_Mutect\",\"pon_pvalue_Mutect\",\"total_greater_than_min_alt_count_Mutect\",\n",
    "        \"dust_score\",\"dust_score_3\",\"dust_score_5\",\"dust_score_10\",\"pass_homopolymer_filter\",\"total_Mutect\",\"real\",\"FPpass\"    \n",
    "        ]);\n",
    "# rename!(M,:FPpass=>:FPpass_Mutect);\n",
    "# rename!(M,:VARIANT_CLASS=>:VARIANT_CLASS_Mutect);\n",
    "# rename!(M,:REF=>:REF_Mutect;\n",
    "# rename!(M,:SYMBOL=>:SYMBOL_Mutect);\n",
    "# rename!(M,:ALT=>:ALT_Mutect);\n",
    "# rename!(M,:pass_homopolymer_filter=>:pass_homopolymer_filter_Mutect);\n",
    "for nam in names(M2)\n",
    "    if ! occursin(\"Mutect\",nam) && nam != \"sample_key\"\n",
    "        rename!(M2,\"$(nam)\"=>string(nam,\"_Mutect\"))\n",
    "    end\n",
    "end"
   ]
  },
  {
   "cell_type": "code",
   "execution_count": 208,
   "id": "e6effa1d",
   "metadata": {},
   "outputs": [],
   "source": [
    "select!(M3,[\"sample_key\",\"SYMBOL\",\"REF\",\"ALT\",\"VARIANT_CLASS\",\"QUAL_Mutect\",\"FILTER_Mutect\",\n",
    "        \"GERMQ\",\"MBQ\",\"MFRL\",\"MMQ\",\"MPOS\",\"ROQ\",\"TLOD\",\"gt_AD_alt_Mutect\",\"gt_AD_ref_Mutect\",\n",
    "        \"gt_AF_Mutect\",\"RefFwd_Mutect\",\"RefRev_Mutect\",\"AltFwd_Mutect\",\"AltRev_Mutect\",\"pon_pvalue_Mutect\",\"total_greater_than_min_alt_count_Mutect\",\n",
    "        \"dust_score\",\"dust_score_3\",\"dust_score_5\",\"dust_score_10\",\"pass_homopolymer_filter\",\"total_Mutect\",\"real\",\"FPpass\"    \n",
    "        ]);\n",
    "# rename!(M,:FPpass=>:FPpass_Mutect);\n",
    "# rename!(M,:VARIANT_CLASS=>:VARIANT_CLASS_Mutect);\n",
    "# rename!(M,:REF=>:REF_Mutect;\n",
    "# rename!(M,:SYMBOL=>:SYMBOL_Mutect);\n",
    "# rename!(M,:ALT=>:ALT_Mutect);\n",
    "# rename!(M,:pass_homopolymer_filter=>:pass_homopolymer_filter_Mutect);\n",
    "for nam in names(M3)\n",
    "    if ! occursin(\"Mutect\",nam) && nam != \"sample_key\"\n",
    "        rename!(M3,\"$(nam)\"=>string(nam,\"_Mutect\"))\n",
    "    end\n",
    "end"
   ]
  },
  {
   "cell_type": "code",
   "execution_count": 209,
   "id": "939ac414",
   "metadata": {},
   "outputs": [],
   "source": [
    "M = vcat(M,M2,M3);"
   ]
  },
  {
   "cell_type": "code",
   "execution_count": 210,
   "id": "ad4d3bdb",
   "metadata": {
    "scrolled": true
   },
   "outputs": [
    {
     "data": {
      "text/plain": [
       "(502976, 34)"
      ]
     },
     "execution_count": 210,
     "metadata": {},
     "output_type": "execute_result"
    }
   ],
   "source": [
    "size(V)"
   ]
  },
  {
   "cell_type": "code",
   "execution_count": 211,
   "id": "735dd2ec",
   "metadata": {},
   "outputs": [
    {
     "data": {
      "text/plain": [
       "(14158, 34)"
      ]
     },
     "execution_count": 211,
     "metadata": {},
     "output_type": "execute_result"
    }
   ],
   "source": [
    "size(V2)"
   ]
  },
  {
   "cell_type": "code",
   "execution_count": 212,
   "id": "3694002d",
   "metadata": {
    "scrolled": true
   },
   "outputs": [],
   "source": [
    "V = vcat(V,V2);"
   ]
  },
  {
   "cell_type": "code",
   "execution_count": 213,
   "id": "8385c473-c175-4bc5-9ca1-9d7c74f04043",
   "metadata": {},
   "outputs": [
    {
     "name": "stdout",
     "output_type": "stream",
     "text": [
      "907\n",
      "736399_1_5000 4:106196888 CCACCC>ATCT\n",
      "true\n",
      "vc\n",
      "907\n",
      "736399_1_5000 4:106196888 CCACCC>ATCT\n",
      "true\n",
      "symbol\n",
      "907\n",
      "736399_1_5000 4:106196888 CCACCC>ATCT\n",
      "true\n",
      "pmf\n",
      "908\n",
      "761809_1_5000 2:25464501 GT>G\n",
      "true\n",
      "vc\n",
      "908\n",
      "761809_1_5000 2:25464501 GT>G\n",
      "true\n",
      "symbol\n",
      "908\n",
      "761809_1_5000 2:25464501 GT>G\n",
      "true\n",
      "pmf\n"
     ]
    }
   ],
   "source": [
    "temp = outerjoin(P,V,on=:sample_key)\n",
    "temp = outerjoin(temp,L,on=:sample_key)\n",
    "temp = outerjoin(temp,M,on=:sample_key);\n",
    "temp.real = temp.real_Lofreq\n",
    "temp.FPpass = temp.FPpass_Lofreq\n",
    "temp.VARIANT_CLASS = temp.VARIANT_CLASS_Lofreq\n",
    "temp.REF = temp.REF_Lofreq\n",
    "temp.SYMBOL = temp.SYMBOL_Lofreq\n",
    "temp.ALT = temp.ALT_Lofreq\n",
    "temp.pass_homopolymer_filter = temp.pass_homopolymer_filter_Lofreq\n",
    "\n",
    "for i in 1:nrow(temp)\n",
    "    if ismissing(temp[i,\"real\"])\n",
    "        if ! ismissing(temp[i,\"real_Pindel\"])\n",
    "            temp[i,\"real\"] = temp[i,\"real_Pindel\"]\n",
    "        elseif ! ismissing(temp[i,\"real_Mutect\"])\n",
    "            temp[i,\"real\"] = temp[i,\"real_Mutect\"]\n",
    "        elseif ! ismissing(temp[i,\"real_Vardict\"])\n",
    "            temp[i,\"real\"] = temp[i,\"real_Vardict\"]\n",
    "        else\n",
    "            println(i)\n",
    "            println(temp[i,\"sample_key\"])\n",
    "            println(temp[i,\"real\"])\n",
    "            println(\"real\")\n",
    "#             println(asdfasdf)\n",
    "        end\n",
    "    end\n",
    "    \n",
    "    if ismissing(temp[i,\"FPpass\"])\n",
    "        if ! ismissing(temp[i,\"FPpass_Pindel\"])\n",
    "            temp[i,\"FPpass\"] = temp[i,\"FPpass_Pindel\"]\n",
    "        elseif ! ismissing(temp[i,\"FPpass_Mutect\"])\n",
    "            temp[i,\"FPpass\"] = temp[i,\"FPpass_Mutect\"]\n",
    "        elseif ! ismissing(temp[i,\"FPpass_Vardict\"])\n",
    "            temp[i,\"FPpass\"] = temp[i,\"FPpass_Vardict\"]\n",
    "        else\n",
    "            println(i)\n",
    "                        println(temp[i,\"sample_key\"])\n",
    "            println(temp[i,\"real\"])\n",
    "            println(\"fpp\")\n",
    "#             println(asdfasdf)\n",
    "        end\n",
    "    end\n",
    "    \n",
    "    if ismissing(temp[i,\"VARIANT_CLASS\"])\n",
    "        if ! ismissing(temp[i,\"VARIANT_CLASS_Pindel\"])\n",
    "            temp[i,\"VARIANT_CLASS\"] = temp[i,\"VARIANT_CLASS_Pindel\"]\n",
    "        elseif ! ismissing(temp[i,\"VARIANT_CLASS_Mutect\"])\n",
    "            temp[i,\"VARIANT_CLASS\"] = temp[i,\"VARIANT_CLASS_Mutect\"]\n",
    "        elseif ! ismissing(temp[i,\"VARIANT_CLASS_Vardict\"])\n",
    "            temp[i,\"VARIANT_CLASS\"] = temp[i,\"VARIANT_CLASS_Vardict\"]\n",
    "        else\n",
    "            println(i)\n",
    "            println(temp[i,\"sample_key\"])\n",
    "            println(temp[i,\"real\"])\n",
    "            println(\"vc\")\n",
    "            temp[i,\"VARIANT_CLASS\"] = \"deletion\"\n",
    "#             println(asdfasdf)\n",
    "        end\n",
    "    end\n",
    "    \n",
    "    if ismissing(temp[i,\"REF\"])\n",
    "        if ! ismissing(temp[i,\"REF_Pindel\"])\n",
    "            temp[i,\"REF\"] = temp[i,\"REF_Pindel\"]\n",
    "        elseif ! ismissing(temp[i,\"REF_Mutect\"])\n",
    "            temp[i,\"REF\"] = temp[i,\"REF_Mutect\"]\n",
    "        elseif ! ismissing(temp[i,\"REF_Vardict\"])\n",
    "            temp[i,\"REF\"] = temp[i,\"REF_Vardict\"]\n",
    "        else\n",
    "            println(i)\n",
    "                        println(temp[i,\"sample_key\"])\n",
    "            println(temp[i,\"real\"])\n",
    "            println(\"ref\")\n",
    "#             println(asdfasdf)\n",
    "        end\n",
    "    end\n",
    "    \n",
    "    if ismissing(temp[i,\"SYMBOL\"])\n",
    "        if ! ismissing(temp[i,\"SYMBOL_Pindel\"])\n",
    "            temp[i,\"SYMBOL\"] = temp[i,\"SYMBOL_Pindel\"]\n",
    "        elseif ! ismissing(temp[i,\"SYMBOL_Mutect\"])\n",
    "            temp[i,\"SYMBOL\"] = temp[i,\"SYMBOL_Mutect\"]\n",
    "        elseif ! ismissing(temp[i,\"SYMBOL_Vardict\"])\n",
    "            temp[i,\"SYMBOL\"] = temp[i,\"SYMBOL_Vardict\"]\n",
    "        else\n",
    "            if temp[i,\"sample_key\"] == \"761809_1_5000 2:25464501 GT>G\"\n",
    "                temp[i,\"SYMBOL\"] = \"DNMT3A\"\n",
    "            end\n",
    "            if temp[i,\"sample_key\"] == \"736399_1_5000 4:106196888 CCACCC>ATCT\"\n",
    "                temp[i,\"SYMBOL\"] = \"TET2\"\n",
    "            end\n",
    "            println(i)\n",
    "                        println(temp[i,\"sample_key\"])\n",
    "            println(temp[i,\"real\"])\n",
    "            println(\"symbol\")\n",
    "#             println(asdfasdf)\n",
    "        end\n",
    "    end\n",
    "    \n",
    "    if ismissing(temp[i,\"ALT\"])\n",
    "        if ! ismissing(temp[i,\"ALT_Pindel\"])\n",
    "            temp[i,\"ALT\"] = temp[i,\"ALT_Pindel\"]\n",
    "        elseif ! ismissing(temp[i,\"ALT_Mutect\"])\n",
    "            temp[i,\"ALT\"] = temp[i,\"ALT_Mutect\"]\n",
    "        elseif ! ismissing(temp[i,\"ALT_Vardict\"])\n",
    "            temp[i,\"ALT\"] = temp[i,\"ALT_Vardict\"]\n",
    "        else\n",
    "            println(i)\n",
    "                        println(temp[i,\"sample_key\"])\n",
    "            println(temp[i,\"real\"])\n",
    "            println(\"alt\")\n",
    "#             println(asdfasdf)\n",
    "        end\n",
    "    end\n",
    "    \n",
    "    if ismissing(temp[i,\"pass_homopolymer_filter\"])\n",
    "        if ! ismissing(temp[i,\"pass_homopolymer_filter_Pindel\"])\n",
    "            temp[i,\"pass_homopolymer_filter\"] = temp[i,\"pass_homopolymer_filter_Pindel\"]\n",
    "        elseif ! ismissing(temp[i,\"pass_homopolymer_filter_Mutect\"])\n",
    "            temp[i,\"pass_homopolymer_filter\"] = temp[i,\"pass_homopolymer_filter_Mutect\"]\n",
    "        elseif ! ismissing(temp[i,\"pass_homopolymer_filter_Vardict\"])\n",
    "            temp[i,\"pass_homopolymer_filter\"] = temp[i,\"pass_homopolymer_filter_Vardict\"]\n",
    "        else\n",
    "            temp[i,\"pass_homopolymer_filter\"] = false\n",
    "            println(i)\n",
    "                        println(temp[i,\"sample_key\"])\n",
    "            println(temp[i,\"real\"])\n",
    "            println(\"pmf\")\n",
    "#             println(asdfasdf)\n",
    "        end\n",
    "    end\n",
    "    \n",
    "            \n",
    "end\n",
    "\n",
    "# temp.real = temp.real_Lofreq\n",
    "# temp.FPpass = temp.FPpass_Lofreq\n",
    "# temp.VARIANT_CLASS = temp.VARIANT_CLASS_Lofreq\n",
    "# temp.REF = temp.REF_Lofreq\n",
    "# temp.SYMBOL = temp.SYMBOL_Lofreq\n",
    "# temp.ALT = temp.ALT_Lofreq\n",
    "# temp.pass_homopolymer_filter = temp.pass_homopolymer_filter_Lofreq\n",
    "\n",
    "select!(temp, \n",
    "\n",
    "    Not([\n",
    "            \"real_Lofreq\",\n",
    "            \"VARIANT_CLASS_Lofreq\",\n",
    "            \"FPpass_Lofreq\",\n",
    "            \"REF_Lofreq\",\n",
    "            \"SYMBOL_Lofreq\",\n",
    "            \"ALT_Lofreq\",\n",
    "            \"pass_homopolymer_filter_Lofreq\",\n",
    "            \n",
    "            \"real_Mutect\",\n",
    "            \"VARIANT_CLASS_Mutect\",\n",
    "            \"FPpass_Mutect\",\n",
    "            \"REF_Mutect\",\n",
    "            \"SYMBOL_Mutect\",\n",
    "            \"ALT_Mutect\",\n",
    "            \"pass_homopolymer_filter_Mutect\",\n",
    "            \n",
    "            \"real_Vardict\",\n",
    "            \"VARIANT_CLASS_Vardict\",\n",
    "            \"FPpass_Vardict\",\n",
    "            \"REF_Vardict\",\n",
    "            \"SYMBOL_Vardict\",\n",
    "            \"ALT_Vardict\",\n",
    "            \"pass_homopolymer_filter_Vardict\",\n",
    "            \n",
    "            \"real_Pindel\",\n",
    "            \"VARIANT_CLASS_Pindel\",\n",
    "            \"FPpass_Pindel\",\n",
    "            \"REF_Pindel\",\n",
    "            \"SYMBOL_Pindel\",\n",
    "            \"ALT_Pindel\",\n",
    "            \"pass_homopolymer_filter_Pindel\",\n",
    "            \n",
    "            \"QUAL_Pindel\",\n",
    "            \"QUAL_Mutect\"\n",
    "            ])\n",
    "\n",
    ");"
   ]
  },
  {
   "cell_type": "code",
   "execution_count": 214,
   "id": "69aba76e-0e3f-4c75-8deb-1193f5eab4d4",
   "metadata": {},
   "outputs": [
    {
     "name": "stdout",
     "output_type": "stream",
     "text": [
      "1505402\n"
     ]
    }
   ],
   "source": [
    "temp.ref_len = float.(length.(temp.REF))\n",
    "temp.alt_len = float.(length.(temp.ALT))\n",
    "\n",
    "\n",
    "temp.fwdbias_Mutect = temp.AltFwd_Mutect ./ temp.RefFwd_Mutect\n",
    "temp.revbias_Mutect = temp.AltRev_Mutect ./ temp.RefRev_Mutect\n",
    "# temp.fwdbias_Pindel = temp.AltFwd_Pindel ./ temp.RefFwd_Pindel\n",
    "# temp.revbias_Pindel = temp.AltRev_Pindel ./ temp.RefRev_Pindel\n",
    "temp.fwdbias_Lofreq = temp.AltFwd_Lofreq ./ temp.RefFwd_Lofreq\n",
    "temp.revbias_Lofreq = temp.AltRev_Lofreq ./ temp.RefRev_Lofreq\n",
    "temp.fwdbias_Vardict = temp.AltFwd_Vardict ./ temp.RefFwd_Vardict\n",
    "temp.revbias_Vardict = temp.AltRev_Vardict ./ temp.RefRev_Vardict\n",
    "\n",
    "\n",
    "temp.fwdbias_Mutect = [!ismissing(i) && isnan(i) ? 0.0 : i for i in temp.fwdbias_Mutect]\n",
    "temp.revbias_Mutect = [!ismissing(i) && isnan(i) ? 0.0 : i for i in temp.revbias_Mutect]\n",
    "temp.fwdbias_Lofreq = [!ismissing(i) && isnan(i) ? 0.0 : i for i in temp.fwdbias_Lofreq]\n",
    "temp.revbias_Lofreq = [!ismissing(i) && isnan(i) ? 0.0 : i for i in temp.revbias_Lofreq]\n",
    "temp.fwdbias_Vardict = [!ismissing(i) && isnan(i) ? 0.0 : i for i in temp.fwdbias_Vardict]\n",
    "temp.revbias_Vardict = [!ismissing(i) && isnan(i) ? 0.0 : i for i in temp.revbias_Vardict]\n",
    "\n",
    "\n",
    "temp.REF = [length(i)>1 ? \"I\" : i for i in temp.REF];\n",
    "temp.ALT = [length(i)>1 ? \"I\" : i for i in temp.ALT];\n",
    "println(nrow(temp))\n",
    "\n",
    "# filter!(x->ismissing(x.gt_AF_Vardict) || x.gt_AF_Vardict>0.001,temp);\n",
    "# println(nrow(temp))\n",
    "# filter!(x->ismissing(x.gt_AF_Lofreq) || x.gt_AF_Lofreq>0.001,temp);\n",
    "# println(nrow(temp))\n",
    "# filter!(x->ismissing(x.gt_AF_Mutect) || x.gt_AF_Mutect>0.001,temp);\n",
    "# println(nrow(temp))\n",
    "# filter!(x->ismissing(x.gt_AF_Pindel) || x.gt_AF_Pindel>0.001,temp);\n",
    "# println(nrow(temp))\n"
   ]
  },
  {
   "cell_type": "code",
   "execution_count": 233,
   "id": "05a59ee5",
   "metadata": {},
   "outputs": [],
   "source": [
    "v = copy(temp);\n",
    "v.pass_homopolymer_filter = [ismissing(i) ? missing : i for i in v.pass_homopolymer_filter]\n",
    "v.FPpass = [ismissing(i) ? missing : i for i in v.FPpass]\n",
    "v.real = [ismissing(i) ? missing : i for i in v.real]\n",
    "\n",
    "v.gt_AD_ref_Pindel = float.(v.gt_AD_ref_Pindel)\n",
    "v.gt_AD_alt_Pindel = float.(v.gt_AD_alt_Pindel)\n",
    "v.gt_AF_Pindel = float.(v.gt_AF_Pindel)\n",
    "v.pon_pvalue_Pindel = float.(v.pon_pvalue_Pindel)\n",
    "v.total_greater_than_min_alt_count_Pindel = float.(v.total_greater_than_min_alt_count_Pindel)\n",
    "v.total_Pindel = float.(v.total_Pindel)\n",
    "\n",
    "v.QUAL_Vardict = float.(v.QUAL_Vardict)\n",
    "v.PMEAN_Vardict = float.(v.PMEAN_Vardict)\n",
    "# v.ReadQual_Vardict = float.(v.ReadQual_Vardict)\n",
    "v.SBF_Vardict = float.(v.SBF_Vardict)\n",
    "v.ODDRATIO_Vardict = float.(v.ODDRATIO_Vardict)\n",
    "v.SN_Vardict = float.(v.SN_Vardict)\n",
    "v.HIAF_Vardict = float.(v.HIAF_Vardict)\n",
    "v.ADJAF_Vardict = float.(v.ADJAF_Vardict)\n",
    "v.SHIFT3_Vardict = float.(v.SHIFT3_Vardict)\n",
    "v.NM_Vardict = float.(v.NM_Vardict)\n",
    "v.HICNT_Vardict = float.(v.HICNT_Vardict)\n",
    "v.HICOV_Vardict = float.(v.HICOV_Vardict)\n",
    "v.gt_AD_ref_Vardict = float.(v.gt_AD_ref_Vardict)\n",
    "v.gt_AD_alt_Vardict = float.(v.gt_AD_alt_Vardict)\n",
    "v.gt_AF_Vardict = float.(v.gt_AF_Vardict)\n",
    "v.pon_pvalue_Vardict = float.(v.pon_pvalue_Vardict)\n",
    "v.RefFwd_Vardict = float.(v.RefFwd_Vardict)\n",
    "v.RefRev_Vardict = float.(v.RefRev_Vardict)\n",
    "v.AltFwd_Vardict = float.(v.AltFwd_Vardict)\n",
    "v.AltRev_Vardict = float.(v.AltRev_Vardict)\n",
    "v.total_greater_than_min_alt_count_Vardict = float.(v.total_greater_than_min_alt_count_Vardict)\n",
    "v.total_Vardict = float.(v.total_Vardict)\n",
    "\n",
    "v.QUAL_Lofreq = float.(v.QUAL_Lofreq)\n",
    "v.gt_AD_ref_Lofreq = float.(v.gt_AD_ref_Lofreq)\n",
    "v.gt_AD_alt_Lofreq = float.(v.gt_AD_alt_Lofreq)\n",
    "v.gt_AF_Lofreq = float.(v.gt_AF_Lofreq)\n",
    "v.pon_pvalue_Lofreq = float.(v.pon_pvalue_Lofreq)\n",
    "v.RefFwd_Lofreq = float.(v.RefFwd_Lofreq)\n",
    "v.RefRev_Lofreq = float.(v.RefRev_Lofreq)\n",
    "v.AltFwd_Lofreq = float.(v.AltFwd_Lofreq)\n",
    "v.AltRev_Lofreq = float.(v.AltRev_Lofreq)\n",
    "v.total_greater_than_min_alt_count_Lofreq = float.(v.total_greater_than_min_alt_count_Lofreq)\n",
    "v.total_Lofreq = float.(v.total_Lofreq)\n",
    "        \n",
    "v.GERMQ_Mutect = float.(v.GERMQ_Mutect)\n",
    "temp2 = [ismissing(i) ? [missing,missing] : split(i,\",\") for i in v.MBQ_Mutect]\n",
    "v.MBQ_Mutect_1 = [ismissing(i[1]) ? missing : parse(Float64,i[1]) for i in temp2]\n",
    "v.MBQ_Mutect_2 = [ismissing(i[2]) ? missing : parse(Float64,i[2]) for i in temp2]\n",
    "\n",
    "temp2 = [ismissing(i) ? [missing,missing] : split(i,\",\") for i in v.MFRL_Mutect]\n",
    "v.MFRL_Mutect_1 = [ismissing(i[1]) ? missing : parse(Float64,i[1]) for i in temp2]\n",
    "v.MFRL_Mutect_2 = [ismissing(i[2]) ? missing : parse(Float64,i[2]) for i in temp2]\n",
    "\n",
    "temp2 = [ismissing(i) ? [missing,missing] : split(i,\",\") for i in v.MMQ_Mutect]\n",
    "v.MMQ_Mutect_1 = [ismissing(i[1]) ? missing : parse(Float64,i[1]) for i in temp2]\n",
    "v.MMQ_Mutect_2 = [ismissing(i[2]) ? missing : parse(Float64,i[2]) for i in temp2]\n",
    "\n",
    "v.MPOS_Mutect = float.(v.MPOS_Mutect)\n",
    "v.ROQ_Mutect = float.(v.ROQ_Mutect)\n",
    "v.TLOD_Mutect = float.(v.TLOD_Mutect)\n",
    "v.gt_AD_ref_Mutect = float.(v.gt_AD_ref_Mutect)\n",
    "v.gt_AD_alt_Mutect = float.(v.gt_AD_alt_Mutect)\n",
    "v.gt_AF_Mutect = float.(v.gt_AF_Mutect)\n",
    "v.pon_pvalue_Mutect = float.(v.pon_pvalue_Mutect)\n",
    "v.RefFwd_Mutect = float.(v.RefFwd_Mutect)\n",
    "v.RefRev_Mutect = float.(v.RefRev_Mutect)\n",
    "v.AltFwd_Mutect = float.(v.AltFwd_Mutect);\n",
    "v.AltRev_Mutect = float.(v.AltRev_Mutect);\n",
    "v.total_greater_than_min_alt_count_Mutect = float.(v.total_greater_than_min_alt_count_Mutect);\n",
    "v.total_Mutect = float.(v.total_Mutect);\n",
    "\n",
    "select!(v, Not([:MBQ_Mutect,:MFRL_Mutect,:MMQ_Mutect]));\n"
   ]
  },
  {
   "cell_type": "code",
   "execution_count": 234,
   "id": "6e85ca56",
   "metadata": {},
   "outputs": [],
   "source": [
    "v.FILTER_Pindel = [ismissing(i) ? \"Not_Detected\" : i==\"Not Detected\" ? \"Not_Detected\" : i for i in v.FILTER_Pindel];\n",
    "v.FILTER_Lofreq = [ismissing(i) ? \"Not_Detected\" : i==\"Not Detected\" ? \"Not_Detected\" : i for i in v.FILTER_Lofreq];\n",
    "v.FILTER_Mutect = [ismissing(i) ? \"Not_Detected\" : i==\"Not Detected\" ? \"Not_Detected\" : i for i in v.FILTER_Mutect];\n",
    "v.FILTER_Vardict = [ismissing(i) ? \"Not_Detected\" : i==\"Not Detected\" ? \"Not_Detected\" : i for i in v.FILTER_Vardict];"
   ]
  },
  {
   "cell_type": "code",
   "execution_count": 235,
   "id": "b424709e",
   "metadata": {
    "scrolled": false
   },
   "outputs": [],
   "source": [
    "# for nam in names(temp)\n",
    "#     println(nam,\" \",sum(ismissing.(temp[:,nam]))/nrow(temp) ) \n",
    "#     println()\n",
    "# end"
   ]
  },
  {
   "cell_type": "code",
   "execution_count": 236,
   "id": "51642882",
   "metadata": {},
   "outputs": [],
   "source": [
    "# v = hcat(\n",
    "#     v,\n",
    "#     textonehot(v,\"FILTER_Lofreq\"),\n",
    "# textonehot(v,\"FILTER_Vardict\"),\n",
    "# textonehot(v,\"REF\"),\n",
    "#     textonehot(v,\"FILTER_Pindel\"),\n",
    "# textonehot(v,\"FILTER_Mutect\"),\n",
    "# textonehot(v,\"VARIANT_CLASS\"),\n",
    "#     textonehot(v,\"SYMBOL\"),\n",
    "# textonehot(v,\"ALT\")\n",
    "# )\n",
    "\n",
    "# select!(v,Not([\"FILTER_Lofreq\",\"FILTER_Vardict\",\"FILTER_Pindel\",\"FILTER_Mutect\",\"SYMBOL\",\"ALT\",\"REF\",\n",
    "#             \"VARIANT_CLASS\"]) );\n",
    "\n",
    "# v.FPpass = float.(v.FPpass);\n",
    "# v.pass_homopolymer_filter = float.(v.pass_homopolymer_filter);"
   ]
  },
  {
   "cell_type": "code",
   "execution_count": 237,
   "id": "df8e6d53",
   "metadata": {},
   "outputs": [],
   "source": [
    "# CSV.write(\"combined.csv\",v)"
   ]
  },
  {
   "cell_type": "code",
   "execution_count": 238,
   "id": "a37cfd90",
   "metadata": {},
   "outputs": [],
   "source": [
    "sample_key = v.sample_key;\n",
    "select!(v, Not(:sample_key) );"
   ]
  },
  {
   "cell_type": "code",
   "execution_count": 239,
   "id": "e7eecd2c",
   "metadata": {},
   "outputs": [
    {
     "data": {
      "text/plain": [
       "155"
      ]
     },
     "execution_count": 239,
     "metadata": {},
     "output_type": "execute_result"
    }
   ],
   "source": [
    "sum(v.real)"
   ]
  },
  {
   "cell_type": "code",
   "execution_count": 248,
   "id": "59a3e20d",
   "metadata": {},
   "outputs": [],
   "source": [
    "y,x=unpack(coerce(v,:real=>OrderedFactor),\n",
    "    ==(:real),\n",
    "    colname -> true, );\n",
    "# train, test = partition(eachindex(y), 0.7, stratify=y,  shuffle=true, rng=12344);\n",
    "# x,y,train = sampler(x,y,train,\"over\",0);"
   ]
  },
  {
   "cell_type": "code",
   "execution_count": 249,
   "id": "bd13cb54",
   "metadata": {},
   "outputs": [
    {
     "data": {
      "text/plain": [
       "1505402"
      ]
     },
     "execution_count": 249,
     "metadata": {},
     "output_type": "execute_result"
    }
   ],
   "source": [
    "nrow(x)"
   ]
  },
  {
   "cell_type": "code",
   "execution_count": null,
   "id": "4eda0700",
   "metadata": {},
   "outputs": [],
   "source": []
  },
  {
   "cell_type": "code",
   "execution_count": 250,
   "id": "04961576",
   "metadata": {},
   "outputs": [],
   "source": [
    "# ct=0\n",
    "# for j in 1:ncol(x),i in 1:nrow(x)\n",
    "    \n",
    "#     if ismissing(x[i,j])\n",
    "#         ct+=1\n",
    "#         x[i,j] = missing\n",
    "#     end\n",
    " \n",
    "# end\n",
    "# println(ct)"
   ]
  },
  {
   "cell_type": "code",
   "execution_count": 251,
   "id": "7169e9d6",
   "metadata": {},
   "outputs": [],
   "source": [
    "# transform_standardizer!(x,fit_standardizer(x[train,:]));\n",
    "# transform_normalizer!(x,fit_normalizer(x[train,:]))"
   ]
  },
  {
   "cell_type": "code",
   "execution_count": 252,
   "id": "48a3e6a0",
   "metadata": {},
   "outputs": [],
   "source": [
    "x = hcat(\n",
    "    x,\n",
    "#     textonehot(x,\"FILTER_Lofreq\"),\n",
    "# textonehot(x,\"FILTER_Vardict\"),\n",
    "textonehot(x,\"REF\"),\n",
    "#     textonehot(x,\"FILTER_Pindel\"),\n",
    "# textonehot(x,\"FILTER_Mutect\"),\n",
    "# textonehot(x,\"VARIANT_CLASS\"),\n",
    "#     textonehot(x,\"SYMBOL\"),\n",
    "textonehot(x,\"ALT\")\n",
    ")\n",
    "\n",
    "select!(x,Not([\"FILTER_Lofreq\",\"FILTER_Vardict\",\"FILTER_Pindel\",\"FILTER_Mutect\",\"SYMBOL\",\"ALT\",\"REF\",\n",
    "            \"VARIANT_CLASS\"]) );\n",
    "\n",
    "x.FPpass = float.(x.FPpass);\n",
    "x.pass_homopolymer_filter = float.(x.pass_homopolymer_filter);"
   ]
  },
  {
   "cell_type": "code",
   "execution_count": 253,
   "id": "47ca0283",
   "metadata": {},
   "outputs": [],
   "source": [
    "for j in 1:ncol(x), i in 1:nrow(x)\n",
    "\n",
    "    if !ismissing(x[i,j]) && isnan(x[i,j])\n",
    "        x[i,j] = missing\n",
    "    end\n",
    "end"
   ]
  },
  {
   "cell_type": "code",
   "execution_count": 254,
   "id": "ca4f3ac3",
   "metadata": {},
   "outputs": [
    {
     "data": {
      "text/html": [
       "<div class=\"data-frame\"><p>1,505,402 rows × 94 columns (omitted printing of 89 columns)</p><table class=\"data-frame\"><thead><tr><th></th><th>gt_AD_alt_Pindel</th><th>gt_AD_ref_Pindel</th><th>gt_AF_Pindel</th><th>pon_pvalue_Pindel</th><th>total_greater_than_min_alt_count_Pindel</th></tr><tr><th></th><th title=\"Union{Missing, Float64}\">Float64?</th><th title=\"Union{Missing, Float64}\">Float64?</th><th title=\"Union{Missing, Float64}\">Float64?</th><th title=\"Union{Missing, Float64}\">Float64?</th><th title=\"Union{Missing, Float64}\">Float64?</th></tr></thead><tbody><tr><th>1</th><td><em>missing</em></td><td><em>missing</em></td><td><em>missing</em></td><td><em>missing</em></td><td><em>missing</em></td></tr><tr><th>2</th><td>2.0</td><td>1621.0</td><td>0.00123229</td><td>0.119066</td><td><em>missing</em></td></tr><tr><th>3</th><td><em>missing</em></td><td><em>missing</em></td><td><em>missing</em></td><td><em>missing</em></td><td><em>missing</em></td></tr><tr><th>4</th><td>98.0</td><td>4771.0</td><td>0.0201273</td><td>1.6717e-35</td><td>6.0</td></tr><tr><th>5</th><td>1.0</td><td>3460.0</td><td>0.000288934</td><td>0.0439059</td><td><em>missing</em></td></tr><tr><th>6</th><td><em>missing</em></td><td><em>missing</em></td><td><em>missing</em></td><td><em>missing</em></td><td><em>missing</em></td></tr><tr><th>7</th><td><em>missing</em></td><td><em>missing</em></td><td><em>missing</em></td><td><em>missing</em></td><td><em>missing</em></td></tr><tr><th>8</th><td><em>missing</em></td><td><em>missing</em></td><td><em>missing</em></td><td><em>missing</em></td><td><em>missing</em></td></tr><tr><th>9</th><td><em>missing</em></td><td><em>missing</em></td><td><em>missing</em></td><td><em>missing</em></td><td><em>missing</em></td></tr><tr><th>10</th><td><em>missing</em></td><td><em>missing</em></td><td><em>missing</em></td><td><em>missing</em></td><td><em>missing</em></td></tr><tr><th>11</th><td><em>missing</em></td><td><em>missing</em></td><td><em>missing</em></td><td><em>missing</em></td><td><em>missing</em></td></tr><tr><th>12</th><td><em>missing</em></td><td><em>missing</em></td><td><em>missing</em></td><td><em>missing</em></td><td><em>missing</em></td></tr><tr><th>13</th><td><em>missing</em></td><td><em>missing</em></td><td><em>missing</em></td><td><em>missing</em></td><td><em>missing</em></td></tr><tr><th>14</th><td>3.0</td><td>3974.0</td><td>0.000754337</td><td>0.0139139</td><td><em>missing</em></td></tr><tr><th>15</th><td>58.0</td><td>2699.0</td><td>0.0210374</td><td>3.21182e-25</td><td>6.0</td></tr><tr><th>16</th><td>666.0</td><td>4714.0</td><td>0.123792</td><td>0.0</td><td>5.0</td></tr><tr><th>17</th><td>43.0</td><td>4714.0</td><td>0.00903931</td><td>9.6291e-71</td><td>4.0</td></tr><tr><th>18</th><td><em>missing</em></td><td><em>missing</em></td><td><em>missing</em></td><td><em>missing</em></td><td><em>missing</em></td></tr><tr><th>19</th><td><em>missing</em></td><td><em>missing</em></td><td><em>missing</em></td><td><em>missing</em></td><td><em>missing</em></td></tr><tr><th>20</th><td>3.0</td><td>3504.0</td><td>0.000855432</td><td>0.00740833</td><td><em>missing</em></td></tr><tr><th>21</th><td><em>missing</em></td><td><em>missing</em></td><td><em>missing</em></td><td><em>missing</em></td><td><em>missing</em></td></tr><tr><th>22</th><td><em>missing</em></td><td><em>missing</em></td><td><em>missing</em></td><td><em>missing</em></td><td><em>missing</em></td></tr><tr><th>23</th><td><em>missing</em></td><td><em>missing</em></td><td><em>missing</em></td><td><em>missing</em></td><td><em>missing</em></td></tr><tr><th>24</th><td><em>missing</em></td><td><em>missing</em></td><td><em>missing</em></td><td><em>missing</em></td><td><em>missing</em></td></tr><tr><th>25</th><td>2.0</td><td>1631.0</td><td>0.00122474</td><td>0.12025</td><td><em>missing</em></td></tr><tr><th>26</th><td><em>missing</em></td><td><em>missing</em></td><td><em>missing</em></td><td><em>missing</em></td><td><em>missing</em></td></tr><tr><th>27</th><td>99.0</td><td>4828.0</td><td>0.0200934</td><td>9.01947e-36</td><td>6.0</td></tr><tr><th>28</th><td>1.0</td><td>3502.0</td><td>0.00028547</td><td>0.0444208</td><td><em>missing</em></td></tr><tr><th>29</th><td><em>missing</em></td><td><em>missing</em></td><td><em>missing</em></td><td><em>missing</em></td><td><em>missing</em></td></tr><tr><th>30</th><td><em>missing</em></td><td><em>missing</em></td><td><em>missing</em></td><td><em>missing</em></td><td><em>missing</em></td></tr><tr><th>&vellip;</th><td>&vellip;</td><td>&vellip;</td><td>&vellip;</td><td>&vellip;</td><td>&vellip;</td></tr></tbody></table></div>"
      ],
      "text/latex": [
       "\\begin{tabular}{r|cccccc}\n",
       "\t& gt\\_AD\\_alt\\_Pindel & gt\\_AD\\_ref\\_Pindel & gt\\_AF\\_Pindel & pon\\_pvalue\\_Pindel & total\\_greater\\_than\\_min\\_alt\\_count\\_Pindel & \\\\\n",
       "\t\\hline\n",
       "\t& Float64? & Float64? & Float64? & Float64? & Float64? & \\\\\n",
       "\t\\hline\n",
       "\t1 & \\emph{missing} & \\emph{missing} & \\emph{missing} & \\emph{missing} & \\emph{missing} & $\\dots$ \\\\\n",
       "\t2 & 2.0 & 1621.0 & 0.00123229 & 0.119066 & \\emph{missing} & $\\dots$ \\\\\n",
       "\t3 & \\emph{missing} & \\emph{missing} & \\emph{missing} & \\emph{missing} & \\emph{missing} & $\\dots$ \\\\\n",
       "\t4 & 98.0 & 4771.0 & 0.0201273 & 1.6717e-35 & 6.0 & $\\dots$ \\\\\n",
       "\t5 & 1.0 & 3460.0 & 0.000288934 & 0.0439059 & \\emph{missing} & $\\dots$ \\\\\n",
       "\t6 & \\emph{missing} & \\emph{missing} & \\emph{missing} & \\emph{missing} & \\emph{missing} & $\\dots$ \\\\\n",
       "\t7 & \\emph{missing} & \\emph{missing} & \\emph{missing} & \\emph{missing} & \\emph{missing} & $\\dots$ \\\\\n",
       "\t8 & \\emph{missing} & \\emph{missing} & \\emph{missing} & \\emph{missing} & \\emph{missing} & $\\dots$ \\\\\n",
       "\t9 & \\emph{missing} & \\emph{missing} & \\emph{missing} & \\emph{missing} & \\emph{missing} & $\\dots$ \\\\\n",
       "\t10 & \\emph{missing} & \\emph{missing} & \\emph{missing} & \\emph{missing} & \\emph{missing} & $\\dots$ \\\\\n",
       "\t11 & \\emph{missing} & \\emph{missing} & \\emph{missing} & \\emph{missing} & \\emph{missing} & $\\dots$ \\\\\n",
       "\t12 & \\emph{missing} & \\emph{missing} & \\emph{missing} & \\emph{missing} & \\emph{missing} & $\\dots$ \\\\\n",
       "\t13 & \\emph{missing} & \\emph{missing} & \\emph{missing} & \\emph{missing} & \\emph{missing} & $\\dots$ \\\\\n",
       "\t14 & 3.0 & 3974.0 & 0.000754337 & 0.0139139 & \\emph{missing} & $\\dots$ \\\\\n",
       "\t15 & 58.0 & 2699.0 & 0.0210374 & 3.21182e-25 & 6.0 & $\\dots$ \\\\\n",
       "\t16 & 666.0 & 4714.0 & 0.123792 & 0.0 & 5.0 & $\\dots$ \\\\\n",
       "\t17 & 43.0 & 4714.0 & 0.00903931 & 9.6291e-71 & 4.0 & $\\dots$ \\\\\n",
       "\t18 & \\emph{missing} & \\emph{missing} & \\emph{missing} & \\emph{missing} & \\emph{missing} & $\\dots$ \\\\\n",
       "\t19 & \\emph{missing} & \\emph{missing} & \\emph{missing} & \\emph{missing} & \\emph{missing} & $\\dots$ \\\\\n",
       "\t20 & 3.0 & 3504.0 & 0.000855432 & 0.00740833 & \\emph{missing} & $\\dots$ \\\\\n",
       "\t21 & \\emph{missing} & \\emph{missing} & \\emph{missing} & \\emph{missing} & \\emph{missing} & $\\dots$ \\\\\n",
       "\t22 & \\emph{missing} & \\emph{missing} & \\emph{missing} & \\emph{missing} & \\emph{missing} & $\\dots$ \\\\\n",
       "\t23 & \\emph{missing} & \\emph{missing} & \\emph{missing} & \\emph{missing} & \\emph{missing} & $\\dots$ \\\\\n",
       "\t24 & \\emph{missing} & \\emph{missing} & \\emph{missing} & \\emph{missing} & \\emph{missing} & $\\dots$ \\\\\n",
       "\t25 & 2.0 & 1631.0 & 0.00122474 & 0.12025 & \\emph{missing} & $\\dots$ \\\\\n",
       "\t26 & \\emph{missing} & \\emph{missing} & \\emph{missing} & \\emph{missing} & \\emph{missing} & $\\dots$ \\\\\n",
       "\t27 & 99.0 & 4828.0 & 0.0200934 & 9.01947e-36 & 6.0 & $\\dots$ \\\\\n",
       "\t28 & 1.0 & 3502.0 & 0.00028547 & 0.0444208 & \\emph{missing} & $\\dots$ \\\\\n",
       "\t29 & \\emph{missing} & \\emph{missing} & \\emph{missing} & \\emph{missing} & \\emph{missing} & $\\dots$ \\\\\n",
       "\t30 & \\emph{missing} & \\emph{missing} & \\emph{missing} & \\emph{missing} & \\emph{missing} & $\\dots$ \\\\\n",
       "\t$\\dots$ & $\\dots$ & $\\dots$ & $\\dots$ & $\\dots$ & $\\dots$ &  \\\\\n",
       "\\end{tabular}\n"
      ],
      "text/plain": [
       "\u001b[1m1505402×94 DataFrame\u001b[0m\n",
       "\u001b[1m     Row \u001b[0m│\u001b[1m gt_AD_alt_Pindel \u001b[0m\u001b[1m gt_AD_ref_Pindel \u001b[0m\u001b[1m gt_AF_Pindel      \u001b[0m\u001b[1m pon_pvalue_P\u001b[0m ⋯\n",
       "\u001b[1m         \u001b[0m│\u001b[90m Float64?         \u001b[0m\u001b[90m Float64?         \u001b[0m\u001b[90m Float64?          \u001b[0m\u001b[90m Float64?    \u001b[0m ⋯\n",
       "─────────┼──────────────────────────────────────────────────────────────────────\n",
       "       1 │\u001b[90m        missing   \u001b[0m\u001b[90m        missing   \u001b[0m\u001b[90m missing           \u001b[0m\u001b[90m  missing    \u001b[0m ⋯\n",
       "       2 │              2.0            1621.0        0.00123229          0.119\n",
       "       3 │\u001b[90m        missing   \u001b[0m\u001b[90m        missing   \u001b[0m\u001b[90m missing           \u001b[0m\u001b[90m  missing\u001b[0m\n",
       "       4 │             98.0            4771.0        0.0201273           1.671\n",
       "       5 │              1.0            3460.0        0.000288934         0.043 ⋯\n",
       "       6 │\u001b[90m        missing   \u001b[0m\u001b[90m        missing   \u001b[0m\u001b[90m missing           \u001b[0m\u001b[90m  missing\u001b[0m\n",
       "       7 │\u001b[90m        missing   \u001b[0m\u001b[90m        missing   \u001b[0m\u001b[90m missing           \u001b[0m\u001b[90m  missing\u001b[0m\n",
       "       8 │\u001b[90m        missing   \u001b[0m\u001b[90m        missing   \u001b[0m\u001b[90m missing           \u001b[0m\u001b[90m  missing\u001b[0m\n",
       "       9 │\u001b[90m        missing   \u001b[0m\u001b[90m        missing   \u001b[0m\u001b[90m missing           \u001b[0m\u001b[90m  missing    \u001b[0m ⋯\n",
       "      10 │\u001b[90m        missing   \u001b[0m\u001b[90m        missing   \u001b[0m\u001b[90m missing           \u001b[0m\u001b[90m  missing\u001b[0m\n",
       "      11 │\u001b[90m        missing   \u001b[0m\u001b[90m        missing   \u001b[0m\u001b[90m missing           \u001b[0m\u001b[90m  missing\u001b[0m\n",
       "    ⋮    │        ⋮                 ⋮                  ⋮                  ⋮    ⋱\n",
       " 1505393 │\u001b[90m        missing   \u001b[0m\u001b[90m        missing   \u001b[0m\u001b[90m missing           \u001b[0m\u001b[90m  missing\u001b[0m\n",
       " 1505394 │\u001b[90m        missing   \u001b[0m\u001b[90m        missing   \u001b[0m\u001b[90m missing           \u001b[0m\u001b[90m  missing    \u001b[0m ⋯\n",
       " 1505395 │\u001b[90m        missing   \u001b[0m\u001b[90m        missing   \u001b[0m\u001b[90m missing           \u001b[0m\u001b[90m  missing\u001b[0m\n",
       " 1505396 │\u001b[90m        missing   \u001b[0m\u001b[90m        missing   \u001b[0m\u001b[90m missing           \u001b[0m\u001b[90m  missing\u001b[0m\n",
       " 1505397 │\u001b[90m        missing   \u001b[0m\u001b[90m        missing   \u001b[0m\u001b[90m missing           \u001b[0m\u001b[90m  missing\u001b[0m\n",
       " 1505398 │\u001b[90m        missing   \u001b[0m\u001b[90m        missing   \u001b[0m\u001b[90m missing           \u001b[0m\u001b[90m  missing    \u001b[0m ⋯\n",
       " 1505399 │\u001b[90m        missing   \u001b[0m\u001b[90m        missing   \u001b[0m\u001b[90m missing           \u001b[0m\u001b[90m  missing\u001b[0m\n",
       " 1505400 │\u001b[90m        missing   \u001b[0m\u001b[90m        missing   \u001b[0m\u001b[90m missing           \u001b[0m\u001b[90m  missing\u001b[0m\n",
       " 1505401 │\u001b[90m        missing   \u001b[0m\u001b[90m        missing   \u001b[0m\u001b[90m missing           \u001b[0m\u001b[90m  missing\u001b[0m\n",
       " 1505402 │\u001b[90m        missing   \u001b[0m\u001b[90m        missing   \u001b[0m\u001b[90m missing           \u001b[0m\u001b[90m  missing    \u001b[0m ⋯\n",
       "\u001b[36m                                             91 columns and 1505381 rows omitted\u001b[0m"
      ]
     },
     "execution_count": 254,
     "metadata": {},
     "output_type": "execute_result"
    }
   ],
   "source": [
    "x"
   ]
  },
  {
   "cell_type": "code",
   "execution_count": null,
   "id": "7751b73c",
   "metadata": {},
   "outputs": [],
   "source": []
  },
  {
   "cell_type": "code",
   "execution_count": 255,
   "id": "30d2abd0",
   "metadata": {},
   "outputs": [],
   "source": [
    "FileIO.save(\"cleaned_data_2_no_filter.jld2\", Dict(\"sample_key\"=>sample_key,\"x\" => x,\n",
    "        \"y\" => y, \n",
    "#         \"train\" => train, \"test\" => test\n",
    "    ) ; compress = true\n",
    ")\n"
   ]
  },
  {
   "cell_type": "code",
   "execution_count": null,
   "id": "e1945ec3",
   "metadata": {},
   "outputs": [],
   "source": []
  }
 ],
 "metadata": {
  "@webio": {
   "lastCommId": "853b3320324943808d10e6d42352a12f",
   "lastKernelId": "26f9aa73-3ed9-4a43-83e5-5a33f7ef7e00"
  },
  "kernelspec": {
   "display_name": "Julia 1.6.2",
   "language": "julia",
   "name": "julia-1.6"
  },
  "language_info": {
   "file_extension": ".jl",
   "mimetype": "application/julia",
   "name": "julia",
   "version": "1.6.2"
  }
 },
 "nbformat": 4,
 "nbformat_minor": 5
}
