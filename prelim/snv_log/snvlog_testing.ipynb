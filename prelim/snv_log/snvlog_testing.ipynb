{
 "cells": [
  {
   "cell_type": "code",
   "execution_count": 6,
   "id": "c84356dc",
   "metadata": {},
   "outputs": [
    {
     "data": {
      "application/vnd.webio.node+json": {
       "children": [],
       "instanceArgs": {
        "namespace": "html",
        "tag": "div"
       },
       "nodeType": "DOM",
       "props": {},
       "type": "node"
      },
      "text/html": [
       "<div style=\"padding: 1em; background-color: #f8d6da; border: 1px solid #f5c6cb; font-weight: bold;\">\n",
       "<p>The WebIO Jupyter extension was not detected. See the\n",
       "<a href=\"https://juliagizmos.github.io/WebIO.jl/latest/providers/ijulia/\" target=\"_blank\">\n",
       "    WebIO Jupyter integration documentation\n",
       "</a>\n",
       "for more information.\n",
       "</div>\n"
      ],
      "text/plain": [
       "WebIO._IJuliaInit()"
      ]
     },
     "metadata": {
      "application/vnd.webio.node+json": {
       "kernelId": "31e7ed8b-7936-4387-b6cc-fd96df72c4fc"
      }
     },
     "output_type": "display_data"
    }
   ],
   "source": [
    "import CSV\n",
    "using DataFrames\n",
    "# using StatsBase\n",
    "include(\"$(dirname(dirname(pwd())))/pred_funcs.jl\")\n",
    "using MLJ\n",
    "# import MLJBase\n",
    "import TableView.showtable\n",
    "using Plots\n",
    "import FileIO\n",
    "import Statistics\n",
    "import LinearAlgebra\n",
    "using StatsPlots\n",
    "using Random\n",
    "Random.seed!(0);\n",
    "using StatsBase\n",
    "import MLJBase"
   ]
  },
  {
   "cell_type": "code",
   "execution_count": 7,
   "id": "3c86fc2c",
   "metadata": {},
   "outputs": [
    {
     "data": {
      "text/plain": [
       "EvoTrees.EvoTreeClassifier"
      ]
     },
     "execution_count": 7,
     "metadata": {},
     "output_type": "execute_result"
    }
   ],
   "source": [
    "MissingImputator = @load MissingImputator pkg=\"BetaML\" verbosity=0\n",
    "LogisticClassifier = @load LogisticClassifier pkg=\"MLJLinearModels\" verbosity=0;  # loads code defining a model type\n",
    "EvoTreeClassifier = @load EvoTreeClassifier verbosity=0"
   ]
  },
  {
   "cell_type": "code",
   "execution_count": 3,
   "id": "7fcf7f51",
   "metadata": {},
   "outputs": [
    {
     "data": {
      "text/plain": [
       "\"_full\""
      ]
     },
     "execution_count": 3,
     "metadata": {},
     "output_type": "execute_result"
    }
   ],
   "source": [
    "full = \"_full\""
   ]
  },
  {
   "cell_type": "code",
   "execution_count": 362,
   "id": "08dfdaeb",
   "metadata": {},
   "outputs": [],
   "source": [
    "# sample_key, xold, yold = FileIO.load(\"testdata$(full).jld2\",\"sample_key\",\"x\" ,\"y\");"
   ]
  },
  {
   "cell_type": "markdown",
   "id": "4237378d",
   "metadata": {},
   "source": [
    "# Mutect"
   ]
  },
  {
   "cell_type": "code",
   "execution_count": 219,
   "id": "c7df8e83",
   "metadata": {},
   "outputs": [],
   "source": [
    "# x=copy(xold)\n",
    "# y=copy(yold)\n",
    "# machm, stndm, imputemachm = FileIO.load(\"mutect.jld2\",\"mach\", \"stnd\", \"imputemach\");\n",
    "# x.col1=collect(1:nrow(x));\n",
    "# coldrop = [] #\"FPpass\",\"FILTER_Mutect_PASS\"] # [\"gt_AF_Mutect\",\"AltFwd_Mutect\",\"RefFwd_Mutect\",\"AltRev_Mutect\",\"RefRev_Mutect\",\"gt_AD_ref_Mutect\",\"gt_AD_alt_Mutect\"]\n",
    "# for i in names(x)\n",
    "#     if i == \"col1\" || i==\"training\"\n",
    "#         continue\n",
    "#     end\n",
    "#     if length(unique(x[:,i])) < 2 || occursin(\"Pindel\",i) || occursin(\"Lofreq\",i) || occursin(\"Vardict\",i) # || occursin(\"ALT\",i) || occursin(\"REF\",i)\n",
    "#         push!(coldrop,i)\n",
    "# #         println(i)\n",
    "#     end \n",
    "# end\n",
    "# unique!(coldrop)\n",
    "# select!(x, Not(coldrop));\n",
    "\n",
    "# # println(nrow(xold))\n",
    "# # dropmissing!(xold)\n",
    "# # println(nrow(xold))\n",
    "# filter!(x->!ismissing(x.dust_score_Mutect),x);\n",
    "# println(size(y))\n",
    "# # println(length(sample_key2))\n",
    "# println()\n",
    "# y = y[x.col1]\n",
    "# # println(xold[findall(x->x,[i==true for i in yold]),\"col1\"])\n",
    "# # println(xold[findall(x->!x,[i==true for i in yold]),\"col1\"])\n",
    "# # sample_key2 = sample_key2[x.col1]\n",
    "# select!(x,Not(\"col1\"));\n",
    "# println(\"y real \",sum([i==true for i in y]))\n",
    "# println(size(x))\n",
    "# println(size(y))\n",
    "# # println(length(sample_key2))\n",
    "# println(sum([i==true for i in y]));\n",
    "# transform_log!(x,10)\n",
    "# transform_standardizer!(x,stndm);\n",
    "# println(sum(ismissing.(Matrix(x))))\n",
    "# tt = MLJ.transform(imputemachm,x);\n",
    "# for i in 1:ncol(x)\n",
    "#     x[:,i] = tt[i]\n",
    "# end\n",
    "# disallowmissing!(x);\n",
    "# yhat=MLJ.predict_mode(machm, x); # probab"
   ]
  },
  {
   "cell_type": "code",
   "execution_count": 220,
   "id": "5d53064b",
   "metadata": {},
   "outputs": [],
   "source": [
    "# ConfusionMatrix()(yhat,y)"
   ]
  },
  {
   "cell_type": "markdown",
   "id": "b4d4980f",
   "metadata": {},
   "source": [
    "# Vardict"
   ]
  },
  {
   "cell_type": "code",
   "execution_count": 221,
   "id": "691824a5",
   "metadata": {},
   "outputs": [],
   "source": [
    "# x=copy(xold)\n",
    "# y=copy(yold)\n",
    "# machv, stndv, imputemachv = FileIO.load(\"vardict.jld2\",\"mach\", \"stnd\", \"imputemach\");\n",
    "# x.col1=collect(1:nrow(x));\n",
    "# coldrop = [] #\"FPpass\",\"FILTER_Mutect_PASS\"] # [\"gt_AF_Mutect\",\"AltFwd_Mutect\",\"RefFwd_Mutect\",\"AltRev_Mutect\",\"RefRev_Mutect\",\"gt_AD_ref_Mutect\",\"gt_AD_alt_Mutect\"]\n",
    "# for i in names(x)\n",
    "#     if i == \"col1\" || i==\"training\"\n",
    "#         continue\n",
    "#     end\n",
    "#     if length(unique(x[:,i])) < 2 || occursin(\"Pindel\",i) || occursin(\"Lofreq\",i) || occursin(\"Mutect\",i) # || occursin(\"ALT\",i) || occursin(\"REF\",i)\n",
    "#         push!(coldrop,i)\n",
    "# #         println(i)\n",
    "#     end \n",
    "# end\n",
    "# unique!(coldrop)\n",
    "# select!(x, Not(coldrop));\n",
    "# println(sum([i==true for i in y]))\n",
    "# # println(nrow(xold))\n",
    "# # dropmissing!(xold)\n",
    "# # println(nrow(xold))\n",
    "# filter!(x->!ismissing(x.dust_score_Vardict),x);\n",
    "# println(size(y))\n",
    "# # println(length(sample_key2))\n",
    "# println()\n",
    "# y = y[x.col1]\n",
    "# # println(xold[findall(x->x,[i==true for i in yold]),\"col1\"])\n",
    "# # println(xold[findall(x->!x,[i==true for i in yold]),\"col1\"])\n",
    "# # sample_key2 = sample_key2[x.col1]\n",
    "# select!(x,Not(\"col1\"));\n",
    "\n",
    "# println(size(x))\n",
    "# println(size(y))\n",
    "# # println(length(sample_key2))\n",
    "# println(sum([i==true for i in y]));\n",
    "# transform_log!(x,10)\n",
    "# transform_standardizer!(x,stndv);\n",
    "# println(sum(ismissing.(Matrix(x))))\n",
    "# tt = MLJ.transform(imputemachv,x);\n",
    "# for i in 1:ncol(x)\n",
    "#     x[:,i] = tt[i]\n",
    "# end\n",
    "# disallowmissing!(x);\n",
    "# yhat=MLJ.predict_mode(machv, x); # probab\n"
   ]
  },
  {
   "cell_type": "code",
   "execution_count": 222,
   "id": "62a0a52b",
   "metadata": {},
   "outputs": [],
   "source": [
    "# ConfusionMatrix()(yhat,y)"
   ]
  },
  {
   "cell_type": "markdown",
   "id": "2d192b69",
   "metadata": {},
   "source": [
    "# Lofreq"
   ]
  },
  {
   "cell_type": "code",
   "execution_count": 223,
   "id": "43906dfb",
   "metadata": {},
   "outputs": [],
   "source": [
    "# x=copy(xold)\n",
    "# y=copy(yold)\n",
    "# machl, stndl, imputemachl = FileIO.load(\"lofreq.jld2\",\"mach\", \"stnd\", \"imputemach\");\n",
    "# x.col1=collect(1:nrow(x));\n",
    "# coldrop = [] #\"FPpass\",\"FILTER_Mutect_PASS\"] # [\"gt_AF_Mutect\",\"AltFwd_Mutect\",\"RefFwd_Mutect\",\"AltRev_Mutect\",\"RefRev_Mutect\",\"gt_AD_ref_Mutect\",\"gt_AD_alt_Mutect\"]\n",
    "# for i in names(x)\n",
    "#     if i == \"col1\" || i==\"training\"\n",
    "#         continue\n",
    "#     end\n",
    "#     if length(unique(x[:,i])) < 2 || occursin(\"Pindel\",i) || occursin(\"Mutect\",i) || occursin(\"Vardict\",i) # || occursin(\"ALT\",i) || occursin(\"REF\",i)\n",
    "#         push!(coldrop,i)\n",
    "# #         println(i)\n",
    "#     end \n",
    "# end\n",
    "# unique!(coldrop)\n",
    "# select!(x, Not(coldrop));\n",
    "# println(sum([i==true for i in y]))\n",
    "# # println(nrow(xold))\n",
    "# # dropmissing!(xold)\n",
    "# # println(nrow(xold))\n",
    "# filter!(x->!ismissing(x.dust_score_Lofreq),x);\n",
    "# println(size(y))\n",
    "# # println(length(sample_key2))\n",
    "# println()\n",
    "# y = y[x.col1]\n",
    "# # println(xold[findall(x->x,[i==true for i in yold]),\"col1\"])\n",
    "# # println(xold[findall(x->!x,[i==true for i in yold]),\"col1\"])\n",
    "# # sample_key2 = sample_key2[x.col1]\n",
    "# select!(x,Not(\"col1\"));\n",
    "# # x=DataFrame(x[1,:])\n",
    "\n",
    "# println(size(x))\n",
    "# println(size(y))\n",
    "# # println(length(sample_key2))\n",
    "# println(sum([i==true for i in y]));\n",
    "# transform_log!(x,10)\n",
    "# transform_standardizer!(x,stndl);\n",
    "# println(sum(ismissing.(Matrix(x))))\n",
    "# tt = MLJ.transform(imputemachl,x);\n",
    "# for i in 1:ncol(x)\n",
    "#     x[:,i] = tt[i]\n",
    "# end\n",
    "# disallowmissing!(x);\n",
    "# yhat=MLJ.predict_mode(machl, x); # probab\n",
    "\n"
   ]
  },
  {
   "cell_type": "code",
   "execution_count": 224,
   "id": "2602ef90",
   "metadata": {},
   "outputs": [],
   "source": [
    "# ConfusionMatrix()(yhat,y)"
   ]
  },
  {
   "cell_type": "markdown",
   "id": "2bc201da",
   "metadata": {},
   "source": [
    "# Combine\n"
   ]
  },
  {
   "cell_type": "code",
   "execution_count": 30,
   "id": "1ff97d01",
   "metadata": {},
   "outputs": [
    {
     "data": {
      "text/plain": [
       "\"_full\""
      ]
     },
     "execution_count": 30,
     "metadata": {},
     "output_type": "execute_result"
    }
   ],
   "source": [
    "full = \"_full\""
   ]
  },
  {
   "cell_type": "code",
   "execution_count": 31,
   "id": "71088b31",
   "metadata": {},
   "outputs": [],
   "source": [
    "sample_key, xold, yold = FileIO.load(\"traindata$(full).jld2\",\"sample_key\",\"x\" ,\"y\");"
   ]
  },
  {
   "cell_type": "code",
   "execution_count": 32,
   "id": "3bf3d56a",
   "metadata": {},
   "outputs": [
    {
     "name": "stdout",
     "output_type": "stream",
     "text": [
      "61\n",
      "(612103,)\n",
      "\n"
     ]
    }
   ],
   "source": [
    "x=copy(xold)\n",
    "y=copy(yold)\n",
    "x.col1=collect(1:nrow(x));\n",
    "coldrop = [] #\"FPpass\",\"FILTER_Mutect_PASS\"] # [\"gt_AF_Mutect\",\"AltFwd_Mutect\",\"RefFwd_Mutect\",\"AltRev_Mutect\",\"RefRev_Mutect\",\"gt_AD_ref_Mutect\",\"gt_AD_alt_Mutect\"]\n",
    "for i in names(x)\n",
    "    if i == \"col1\" || i==\"training\" || occursin( \"FILTER_Mutect\",i) || occursin( \"FILTER_Vardict\",i) || occursin( \"FILTER_Lofreq\",i)\n",
    "        continue\n",
    "    end\n",
    "    if length(unique(x[:,i])) < 2 || occursin(\"Pindel\",i) # || occursin(\"ALT\",i) || occursin(\"REF\",i)\n",
    "        push!(coldrop,i)\n",
    "#         println(i)\n",
    "    end \n",
    "end\n",
    "unique!(coldrop)\n",
    "select!(x, Not(coldrop));\n",
    "println(sum([i==true for i in y]))\n",
    "\n",
    "println(size(y))\n",
    "\n",
    "println()\n",
    "y = y[x.col1]\n",
    "select!(x,Not(\"col1\"));\n",
    "\n"
   ]
  },
  {
   "cell_type": "code",
   "execution_count": 33,
   "id": "bb9e59ea",
   "metadata": {},
   "outputs": [
    {
     "data": {
      "text/plain": [
       "predictor (generic function with 1 method)"
      ]
     },
     "execution_count": 33,
     "metadata": {},
     "output_type": "execute_result"
    }
   ],
   "source": [
    "function predictor(df2, caller; prob=true,cutoff=0.5)\n",
    "    df=copy(df2)\n",
    "    preds = zeros(length(df[:,1]))\n",
    "    mach, stnd, imputemach = FileIO.load(lowercase(caller)*full*\".jld2\",\"mach\", \"stnd\", \"imputemach\");\n",
    "    calcol = setdiff([\"Mutect\",\"Lofreq\",\"Vardict\"],[caller])\n",
    "    coldrop = []\n",
    "    for i in names(df)\n",
    "        if occursin(calcol[2],i) || occursin(calcol[1],i)\n",
    "            push!(coldrop,i)\n",
    "        end \n",
    "    end\n",
    "    unique!(coldrop)\n",
    "    select!(df, Not(coldrop));\n",
    "#     return df\n",
    "    indx = findall(x->!ismissing(x),df[:,\"dust_score_$(caller)\"] )  # indexs to predict on, all else are 0\n",
    "    println(length(indx),\" to be predicted on\")\n",
    "    df = df[indx,:]\n",
    "    transform_log!(df,10)\n",
    "    transform_standardizer!(df,stnd);\n",
    "    println(sum(ismissing.(Matrix(df))),\" are missing\")\n",
    "    println(size(df))\n",
    "    tt = MLJ.transform(imputemach,df);\n",
    "    for i in 1:ncol(df)\n",
    "        df[:,i] = tt[i]\n",
    "    end\n",
    "    disallowmissing!(df)\n",
    "    yhat = pdf(MLJ.predict(mach, df),[true]) # prob of being true\n",
    "#     return vec([i>cutoff for i in yhat ]),indx\n",
    "    ct = 1\n",
    "    for i in 1:length(preds)\n",
    "        if i == indx[ct]\n",
    "            preds[i] = yhat[ct]\n",
    "            ct+=1\n",
    "            if ct > length(indx)\n",
    "                break\n",
    "            end\n",
    "        end\n",
    "    end\n",
    "    if prob\n",
    "        return preds,indx\n",
    "    else\n",
    "        return [i>cutoff for i in preds ],indx\n",
    "    end\n",
    "    return nothing\n",
    "end\n",
    "    "
   ]
  },
  {
   "cell_type": "code",
   "execution_count": 34,
   "id": "14d78db1",
   "metadata": {},
   "outputs": [],
   "source": [
    "# yhat,indx=predictor(x,\"Vardict\";prob=false);"
   ]
  },
  {
   "cell_type": "code",
   "execution_count": 35,
   "id": "6aeafc54",
   "metadata": {},
   "outputs": [],
   "source": [
    "# ConfusionMatrix()(coerce(copy(yhat),OrderedFactor),coerce(copy(y),OrderedFactor))"
   ]
  },
  {
   "cell_type": "code",
   "execution_count": 36,
   "id": "2147be3d",
   "metadata": {},
   "outputs": [
    {
     "name": "stdout",
     "output_type": "stream",
     "text": [
      "640 to be predicted on\n",
      "51 are missing\n",
      "(640, 59)\n",
      "611860 to be predicted on\n",
      "519658 are missing\n",
      "(611860, 39)\n",
      "242242 to be predicted on\n",
      "185147 are missing\n",
      "(242242, 52)\n"
     ]
    }
   ],
   "source": [
    "fina=DataFrame(sample=sample_key, mutect=predictor(x,\"Mutect\")[1], lofreq=predictor(x,\"Lofreq\")[1], \n",
    "    vardict=predictor(x,\"Vardict\")[1], real=y);"
   ]
  },
  {
   "cell_type": "code",
   "execution_count": 38,
   "id": "e9e37d3b",
   "metadata": {},
   "outputs": [
    {
     "name": "stderr",
     "output_type": "stream",
     "text": [
      "┌ Info: Training Machine{ProbabilisticTunedModel{LatinHypercube,…},…}.\n",
      "└ @ MLJBase /Users/alexpanchot/.julia/packages/MLJBase/HZmTU/src/machines.jl:403\n",
      "┌ Info: Attempting to evaluate 20 models.\n",
      "└ @ MLJTuning /Users/alexpanchot/.julia/packages/MLJTuning/efiDR/src/tuned_models.jl:685\n",
      "\u001b[33mEvaluating over 20 metamodels:   5%[=>                       ]  ETA: 0:15:06\u001b[39m┌ Warning: Proximal GD did not converge in 1000 iterations.\n",
      "└ @ MLJLinearModels /Users/alexpanchot/.julia/packages/MLJLinearModels/ISbgA/src/fit/proxgrad.jl:64\n",
      "┌ Warning: Proximal GD did not converge in 1000 iterations.\n",
      "└ @ MLJLinearModels /Users/alexpanchot/.julia/packages/MLJLinearModels/ISbgA/src/fit/proxgrad.jl:64\n",
      "┌ Warning: Proximal GD did not converge in 1000 iterations.\n",
      "└ @ MLJLinearModels /Users/alexpanchot/.julia/packages/MLJLinearModels/ISbgA/src/fit/proxgrad.jl:64\n",
      "┌ Warning: Proximal GD did not converge in 1000 iterations.\n",
      "└ @ MLJLinearModels /Users/alexpanchot/.julia/packages/MLJLinearModels/ISbgA/src/fit/proxgrad.jl:64\n",
      "┌ Warning: Proximal GD did not converge in 1000 iterations.\n",
      "└ @ MLJLinearModels /Users/alexpanchot/.julia/packages/MLJLinearModels/ISbgA/src/fit/proxgrad.jl:64\n",
      "┌ Warning: Proximal GD did not converge in 1000 iterations.\n",
      "└ @ MLJLinearModels /Users/alexpanchot/.julia/packages/MLJLinearModels/ISbgA/src/fit/proxgrad.jl:64\n",
      "\u001b[33mEvaluating over 20 metamodels:  40%[==========>              ]  ETA: 0:02:35\u001b[39m┌ Warning: Proximal GD did not converge in 1000 iterations.\n",
      "└ @ MLJLinearModels /Users/alexpanchot/.julia/packages/MLJLinearModels/ISbgA/src/fit/proxgrad.jl:64\n",
      "┌ Warning: Proximal GD did not converge in 1000 iterations.\n",
      "└ @ MLJLinearModels /Users/alexpanchot/.julia/packages/MLJLinearModels/ISbgA/src/fit/proxgrad.jl:64\n",
      "┌ Warning: Proximal GD did not converge in 1000 iterations.\n",
      "└ @ MLJLinearModels /Users/alexpanchot/.julia/packages/MLJLinearModels/ISbgA/src/fit/proxgrad.jl:64\n",
      "┌ Warning: Proximal GD did not converge in 1000 iterations.\n",
      "└ @ MLJLinearModels /Users/alexpanchot/.julia/packages/MLJLinearModels/ISbgA/src/fit/proxgrad.jl:64\n",
      "┌ Warning: Proximal GD did not converge in 1000 iterations.\n",
      "└ @ MLJLinearModels /Users/alexpanchot/.julia/packages/MLJLinearModels/ISbgA/src/fit/proxgrad.jl:64\n",
      "┌ Warning: Proximal GD did not converge in 1000 iterations.\n",
      "└ @ MLJLinearModels /Users/alexpanchot/.julia/packages/MLJLinearModels/ISbgA/src/fit/proxgrad.jl:64\n",
      "┌ Warning: Proximal GD did not converge in 1000 iterations.\n",
      "└ @ MLJLinearModels /Users/alexpanchot/.julia/packages/MLJLinearModels/ISbgA/src/fit/proxgrad.jl:64\n",
      "┌ Warning: Proximal GD did not converge in 1000 iterations.\n",
      "└ @ MLJLinearModels /Users/alexpanchot/.julia/packages/MLJLinearModels/ISbgA/src/fit/proxgrad.jl:64\n",
      "┌ Warning: Proximal GD did not converge in 1000 iterations.\n",
      "└ @ MLJLinearModels /Users/alexpanchot/.julia/packages/MLJLinearModels/ISbgA/src/fit/proxgrad.jl:64\n",
      "┌ Warning: Proximal GD did not converge in 1000 iterations.\n",
      "└ @ MLJLinearModels /Users/alexpanchot/.julia/packages/MLJLinearModels/ISbgA/src/fit/proxgrad.jl:64\n",
      "┌ Warning: Proximal GD did not converge in 1000 iterations.\n",
      "└ @ MLJLinearModels /Users/alexpanchot/.julia/packages/MLJLinearModels/ISbgA/src/fit/proxgrad.jl:64\n",
      "┌ Warning: Proximal GD did not converge in 1000 iterations.\n",
      "└ @ MLJLinearModels /Users/alexpanchot/.julia/packages/MLJLinearModels/ISbgA/src/fit/proxgrad.jl:64\n",
      "┌ Warning: Proximal GD did not converge in 1000 iterations.\n",
      "└ @ MLJLinearModels /Users/alexpanchot/.julia/packages/MLJLinearModels/ISbgA/src/fit/proxgrad.jl:64\n",
      "┌ Warning: Proximal GD did not converge in 1000 iterations.\n",
      "└ @ MLJLinearModels /Users/alexpanchot/.julia/packages/MLJLinearModels/ISbgA/src/fit/proxgrad.jl:64\n",
      "┌ Warning: Proximal GD did not converge in 1000 iterations.\n",
      "└ @ MLJLinearModels /Users/alexpanchot/.julia/packages/MLJLinearModels/ISbgA/src/fit/proxgrad.jl:64\n",
      "┌ Warning: Proximal GD did not converge in 1000 iterations.\n",
      "└ @ MLJLinearModels /Users/alexpanchot/.julia/packages/MLJLinearModels/ISbgA/src/fit/proxgrad.jl:64\n",
      "┌ Warning: Proximal GD did not converge in 1000 iterations.\n",
      "└ @ MLJLinearModels /Users/alexpanchot/.julia/packages/MLJLinearModels/ISbgA/src/fit/proxgrad.jl:64\n",
      "┌ Warning: Proximal GD did not converge in 1000 iterations.\n",
      "└ @ MLJLinearModels /Users/alexpanchot/.julia/packages/MLJLinearModels/ISbgA/src/fit/proxgrad.jl:64\n",
      "┌ Warning: Proximal GD did not converge in 1000 iterations.\n",
      "└ @ MLJLinearModels /Users/alexpanchot/.julia/packages/MLJLinearModels/ISbgA/src/fit/proxgrad.jl:64\n",
      "┌ Warning: Proximal GD did not converge in 1000 iterations.\n",
      "└ @ MLJLinearModels /Users/alexpanchot/.julia/packages/MLJLinearModels/ISbgA/src/fit/proxgrad.jl:64\n",
      "┌ Warning: Proximal GD did not converge in 1000 iterations.\n",
      "└ @ MLJLinearModels /Users/alexpanchot/.julia/packages/MLJLinearModels/ISbgA/src/fit/proxgrad.jl:64\n",
      "┌ Warning: Proximal GD did not converge in 1000 iterations.\n",
      "└ @ MLJLinearModels /Users/alexpanchot/.julia/packages/MLJLinearModels/ISbgA/src/fit/proxgrad.jl:64\n",
      "┌ Warning: Proximal GD did not converge in 1000 iterations.\n",
      "└ @ MLJLinearModels /Users/alexpanchot/.julia/packages/MLJLinearModels/ISbgA/src/fit/proxgrad.jl:64\n",
      "\u001b[33mEvaluating over 20 metamodels:  95%[=======================> ]  ETA: 0:00:33\u001b[39m┌ Warning: Proximal GD did not converge in 1000 iterations.\n",
      "└ @ MLJLinearModels /Users/alexpanchot/.julia/packages/MLJLinearModels/ISbgA/src/fit/proxgrad.jl:64\n",
      "\u001b[33mEvaluating over 20 metamodels: 100%[=========================] Time: 0:10:39\u001b[39m\n"
     ]
    },
    {
     "data": {
      "text/plain": [
       "Machine{ProbabilisticTunedModel{LatinHypercube,…},…} trained 1 time; caches data\n",
       "  args: \n",
       "    1:\tSource @489 ⏎ `Table{AbstractVector{Continuous}}`\n",
       "    2:\tSource @581 ⏎ `AbstractVector{OrderedFactor{2}}`\n"
      ]
     },
     "execution_count": 38,
     "metadata": {},
     "output_type": "execute_result"
    }
   ],
   "source": [
    "\n",
    "r = [\n",
    "    range(LogisticClassifier(), :lambda, lower=0.0,upper=1.0),\n",
    "    range(LogisticClassifier(), :gamma, lower=0.0,upper=1.0),\n",
    "    range(LogisticClassifier(), :penalty, values=[:none,:l1,:l2]),\n",
    "    ]\n",
    "self_tune = TunedModel(\n",
    "    model=LogisticClassifier(),\n",
    "    resampling=StratifiedCV(nfolds=5, rng=123),\n",
    "\n",
    "    tuning=LatinHypercube(),  \n",
    "    range = r,\n",
    "    n=20,\n",
    "    operation=predict_mode, # use for probabalistic \n",
    "    measure = fnr,  # use for deterministic or with predict_mode for probab \n",
    "    acceleration=CPUThreads(),\n",
    ")\n",
    "\n",
    "machbest = machine(\n",
    "    self_tune,\n",
    "     fina[:,[\"mutect\",\"lofreq\",\"vardict\"]],fina[:,:real])\n",
    "fit!(machbest,verbosity=1 )"
   ]
  },
  {
   "cell_type": "code",
   "execution_count": 39,
   "id": "ad34a22f",
   "metadata": {},
   "outputs": [],
   "source": [
    "# machbest = machine(\n",
    "#     LogisticClassifier(penalty=:l2),\n",
    "#     fina[:,[\"mutect\",\"lofreq\",\"vardict\"]],fina[:,:real] )\n",
    "# fit!(machbest,verbosity=1 )\n",
    "FileIO.save(\"combine$(full).jld2\", Dict(\"mach\"=>machbest    ) ; compress = true\n",
    ")"
   ]
  },
  {
   "cell_type": "code",
   "execution_count": 40,
   "id": "b6f2a6d8",
   "metadata": {},
   "outputs": [
    {
     "data": {
      "text/plain": [
       "LogisticClassifier(\n",
       "    lambda = 0.9473684210526315,\n",
       "    gamma = 0.15789473684210525,\n",
       "    penalty = :none,\n",
       "    fit_intercept = true,\n",
       "    penalize_intercept = false,\n",
       "    solver = nothing)"
      ]
     },
     "execution_count": 40,
     "metadata": {},
     "output_type": "execute_result"
    }
   ],
   "source": [
    "fitted_params(machbest).best_model\n",
    "\n"
   ]
  },
  {
   "cell_type": "code",
   "execution_count": 22,
   "id": "8c6afd45",
   "metadata": {},
   "outputs": [],
   "source": [
    "# pr = vec(pdf(MLJ.predict(machbest, fina[:,[\"mutect\",\"lofreq\",\"vardict\"]]),[true]))\n",
    "\n",
    "# yhat=[i > 0.5 for i in pr]\n",
    "# fina.final = pr ;"
   ]
  },
  {
   "cell_type": "code",
   "execution_count": 23,
   "id": "e00e7738",
   "metadata": {},
   "outputs": [],
   "source": [
    "# ConfusionMatrix()(yhat,fina[:,:real])"
   ]
  },
  {
   "cell_type": "code",
   "execution_count": 24,
   "id": "d571be31",
   "metadata": {},
   "outputs": [],
   "source": [
    "# showtable(filter(x->x.final>0.49,fina))"
   ]
  },
  {
   "cell_type": "markdown",
   "id": "32b188df",
   "metadata": {},
   "source": [
    "# FINAL TESTING"
   ]
  },
  {
   "cell_type": "code",
   "execution_count": 55,
   "id": "1e02d77d",
   "metadata": {},
   "outputs": [
    {
     "data": {
      "text/plain": [
       "\"_full\""
      ]
     },
     "execution_count": 55,
     "metadata": {},
     "output_type": "execute_result"
    }
   ],
   "source": [
    "full = \"_full\""
   ]
  },
  {
   "cell_type": "code",
   "execution_count": 56,
   "id": "e4e1f6d5",
   "metadata": {
    "scrolled": true
   },
   "outputs": [
    {
     "name": "stdout",
     "output_type": "stream",
     "text": [
      "61\n",
      "(612102,)\n",
      "\n",
      "649 to be predicted on\n",
      "41 are missing\n",
      "(649, 59)\n",
      "611845 to be predicted on\n",
      "519317 are missing\n",
      "(611845, 39)\n",
      "242481 to be predicted on\n",
      "185253 are missing\n",
      "(242481, 52)\n"
     ]
    }
   ],
   "source": [
    "sample_key, x, y = FileIO.load(\"testdata$(full).jld2\",\"sample_key\",\"x\" ,\"y\");\n",
    "x.col1=collect(1:nrow(x));\n",
    "coldrop = [] #\"FPpass\",\"FILTER_Mutect_PASS\"] # [\"gt_AF_Mutect\",\"AltFwd_Mutect\",\"RefFwd_Mutect\",\"AltRev_Mutect\",\"RefRev_Mutect\",\"gt_AD_ref_Mutect\",\"gt_AD_alt_Mutect\"]\n",
    "for i in names(x)\n",
    "    if i == \"col1\" || i==\"training\" || occursin( \"FILTER_Mutect\",i) || occursin( \"FILTER_Vardict\",i) || occursin( \"FILTER_Lofreq\",i)\n",
    "        continue\n",
    "    end\n",
    "    if length(unique(x[:,i])) < 2 || occursin(\"Pindel\",i) # || occursin(\"ALT\",i) || occursin(\"REF\",i)\n",
    "        push!(coldrop,i)\n",
    "#         println(i)\n",
    "    end \n",
    "end\n",
    "unique!(coldrop)\n",
    "select!(x, Not(coldrop));\n",
    "println(sum([i==true for i in y]))\n",
    "\n",
    "println(size(y))\n",
    "\n",
    "println()\n",
    "y = y[x.col1]\n",
    "select!(x,Not(\"col1\"));\n",
    "fina=DataFrame(sample=sample_key, mutect=predictor(x,\"Mutect\")[1], lofreq=predictor(x,\"Lofreq\")[1], \n",
    "    vardict=predictor(x,\"Vardict\")[1], real=y);\n",
    "mach = FileIO.load(\"combine$(full).jld2\",\"mach\");\n",
    "pr = vec(pdf(MLJ.predict(mach, fina[:,[\"mutect\",\"lofreq\",\"vardict\"]]),[true]))\n",
    "\n",
    "yhat=[i > 0.5 for i in pr]\n",
    "fina.final = pr ;\n",
    "\n"
   ]
  },
  {
   "cell_type": "code",
   "execution_count": 57,
   "id": "0b4647c9",
   "metadata": {},
   "outputs": [
    {
     "data": {
      "text/plain": [
       "              ┌───────────────────────────┐\n",
       "              │       Ground Truth        │\n",
       "┌─────────────┼─────────────┬─────────────┤\n",
       "│  Predicted  │    false    │    true     │\n",
       "├─────────────┼─────────────┼─────────────┤\n",
       "│    false    │   612033    │     24      │\n",
       "├─────────────┼─────────────┼─────────────┤\n",
       "│    true     │      8      │     37      │\n",
       "└─────────────┴─────────────┴─────────────┘\n"
      ]
     },
     "execution_count": 57,
     "metadata": {},
     "output_type": "execute_result"
    }
   ],
   "source": [
    "ConfusionMatrix()(yhat,fina[:,:real])"
   ]
  },
  {
   "cell_type": "code",
   "execution_count": 58,
   "id": "f4908bf9",
   "metadata": {},
   "outputs": [
    {
     "data": {
      "application/vnd.webio.node+json": {
       "children": [
        {
         "children": [
          {
           "children": [
            ""
           ],
           "instanceArgs": {
            "namespace": "html",
            "tag": "div"
           },
           "nodeType": "DOM",
           "props": {
            "style": {
             "background-color": "#F5F7F7",
             "color": "#1c1f20",
             "font-family": "-apple-system, BlinkMacSystemFont, \"Segoe UI\", Roboto, Oxygen-Sans, Ubuntu, Cantarell, \"Helvetica Neue\", sans-serif",
             "height": "0",
             "padding": "0"
            }
           },
           "type": "node"
          },
          {
           "children": [],
           "instanceArgs": {
            "namespace": "html",
            "tag": "div"
           },
           "nodeType": "DOM",
           "props": {
            "className": "ag-theme-balham",
            "id": "grid-b645130a",
            "style": {
             "height": "218px",
             "width": "100%"
            }
           },
           "type": "node"
          }
         ],
         "instanceArgs": {
          "namespace": "html",
          "tag": "div"
         },
         "nodeType": "DOM",
         "props": {},
         "type": "node"
        }
       ],
       "instanceArgs": {
        "handlers": {},
        "id": "13616808180838255267",
        "imports": {
         "data": [
          {
           "name": null,
           "type": "js",
           "url": "/assetserver/ff7cedeb3c0be1fe3b78420e39e5831529252e27-rowNumberRenderer.js"
          },
          {
           "name": null,
           "type": "js",
           "url": "/assetserver/bd0edaba5158ded95855aef34fd8f3dd96ae49fb-ag-grid.js"
          },
          {
           "name": null,
           "type": "css",
           "url": "/assetserver/77a698eb508b878c6fc123d504f8b478c0953d4e-ag-grid.css"
          },
          {
           "name": null,
           "type": "css",
           "url": "/assetserver/e32886774615890ea3135fc2948c5a5d84679ad0-ag-grid-light.css"
          },
          {
           "name": null,
           "type": "css",
           "url": "/assetserver/d729992f1accd067e59a3e0aef7bd027c5dbf032-ag-grid-dark.css"
          }
         ],
         "type": "async_block"
        },
        "mount_callbacks": [
         "function () {\n    var handler = ((function (RowNumberRenderer,agGrid){var gridOptions={\"onCellFocused\":(function (ev){var x={}; (ev.rowIndex!==undefined) ? (x[\"rowIndex\"]=(ev.rowIndex+1)) : undefined; (ev.colDef!==undefined) ? (x[\"column\"]=ev.colDef.headerName) : undefined; return WebIO.setval({\"name\":\"onCellFocused\",\"scope\":\"13616808180838255267\",\"id\":\"9594376801843074039\",\"type\":\"observable\"},x)}),\"onCellValueChanged\":(function (){return }),\"rowSelection\":\"multiple\",\"multiSortKey\":\"ctrl\",\"columnDefs\":[{\"filter\":false,\"editable\":false,\"headerTooltip\":\"\",\"field\":\"__row__\",\"headerName\":\"Row\",\"sortable\":true,\"type\":\"numericColumn\",\"cellRenderer\":\"rowNumberRenderer\",\"resizable\":true},{\"filter\":true,\"editable\":false,\"headerTooltip\":\"String\",\"field\":\"sample\",\"headerName\":\"sample\",\"sortable\":true,\"type\":null,\"resizable\":true},{\"filter\":\"agNumberColumnFilter\",\"editable\":false,\"headerTooltip\":\"Float64\",\"field\":\"mutect\",\"headerName\":\"mutect\",\"sortable\":true,\"type\":\"numericColumn\",\"resizable\":true},{\"filter\":\"agNumberColumnFilter\",\"editable\":false,\"headerTooltip\":\"Float64\",\"field\":\"lofreq\",\"headerName\":\"lofreq\",\"sortable\":true,\"type\":\"numericColumn\",\"resizable\":true},{\"filter\":\"agNumberColumnFilter\",\"editable\":false,\"headerTooltip\":\"Float64\",\"field\":\"vardict\",\"headerName\":\"vardict\",\"sortable\":true,\"type\":\"numericColumn\",\"resizable\":true},{\"filter\":true,\"editable\":false,\"headerTooltip\":\"CategoricalArrays.CategoricalValue{Bool, UInt32}\",\"field\":\"real\",\"headerName\":\"real\",\"sortable\":true,\"type\":null,\"resizable\":true},{\"filter\":\"agNumberColumnFilter\",\"editable\":false,\"headerTooltip\":\"Float64\",\"field\":\"final\",\"headerName\":\"final\",\"sortable\":true,\"type\":\"numericColumn\",\"resizable\":true},{\"filter\":\"agNumberColumnFilter\",\"editable\":false,\"headerTooltip\":\"Union{Missing, Float32}\",\"field\":\"vaf\",\"headerName\":\"vaf\",\"sortable\":true,\"type\":\"numericColumn\",\"resizable\":true}],\"onCellDoubleClicked\":(function (ev){var x={}; (ev.rowIndex!==undefined) ? (x[\"rowIndex\"]=(ev.rowIndex+1)) : undefined; (ev.colDef!==undefined) ? (x[\"column\"]=ev.colDef.headerName) : undefined; return WebIO.setval({\"name\":\"onCellDoubleClicked\",\"scope\":\"13616808180838255267\",\"id\":\"17547719245525861482\",\"type\":\"observable\"},x)}),\"onRowClicked\":(function (ev){var x={}; (ev.rowIndex!==undefined) ? (x[\"rowIndex\"]=(ev.rowIndex+1)) : undefined; (ev.colDef!==undefined) ? (x[\"column\"]=ev.colDef.headerName) : undefined; return WebIO.setval({\"name\":\"onRowClicked\",\"scope\":\"13616808180838255267\",\"id\":\"4964628841757314409\",\"type\":\"observable\"},x)}),\"onCellKeyDown\":(function (ev){var x={}; (ev.rowIndex!==undefined) ? (x[\"rowIndex\"]=(ev.rowIndex+1)) : undefined; (ev.colDef!==undefined) ? (x[\"column\"]=ev.colDef.headerName) : undefined; return WebIO.setval({\"name\":\"onCellKeyDown\",\"scope\":\"13616808180838255267\",\"id\":\"16049820243962857553\",\"type\":\"observable\"},x)}),\"rowData\":[{\"sample\":\"809382_T 17:58678006 C>G\",\"mutect\":0.0,\"lofreq\":0.09207506412265128,\"vardict\":0.28578177098209967,\"real\":\"false\",\"final\":0.9767444559299474,\"vaf\":0.007688},{\"sample\":\"887041_1_1000 17:58678006 C>G\",\"mutect\":0.0,\"lofreq\":0.08915897466726311,\"vardict\":0.7878767330769612,\"real\":\"false\",\"final\":0.9999999999488369,\"vaf\":0.011384},{\"sample\":\"887041_1_10 17:58678006 C>G\",\"mutect\":0.0,\"lofreq\":0.068905233458936,\"vardict\":0.7229585447400029,\"real\":\"false\",\"final\":0.9999999987921275,\"vaf\":0.011157},{\"sample\":\"218281_T 17:58678006 C>G\",\"mutect\":0.0,\"lofreq\":0.14775324901640247,\"vardict\":0.9997384615368087,\"real\":\"false\",\"final\":0.999999999999998,\"vaf\":0.011401},{\"sample\":\"887041_1_5000 17:58678006 C>G\",\"mutect\":0.0,\"lofreq\":0.08933833620209392,\"vardict\":0.787984566994482,\"real\":\"false\",\"final\":0.9999999999493134,\"vaf\":0.01139},{\"sample\":\"887041_1_100 17:58678006 C>G\",\"mutect\":0.0,\"lofreq\":0.08691312130681532,\"vardict\":0.7915752272618634,\"real\":\"false\",\"final\":0.9999999999529763,\"vaf\":0.011331}],\"onCellClicked\":(function (ev){var x={}; (ev.rowIndex!==undefined) ? (x[\"rowIndex\"]=(ev.rowIndex+1)) : undefined; (ev.colDef!==undefined) ? (x[\"column\"]=ev.colDef.headerName) : undefined; return WebIO.setval({\"name\":\"onCellClicked\",\"scope\":\"13616808180838255267\",\"id\":\"6713879880186499919\",\"type\":\"observable\"},x)})}; var el=document.getElementById(\"grid-b645130a\"); gridOptions.components={\"rowNumberRenderer\":RowNumberRenderer}; false ? (agGrid.LicenseManager.setLicenseKey(null)) : undefined; this.table=new agGrid.Grid(el,gridOptions); return gridOptions.columnApi.autoSizeAllColumns()}));\n    (WebIO.importBlock({\"data\":[{\"name\":null,\"type\":\"js\",\"url\":\"/assetserver/ff7cedeb3c0be1fe3b78420e39e5831529252e27-rowNumberRenderer.js\"},{\"name\":null,\"type\":\"js\",\"url\":\"/assetserver/bd0edaba5158ded95855aef34fd8f3dd96ae49fb-ag-grid.js\"},{\"name\":null,\"type\":\"css\",\"url\":\"/assetserver/77a698eb508b878c6fc123d504f8b478c0953d4e-ag-grid.css\"},{\"name\":null,\"type\":\"css\",\"url\":\"/assetserver/e32886774615890ea3135fc2948c5a5d84679ad0-ag-grid-light.css\"},{\"name\":null,\"type\":\"css\",\"url\":\"/assetserver/d729992f1accd067e59a3e0aef7bd027c5dbf032-ag-grid-dark.css\"}],\"type\":\"async_block\"})).then((imports) => handler.apply(this, imports));\n}\n"
        ],
        "observables": {
         "onCellClicked": {
          "id": "6713879880186499919",
          "sync": false,
          "value": null
         },
         "onCellDoubleClicked": {
          "id": "17547719245525861482",
          "sync": false,
          "value": null
         },
         "onCellFocused": {
          "id": "9594376801843074039",
          "sync": false,
          "value": null
         },
         "onCellKeyDown": {
          "id": "16049820243962857553",
          "sync": false,
          "value": null
         },
         "onRowClicked": {
          "id": "4964628841757314409",
          "sync": false,
          "value": null
         }
        },
        "systemjs_options": null
       },
       "nodeType": "Scope",
       "props": {},
       "type": "node"
      },
      "text/html": [
       "<div\n",
       "    class=\"webio-mountpoint\"\n",
       "    data-webio-mountpoint=\"12792155876013343173\"\n",
       ">\n",
       "    <script>\n",
       "    (function(){\n",
       "    // Some integrations (namely, IJulia/Jupyter) use an alternate render pathway than\n",
       "    // just putting the html on the page. If WebIO isn't defined, then it's pretty likely\n",
       "    // that we're in one of those situations and the integration just isn't installed\n",
       "    // correctly.\n",
       "    if (typeof window.WebIO === \"undefined\") {\n",
       "        document\n",
       "            .querySelector('[data-webio-mountpoint=\"12792155876013343173\"]')\n",
       "            .innerHTML = (\n",
       "                '<div style=\"padding: 1em; background-color: #f8d6da; border: 1px solid #f5c6cb; font-weight: bold;\">' +\n",
       "                '<p><strong>WebIO not detected.</strong></p>' +\n",
       "                '<p>Please read ' +\n",
       "                '<a href=\"https://juliagizmos.github.io/WebIO.jl/latest/troubleshooting/not-detected/\" target=\"_blank\">the troubleshooting guide</a> ' +\n",
       "                'for more information on how to resolve this issue.</p>' +\n",
       "                '<p><a href=\"https://juliagizmos.github.io/WebIO.jl/latest/troubleshooting/not-detected/\" target=\"_blank\">https://juliagizmos.github.io/WebIO.jl/latest/troubleshooting/not-detected/</a></p>' +\n",
       "                '</div>'\n",
       "            );\n",
       "        return;\n",
       "    }\n",
       "    WebIO.mount(\n",
       "        document.querySelector('[data-webio-mountpoint=\"12792155876013343173\"]'),\n",
       "        {\"props\":{},\"nodeType\":\"Scope\",\"type\":\"node\",\"instanceArgs\":{\"imports\":{\"data\":[{\"name\":null,\"type\":\"js\",\"url\":\"\\/assetserver\\/ff7cedeb3c0be1fe3b78420e39e5831529252e27-rowNumberRenderer.js\"},{\"name\":null,\"type\":\"js\",\"url\":\"\\/assetserver\\/bd0edaba5158ded95855aef34fd8f3dd96ae49fb-ag-grid.js\"},{\"name\":null,\"type\":\"css\",\"url\":\"\\/assetserver\\/77a698eb508b878c6fc123d504f8b478c0953d4e-ag-grid.css\"},{\"name\":null,\"type\":\"css\",\"url\":\"\\/assetserver\\/e32886774615890ea3135fc2948c5a5d84679ad0-ag-grid-light.css\"},{\"name\":null,\"type\":\"css\",\"url\":\"\\/assetserver\\/d729992f1accd067e59a3e0aef7bd027c5dbf032-ag-grid-dark.css\"}],\"type\":\"async_block\"},\"id\":\"13616808180838255267\",\"handlers\":{},\"systemjs_options\":null,\"mount_callbacks\":[\"function () {\\n    var handler = ((function (RowNumberRenderer,agGrid){var gridOptions={\\\"onCellFocused\\\":(function (ev){var x={}; (ev.rowIndex!==undefined) ? (x[\\\"rowIndex\\\"]=(ev.rowIndex+1)) : undefined; (ev.colDef!==undefined) ? (x[\\\"column\\\"]=ev.colDef.headerName) : undefined; return WebIO.setval({\\\"name\\\":\\\"onCellFocused\\\",\\\"scope\\\":\\\"13616808180838255267\\\",\\\"id\\\":\\\"9594376801843074039\\\",\\\"type\\\":\\\"observable\\\"},x)}),\\\"onCellValueChanged\\\":(function (){return }),\\\"rowSelection\\\":\\\"multiple\\\",\\\"multiSortKey\\\":\\\"ctrl\\\",\\\"columnDefs\\\":[{\\\"filter\\\":false,\\\"editable\\\":false,\\\"headerTooltip\\\":\\\"\\\",\\\"field\\\":\\\"__row__\\\",\\\"headerName\\\":\\\"Row\\\",\\\"sortable\\\":true,\\\"type\\\":\\\"numericColumn\\\",\\\"cellRenderer\\\":\\\"rowNumberRenderer\\\",\\\"resizable\\\":true},{\\\"filter\\\":true,\\\"editable\\\":false,\\\"headerTooltip\\\":\\\"String\\\",\\\"field\\\":\\\"sample\\\",\\\"headerName\\\":\\\"sample\\\",\\\"sortable\\\":true,\\\"type\\\":null,\\\"resizable\\\":true},{\\\"filter\\\":\\\"agNumberColumnFilter\\\",\\\"editable\\\":false,\\\"headerTooltip\\\":\\\"Float64\\\",\\\"field\\\":\\\"mutect\\\",\\\"headerName\\\":\\\"mutect\\\",\\\"sortable\\\":true,\\\"type\\\":\\\"numericColumn\\\",\\\"resizable\\\":true},{\\\"filter\\\":\\\"agNumberColumnFilter\\\",\\\"editable\\\":false,\\\"headerTooltip\\\":\\\"Float64\\\",\\\"field\\\":\\\"lofreq\\\",\\\"headerName\\\":\\\"lofreq\\\",\\\"sortable\\\":true,\\\"type\\\":\\\"numericColumn\\\",\\\"resizable\\\":true},{\\\"filter\\\":\\\"agNumberColumnFilter\\\",\\\"editable\\\":false,\\\"headerTooltip\\\":\\\"Float64\\\",\\\"field\\\":\\\"vardict\\\",\\\"headerName\\\":\\\"vardict\\\",\\\"sortable\\\":true,\\\"type\\\":\\\"numericColumn\\\",\\\"resizable\\\":true},{\\\"filter\\\":true,\\\"editable\\\":false,\\\"headerTooltip\\\":\\\"CategoricalArrays.CategoricalValue{Bool, UInt32}\\\",\\\"field\\\":\\\"real\\\",\\\"headerName\\\":\\\"real\\\",\\\"sortable\\\":true,\\\"type\\\":null,\\\"resizable\\\":true},{\\\"filter\\\":\\\"agNumberColumnFilter\\\",\\\"editable\\\":false,\\\"headerTooltip\\\":\\\"Float64\\\",\\\"field\\\":\\\"final\\\",\\\"headerName\\\":\\\"final\\\",\\\"sortable\\\":true,\\\"type\\\":\\\"numericColumn\\\",\\\"resizable\\\":true},{\\\"filter\\\":\\\"agNumberColumnFilter\\\",\\\"editable\\\":false,\\\"headerTooltip\\\":\\\"Union{Missing, Float32}\\\",\\\"field\\\":\\\"vaf\\\",\\\"headerName\\\":\\\"vaf\\\",\\\"sortable\\\":true,\\\"type\\\":\\\"numericColumn\\\",\\\"resizable\\\":true}],\\\"onCellDoubleClicked\\\":(function (ev){var x={}; (ev.rowIndex!==undefined) ? (x[\\\"rowIndex\\\"]=(ev.rowIndex+1)) : undefined; (ev.colDef!==undefined) ? (x[\\\"column\\\"]=ev.colDef.headerName) : undefined; return WebIO.setval({\\\"name\\\":\\\"onCellDoubleClicked\\\",\\\"scope\\\":\\\"13616808180838255267\\\",\\\"id\\\":\\\"17547719245525861482\\\",\\\"type\\\":\\\"observable\\\"},x)}),\\\"onRowClicked\\\":(function (ev){var x={}; (ev.rowIndex!==undefined) ? (x[\\\"rowIndex\\\"]=(ev.rowIndex+1)) : undefined; (ev.colDef!==undefined) ? (x[\\\"column\\\"]=ev.colDef.headerName) : undefined; return WebIO.setval({\\\"name\\\":\\\"onRowClicked\\\",\\\"scope\\\":\\\"13616808180838255267\\\",\\\"id\\\":\\\"4964628841757314409\\\",\\\"type\\\":\\\"observable\\\"},x)}),\\\"onCellKeyDown\\\":(function (ev){var x={}; (ev.rowIndex!==undefined) ? (x[\\\"rowIndex\\\"]=(ev.rowIndex+1)) : undefined; (ev.colDef!==undefined) ? (x[\\\"column\\\"]=ev.colDef.headerName) : undefined; return WebIO.setval({\\\"name\\\":\\\"onCellKeyDown\\\",\\\"scope\\\":\\\"13616808180838255267\\\",\\\"id\\\":\\\"16049820243962857553\\\",\\\"type\\\":\\\"observable\\\"},x)}),\\\"rowData\\\":[{\\\"sample\\\":\\\"809382_T 17:58678006 C>G\\\",\\\"mutect\\\":0.0,\\\"lofreq\\\":0.09207506412265128,\\\"vardict\\\":0.28578177098209967,\\\"real\\\":\\\"false\\\",\\\"final\\\":0.9767444559299474,\\\"vaf\\\":0.007688},{\\\"sample\\\":\\\"887041_1_1000 17:58678006 C>G\\\",\\\"mutect\\\":0.0,\\\"lofreq\\\":0.08915897466726311,\\\"vardict\\\":0.7878767330769612,\\\"real\\\":\\\"false\\\",\\\"final\\\":0.9999999999488369,\\\"vaf\\\":0.011384},{\\\"sample\\\":\\\"887041_1_10 17:58678006 C>G\\\",\\\"mutect\\\":0.0,\\\"lofreq\\\":0.068905233458936,\\\"vardict\\\":0.7229585447400029,\\\"real\\\":\\\"false\\\",\\\"final\\\":0.9999999987921275,\\\"vaf\\\":0.011157},{\\\"sample\\\":\\\"218281_T 17:58678006 C>G\\\",\\\"mutect\\\":0.0,\\\"lofreq\\\":0.14775324901640247,\\\"vardict\\\":0.9997384615368087,\\\"real\\\":\\\"false\\\",\\\"final\\\":0.999999999999998,\\\"vaf\\\":0.011401},{\\\"sample\\\":\\\"887041_1_5000 17:58678006 C>G\\\",\\\"mutect\\\":0.0,\\\"lofreq\\\":0.08933833620209392,\\\"vardict\\\":0.787984566994482,\\\"real\\\":\\\"false\\\",\\\"final\\\":0.9999999999493134,\\\"vaf\\\":0.01139},{\\\"sample\\\":\\\"887041_1_100 17:58678006 C>G\\\",\\\"mutect\\\":0.0,\\\"lofreq\\\":0.08691312130681532,\\\"vardict\\\":0.7915752272618634,\\\"real\\\":\\\"false\\\",\\\"final\\\":0.9999999999529763,\\\"vaf\\\":0.011331}],\\\"onCellClicked\\\":(function (ev){var x={}; (ev.rowIndex!==undefined) ? (x[\\\"rowIndex\\\"]=(ev.rowIndex+1)) : undefined; (ev.colDef!==undefined) ? (x[\\\"column\\\"]=ev.colDef.headerName) : undefined; return WebIO.setval({\\\"name\\\":\\\"onCellClicked\\\",\\\"scope\\\":\\\"13616808180838255267\\\",\\\"id\\\":\\\"6713879880186499919\\\",\\\"type\\\":\\\"observable\\\"},x)})}; var el=document.getElementById(\\\"grid-b645130a\\\"); gridOptions.components={\\\"rowNumberRenderer\\\":RowNumberRenderer}; false ? (agGrid.LicenseManager.setLicenseKey(null)) : undefined; this.table=new agGrid.Grid(el,gridOptions); return gridOptions.columnApi.autoSizeAllColumns()}));\\n    (WebIO.importBlock({\\\"data\\\":[{\\\"name\\\":null,\\\"type\\\":\\\"js\\\",\\\"url\\\":\\\"\\/assetserver\\/ff7cedeb3c0be1fe3b78420e39e5831529252e27-rowNumberRenderer.js\\\"},{\\\"name\\\":null,\\\"type\\\":\\\"js\\\",\\\"url\\\":\\\"\\/assetserver\\/bd0edaba5158ded95855aef34fd8f3dd96ae49fb-ag-grid.js\\\"},{\\\"name\\\":null,\\\"type\\\":\\\"css\\\",\\\"url\\\":\\\"\\/assetserver\\/77a698eb508b878c6fc123d504f8b478c0953d4e-ag-grid.css\\\"},{\\\"name\\\":null,\\\"type\\\":\\\"css\\\",\\\"url\\\":\\\"\\/assetserver\\/e32886774615890ea3135fc2948c5a5d84679ad0-ag-grid-light.css\\\"},{\\\"name\\\":null,\\\"type\\\":\\\"css\\\",\\\"url\\\":\\\"\\/assetserver\\/d729992f1accd067e59a3e0aef7bd027c5dbf032-ag-grid-dark.css\\\"}],\\\"type\\\":\\\"async_block\\\"})).then((imports) => handler.apply(this, imports));\\n}\\n\"],\"observables\":{\"onCellKeyDown\":{\"sync\":false,\"id\":\"16049820243962857553\",\"value\":null},\"onRowClicked\":{\"sync\":false,\"id\":\"4964628841757314409\",\"value\":null},\"onCellDoubleClicked\":{\"sync\":false,\"id\":\"17547719245525861482\",\"value\":null},\"onCellClicked\":{\"sync\":false,\"id\":\"6713879880186499919\",\"value\":null},\"onCellFocused\":{\"sync\":false,\"id\":\"9594376801843074039\",\"value\":null}}},\"children\":[{\"props\":{},\"nodeType\":\"DOM\",\"type\":\"node\",\"instanceArgs\":{\"namespace\":\"html\",\"tag\":\"div\"},\"children\":[{\"props\":{\"style\":{\"height\":\"0\",\"padding\":\"0\",\"background-color\":\"#F5F7F7\",\"color\":\"#1c1f20\",\"font-family\":\"-apple-system, BlinkMacSystemFont, \\\"Segoe UI\\\", Roboto, Oxygen-Sans, Ubuntu, Cantarell, \\\"Helvetica Neue\\\", sans-serif\"}},\"nodeType\":\"DOM\",\"type\":\"node\",\"instanceArgs\":{\"namespace\":\"html\",\"tag\":\"div\"},\"children\":[\"\"]},{\"props\":{\"id\":\"grid-b645130a\",\"className\":\"ag-theme-balham\",\"style\":{\"height\":\"218px\",\"width\":\"100%\"}},\"nodeType\":\"DOM\",\"type\":\"node\",\"instanceArgs\":{\"namespace\":\"html\",\"tag\":\"div\"},\"children\":[]}]}]},\n",
       "        window,\n",
       "    );\n",
       "    })()\n",
       "    </script>\n",
       "</div>\n"
      ],
      "text/plain": [
       "WebIO.Scope(WebIO.Node{WebIO.DOM}(WebIO.DOM(:html, :div), Any[WebIO.Node{WebIO.DOM}(WebIO.DOM(:html, :div), Any[\"\"], Dict{Symbol, Any}(:style => Dict(\"height\" => \"0\", \"padding\" => \"0\", \"background-color\" => \"#F5F7F7\", \"color\" => \"#1c1f20\", \"font-family\" => \"-apple-system, BlinkMacSystemFont, \\\"Segoe UI\\\", Roboto, Oxygen-Sans, Ubuntu, Cantarell, \\\"Helvetica Neue\\\", sans-serif\"))), WebIO.Node{WebIO.DOM}(WebIO.DOM(:html, :div), Any[], Dict{Symbol, Any}(:id => \"grid-b645130a\", :className => \"ag-theme-balham\", :style => Dict(\"height\" => \"218px\", \"width\" => \"100%\")))], Dict{Symbol, Any}()), Dict{String, Tuple{Observables.AbstractObservable, Union{Nothing, Bool}}}(\"onCellKeyDown\" => (Observable{Any} with 0 listeners. Value:\n",
       "nothing, nothing), \"onRowClicked\" => (Observable{Any} with 0 listeners. Value:\n",
       "nothing, nothing), \"onCellDoubleClicked\" => (Observable{Any} with 0 listeners. Value:\n",
       "nothing, nothing), \"onCellClicked\" => (Observable{Any} with 0 listeners. Value:\n",
       "nothing, nothing), \"onCellFocused\" => (Observable{Any} with 0 listeners. Value:\n",
       "nothing, nothing)), Set{String}(), nothing, WebIO.Asset[WebIO.Asset(\"js\", nothing, \"/Users/alexpanchot/.julia/packages/TableView/CaHPi/src/rowNumberRenderer.js\"), WebIO.Asset(\"js\", nothing, \"/Users/alexpanchot/.julia/packages/TableView/CaHPi/deps/ag-grid-25.2.0/ag-grid.js\"), WebIO.Asset(\"css\", nothing, \"/Users/alexpanchot/.julia/packages/TableView/CaHPi/deps/ag-grid-25.2.0/ag-grid.css\"), WebIO.Asset(\"css\", nothing, \"/Users/alexpanchot/.julia/packages/TableView/CaHPi/deps/ag-grid-25.2.0/ag-grid-light.css\"), WebIO.Asset(\"css\", nothing, \"/Users/alexpanchot/.julia/packages/TableView/CaHPi/deps/ag-grid-25.2.0/ag-grid-dark.css\")], Dict{Any, Any}(), WebIO.ConnectionPool(Channel{Any}(32), Set{WebIO.AbstractConnection}(), Condition(Base.InvasiveLinkedList{Task}(Task (runnable) @0x000000016748b0f0, Task (runnable) @0x000000016748b0f0), Base.AlwaysLockedST(1))), WebIO.JSString[WebIO.JSString(\"function () {\\n    var handler = ((function (RowNumberRenderer,agGrid){var gridOptions={\\\"onCellFocused\\\":(function (ev){var x={}; (ev.rowIndex!==undefined) ? (x[\\\"rowIndex\\\"]=(ev.rowIndex+1)) : undefined; (ev.colDef!==undefined) ? (x[\\\"column\\\"]=ev.colDef.headerName) : undefined; return WebIO.setval({\\\"name\\\":\\\"onCellFocused\\\",\\\"scope\\\":\\\"13616808180838255267\\\",\\\"id\\\":\\\"9594376801843074039\\\",\\\"type\\\":\\\"observable\\\"},x)}),\\\"onCellValueChanged\\\":(function (){return }),\\\"rowSelection\\\":\\\"multiple\\\",\\\"multiSortKey\\\":\\\"ctrl\\\",\\\"columnDefs\\\":[{\\\"filter\\\":false,\\\"editable\\\":false,\\\"headerTooltip\\\":\\\"\\\",\\\"field\\\":\\\"__row__\\\",\\\"headerName\\\":\\\"Row\\\",\\\"sortable\\\":true,\\\"type\\\":\\\"numericColumn\\\",\\\"cellRenderer\\\":\\\"rowNumberRenderer\\\",\\\"resizable\\\":true},{\\\"filter\\\":true,\\\"editable\\\":false,\\\"headerTooltip\\\":\\\"String\\\",\\\"field\\\":\\\"sample\\\",\\\"headerName\\\":\\\"sample\\\",\\\"sortable\\\":true,\\\"type\\\":null,\\\"resizable\\\":true},{\\\"filter\\\":\\\"agNumberColumnFilter\\\",\\\"editable\\\":false,\\\"headerTooltip\\\":\\\"Float64\\\",\\\"field\\\":\\\"mutect\\\",\\\"headerName\\\":\\\"mutect\\\",\\\"sortable\\\":true,\\\"type\\\":\\\"numericColumn\\\",\\\"resizable\\\":true},{\\\"filter\\\":\\\"agNumberColumnFilter\\\",\\\"editable\\\":false,\\\"headerTooltip\\\":\\\"Float64\\\",\\\"field\\\":\\\"lofreq\\\",\\\"headerName\\\":\\\"lofreq\\\",\\\"sortable\\\":true,\\\"type\\\":\\\"numericColumn\\\",\\\"resizable\\\":true},{\\\"filter\\\":\\\"agNumberColumnFilter\\\",\\\"editable\\\":false,\\\"headerTooltip\\\":\\\"Float64\\\",\\\"field\\\":\\\"vardict\\\",\\\"headerName\\\":\\\"vardict\\\",\\\"sortable\\\":true,\\\"type\\\":\\\"numericColumn\\\",\\\"resizable\\\":true},{\\\"filter\\\":true,\\\"editable\\\":false,\\\"headerTooltip\\\":\\\"CategoricalArrays.CategoricalValue{Bool, UInt32}\\\",\\\"field\\\":\\\"real\\\",\\\"headerName\\\":\\\"real\\\",\\\"sortable\\\":true,\\\"type\\\":null,\\\"resizable\\\":true},{\\\"filter\\\":\\\"agNumberColumnFilter\\\",\\\"editable\\\":false,\\\"headerTooltip\\\":\\\"Float64\\\",\\\"field\\\":\\\"final\\\",\\\"headerName\\\":\\\"final\\\",\\\"sortable\\\":true,\\\"type\\\":\\\"numericColumn\\\",\\\"resizable\\\":true},{\\\"filter\\\":\\\"agNumberColumnFilter\\\",\\\"editable\\\":false,\\\"headerTooltip\\\":\\\"Union{Missing, Float32}\\\",\\\"field\\\":\\\"vaf\\\",\\\"headerName\\\":\\\"vaf\\\",\\\"sortable\\\":true,\\\"type\\\":\\\"numericColumn\\\",\\\"resizable\\\":true}],\\\"onCellDoubleClicked\\\":(function (ev){var x={}; (ev.rowIndex!==undefined) ? (x[\\\"rowIndex\\\"]=(ev.rowIndex+1)) : undefined; (ev.colDef!==undefined) ? (x[\\\"column\\\"]=ev.colDef.headerName) : undefined; return WebIO.setval({\\\"name\\\":\\\"onCellDoubleClicked\\\",\\\"scope\\\":\\\"13616808180838255267\\\",\\\"id\\\":\\\"17547719245525861482\\\",\\\"type\\\":\\\"observable\\\"},x)}),\\\"onRowClicked\\\":(function (ev){var x={}; (ev.rowIndex!==undefined) ? (x[\\\"rowIndex\\\"]=(ev.rowIndex+1)) : undefined; (ev.colDef!==undefined) ? (x[\\\"column\\\"]=ev.colDef.headerName) : undefined; return WebIO.setval({\\\"name\\\":\\\"onRowClicked\\\",\\\"scope\\\":\\\"13616808180838255267\\\",\\\"id\\\":\\\"4964628841757314409\\\",\\\"type\\\":\\\"observable\\\"},x)}),\\\"onCellKeyDown\\\":(function (ev){var x={}; (ev.rowIndex!==undefined) ? (x[\\\"rowIndex\\\"]=(ev.rowIndex+1)) : undefined; (ev.colDef!==undefined) ? (x[\\\"column\\\"]=ev.colDef.headerName) : undefined; return WebIO.setval({\\\"name\\\":\\\"onCellKeyDown\\\",\\\"scope\\\":\\\"13616808180838255267\\\",\\\"id\\\":\\\"16049820243962857553\\\",\\\"type\\\":\\\"observable\\\"},x)}),\\\"rowData\\\":[{\\\"sample\\\":\\\"809382_T 17:58678006 C>G\\\",\\\"mutect\\\":0.0,\\\"lofreq\\\":0.09207506412265128,\\\"vardict\\\":0.28578177098209967,\\\"real\\\":\\\"false\\\",\\\"final\\\":0.9767444559299474,\\\"vaf\\\":0.007688},{\\\"sample\\\":\\\"887041_1_1000 17:58678006 C>G\\\",\\\"mutect\\\":0.0,\\\"lofreq\\\":0.08915897466726311,\\\"vardict\\\":0.7878767330769612,\\\"real\\\":\\\"false\\\",\\\"final\\\":0.9999999999488369,\\\"vaf\\\":0.011384},{\\\"sample\\\":\\\"887041_1_10 17:58678006 C>G\\\",\\\"mutect\\\":0.0,\\\"lofreq\\\":0.068905233458936,\\\"vardict\\\":0.7229585447400029,\\\"real\\\":\\\"false\\\",\\\"final\\\":0.9999999987921275,\\\"vaf\\\":0.011157},{\\\"sample\\\":\\\"218281_T 17:58678006 C>G\\\",\\\"mutect\\\":0.0,\\\"lofreq\\\":0.14775324901640247,\\\"vardict\\\":0.9997384615368087,\\\"real\\\":\\\"false\\\",\\\"final\\\":0.999999999999998,\\\"vaf\\\":0.011401},{\\\"sample\\\":\\\"887041_1_5000 17:58678006 C>G\\\",\\\"mutect\\\":0.0,\\\"lofreq\\\":0.08933833620209392,\\\"vardict\\\":0.787984566994482,\\\"real\\\":\\\"false\\\",\\\"final\\\":0.9999999999493134,\\\"vaf\\\":0.01139},{\\\"sample\\\":\\\"887041_1_100 17:58678006 C>G\\\",\\\"mutect\\\":0.0,\\\"lofreq\\\":0.08691312130681532,\\\"vardict\\\":0.7915752272618634,\\\"real\\\":\\\"false\\\",\\\"final\\\":0.9999999999529763,\\\"vaf\\\":0.011331}],\\\"onCellClicked\\\":(function (ev){var x={}; (ev.rowIndex!==undefined) ? (x[\\\"rowIndex\\\"]=(ev.rowIndex+1)) : undefined; (ev.colDef!==undefined) ? (x[\\\"column\\\"]=ev.colDef.headerName) : undefined; return WebIO.setval({\\\"name\\\":\\\"onCellClicked\\\",\\\"scope\\\":\\\"13616808180838255267\\\",\\\"id\\\":\\\"6713879880186499919\\\",\\\"type\\\":\\\"observable\\\"},x)})}; var el=document.getElementById(\\\"grid-b645130a\\\"); gridOptions.components={\\\"rowNumberRenderer\\\":RowNumberRenderer}; false ? (agGrid.LicenseManager.setLicenseKey(null)) : undefined; this.table=new agGrid.Grid(el,gridOptions); return gridOptions.columnApi.autoSizeAllColumns()}));\\n    (WebIO.importBlock({\\\"data\\\":[{\\\"name\\\":null,\\\"type\\\":\\\"js\\\",\\\"url\\\":\\\"/assetserver/ff7cedeb3c0be1fe3b78420e39e5831529252e27-rowNumberRenderer.js\\\"},{\\\"name\\\":null,\\\"type\\\":\\\"js\\\",\\\"url\\\":\\\"/assetserver/bd0edaba5158ded95855aef34fd8f3dd96ae49fb-ag-grid.js\\\"},{\\\"name\\\":null,\\\"type\\\":\\\"css\\\",\\\"url\\\":\\\"/assetserver/77a698eb508b878c6fc123d504f8b478c0953d4e-ag-grid.css\\\"},{\\\"name\\\":null,\\\"type\\\":\\\"css\\\",\\\"url\\\":\\\"/assetserver/e32886774615890ea3135fc2948c5a5d84679ad0-ag-grid-light.css\\\"},{\\\"name\\\":null,\\\"type\\\":\\\"css\\\",\\\"url\\\":\\\"/assetserver/d729992f1accd067e59a3e0aef7bd027c5dbf032-ag-grid-dark.css\\\"}],\\\"type\\\":\\\"async_block\\\"})).then((imports) => handler.apply(this, imports));\\n}\\n\")])"
      ]
     },
     "execution_count": 58,
     "metadata": {
      "application/vnd.webio.node+json": {
       "kernelId": "2c620f18-b429-44cf-b14f-a2355184390b"
      }
     },
     "output_type": "execute_result"
    }
   ],
   "source": [
    "fina.vaf = x.gt_AF_Lofreq\n",
    "showtable(filter(x->x.real==false && x.final > 0.5 && x.vaf > 0.001,fina))"
   ]
  },
  {
   "cell_type": "code",
   "execution_count": 20,
   "id": "335e6718",
   "metadata": {},
   "outputs": [
    {
     "data": {
      "text/plain": [
       "(lambda = 0.21052631578947367,\n",
       " gamma = 0.0,\n",
       " penalty = :none,\n",
       " fit_intercept = true,\n",
       " penalize_intercept = false,\n",
       " solver = nothing,)"
      ]
     },
     "execution_count": 20,
     "metadata": {},
     "output_type": "execute_result"
    }
   ],
   "source": [
    "params(mach)"
   ]
  },
  {
   "cell_type": "code",
   "execution_count": 19,
   "id": "ec4de61c",
   "metadata": {},
   "outputs": [
    {
     "name": "stdout",
     "output_type": "stream",
     "text": [
      ":ALTREF_AC => -15.981371201218009\n",
      ":ALTREF_AG => 206.65550704293432\n",
      ":ALTREF_AT => 65.11736874009897\n",
      ":ALTREF_CG => -123.00784724912478\n",
      ":ALTREF_CT => -129.27467511730225\n",
      ":ALTREF_GT => -4.189156456931286\n",
      ":AltFwd_Mutect => 735.7142190480139\n",
      ":AltRev_Mutect => 676.5303910374682\n",
      ":FILTER_Mutect_Not_Detected => 0.0\n",
      ":FILTER_Mutect_PASS => 391.27721254800196\n",
      ":FILTER_Mutect_base_qual => 0.0\n",
      ":FILTER_Mutect_clustered_events => -288.43107710550635\n",
      ":FILTER_Mutect_contamination => 0.0\n",
      ":FILTER_Mutect_germline => 0.0\n",
      ":FILTER_Mutect_haplotype => -279.2970841183262\n",
      ":FILTER_Mutect_map_qual => -53.74649842908695\n",
      ":FILTER_Mutect_multiallelic => -37.80081330855091\n",
      ":FILTER_Mutect_orientation => -234.34936677828628\n",
      ":FILTER_Mutect_position => -47.53492950513435\n",
      ":FILTER_Mutect_slippage => 0.0\n",
      ":FILTER_Mutect_strand_bias => -621.155152293373\n",
      ":FILTER_Mutect_weak_evidence => -33.86896816745906\n",
      ":FPpass => 506.1264462215478\n",
      ":GERMQ_Mutect => -566.8254361813077\n",
      ":MBQ_Mutect_1 => 97.79618140658161\n",
      ":MBQ_Mutect_2 => 521.4461659233414\n",
      ":MFRL_Mutect_1 => -64.97165018549423\n",
      ":MFRL_Mutect_2 => 437.5302328294489\n",
      ":MMQ_Mutect_1 => -31.968189352524547\n",
      ":MMQ_Mutect_2 => 193.35873427962824\n",
      ":MPOS_Mutect => 469.82688294098915\n",
      ":ROQ_Mutect => 639.3636558708473\n",
      ":RefFwd_Mutect => -49.88687262570683\n",
      ":RefRev_Mutect => -274.4299566759197\n",
      ":SYMBOL_ASXL1 => -382.2400349174165\n",
      ":SYMBOL_CHEK2 => -76.71641079596556\n",
      ":SYMBOL_DNMT3A => 168.08038603853294\n",
      ":SYMBOL_JAK2 => 0.0\n",
      ":SYMBOL_PPM1D => -29.668956377203525\n",
      ":SYMBOL_SF3B1 => -22.981027668359953\n",
      ":SYMBOL_SRSF2 => -20.77859532145144\n",
      ":SYMBOL_TET2 => 348.8050872768216\n",
      ":SYMBOL_TP53 => 14.81937752349925\n",
      ":TLOD_Mutect => 1110.178386918286\n",
      ":altbias_Mutect => -40.774486121172664\n",
      ":dust_score_10_Mutect => -211.25922338429353\n",
      ":dust_score_3_Mutect => 30.09081006506977\n",
      ":dust_score_5_Mutect => -183.85827312678816\n",
      ":dust_score_Mutect => -303.7247628108576\n",
      ":gt_AD_alt_Mutect => 893.8019167904272\n",
      ":gt_AD_alt_Mutect_std => 686.1347858579217\n",
      ":gt_AD_ref_Mutect => -581.307301036588\n",
      ":gt_AD_ref_Mutect_std => -379.43065848817764\n",
      ":gt_AF_Mutect => 967.1185936959541\n",
      ":pass_homopolymer_filter => 160.4018834357597\n",
      ":pon_pvalue_Mutect => -132.550590116108\n",
      ":refbias_Mutect => 83.99351965159573\n",
      ":total_Mutect => -512.2095029450753\n",
      ":total_greater_than_min_alt_count_Mutect => -504.28201207647476\n"
     ]
    }
   ],
   "source": [
    "mach= FileIO.load(\"mutect.jld2\",\"mach\")\n",
    "[println(i) for i in sort(fitted_params(mach).coefs)];"
   ]
  },
  {
   "cell_type": "code",
   "execution_count": null,
   "id": "7d72ae42",
   "metadata": {},
   "outputs": [],
   "source": []
  }
 ],
 "metadata": {
  "@webio": {
   "lastCommId": "b0249d1ae9ea4392ad56774ae41a467e",
   "lastKernelId": "31e7ed8b-7936-4387-b6cc-fd96df72c4fc"
  },
  "kernelspec": {
   "display_name": "Julia 1.6.2",
   "language": "julia",
   "name": "julia-1.6"
  },
  "language_info": {
   "file_extension": ".jl",
   "mimetype": "application/julia",
   "name": "julia",
   "version": "1.6.2"
  }
 },
 "nbformat": 4,
 "nbformat_minor": 5
}
