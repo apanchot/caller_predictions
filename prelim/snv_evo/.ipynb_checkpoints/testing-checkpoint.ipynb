{
 "cells": [
  {
   "cell_type": "code",
   "execution_count": 1,
   "id": "c84356dc",
   "metadata": {},
   "outputs": [
    {
     "data": {
      "application/vnd.webio.node+json": {
       "children": [],
       "instanceArgs": {
        "namespace": "html",
        "tag": "div"
       },
       "nodeType": "DOM",
       "props": {},
       "type": "node"
      },
      "text/html": [
       "<div style=\"padding: 1em; background-color: #f8d6da; border: 1px solid #f5c6cb; font-weight: bold;\">\n",
       "<p>The WebIO Jupyter extension was not detected. See the\n",
       "<a href=\"https://juliagizmos.github.io/WebIO.jl/latest/providers/ijulia/\" target=\"_blank\">\n",
       "    WebIO Jupyter integration documentation\n",
       "</a>\n",
       "for more information.\n",
       "</div>\n"
      ],
      "text/plain": [
       "WebIO._IJuliaInit()"
      ]
     },
     "metadata": {
      "application/vnd.webio.node+json": {
       "kernelId": "705bb797-a830-4a97-b240-1268adfea294"
      }
     },
     "output_type": "display_data"
    }
   ],
   "source": [
    "import CSV\n",
    "using DataFrames\n",
    "# using StatsBase\n",
    "include(\"$(dirname(pwd()))/pred_funcs.jl\")\n",
    "using MLJ\n",
    "# import MLJBase\n",
    "import TableView.showtable\n",
    "using Plots\n",
    "import FileIO\n",
    "import Statistics\n",
    "import LinearAlgebra\n",
    "using StatsPlots\n",
    "using Random\n",
    "Random.seed!(0);\n",
    "using StatsBase\n",
    "import MLJBase"
   ]
  },
  {
   "cell_type": "code",
   "execution_count": 2,
   "id": "3c86fc2c",
   "metadata": {},
   "outputs": [
    {
     "data": {
      "text/plain": [
       "EvoTrees.EvoTreeClassifier"
      ]
     },
     "execution_count": 2,
     "metadata": {},
     "output_type": "execute_result"
    }
   ],
   "source": [
    "MissingImputator = @load MissingImputator pkg=\"BetaML\" verbosity=0\n",
    "LogisticClassifier = @load LogisticClassifier pkg=\"MLJLinearModels\" verbosity=0;  # loads code defining a model type\n",
    "EvoTreeClassifier = @load EvoTreeClassifier verbosity=0"
   ]
  },
  {
   "cell_type": "code",
   "execution_count": 3,
   "id": "7fcf7f51",
   "metadata": {},
   "outputs": [
    {
     "data": {
      "text/plain": [
       "\"_full\""
      ]
     },
     "execution_count": 3,
     "metadata": {},
     "output_type": "execute_result"
    }
   ],
   "source": [
    "full = \"_full\""
   ]
  },
  {
   "cell_type": "code",
   "execution_count": 362,
   "id": "08dfdaeb",
   "metadata": {},
   "outputs": [],
   "source": [
    "# sample_key, xold, yold = FileIO.load(\"testdata$(full).jld2\",\"sample_key\",\"x\" ,\"y\");"
   ]
  },
  {
   "cell_type": "markdown",
   "id": "4237378d",
   "metadata": {},
   "source": [
    "# Mutect"
   ]
  },
  {
   "cell_type": "code",
   "execution_count": 219,
   "id": "c7df8e83",
   "metadata": {},
   "outputs": [],
   "source": [
    "# x=copy(xold)\n",
    "# y=copy(yold)\n",
    "# machm, stndm, imputemachm = FileIO.load(\"mutect.jld2\",\"mach\", \"stnd\", \"imputemach\");\n",
    "# x.col1=collect(1:nrow(x));\n",
    "# coldrop = [] #\"FPpass\",\"FILTER_Mutect_PASS\"] # [\"gt_AF_Mutect\",\"AltFwd_Mutect\",\"RefFwd_Mutect\",\"AltRev_Mutect\",\"RefRev_Mutect\",\"gt_AD_ref_Mutect\",\"gt_AD_alt_Mutect\"]\n",
    "# for i in names(x)\n",
    "#     if i == \"col1\" || i==\"training\"\n",
    "#         continue\n",
    "#     end\n",
    "#     if length(unique(x[:,i])) < 2 || occursin(\"Pindel\",i) || occursin(\"Lofreq\",i) || occursin(\"Vardict\",i) # || occursin(\"ALT\",i) || occursin(\"REF\",i)\n",
    "#         push!(coldrop,i)\n",
    "# #         println(i)\n",
    "#     end \n",
    "# end\n",
    "# unique!(coldrop)\n",
    "# select!(x, Not(coldrop));\n",
    "\n",
    "# # println(nrow(xold))\n",
    "# # dropmissing!(xold)\n",
    "# # println(nrow(xold))\n",
    "# filter!(x->!ismissing(x.dust_score_Mutect),x);\n",
    "# println(size(y))\n",
    "# # println(length(sample_key2))\n",
    "# println()\n",
    "# y = y[x.col1]\n",
    "# # println(xold[findall(x->x,[i==true for i in yold]),\"col1\"])\n",
    "# # println(xold[findall(x->!x,[i==true for i in yold]),\"col1\"])\n",
    "# # sample_key2 = sample_key2[x.col1]\n",
    "# select!(x,Not(\"col1\"));\n",
    "# println(\"y real \",sum([i==true for i in y]))\n",
    "# println(size(x))\n",
    "# println(size(y))\n",
    "# # println(length(sample_key2))\n",
    "# println(sum([i==true for i in y]));\n",
    "# transform_log!(x,10)\n",
    "# transform_standardizer!(x,stndm);\n",
    "# println(sum(ismissing.(Matrix(x))))\n",
    "# tt = MLJ.transform(imputemachm,x);\n",
    "# for i in 1:ncol(x)\n",
    "#     x[:,i] = tt[i]\n",
    "# end\n",
    "# disallowmissing!(x);\n",
    "# yhat=MLJ.predict_mode(machm, x); # probab"
   ]
  },
  {
   "cell_type": "code",
   "execution_count": 220,
   "id": "5d53064b",
   "metadata": {},
   "outputs": [],
   "source": [
    "# ConfusionMatrix()(yhat,y)"
   ]
  },
  {
   "cell_type": "markdown",
   "id": "b4d4980f",
   "metadata": {},
   "source": [
    "# Vardict"
   ]
  },
  {
   "cell_type": "code",
   "execution_count": 221,
   "id": "691824a5",
   "metadata": {},
   "outputs": [],
   "source": [
    "# x=copy(xold)\n",
    "# y=copy(yold)\n",
    "# machv, stndv, imputemachv = FileIO.load(\"vardict.jld2\",\"mach\", \"stnd\", \"imputemach\");\n",
    "# x.col1=collect(1:nrow(x));\n",
    "# coldrop = [] #\"FPpass\",\"FILTER_Mutect_PASS\"] # [\"gt_AF_Mutect\",\"AltFwd_Mutect\",\"RefFwd_Mutect\",\"AltRev_Mutect\",\"RefRev_Mutect\",\"gt_AD_ref_Mutect\",\"gt_AD_alt_Mutect\"]\n",
    "# for i in names(x)\n",
    "#     if i == \"col1\" || i==\"training\"\n",
    "#         continue\n",
    "#     end\n",
    "#     if length(unique(x[:,i])) < 2 || occursin(\"Pindel\",i) || occursin(\"Lofreq\",i) || occursin(\"Mutect\",i) # || occursin(\"ALT\",i) || occursin(\"REF\",i)\n",
    "#         push!(coldrop,i)\n",
    "# #         println(i)\n",
    "#     end \n",
    "# end\n",
    "# unique!(coldrop)\n",
    "# select!(x, Not(coldrop));\n",
    "# println(sum([i==true for i in y]))\n",
    "# # println(nrow(xold))\n",
    "# # dropmissing!(xold)\n",
    "# # println(nrow(xold))\n",
    "# filter!(x->!ismissing(x.dust_score_Vardict),x);\n",
    "# println(size(y))\n",
    "# # println(length(sample_key2))\n",
    "# println()\n",
    "# y = y[x.col1]\n",
    "# # println(xold[findall(x->x,[i==true for i in yold]),\"col1\"])\n",
    "# # println(xold[findall(x->!x,[i==true for i in yold]),\"col1\"])\n",
    "# # sample_key2 = sample_key2[x.col1]\n",
    "# select!(x,Not(\"col1\"));\n",
    "\n",
    "# println(size(x))\n",
    "# println(size(y))\n",
    "# # println(length(sample_key2))\n",
    "# println(sum([i==true for i in y]));\n",
    "# transform_log!(x,10)\n",
    "# transform_standardizer!(x,stndv);\n",
    "# println(sum(ismissing.(Matrix(x))))\n",
    "# tt = MLJ.transform(imputemachv,x);\n",
    "# for i in 1:ncol(x)\n",
    "#     x[:,i] = tt[i]\n",
    "# end\n",
    "# disallowmissing!(x);\n",
    "# yhat=MLJ.predict_mode(machv, x); # probab\n"
   ]
  },
  {
   "cell_type": "code",
   "execution_count": 222,
   "id": "62a0a52b",
   "metadata": {},
   "outputs": [],
   "source": [
    "# ConfusionMatrix()(yhat,y)"
   ]
  },
  {
   "cell_type": "markdown",
   "id": "2d192b69",
   "metadata": {},
   "source": [
    "# Lofreq"
   ]
  },
  {
   "cell_type": "code",
   "execution_count": 223,
   "id": "43906dfb",
   "metadata": {},
   "outputs": [],
   "source": [
    "# x=copy(xold)\n",
    "# y=copy(yold)\n",
    "# machl, stndl, imputemachl = FileIO.load(\"lofreq.jld2\",\"mach\", \"stnd\", \"imputemach\");\n",
    "# x.col1=collect(1:nrow(x));\n",
    "# coldrop = [] #\"FPpass\",\"FILTER_Mutect_PASS\"] # [\"gt_AF_Mutect\",\"AltFwd_Mutect\",\"RefFwd_Mutect\",\"AltRev_Mutect\",\"RefRev_Mutect\",\"gt_AD_ref_Mutect\",\"gt_AD_alt_Mutect\"]\n",
    "# for i in names(x)\n",
    "#     if i == \"col1\" || i==\"training\"\n",
    "#         continue\n",
    "#     end\n",
    "#     if length(unique(x[:,i])) < 2 || occursin(\"Pindel\",i) || occursin(\"Mutect\",i) || occursin(\"Vardict\",i) # || occursin(\"ALT\",i) || occursin(\"REF\",i)\n",
    "#         push!(coldrop,i)\n",
    "# #         println(i)\n",
    "#     end \n",
    "# end\n",
    "# unique!(coldrop)\n",
    "# select!(x, Not(coldrop));\n",
    "# println(sum([i==true for i in y]))\n",
    "# # println(nrow(xold))\n",
    "# # dropmissing!(xold)\n",
    "# # println(nrow(xold))\n",
    "# filter!(x->!ismissing(x.dust_score_Lofreq),x);\n",
    "# println(size(y))\n",
    "# # println(length(sample_key2))\n",
    "# println()\n",
    "# y = y[x.col1]\n",
    "# # println(xold[findall(x->x,[i==true for i in yold]),\"col1\"])\n",
    "# # println(xold[findall(x->!x,[i==true for i in yold]),\"col1\"])\n",
    "# # sample_key2 = sample_key2[x.col1]\n",
    "# select!(x,Not(\"col1\"));\n",
    "# # x=DataFrame(x[1,:])\n",
    "\n",
    "# println(size(x))\n",
    "# println(size(y))\n",
    "# # println(length(sample_key2))\n",
    "# println(sum([i==true for i in y]));\n",
    "# transform_log!(x,10)\n",
    "# transform_standardizer!(x,stndl);\n",
    "# println(sum(ismissing.(Matrix(x))))\n",
    "# tt = MLJ.transform(imputemachl,x);\n",
    "# for i in 1:ncol(x)\n",
    "#     x[:,i] = tt[i]\n",
    "# end\n",
    "# disallowmissing!(x);\n",
    "# yhat=MLJ.predict_mode(machl, x); # probab\n",
    "\n"
   ]
  },
  {
   "cell_type": "code",
   "execution_count": 224,
   "id": "2602ef90",
   "metadata": {},
   "outputs": [],
   "source": [
    "# ConfusionMatrix()(yhat,y)"
   ]
  },
  {
   "cell_type": "markdown",
   "id": "2bc201da",
   "metadata": {},
   "source": [
    "# Combine\n"
   ]
  },
  {
   "cell_type": "code",
   "execution_count": 36,
   "id": "1ff97d01",
   "metadata": {},
   "outputs": [
    {
     "data": {
      "text/plain": [
       "\"\""
      ]
     },
     "execution_count": 36,
     "metadata": {},
     "output_type": "execute_result"
    }
   ],
   "source": [
    "full = \"\""
   ]
  },
  {
   "cell_type": "code",
   "execution_count": 37,
   "id": "71088b31",
   "metadata": {},
   "outputs": [],
   "source": [
    "sample_key, xold, yold = FileIO.load(\"traindata$(full).jld2\",\"sample_key\",\"x\" ,\"y\");"
   ]
  },
  {
   "cell_type": "code",
   "execution_count": 38,
   "id": "3bf3d56a",
   "metadata": {},
   "outputs": [
    {
     "name": "stdout",
     "output_type": "stream",
     "text": [
      "38\n",
      "(9868,)\n",
      "\n"
     ]
    }
   ],
   "source": [
    "x=copy(xold)\n",
    "y=copy(yold)\n",
    "x.col1=collect(1:nrow(x));\n",
    "coldrop = [] #\"FPpass\",\"FILTER_Mutect_PASS\"] # [\"gt_AF_Mutect\",\"AltFwd_Mutect\",\"RefFwd_Mutect\",\"AltRev_Mutect\",\"RefRev_Mutect\",\"gt_AD_ref_Mutect\",\"gt_AD_alt_Mutect\"]\n",
    "for i in names(x)\n",
    "    if i == \"col1\" || i==\"training\" || occursin( \"FILTER_Mutect\",i) || occursin( \"FILTER_Vardict\",i) || occursin( \"FILTER_Lofreq\",i)\n",
    "        continue\n",
    "    end\n",
    "    if length(unique(x[:,i])) < 2 || occursin(\"Pindel\",i) # || occursin(\"ALT\",i) || occursin(\"REF\",i)\n",
    "        push!(coldrop,i)\n",
    "#         println(i)\n",
    "    end \n",
    "end\n",
    "unique!(coldrop)\n",
    "select!(x, Not(coldrop));\n",
    "println(sum([i==true for i in y]))\n",
    "\n",
    "println(size(y))\n",
    "\n",
    "println()\n",
    "y = y[x.col1]\n",
    "select!(x,Not(\"col1\"));\n",
    "\n"
   ]
  },
  {
   "cell_type": "code",
   "execution_count": 39,
   "id": "bb9e59ea",
   "metadata": {},
   "outputs": [
    {
     "data": {
      "text/plain": [
       "predictor (generic function with 1 method)"
      ]
     },
     "execution_count": 39,
     "metadata": {},
     "output_type": "execute_result"
    }
   ],
   "source": [
    "function predictor(df2, caller; prob=true,cutoff=0.5)\n",
    "    df=copy(df2)\n",
    "    preds = zeros(length(df[:,1]))\n",
    "    mach, stnd, imputemach = FileIO.load(lowercase(caller)*full*\".jld2\",\"mach\", \"stnd\", \"imputemach\");\n",
    "    calcol = setdiff([\"Mutect\",\"Lofreq\",\"Vardict\"],[caller])\n",
    "    coldrop = []\n",
    "    for i in names(df)\n",
    "        if occursin(calcol[2],i) || occursin(calcol[1],i)\n",
    "            push!(coldrop,i)\n",
    "        end \n",
    "    end\n",
    "    unique!(coldrop)\n",
    "    select!(df, Not(coldrop));\n",
    "#     return df\n",
    "    indx = findall(x->!ismissing(x),df[:,\"dust_score_$(caller)\"] )  # indexs to predict on, all else are 0\n",
    "    println(length(indx),\" to be predicted on\")\n",
    "    df = df[indx,:]\n",
    "    transform_log!(df,10)\n",
    "    transform_standardizer!(df,stnd);\n",
    "    println(sum(ismissing.(Matrix(df))),\" are missing\")\n",
    "    println(size(df))\n",
    "    tt = MLJ.transform(imputemach,df);\n",
    "    for i in 1:ncol(df)\n",
    "        df[:,i] = tt[i]\n",
    "    end\n",
    "    disallowmissing!(df)\n",
    "    yhat = pdf(MLJ.predict(mach, df),[true]) # prob of being true\n",
    "#     return vec([i>cutoff for i in yhat ]),indx\n",
    "    ct = 1\n",
    "    for i in 1:length(preds)\n",
    "        if i == indx[ct]\n",
    "            preds[i] = yhat[ct]\n",
    "            ct+=1\n",
    "            if ct > length(indx)\n",
    "                break\n",
    "            end\n",
    "        end\n",
    "    end\n",
    "    if prob\n",
    "        return preds,indx\n",
    "    else\n",
    "        return [i>cutoff for i in preds ],indx\n",
    "    end\n",
    "    return nothing\n",
    "end\n",
    "    "
   ]
  },
  {
   "cell_type": "code",
   "execution_count": 40,
   "id": "14d78db1",
   "metadata": {},
   "outputs": [],
   "source": [
    "# yhat,indx=predictor(x,\"Vardict\";prob=false);"
   ]
  },
  {
   "cell_type": "code",
   "execution_count": 41,
   "id": "6aeafc54",
   "metadata": {},
   "outputs": [],
   "source": [
    "# ConfusionMatrix()(coerce(copy(yhat),OrderedFactor),coerce(copy(y),OrderedFactor))"
   ]
  },
  {
   "cell_type": "code",
   "execution_count": 42,
   "id": "2147be3d",
   "metadata": {},
   "outputs": [
    {
     "name": "stdout",
     "output_type": "stream",
     "text": [
      "255 to be predicted on\n",
      "0 are missing\n",
      "(255, 59)\n",
      "9798 to be predicted on\n",
      "1175 are missing\n",
      "(9798, 39)\n",
      "7575 to be predicted on\n",
      "1762 are missing\n",
      "(7575, 52)\n"
     ]
    }
   ],
   "source": [
    "fina=DataFrame(sample=sample_key, mutect=predictor(x,\"Mutect\")[1], lofreq=predictor(x,\"Lofreq\")[1], \n",
    "    vardict=predictor(x,\"Vardict\")[1], real=y);"
   ]
  },
  {
   "cell_type": "code",
   "execution_count": 43,
   "id": "e9e37d3b",
   "metadata": {},
   "outputs": [
    {
     "name": "stderr",
     "output_type": "stream",
     "text": [
      "┌ Info: Training Machine{ProbabilisticTunedModel{LatinHypercube,…},…}.\n",
      "└ @ MLJBase /Users/alexpanchot/.julia/packages/MLJBase/HZmTU/src/machines.jl:403\n",
      "┌ Info: Attempting to evaluate 10 models.\n",
      "└ @ MLJTuning /Users/alexpanchot/.julia/packages/MLJTuning/efiDR/src/tuned_models.jl:685\n",
      "\u001b[33mEvaluating over 10 metamodels:  10%[==>                      ]  ETA: 0:00:04\u001b[39m┌ Warning: Proximal GD did not converge in 1000 iterations.\n",
      "└ @ MLJLinearModels /Users/alexpanchot/.julia/packages/MLJLinearModels/ISbgA/src/fit/proxgrad.jl:64\n",
      "┌ Warning: Proximal GD did not converge in 1000 iterations.\n",
      "└ @ MLJLinearModels /Users/alexpanchot/.julia/packages/MLJLinearModels/ISbgA/src/fit/proxgrad.jl:64\n",
      "┌ Warning: Proximal GD did not converge in 1000 iterations.\n",
      "└ @ MLJLinearModels /Users/alexpanchot/.julia/packages/MLJLinearModels/ISbgA/src/fit/proxgrad.jl:64\n",
      "┌ Warning: Proximal GD did not converge in 1000 iterations.\n",
      "└ @ MLJLinearModels /Users/alexpanchot/.julia/packages/MLJLinearModels/ISbgA/src/fit/proxgrad.jl:64\n",
      "┌ Warning: Proximal GD did not converge in 1000 iterations.\n",
      "└ @ MLJLinearModels /Users/alexpanchot/.julia/packages/MLJLinearModels/ISbgA/src/fit/proxgrad.jl:64\n",
      "┌ Warning: Proximal GD did not converge in 1000 iterations.\n",
      "└ @ MLJLinearModels /Users/alexpanchot/.julia/packages/MLJLinearModels/ISbgA/src/fit/proxgrad.jl:64\n",
      "┌ Warning: Proximal GD did not converge in 1000 iterations.\n",
      "└ @ MLJLinearModels /Users/alexpanchot/.julia/packages/MLJLinearModels/ISbgA/src/fit/proxgrad.jl:64\n",
      "┌ Warning: Proximal GD did not converge in 1000 iterations.\n",
      "└ @ MLJLinearModels /Users/alexpanchot/.julia/packages/MLJLinearModels/ISbgA/src/fit/proxgrad.jl:64\n",
      "┌ Warning: Proximal GD did not converge in 1000 iterations.\n",
      "└ @ MLJLinearModels /Users/alexpanchot/.julia/packages/MLJLinearModels/ISbgA/src/fit/proxgrad.jl:64\n",
      "┌ Warning: Proximal GD did not converge in 1000 iterations.\n",
      "└ @ MLJLinearModels /Users/alexpanchot/.julia/packages/MLJLinearModels/ISbgA/src/fit/proxgrad.jl:64\n",
      "┌ Warning: Proximal GD did not converge in 1000 iterations.\n",
      "└ @ MLJLinearModels /Users/alexpanchot/.julia/packages/MLJLinearModels/ISbgA/src/fit/proxgrad.jl:64\n",
      "┌ Warning: Proximal GD did not converge in 1000 iterations.\n",
      "└ @ MLJLinearModels /Users/alexpanchot/.julia/packages/MLJLinearModels/ISbgA/src/fit/proxgrad.jl:64\n",
      "┌ Warning: Proximal GD did not converge in 1000 iterations.\n",
      "└ @ MLJLinearModels /Users/alexpanchot/.julia/packages/MLJLinearModels/ISbgA/src/fit/proxgrad.jl:64\n",
      "┌ Warning: Proximal GD did not converge in 1000 iterations.\n",
      "└ @ MLJLinearModels /Users/alexpanchot/.julia/packages/MLJLinearModels/ISbgA/src/fit/proxgrad.jl:64\n",
      "┌ Warning: Proximal GD did not converge in 1000 iterations.\n",
      "└ @ MLJLinearModels /Users/alexpanchot/.julia/packages/MLJLinearModels/ISbgA/src/fit/proxgrad.jl:64\n",
      "\u001b[33mEvaluating over 10 metamodels:  50%[============>            ]  ETA: 0:00:10\u001b[39m┌ Warning: Proximal GD did not converge in 1000 iterations.\n",
      "└ @ MLJLinearModels /Users/alexpanchot/.julia/packages/MLJLinearModels/ISbgA/src/fit/proxgrad.jl:64\n",
      "\u001b[33mEvaluating over 10 metamodels:  80%[====================>    ]  ETA: 0:00:03\u001b[39m┌ Warning: Proximal GD did not converge in 1000 iterations.\n",
      "└ @ MLJLinearModels /Users/alexpanchot/.julia/packages/MLJLinearModels/ISbgA/src/fit/proxgrad.jl:64\n",
      "\u001b[33mEvaluating over 10 metamodels:  90%[======================>  ]  ETA: 0:00:01\u001b[39m┌ Warning: Proximal GD did not converge in 1000 iterations.\n",
      "└ @ MLJLinearModels /Users/alexpanchot/.julia/packages/MLJLinearModels/ISbgA/src/fit/proxgrad.jl:64\n",
      "\u001b[33mEvaluating over 10 metamodels: 100%[=========================] Time: 0:00:10\u001b[39m\n",
      "┌ Warning: Proximal GD did not converge in 1000 iterations.\n",
      "└ @ MLJLinearModels /Users/alexpanchot/.julia/packages/MLJLinearModels/ISbgA/src/fit/proxgrad.jl:64\n"
     ]
    },
    {
     "data": {
      "text/plain": [
       "Machine{ProbabilisticTunedModel{LatinHypercube,…},…} trained 1 time; caches data\n",
       "  args: \n",
       "    1:\tSource @898 ⏎ `Table{AbstractVector{Continuous}}`\n",
       "    2:\tSource @839 ⏎ `AbstractVector{OrderedFactor{2}}`\n"
      ]
     },
     "execution_count": 43,
     "metadata": {},
     "output_type": "execute_result"
    }
   ],
   "source": [
    "\n",
    "r = [\n",
    "    range(LogisticClassifier(), :lambda, lower=0.0,upper=1.0),\n",
    "    range(LogisticClassifier(), :gamma, lower=0.0,upper=1.0),\n",
    "    range(LogisticClassifier(), :penalty, values=[:none,:l1,:l2]),\n",
    "    ]\n",
    "self_tune = TunedModel(\n",
    "    model=LogisticClassifier(),\n",
    "    resampling=StratifiedCV(nfolds=5, rng=123),\n",
    "\n",
    "    tuning=LatinHypercube(),  \n",
    "    range = r,\n",
    "    n=10,\n",
    "    operation=predict_mode, # use for probabalistic \n",
    "    measure = fnr,  # use for deterministic or with predict_mode for probab \n",
    "    acceleration=CPUThreads(),\n",
    ")\n",
    "\n",
    "machbest = machine(\n",
    "    self_tune,\n",
    "     fina[:,[\"mutect\",\"lofreq\",\"vardict\"]],fina[:,:real])\n",
    "fit!(machbest,verbosity=1 )"
   ]
  },
  {
   "cell_type": "code",
   "execution_count": 44,
   "id": "ad34a22f",
   "metadata": {},
   "outputs": [],
   "source": [
    "# machbest = machine(\n",
    "#     LogisticClassifier(penalty=:l2),\n",
    "#     fina[:,[\"mutect\",\"lofreq\",\"vardict\"]],fina[:,:real] )\n",
    "# fit!(machbest,verbosity=1 )\n",
    "FileIO.save(\"combine$(full).jld2\", Dict(\"mach\"=>machbest    ) ; compress = true\n",
    ")"
   ]
  },
  {
   "cell_type": "code",
   "execution_count": 45,
   "id": "b6f2a6d8",
   "metadata": {},
   "outputs": [],
   "source": [
    "fitted_params(machbest);\n",
    "\n"
   ]
  },
  {
   "cell_type": "code",
   "execution_count": 14,
   "id": "8c6afd45",
   "metadata": {},
   "outputs": [],
   "source": [
    "# pr = vec(pdf(MLJ.predict(machbest, fina[:,[\"mutect\",\"lofreq\",\"vardict\"]]),[true]))\n",
    "\n",
    "# yhat=[i > 0.5 for i in pr]\n",
    "# fina.final = pr ;"
   ]
  },
  {
   "cell_type": "code",
   "execution_count": 15,
   "id": "e00e7738",
   "metadata": {},
   "outputs": [],
   "source": [
    "# ConfusionMatrix()(yhat,fina[:,:real])"
   ]
  },
  {
   "cell_type": "code",
   "execution_count": 16,
   "id": "d571be31",
   "metadata": {},
   "outputs": [],
   "source": [
    "# showtable(filter(x->x.final>0.49,fina))"
   ]
  },
  {
   "cell_type": "code",
   "execution_count": null,
   "id": "f6dd75ae",
   "metadata": {},
   "outputs": [],
   "source": []
  },
  {
   "cell_type": "markdown",
   "id": "32b188df",
   "metadata": {},
   "source": [
    "# FINAL TESTING"
   ]
  },
  {
   "cell_type": "code",
   "execution_count": 46,
   "id": "1e02d77d",
   "metadata": {},
   "outputs": [
    {
     "data": {
      "text/plain": [
       "\"\""
      ]
     },
     "execution_count": 46,
     "metadata": {},
     "output_type": "execute_result"
    }
   ],
   "source": [
    "full = \"\""
   ]
  },
  {
   "cell_type": "code",
   "execution_count": 47,
   "id": "e4e1f6d5",
   "metadata": {},
   "outputs": [
    {
     "name": "stdout",
     "output_type": "stream",
     "text": [
      "39\n",
      "(9869,)\n",
      "\n",
      "239 to be predicted on\n",
      "1 are missing\n",
      "(239, 59)\n",
      "9793 to be predicted on\n",
      "1142 are missing\n",
      "(9793, 39)\n",
      "7604 to be predicted on\n",
      "1755 are missing\n",
      "(7604, 52)\n"
     ]
    }
   ],
   "source": [
    "sample_key, x, y = FileIO.load(\"testdata$(full).jld2\",\"sample_key\",\"x\" ,\"y\");\n",
    "x.col1=collect(1:nrow(x));\n",
    "coldrop = [] #\"FPpass\",\"FILTER_Mutect_PASS\"] # [\"gt_AF_Mutect\",\"AltFwd_Mutect\",\"RefFwd_Mutect\",\"AltRev_Mutect\",\"RefRev_Mutect\",\"gt_AD_ref_Mutect\",\"gt_AD_alt_Mutect\"]\n",
    "for i in names(x)\n",
    "    if i == \"col1\" || i==\"training\" || occursin( \"FILTER_Mutect\",i) || occursin( \"FILTER_Vardict\",i) || occursin( \"FILTER_Lofreq\",i)\n",
    "        continue\n",
    "    end\n",
    "    if length(unique(x[:,i])) < 2 || occursin(\"Pindel\",i) # || occursin(\"ALT\",i) || occursin(\"REF\",i)\n",
    "        push!(coldrop,i)\n",
    "#         println(i)\n",
    "    end \n",
    "end\n",
    "unique!(coldrop)\n",
    "select!(x, Not(coldrop));\n",
    "println(sum([i==true for i in y]))\n",
    "\n",
    "println(size(y))\n",
    "\n",
    "println()\n",
    "y = y[x.col1]\n",
    "select!(x,Not(\"col1\"));\n",
    "fina=DataFrame(sample=sample_key, mutect=predictor(x,\"Mutect\")[1], lofreq=predictor(x,\"Lofreq\")[1], \n",
    "    vardict=predictor(x,\"Vardict\")[1], real=y);\n",
    "mach = FileIO.load(\"combine$(full).jld2\",\"mach\");\n",
    "pr = vec(pdf(MLJ.predict(mach, fina[:,[\"mutect\",\"lofreq\",\"vardict\"]]),[true]))\n",
    "\n",
    "yhat=[i > 0.5 for i in pr]\n",
    "fina.final = pr ;\n",
    "\n"
   ]
  },
  {
   "cell_type": "code",
   "execution_count": 48,
   "id": "0b4647c9",
   "metadata": {},
   "outputs": [
    {
     "data": {
      "text/plain": [
       "              ┌───────────────────────────┐\n",
       "              │       Ground Truth        │\n",
       "┌─────────────┼─────────────┬─────────────┤\n",
       "│  Predicted  │    false    │    true     │\n",
       "├─────────────┼─────────────┼─────────────┤\n",
       "│    false    │    9827     │      1      │\n",
       "├─────────────┼─────────────┼─────────────┤\n",
       "│    true     │      3      │     38      │\n",
       "└─────────────┴─────────────┴─────────────┘\n"
      ]
     },
     "execution_count": 48,
     "metadata": {},
     "output_type": "execute_result"
    }
   ],
   "source": [
    "ConfusionMatrix()(yhat,fina[:,:real])"
   ]
  },
  {
   "cell_type": "code",
   "execution_count": 49,
   "id": "f4908bf9",
   "metadata": {},
   "outputs": [
    {
     "data": {
      "application/vnd.webio.node+json": {
       "children": [
        {
         "children": [
          {
           "children": [
            ""
           ],
           "instanceArgs": {
            "namespace": "html",
            "tag": "div"
           },
           "nodeType": "DOM",
           "props": {
            "style": {
             "background-color": "#F5F7F7",
             "color": "#1c1f20",
             "font-family": "-apple-system, BlinkMacSystemFont, \"Segoe UI\", Roboto, Oxygen-Sans, Ubuntu, Cantarell, \"Helvetica Neue\", sans-serif",
             "height": "0",
             "padding": "0"
            }
           },
           "type": "node"
          },
          {
           "children": [],
           "instanceArgs": {
            "namespace": "html",
            "tag": "div"
           },
           "nodeType": "DOM",
           "props": {
            "className": "ag-theme-balham",
            "id": "grid-7d38c840",
            "style": {
             "height": "78px",
             "width": "100%"
            }
           },
           "type": "node"
          }
         ],
         "instanceArgs": {
          "namespace": "html",
          "tag": "div"
         },
         "nodeType": "DOM",
         "props": {},
         "type": "node"
        }
       ],
       "instanceArgs": {
        "handlers": {},
        "id": "6162095320782915477",
        "imports": {
         "data": [
          {
           "name": null,
           "type": "js",
           "url": "/assetserver/ff7cedeb3c0be1fe3b78420e39e5831529252e27-rowNumberRenderer.js"
          },
          {
           "name": null,
           "type": "js",
           "url": "/assetserver/bd0edaba5158ded95855aef34fd8f3dd96ae49fb-ag-grid.js"
          },
          {
           "name": null,
           "type": "css",
           "url": "/assetserver/77a698eb508b878c6fc123d504f8b478c0953d4e-ag-grid.css"
          },
          {
           "name": null,
           "type": "css",
           "url": "/assetserver/e32886774615890ea3135fc2948c5a5d84679ad0-ag-grid-light.css"
          },
          {
           "name": null,
           "type": "css",
           "url": "/assetserver/d729992f1accd067e59a3e0aef7bd027c5dbf032-ag-grid-dark.css"
          }
         ],
         "type": "async_block"
        },
        "mount_callbacks": [
         "function () {\n    var handler = ((function (RowNumberRenderer,agGrid){var gridOptions={\"onCellFocused\":(function (ev){var x={}; (ev.rowIndex!==undefined) ? (x[\"rowIndex\"]=(ev.rowIndex+1)) : undefined; (ev.colDef!==undefined) ? (x[\"column\"]=ev.colDef.headerName) : undefined; return WebIO.setval({\"name\":\"onCellFocused\",\"scope\":\"6162095320782915477\",\"id\":\"1718989436153414992\",\"type\":\"observable\"},x)}),\"onCellValueChanged\":(function (){return }),\"rowSelection\":\"multiple\",\"multiSortKey\":\"ctrl\",\"columnDefs\":[{\"filter\":false,\"editable\":false,\"headerTooltip\":\"\",\"field\":\"__row__\",\"headerName\":\"Row\",\"sortable\":true,\"type\":\"numericColumn\",\"cellRenderer\":\"rowNumberRenderer\",\"resizable\":true},{\"filter\":true,\"editable\":false,\"headerTooltip\":\"String\",\"field\":\"sample\",\"headerName\":\"sample\",\"sortable\":true,\"type\":null,\"resizable\":true},{\"filter\":\"agNumberColumnFilter\",\"editable\":false,\"headerTooltip\":\"Float64\",\"field\":\"mutect\",\"headerName\":\"mutect\",\"sortable\":true,\"type\":\"numericColumn\",\"resizable\":true},{\"filter\":\"agNumberColumnFilter\",\"editable\":false,\"headerTooltip\":\"Float64\",\"field\":\"lofreq\",\"headerName\":\"lofreq\",\"sortable\":true,\"type\":\"numericColumn\",\"resizable\":true},{\"filter\":\"agNumberColumnFilter\",\"editable\":false,\"headerTooltip\":\"Float64\",\"field\":\"vardict\",\"headerName\":\"vardict\",\"sortable\":true,\"type\":\"numericColumn\",\"resizable\":true},{\"filter\":true,\"editable\":false,\"headerTooltip\":\"CategoricalArrays.CategoricalValue{Bool, UInt32}\",\"field\":\"real\",\"headerName\":\"real\",\"sortable\":true,\"type\":null,\"resizable\":true},{\"filter\":\"agNumberColumnFilter\",\"editable\":false,\"headerTooltip\":\"Float64\",\"field\":\"final\",\"headerName\":\"final\",\"sortable\":true,\"type\":\"numericColumn\",\"resizable\":true}],\"onCellDoubleClicked\":(function (ev){var x={}; (ev.rowIndex!==undefined) ? (x[\"rowIndex\"]=(ev.rowIndex+1)) : undefined; (ev.colDef!==undefined) ? (x[\"column\"]=ev.colDef.headerName) : undefined; return WebIO.setval({\"name\":\"onCellDoubleClicked\",\"scope\":\"6162095320782915477\",\"id\":\"11150577489000673400\",\"type\":\"observable\"},x)}),\"onRowClicked\":(function (ev){var x={}; (ev.rowIndex!==undefined) ? (x[\"rowIndex\"]=(ev.rowIndex+1)) : undefined; (ev.colDef!==undefined) ? (x[\"column\"]=ev.colDef.headerName) : undefined; return WebIO.setval({\"name\":\"onRowClicked\",\"scope\":\"6162095320782915477\",\"id\":\"11939737108207470352\",\"type\":\"observable\"},x)}),\"onCellKeyDown\":(function (ev){var x={}; (ev.rowIndex!==undefined) ? (x[\"rowIndex\"]=(ev.rowIndex+1)) : undefined; (ev.colDef!==undefined) ? (x[\"column\"]=ev.colDef.headerName) : undefined; return WebIO.setval({\"name\":\"onCellKeyDown\",\"scope\":\"6162095320782915477\",\"id\":\"4772424742924894155\",\"type\":\"observable\"},x)}),\"rowData\":[{\"sample\":\"887041_1_5000 2:198265526 A>G\",\"mutect\":0.0,\"lofreq\":0.8209816659380055,\"vardict\":0.061844581674291056,\"real\":\"true\",\"final\":0.00018463040318685063}],\"onCellClicked\":(function (ev){var x={}; (ev.rowIndex!==undefined) ? (x[\"rowIndex\"]=(ev.rowIndex+1)) : undefined; (ev.colDef!==undefined) ? (x[\"column\"]=ev.colDef.headerName) : undefined; return WebIO.setval({\"name\":\"onCellClicked\",\"scope\":\"6162095320782915477\",\"id\":\"14218536448883476026\",\"type\":\"observable\"},x)})}; var el=document.getElementById(\"grid-7d38c840\"); gridOptions.components={\"rowNumberRenderer\":RowNumberRenderer}; false ? (agGrid.LicenseManager.setLicenseKey(null)) : undefined; this.table=new agGrid.Grid(el,gridOptions); return gridOptions.columnApi.autoSizeAllColumns()}));\n    (WebIO.importBlock({\"data\":[{\"name\":null,\"type\":\"js\",\"url\":\"/assetserver/ff7cedeb3c0be1fe3b78420e39e5831529252e27-rowNumberRenderer.js\"},{\"name\":null,\"type\":\"js\",\"url\":\"/assetserver/bd0edaba5158ded95855aef34fd8f3dd96ae49fb-ag-grid.js\"},{\"name\":null,\"type\":\"css\",\"url\":\"/assetserver/77a698eb508b878c6fc123d504f8b478c0953d4e-ag-grid.css\"},{\"name\":null,\"type\":\"css\",\"url\":\"/assetserver/e32886774615890ea3135fc2948c5a5d84679ad0-ag-grid-light.css\"},{\"name\":null,\"type\":\"css\",\"url\":\"/assetserver/d729992f1accd067e59a3e0aef7bd027c5dbf032-ag-grid-dark.css\"}],\"type\":\"async_block\"})).then((imports) => handler.apply(this, imports));\n}\n"
        ],
        "observables": {
         "onCellClicked": {
          "id": "14218536448883476026",
          "sync": false,
          "value": null
         },
         "onCellDoubleClicked": {
          "id": "11150577489000673400",
          "sync": false,
          "value": null
         },
         "onCellFocused": {
          "id": "1718989436153414992",
          "sync": false,
          "value": null
         },
         "onCellKeyDown": {
          "id": "4772424742924894155",
          "sync": false,
          "value": null
         },
         "onRowClicked": {
          "id": "11939737108207470352",
          "sync": false,
          "value": null
         }
        },
        "systemjs_options": null
       },
       "nodeType": "Scope",
       "props": {},
       "type": "node"
      },
      "text/html": [
       "<div\n",
       "    class=\"webio-mountpoint\"\n",
       "    data-webio-mountpoint=\"4791814209366374050\"\n",
       ">\n",
       "    <script>\n",
       "    (function(){\n",
       "    // Some integrations (namely, IJulia/Jupyter) use an alternate render pathway than\n",
       "    // just putting the html on the page. If WebIO isn't defined, then it's pretty likely\n",
       "    // that we're in one of those situations and the integration just isn't installed\n",
       "    // correctly.\n",
       "    if (typeof window.WebIO === \"undefined\") {\n",
       "        document\n",
       "            .querySelector('[data-webio-mountpoint=\"4791814209366374050\"]')\n",
       "            .innerHTML = (\n",
       "                '<div style=\"padding: 1em; background-color: #f8d6da; border: 1px solid #f5c6cb; font-weight: bold;\">' +\n",
       "                '<p><strong>WebIO not detected.</strong></p>' +\n",
       "                '<p>Please read ' +\n",
       "                '<a href=\"https://juliagizmos.github.io/WebIO.jl/latest/troubleshooting/not-detected/\" target=\"_blank\">the troubleshooting guide</a> ' +\n",
       "                'for more information on how to resolve this issue.</p>' +\n",
       "                '<p><a href=\"https://juliagizmos.github.io/WebIO.jl/latest/troubleshooting/not-detected/\" target=\"_blank\">https://juliagizmos.github.io/WebIO.jl/latest/troubleshooting/not-detected/</a></p>' +\n",
       "                '</div>'\n",
       "            );\n",
       "        return;\n",
       "    }\n",
       "    WebIO.mount(\n",
       "        document.querySelector('[data-webio-mountpoint=\"4791814209366374050\"]'),\n",
       "        {\"props\":{},\"nodeType\":\"Scope\",\"type\":\"node\",\"instanceArgs\":{\"imports\":{\"data\":[{\"name\":null,\"type\":\"js\",\"url\":\"\\/assetserver\\/ff7cedeb3c0be1fe3b78420e39e5831529252e27-rowNumberRenderer.js\"},{\"name\":null,\"type\":\"js\",\"url\":\"\\/assetserver\\/bd0edaba5158ded95855aef34fd8f3dd96ae49fb-ag-grid.js\"},{\"name\":null,\"type\":\"css\",\"url\":\"\\/assetserver\\/77a698eb508b878c6fc123d504f8b478c0953d4e-ag-grid.css\"},{\"name\":null,\"type\":\"css\",\"url\":\"\\/assetserver\\/e32886774615890ea3135fc2948c5a5d84679ad0-ag-grid-light.css\"},{\"name\":null,\"type\":\"css\",\"url\":\"\\/assetserver\\/d729992f1accd067e59a3e0aef7bd027c5dbf032-ag-grid-dark.css\"}],\"type\":\"async_block\"},\"id\":\"6162095320782915477\",\"handlers\":{},\"systemjs_options\":null,\"mount_callbacks\":[\"function () {\\n    var handler = ((function (RowNumberRenderer,agGrid){var gridOptions={\\\"onCellFocused\\\":(function (ev){var x={}; (ev.rowIndex!==undefined) ? (x[\\\"rowIndex\\\"]=(ev.rowIndex+1)) : undefined; (ev.colDef!==undefined) ? (x[\\\"column\\\"]=ev.colDef.headerName) : undefined; return WebIO.setval({\\\"name\\\":\\\"onCellFocused\\\",\\\"scope\\\":\\\"6162095320782915477\\\",\\\"id\\\":\\\"1718989436153414992\\\",\\\"type\\\":\\\"observable\\\"},x)}),\\\"onCellValueChanged\\\":(function (){return }),\\\"rowSelection\\\":\\\"multiple\\\",\\\"multiSortKey\\\":\\\"ctrl\\\",\\\"columnDefs\\\":[{\\\"filter\\\":false,\\\"editable\\\":false,\\\"headerTooltip\\\":\\\"\\\",\\\"field\\\":\\\"__row__\\\",\\\"headerName\\\":\\\"Row\\\",\\\"sortable\\\":true,\\\"type\\\":\\\"numericColumn\\\",\\\"cellRenderer\\\":\\\"rowNumberRenderer\\\",\\\"resizable\\\":true},{\\\"filter\\\":true,\\\"editable\\\":false,\\\"headerTooltip\\\":\\\"String\\\",\\\"field\\\":\\\"sample\\\",\\\"headerName\\\":\\\"sample\\\",\\\"sortable\\\":true,\\\"type\\\":null,\\\"resizable\\\":true},{\\\"filter\\\":\\\"agNumberColumnFilter\\\",\\\"editable\\\":false,\\\"headerTooltip\\\":\\\"Float64\\\",\\\"field\\\":\\\"mutect\\\",\\\"headerName\\\":\\\"mutect\\\",\\\"sortable\\\":true,\\\"type\\\":\\\"numericColumn\\\",\\\"resizable\\\":true},{\\\"filter\\\":\\\"agNumberColumnFilter\\\",\\\"editable\\\":false,\\\"headerTooltip\\\":\\\"Float64\\\",\\\"field\\\":\\\"lofreq\\\",\\\"headerName\\\":\\\"lofreq\\\",\\\"sortable\\\":true,\\\"type\\\":\\\"numericColumn\\\",\\\"resizable\\\":true},{\\\"filter\\\":\\\"agNumberColumnFilter\\\",\\\"editable\\\":false,\\\"headerTooltip\\\":\\\"Float64\\\",\\\"field\\\":\\\"vardict\\\",\\\"headerName\\\":\\\"vardict\\\",\\\"sortable\\\":true,\\\"type\\\":\\\"numericColumn\\\",\\\"resizable\\\":true},{\\\"filter\\\":true,\\\"editable\\\":false,\\\"headerTooltip\\\":\\\"CategoricalArrays.CategoricalValue{Bool, UInt32}\\\",\\\"field\\\":\\\"real\\\",\\\"headerName\\\":\\\"real\\\",\\\"sortable\\\":true,\\\"type\\\":null,\\\"resizable\\\":true},{\\\"filter\\\":\\\"agNumberColumnFilter\\\",\\\"editable\\\":false,\\\"headerTooltip\\\":\\\"Float64\\\",\\\"field\\\":\\\"final\\\",\\\"headerName\\\":\\\"final\\\",\\\"sortable\\\":true,\\\"type\\\":\\\"numericColumn\\\",\\\"resizable\\\":true}],\\\"onCellDoubleClicked\\\":(function (ev){var x={}; (ev.rowIndex!==undefined) ? (x[\\\"rowIndex\\\"]=(ev.rowIndex+1)) : undefined; (ev.colDef!==undefined) ? (x[\\\"column\\\"]=ev.colDef.headerName) : undefined; return WebIO.setval({\\\"name\\\":\\\"onCellDoubleClicked\\\",\\\"scope\\\":\\\"6162095320782915477\\\",\\\"id\\\":\\\"11150577489000673400\\\",\\\"type\\\":\\\"observable\\\"},x)}),\\\"onRowClicked\\\":(function (ev){var x={}; (ev.rowIndex!==undefined) ? (x[\\\"rowIndex\\\"]=(ev.rowIndex+1)) : undefined; (ev.colDef!==undefined) ? (x[\\\"column\\\"]=ev.colDef.headerName) : undefined; return WebIO.setval({\\\"name\\\":\\\"onRowClicked\\\",\\\"scope\\\":\\\"6162095320782915477\\\",\\\"id\\\":\\\"11939737108207470352\\\",\\\"type\\\":\\\"observable\\\"},x)}),\\\"onCellKeyDown\\\":(function (ev){var x={}; (ev.rowIndex!==undefined) ? (x[\\\"rowIndex\\\"]=(ev.rowIndex+1)) : undefined; (ev.colDef!==undefined) ? (x[\\\"column\\\"]=ev.colDef.headerName) : undefined; return WebIO.setval({\\\"name\\\":\\\"onCellKeyDown\\\",\\\"scope\\\":\\\"6162095320782915477\\\",\\\"id\\\":\\\"4772424742924894155\\\",\\\"type\\\":\\\"observable\\\"},x)}),\\\"rowData\\\":[{\\\"sample\\\":\\\"887041_1_5000 2:198265526 A>G\\\",\\\"mutect\\\":0.0,\\\"lofreq\\\":0.8209816659380055,\\\"vardict\\\":0.061844581674291056,\\\"real\\\":\\\"true\\\",\\\"final\\\":0.00018463040318685063}],\\\"onCellClicked\\\":(function (ev){var x={}; (ev.rowIndex!==undefined) ? (x[\\\"rowIndex\\\"]=(ev.rowIndex+1)) : undefined; (ev.colDef!==undefined) ? (x[\\\"column\\\"]=ev.colDef.headerName) : undefined; return WebIO.setval({\\\"name\\\":\\\"onCellClicked\\\",\\\"scope\\\":\\\"6162095320782915477\\\",\\\"id\\\":\\\"14218536448883476026\\\",\\\"type\\\":\\\"observable\\\"},x)})}; var el=document.getElementById(\\\"grid-7d38c840\\\"); gridOptions.components={\\\"rowNumberRenderer\\\":RowNumberRenderer}; false ? (agGrid.LicenseManager.setLicenseKey(null)) : undefined; this.table=new agGrid.Grid(el,gridOptions); return gridOptions.columnApi.autoSizeAllColumns()}));\\n    (WebIO.importBlock({\\\"data\\\":[{\\\"name\\\":null,\\\"type\\\":\\\"js\\\",\\\"url\\\":\\\"\\/assetserver\\/ff7cedeb3c0be1fe3b78420e39e5831529252e27-rowNumberRenderer.js\\\"},{\\\"name\\\":null,\\\"type\\\":\\\"js\\\",\\\"url\\\":\\\"\\/assetserver\\/bd0edaba5158ded95855aef34fd8f3dd96ae49fb-ag-grid.js\\\"},{\\\"name\\\":null,\\\"type\\\":\\\"css\\\",\\\"url\\\":\\\"\\/assetserver\\/77a698eb508b878c6fc123d504f8b478c0953d4e-ag-grid.css\\\"},{\\\"name\\\":null,\\\"type\\\":\\\"css\\\",\\\"url\\\":\\\"\\/assetserver\\/e32886774615890ea3135fc2948c5a5d84679ad0-ag-grid-light.css\\\"},{\\\"name\\\":null,\\\"type\\\":\\\"css\\\",\\\"url\\\":\\\"\\/assetserver\\/d729992f1accd067e59a3e0aef7bd027c5dbf032-ag-grid-dark.css\\\"}],\\\"type\\\":\\\"async_block\\\"})).then((imports) => handler.apply(this, imports));\\n}\\n\"],\"observables\":{\"onCellKeyDown\":{\"sync\":false,\"id\":\"4772424742924894155\",\"value\":null},\"onRowClicked\":{\"sync\":false,\"id\":\"11939737108207470352\",\"value\":null},\"onCellDoubleClicked\":{\"sync\":false,\"id\":\"11150577489000673400\",\"value\":null},\"onCellClicked\":{\"sync\":false,\"id\":\"14218536448883476026\",\"value\":null},\"onCellFocused\":{\"sync\":false,\"id\":\"1718989436153414992\",\"value\":null}}},\"children\":[{\"props\":{},\"nodeType\":\"DOM\",\"type\":\"node\",\"instanceArgs\":{\"namespace\":\"html\",\"tag\":\"div\"},\"children\":[{\"props\":{\"style\":{\"height\":\"0\",\"padding\":\"0\",\"background-color\":\"#F5F7F7\",\"color\":\"#1c1f20\",\"font-family\":\"-apple-system, BlinkMacSystemFont, \\\"Segoe UI\\\", Roboto, Oxygen-Sans, Ubuntu, Cantarell, \\\"Helvetica Neue\\\", sans-serif\"}},\"nodeType\":\"DOM\",\"type\":\"node\",\"instanceArgs\":{\"namespace\":\"html\",\"tag\":\"div\"},\"children\":[\"\"]},{\"props\":{\"id\":\"grid-7d38c840\",\"className\":\"ag-theme-balham\",\"style\":{\"height\":\"78px\",\"width\":\"100%\"}},\"nodeType\":\"DOM\",\"type\":\"node\",\"instanceArgs\":{\"namespace\":\"html\",\"tag\":\"div\"},\"children\":[]}]}]},\n",
       "        window,\n",
       "    );\n",
       "    })()\n",
       "    </script>\n",
       "</div>\n"
      ],
      "text/plain": [
       "WebIO.Scope(WebIO.Node{WebIO.DOM}(WebIO.DOM(:html, :div), Any[WebIO.Node{WebIO.DOM}(WebIO.DOM(:html, :div), Any[\"\"], Dict{Symbol, Any}(:style => Dict(\"height\" => \"0\", \"padding\" => \"0\", \"background-color\" => \"#F5F7F7\", \"color\" => \"#1c1f20\", \"font-family\" => \"-apple-system, BlinkMacSystemFont, \\\"Segoe UI\\\", Roboto, Oxygen-Sans, Ubuntu, Cantarell, \\\"Helvetica Neue\\\", sans-serif\"))), WebIO.Node{WebIO.DOM}(WebIO.DOM(:html, :div), Any[], Dict{Symbol, Any}(:id => \"grid-7d38c840\", :className => \"ag-theme-balham\", :style => Dict(\"height\" => \"78px\", \"width\" => \"100%\")))], Dict{Symbol, Any}()), Dict{String, Tuple{Observables.AbstractObservable, Union{Nothing, Bool}}}(\"onCellKeyDown\" => (Observable{Any} with 0 listeners. Value:\n",
       "nothing, nothing), \"onRowClicked\" => (Observable{Any} with 0 listeners. Value:\n",
       "nothing, nothing), \"onCellDoubleClicked\" => (Observable{Any} with 0 listeners. Value:\n",
       "nothing, nothing), \"onCellClicked\" => (Observable{Any} with 0 listeners. Value:\n",
       "nothing, nothing), \"onCellFocused\" => (Observable{Any} with 0 listeners. Value:\n",
       "nothing, nothing)), Set{String}(), nothing, WebIO.Asset[WebIO.Asset(\"js\", nothing, \"/Users/alexpanchot/.julia/packages/TableView/CaHPi/src/rowNumberRenderer.js\"), WebIO.Asset(\"js\", nothing, \"/Users/alexpanchot/.julia/packages/TableView/CaHPi/deps/ag-grid-25.2.0/ag-grid.js\"), WebIO.Asset(\"css\", nothing, \"/Users/alexpanchot/.julia/packages/TableView/CaHPi/deps/ag-grid-25.2.0/ag-grid.css\"), WebIO.Asset(\"css\", nothing, \"/Users/alexpanchot/.julia/packages/TableView/CaHPi/deps/ag-grid-25.2.0/ag-grid-light.css\"), WebIO.Asset(\"css\", nothing, \"/Users/alexpanchot/.julia/packages/TableView/CaHPi/deps/ag-grid-25.2.0/ag-grid-dark.css\")], Dict{Any, Any}(), WebIO.ConnectionPool(Channel{Any}(32), Set{WebIO.AbstractConnection}(), Condition(Base.InvasiveLinkedList{Task}(Task (runnable) @0x00000001594bd990, Task (runnable) @0x00000001594bd990), Base.AlwaysLockedST(1))), WebIO.JSString[WebIO.JSString(\"function () {\\n    var handler = ((function (RowNumberRenderer,agGrid){var gridOptions={\\\"onCellFocused\\\":(function (ev){var x={}; (ev.rowIndex!==undefined) ? (x[\\\"rowIndex\\\"]=(ev.rowIndex+1)) : undefined; (ev.colDef!==undefined) ? (x[\\\"column\\\"]=ev.colDef.headerName) : undefined; return WebIO.setval({\\\"name\\\":\\\"onCellFocused\\\",\\\"scope\\\":\\\"6162095320782915477\\\",\\\"id\\\":\\\"1718989436153414992\\\",\\\"type\\\":\\\"observable\\\"},x)}),\\\"onCellValueChanged\\\":(function (){return }),\\\"rowSelection\\\":\\\"multiple\\\",\\\"multiSortKey\\\":\\\"ctrl\\\",\\\"columnDefs\\\":[{\\\"filter\\\":false,\\\"editable\\\":false,\\\"headerTooltip\\\":\\\"\\\",\\\"field\\\":\\\"__row__\\\",\\\"headerName\\\":\\\"Row\\\",\\\"sortable\\\":true,\\\"type\\\":\\\"numericColumn\\\",\\\"cellRenderer\\\":\\\"rowNumberRenderer\\\",\\\"resizable\\\":true},{\\\"filter\\\":true,\\\"editable\\\":false,\\\"headerTooltip\\\":\\\"String\\\",\\\"field\\\":\\\"sample\\\",\\\"headerName\\\":\\\"sample\\\",\\\"sortable\\\":true,\\\"type\\\":null,\\\"resizable\\\":true},{\\\"filter\\\":\\\"agNumberColumnFilter\\\",\\\"editable\\\":false,\\\"headerTooltip\\\":\\\"Float64\\\",\\\"field\\\":\\\"mutect\\\",\\\"headerName\\\":\\\"mutect\\\",\\\"sortable\\\":true,\\\"type\\\":\\\"numericColumn\\\",\\\"resizable\\\":true},{\\\"filter\\\":\\\"agNumberColumnFilter\\\",\\\"editable\\\":false,\\\"headerTooltip\\\":\\\"Float64\\\",\\\"field\\\":\\\"lofreq\\\",\\\"headerName\\\":\\\"lofreq\\\",\\\"sortable\\\":true,\\\"type\\\":\\\"numericColumn\\\",\\\"resizable\\\":true},{\\\"filter\\\":\\\"agNumberColumnFilter\\\",\\\"editable\\\":false,\\\"headerTooltip\\\":\\\"Float64\\\",\\\"field\\\":\\\"vardict\\\",\\\"headerName\\\":\\\"vardict\\\",\\\"sortable\\\":true,\\\"type\\\":\\\"numericColumn\\\",\\\"resizable\\\":true},{\\\"filter\\\":true,\\\"editable\\\":false,\\\"headerTooltip\\\":\\\"CategoricalArrays.CategoricalValue{Bool, UInt32}\\\",\\\"field\\\":\\\"real\\\",\\\"headerName\\\":\\\"real\\\",\\\"sortable\\\":true,\\\"type\\\":null,\\\"resizable\\\":true},{\\\"filter\\\":\\\"agNumberColumnFilter\\\",\\\"editable\\\":false,\\\"headerTooltip\\\":\\\"Float64\\\",\\\"field\\\":\\\"final\\\",\\\"headerName\\\":\\\"final\\\",\\\"sortable\\\":true,\\\"type\\\":\\\"numericColumn\\\",\\\"resizable\\\":true}],\\\"onCellDoubleClicked\\\":(function (ev){var x={}; (ev.rowIndex!==undefined) ? (x[\\\"rowIndex\\\"]=(ev.rowIndex+1)) : undefined; (ev.colDef!==undefined) ? (x[\\\"column\\\"]=ev.colDef.headerName) : undefined; return WebIO.setval({\\\"name\\\":\\\"onCellDoubleClicked\\\",\\\"scope\\\":\\\"6162095320782915477\\\",\\\"id\\\":\\\"11150577489000673400\\\",\\\"type\\\":\\\"observable\\\"},x)}),\\\"onRowClicked\\\":(function (ev){var x={}; (ev.rowIndex!==undefined) ? (x[\\\"rowIndex\\\"]=(ev.rowIndex+1)) : undefined; (ev.colDef!==undefined) ? (x[\\\"column\\\"]=ev.colDef.headerName) : undefined; return WebIO.setval({\\\"name\\\":\\\"onRowClicked\\\",\\\"scope\\\":\\\"6162095320782915477\\\",\\\"id\\\":\\\"11939737108207470352\\\",\\\"type\\\":\\\"observable\\\"},x)}),\\\"onCellKeyDown\\\":(function (ev){var x={}; (ev.rowIndex!==undefined) ? (x[\\\"rowIndex\\\"]=(ev.rowIndex+1)) : undefined; (ev.colDef!==undefined) ? (x[\\\"column\\\"]=ev.colDef.headerName) : undefined; return WebIO.setval({\\\"name\\\":\\\"onCellKeyDown\\\",\\\"scope\\\":\\\"6162095320782915477\\\",\\\"id\\\":\\\"4772424742924894155\\\",\\\"type\\\":\\\"observable\\\"},x)}),\\\"rowData\\\":[{\\\"sample\\\":\\\"887041_1_5000 2:198265526 A>G\\\",\\\"mutect\\\":0.0,\\\"lofreq\\\":0.8209816659380055,\\\"vardict\\\":0.061844581674291056,\\\"real\\\":\\\"true\\\",\\\"final\\\":0.00018463040318685063}],\\\"onCellClicked\\\":(function (ev){var x={}; (ev.rowIndex!==undefined) ? (x[\\\"rowIndex\\\"]=(ev.rowIndex+1)) : undefined; (ev.colDef!==undefined) ? (x[\\\"column\\\"]=ev.colDef.headerName) : undefined; return WebIO.setval({\\\"name\\\":\\\"onCellClicked\\\",\\\"scope\\\":\\\"6162095320782915477\\\",\\\"id\\\":\\\"14218536448883476026\\\",\\\"type\\\":\\\"observable\\\"},x)})}; var el=document.getElementById(\\\"grid-7d38c840\\\"); gridOptions.components={\\\"rowNumberRenderer\\\":RowNumberRenderer}; false ? (agGrid.LicenseManager.setLicenseKey(null)) : undefined; this.table=new agGrid.Grid(el,gridOptions); return gridOptions.columnApi.autoSizeAllColumns()}));\\n    (WebIO.importBlock({\\\"data\\\":[{\\\"name\\\":null,\\\"type\\\":\\\"js\\\",\\\"url\\\":\\\"/assetserver/ff7cedeb3c0be1fe3b78420e39e5831529252e27-rowNumberRenderer.js\\\"},{\\\"name\\\":null,\\\"type\\\":\\\"js\\\",\\\"url\\\":\\\"/assetserver/bd0edaba5158ded95855aef34fd8f3dd96ae49fb-ag-grid.js\\\"},{\\\"name\\\":null,\\\"type\\\":\\\"css\\\",\\\"url\\\":\\\"/assetserver/77a698eb508b878c6fc123d504f8b478c0953d4e-ag-grid.css\\\"},{\\\"name\\\":null,\\\"type\\\":\\\"css\\\",\\\"url\\\":\\\"/assetserver/e32886774615890ea3135fc2948c5a5d84679ad0-ag-grid-light.css\\\"},{\\\"name\\\":null,\\\"type\\\":\\\"css\\\",\\\"url\\\":\\\"/assetserver/d729992f1accd067e59a3e0aef7bd027c5dbf032-ag-grid-dark.css\\\"}],\\\"type\\\":\\\"async_block\\\"})).then((imports) => handler.apply(this, imports));\\n}\\n\")])"
      ]
     },
     "execution_count": 49,
     "metadata": {
      "application/vnd.webio.node+json": {
       "kernelId": "705bb797-a830-4a97-b240-1268adfea294"
      }
     },
     "output_type": "execute_result"
    }
   ],
   "source": [
    "showtable(filter(x->x.real==true && x.final<0.5,fina))"
   ]
  },
  {
   "cell_type": "code",
   "execution_count": 50,
   "id": "335e6718",
   "metadata": {},
   "outputs": [
    {
     "data": {
      "text/plain": [
       "(best_model = LogisticClassifier,\n",
       " best_fitted_params = (classes = CategoricalArrays.CategoricalValue{Bool, UInt32}[false, true],\n",
       "                       coefs = [:mutect => 0.39299668272023697, :lofreq => 0.008318000915717683, :vardict => 14.74428540833387],\n",
       "                       intercept = -9.515652993767457,),)"
      ]
     },
     "execution_count": 50,
     "metadata": {},
     "output_type": "execute_result"
    }
   ],
   "source": [
    "fitted_params(mach)"
   ]
  },
  {
   "cell_type": "code",
   "execution_count": null,
   "id": "ec4de61c",
   "metadata": {},
   "outputs": [],
   "source": []
  }
 ],
 "metadata": {
  "@webio": {
   "lastCommId": "44402ed6630c43c1acb4f7297bf50ae6",
   "lastKernelId": "705bb797-a830-4a97-b240-1268adfea294"
  },
  "kernelspec": {
   "display_name": "Julia 1.6.2",
   "language": "julia",
   "name": "julia-1.6"
  },
  "language_info": {
   "file_extension": ".jl",
   "mimetype": "application/julia",
   "name": "julia",
   "version": "1.6.2"
  }
 },
 "nbformat": 4,
 "nbformat_minor": 5
}
