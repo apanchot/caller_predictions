{
 "cells": [
  {
   "cell_type": "code",
   "execution_count": 1,
   "id": "697b82ee",
   "metadata": {},
   "outputs": [
    {
     "data": {
      "application/vnd.webio.node+json": {
       "children": [],
       "instanceArgs": {
        "namespace": "html",
        "tag": "div"
       },
       "nodeType": "DOM",
       "props": {},
       "type": "node"
      },
      "text/html": [
       "<div style=\"padding: 1em; background-color: #f8d6da; border: 1px solid #f5c6cb; font-weight: bold;\">\n",
       "<p>The WebIO Jupyter extension was not detected. See the\n",
       "<a href=\"https://juliagizmos.github.io/WebIO.jl/latest/providers/ijulia/\" target=\"_blank\">\n",
       "    WebIO Jupyter integration documentation\n",
       "</a>\n",
       "for more information.\n",
       "</div>\n"
      ],
      "text/plain": [
       "WebIO._IJuliaInit()"
      ]
     },
     "metadata": {
      "application/vnd.webio.node+json": {
       "kernelId": "ccc8ed9a-9e30-43e0-b25b-c40598deff9f"
      }
     },
     "output_type": "display_data"
    }
   ],
   "source": [
    "import CSV\n",
    "using DataFrames\n",
    "# using StatsBase\n",
    "include(\"$(dirname(dirname(pwd())))/pred_funcs.jl\")\n",
    "using MLJ\n",
    "# import MLJBase\n",
    "import TableView.showtable\n",
    "using Plots\n",
    "import FileIO\n",
    "import Statistics\n",
    "import LinearAlgebra\n",
    "using StatsPlots\n",
    "using Random\n",
    "Random.seed!(0);\n",
    "using StatsBase\n",
    "import MLJBase"
   ]
  },
  {
   "cell_type": "code",
   "execution_count": 2,
   "id": "039cddbb",
   "metadata": {},
   "outputs": [
    {
     "data": {
      "text/plain": [
       "EvoTrees.EvoTreeClassifier"
      ]
     },
     "execution_count": 2,
     "metadata": {},
     "output_type": "execute_result"
    }
   ],
   "source": [
    "MissingImputator = @load MissingImputator pkg=\"BetaML\" verbosity=0\n",
    "LogisticClassifier = @load LogisticClassifier pkg=\"MLJLinearModels\" verbosity=0;  # loads code defining a model type\n",
    "EvoTreeClassifier = @load EvoTreeClassifier verbosity=0"
   ]
  },
  {
   "cell_type": "code",
   "execution_count": 3,
   "id": "3565ed7b",
   "metadata": {},
   "outputs": [
    {
     "data": {
      "text/plain": [
       "\"\""
      ]
     },
     "execution_count": 3,
     "metadata": {},
     "output_type": "execute_result"
    }
   ],
   "source": [
    "full = \"\""
   ]
  },
  {
   "cell_type": "code",
   "execution_count": 4,
   "id": "962348a7",
   "metadata": {},
   "outputs": [
    {
     "name": "stdout",
     "output_type": "stream",
     "text": [
      "94626\n",
      "94626\n",
      "94626\n",
      "26217\n"
     ]
    }
   ],
   "source": [
    "\n",
    "sample_key2, xold, yold = FileIO.load(\"$(dirname(dirname(pwd())))/data$(full).jld2\",\"sample_key\",\"x\" ,\"y\");\n",
    "\n",
    "\n",
    "xold.col1=collect(1:nrow(xold));\n",
    "println(nrow(xold))\n",
    "# filter!(x->x.ALTREF_I ≈ 0,xold)\n",
    "println(nrow(xold))\n",
    "# filter!(x->x.ALT_I>0.5 || x.REF_I>0.5,xold) # indel\n",
    "# filter!(x->x.ALT_I<0.5 && x.REF_I<0.5,xold) # SNV\n",
    "println(nrow(xold))\n",
    "filter!(x->x.training>0.5,xold)\n",
    "# select!(xold,Not(\"training\"));\n",
    "println(nrow(xold))\n",
    "# filter!(x->!ismissing(x.dust_score_Mutect),xold);\n",
    "# println(nrow(xold))\n",
    "\n",
    "yold = yold[xold.col1]\n",
    "# println(xold[findall(x->x,[i==true for i in yold]),\"col1\"])\n",
    "# println(xold[findall(x->!x,[i==true for i in yold]),\"col1\"])\n",
    "sample_key2 = sample_key2[xold.col1]\n",
    "select!(xold,Not(\"col1\"));"
   ]
  },
  {
   "cell_type": "code",
   "execution_count": 5,
   "id": "cfdde65a",
   "metadata": {},
   "outputs": [],
   "source": [
    "for j in 1:ncol(xold), i in 1:nrow(xold)\n",
    "    if !ismissing(xold[i,j]) && (isnan(xold[i,j]) || isinf(xold[i,j]) )\n",
    "        xold[i,j] = missing\n",
    "    end\n",
    "end"
   ]
  },
  {
   "cell_type": "code",
   "execution_count": 6,
   "id": "ad657881",
   "metadata": {},
   "outputs": [],
   "source": [
    "train2, test2 = partition(eachindex(yold), 0.5, stratify=yold,  shuffle=true, rng=12344);\n",
    "\n",
    "select!(xold,Not(\"training\"));"
   ]
  },
  {
   "cell_type": "code",
   "execution_count": 7,
   "id": "6c6dd75b",
   "metadata": {},
   "outputs": [
    {
     "data": {
      "text/plain": [
       "46"
      ]
     },
     "execution_count": 7,
     "metadata": {},
     "output_type": "execute_result"
    }
   ],
   "source": [
    "sum([i==true for i in yold[train2]])"
   ]
  },
  {
   "cell_type": "code",
   "execution_count": 8,
   "id": "eb21f658",
   "metadata": {},
   "outputs": [
    {
     "data": {
      "text/plain": [
       "46"
      ]
     },
     "execution_count": 8,
     "metadata": {},
     "output_type": "execute_result"
    }
   ],
   "source": [
    "sum([i==true for i in yold[test2]])"
   ]
  },
  {
   "cell_type": "code",
   "execution_count": 9,
   "id": "0a74c68b",
   "metadata": {},
   "outputs": [
    {
     "data": {
      "text/plain": [
       "8023"
      ]
     },
     "execution_count": 9,
     "metadata": {},
     "output_type": "execute_result"
    }
   ],
   "source": [
    "sum(.~ismissing.(xold[train2,:dust_score_Vardict]))"
   ]
  },
  {
   "cell_type": "code",
   "execution_count": 10,
   "id": "ebfa1b7e",
   "metadata": {},
   "outputs": [],
   "source": [
    "FileIO.save(\"testdata$(full).jld2\", Dict(\"sample_key\"=>sample_key2[test2],\"x\" => xold[test2,:],\n",
    "        \"y\" => yold[test2], \n",
    "    ) ; compress = true\n",
    ")\n",
    "FileIO.save(\"traindata$(full).jld2\", Dict(\"sample_key\"=>sample_key2[train2],\"x\" => xold[train2,:],\n",
    "        \"y\" => yold[train2], \n",
    "    ) ; compress = true\n",
    ")"
   ]
  },
  {
   "cell_type": "markdown",
   "id": "b6e6631d",
   "metadata": {},
   "source": [
    "# Mutect"
   ]
  },
  {
   "cell_type": "code",
   "execution_count": 11,
   "id": "92a3d23e",
   "metadata": {},
   "outputs": [],
   "source": [
    "x = copy(xold[train2,:]);\n",
    "y = copy(yold[train2]);"
   ]
  },
  {
   "cell_type": "code",
   "execution_count": null,
   "id": "087880db",
   "metadata": {},
   "outputs": [],
   "source": [
    "x.col1=collect(1:nrow(x));\n",
    "coldrop = [] #\"FPpass\",\"FILTER_Mutect_PASS\"] # [\"gt_AF_Mutect\",\"AltFwd_Mutect\",\"RefFwd_Mutect\",\"AltRev_Mutect\",\"RefRev_Mutect\",\"gt_AD_ref_Mutect\",\"gt_AD_alt_Mutect\"]\n",
    "for i in names(x)\n",
    "    if i == \"col1\" || i==\"training\" || occursin( \"FILTER_Mutect\",i)\n",
    "        continue\n",
    "    end\n",
    "    if length(unique(x[:,i])) < 2 || occursin(\"Pindel\",i) || occursin(\"Lofreq\",i) || occursin(\"Vardict\",i) # || occursin(\"ALT\",i) || occursin(\"REF\",i)\n",
    "        push!(coldrop,i)\n",
    "#         println(i)\n",
    "    end \n",
    "end\n",
    "unique!(coldrop)\n",
    "select!(x, Not(coldrop));\n",
    "println(sum([i==true for i in y]))\n",
    "# println(nrow(xold))\n",
    "# dropmissing!(xold)\n",
    "# println(nrow(xold))\n",
    "filter!(x->!ismissing(x.dust_score_Mutect),x);\n",
    "println(size(y))\n",
    "# println(length(sample_key2))\n",
    "println()\n",
    "y = y[x.col1]\n",
    "# println(xold[findall(x->x,[i==true for i in yold]),\"col1\"])\n",
    "# println(xold[findall(x->!x,[i==true for i in yold]),\"col1\"])\n",
    "# sample_key2 = sample_key2[x.col1]\n",
    "select!(x,Not(\"col1\"));\n",
    "\n",
    "println(size(x))\n",
    "println(size(y))\n",
    "# println(length(sample_key2))\n",
    "println(sum([i==true for i in y]));\n"
   ]
  },
  {
   "cell_type": "code",
   "execution_count": null,
   "id": "f806a116",
   "metadata": {},
   "outputs": [],
   "source": [
    "transform_log!(x,10)"
   ]
  },
  {
   "cell_type": "code",
   "execution_count": 241,
   "id": "d176af4b",
   "metadata": {},
   "outputs": [],
   "source": [
    "stnd = fit_standardizer(x)\n",
    "transform_standardizer!(x,stnd);"
   ]
  },
  {
   "cell_type": "code",
   "execution_count": 242,
   "id": "2ade0a16",
   "metadata": {},
   "outputs": [
    {
     "name": "stdout",
     "output_type": "stream",
     "text": [
      "0\n"
     ]
    }
   ],
   "source": [
    "println(sum(ismissing.(Matrix(x))))"
   ]
  },
  {
   "cell_type": "code",
   "execution_count": 243,
   "id": "615c97ef",
   "metadata": {},
   "outputs": [
    {
     "name": "stdout",
     "output_type": "stream",
     "text": [
      "  0.033493 seconds (206.31 k allocations: 25.827 MiB)\n"
     ]
    },
    {
     "name": "stderr",
     "output_type": "stream",
     "text": [
      "┌ Info: Training Machine{MissingImputator,…}.\n",
      "└ @ MLJBase /Users/alexpanchot/.julia/packages/MLJBase/HZmTU/src/machines.jl:403\n"
     ]
    },
    {
     "data": {
      "text/plain": [
       "Machine{MissingImputator,…} trained 1 time; caches data\n",
       "  args: \n",
       "    1:\tSource @248 ⏎ `Table{Union{AbstractVector{Union{Missing, Continuous}}, AbstractVector{Continuous}}}`\n"
      ]
     },
     "execution_count": 243,
     "metadata": {},
     "output_type": "execute_result"
    }
   ],
   "source": [
    "imputemach = machine(MissingImputator(K=5),x) \n",
    "@time fit!(imputemach,verbosity=1)"
   ]
  },
  {
   "cell_type": "code",
   "execution_count": 244,
   "id": "f8252933",
   "metadata": {},
   "outputs": [],
   "source": [
    "tt = MLJ.transform(imputemach,x);\n",
    "for i in 1:ncol(x)\n",
    "    x[:,i] = tt[i]\n",
    "end"
   ]
  },
  {
   "cell_type": "code",
   "execution_count": 245,
   "id": "5bada5a0",
   "metadata": {},
   "outputs": [],
   "source": [
    "disallowmissing!(x);"
   ]
  },
  {
   "cell_type": "code",
   "execution_count": 246,
   "id": "3d9dcc29",
   "metadata": {},
   "outputs": [
    {
     "name": "stdout",
     "output_type": "stream",
     "text": [
      "(255, 59) 32\n",
      "(255,)\n"
     ]
    }
   ],
   "source": [
    "println(size(x),\" \",sum([i==true for i in y] ) )\n",
    "println(size(y))\n"
   ]
  },
  {
   "cell_type": "code",
   "execution_count": 247,
   "id": "f99007e8",
   "metadata": {},
   "outputs": [],
   "source": [
    "# x,y,train,test,sample_key = sampler(x,y,train,test,sample_key,\"under\",0.8);\n",
    "# x,y,train,test,sample_key = sampler(x,y,train,test,sample_key,\"over\",0.2);"
   ]
  },
  {
   "cell_type": "code",
   "execution_count": 248,
   "id": "14d38897",
   "metadata": {},
   "outputs": [],
   "source": [
    "y = coerce(copy(y),OrderedFactor);"
   ]
  },
  {
   "cell_type": "code",
   "execution_count": 249,
   "id": "88e44b38",
   "metadata": {},
   "outputs": [
    {
     "name": "stdout",
     "output_type": "stream",
     "text": [
      "(255, 59) 32\n",
      "(255,)\n"
     ]
    }
   ],
   "source": [
    "println(size(x),\" \",sum([i==true for i in y] ) )\n",
    "println(size(y))"
   ]
  },
  {
   "cell_type": "code",
   "execution_count": 250,
   "id": "db5a5aa1",
   "metadata": {},
   "outputs": [
    {
     "data": {
      "text/plain": [
       "8-element Vector{MLJBase.NumericRange{T, MLJBase.Bounded, Symbol} where T}:\n",
       " NumericRange(2 ≤ max_depth ≤ 8; origin=5.0, unit=3.0)\n",
       " NumericRange(0.0 ≤ η ≤ 1.0; origin=0.5, unit=0.5)\n",
       " NumericRange(0.0 ≤ γ ≤ 1.0; origin=0.5, unit=0.5)\n",
       " NumericRange(0.0 ≤ λ ≤ 1.0; origin=0.5, unit=0.5)\n",
       " NumericRange(0.0 ≤ α ≤ 1.0; origin=0.5, unit=0.5)\n",
       " NumericRange(0.0 ≤ min_weight ≤ 1.0; origin=0.5, unit=0.5)\n",
       " NumericRange(1 ≤ nrounds ≤ 10; origin=5.5, unit=4.5)\n",
       " NumericRange(4 ≤ nbins ≤ 128; origin=66.0, unit=62.0)"
      ]
     },
     "execution_count": 250,
     "metadata": {},
     "output_type": "execute_result"
    }
   ],
   "source": [
    "\n",
    "r = [\n",
    "    range(EvoTreeClassifier(), :max_depth, lower=2,upper=8),\n",
    "    range(EvoTreeClassifier(), :η, lower=0.0,upper=1.0),\n",
    "    range(EvoTreeClassifier(), :γ, lower=0.0,upper=1.0),\n",
    "    range(EvoTreeClassifier(), :λ, lower=0.0,upper=1.0),\n",
    "    range(EvoTreeClassifier(), :α, lower=0.0,upper=1.0),\n",
    "    range(EvoTreeClassifier(), :min_weight, lower=0.0,upper=1.0),\n",
    "    range(EvoTreeClassifier(), :nrounds, lower=1,upper=10),\n",
    "    range(EvoTreeClassifier(), :nbins, lower=4, upper=128),\n",
    "    \n",
    "    \n",
    "#     range(LogisticClassifier(), :lambda, lower=0.0,upper=1.0),\n",
    "#     range(LogisticClassifier(), :gamma, lower=0.0,upper=1.0),\n",
    "]"
   ]
  },
  {
   "cell_type": "code",
   "execution_count": 251,
   "id": "ce88cbe6",
   "metadata": {},
   "outputs": [
    {
     "name": "stderr",
     "output_type": "stream",
     "text": [
      "┌ Info: Training Machine{ProbabilisticTunedModel{LatinHypercube,…},…}.\n",
      "└ @ MLJBase /Users/alexpanchot/.julia/packages/MLJBase/HZmTU/src/machines.jl:403\n",
      "┌ Info: Attempting to evaluate 200 models.\n",
      "└ @ MLJTuning /Users/alexpanchot/.julia/packages/MLJTuning/efiDR/src/tuned_models.jl:685\n",
      "\u001b[33mEvaluating over 200 metamodels: 100%[=========================] Time: 0:01:29\u001b[39m\n"
     ]
    },
    {
     "data": {
      "text/plain": [
       "Machine{ProbabilisticTunedModel{LatinHypercube,…},…} trained 1 time; caches data\n",
       "  args: \n",
       "    1:\tSource @791 ⏎ `Table{AbstractVector{Continuous}}`\n",
       "    2:\tSource @212 ⏎ `AbstractVector{OrderedFactor{2}}`\n"
      ]
     },
     "execution_count": 251,
     "metadata": {},
     "output_type": "execute_result"
    }
   ],
   "source": [
    "self_tune = TunedModel(\n",
    "#     model=LogisticClassifier(penalty=:l1),\n",
    "    model=EvoTreeClassifier(),\n",
    "    \n",
    "    resampling=StratifiedCV(nfolds=5, rng=123),\n",
    "\n",
    "    tuning=LatinHypercube(),  #     tuning=Grid(resolution=2), \n",
    "    range = r,\n",
    "    n=200,\n",
    "    operation=predict_mode, # use for probabalistic \n",
    "    measure = fnr,  # use for deterministic or with predict_mode for probab \n",
    "    acceleration=CPUThreads(),\n",
    ")\n",
    "\n",
    "machbest = machine(\n",
    "    self_tune,\n",
    "    x,y)\n",
    "fit!(machbest,verbosity=1 )\n",
    "\n"
   ]
  },
  {
   "cell_type": "code",
   "execution_count": 252,
   "id": "f99ae1d6",
   "metadata": {},
   "outputs": [
    {
     "name": "stderr",
     "output_type": "stream",
     "text": [
      "┌ Info: Training Machine{EvoTreeClassifier{Float64,…},…}.\n",
      "└ @ MLJBase /Users/alexpanchot/.julia/packages/MLJBase/HZmTU/src/machines.jl:403\n"
     ]
    },
    {
     "data": {
      "text/plain": [
       "Machine{EvoTreeClassifier{Float64,…},…} trained 1 time; caches data\n",
       "  args: \n",
       "    1:\tSource @275 ⏎ `Table{AbstractVector{Continuous}}`\n",
       "    2:\tSource @038 ⏎ `AbstractVector{OrderedFactor{2}}`\n"
      ]
     },
     "execution_count": 252,
     "metadata": {},
     "output_type": "execute_result"
    }
   ],
   "source": [
    "mach = machine(\n",
    "    fitted_params(machbest).best_model,\n",
    "    x,y)\n",
    "fit!(mach,verbosity=4 )"
   ]
  },
  {
   "cell_type": "code",
   "execution_count": 209,
   "id": "88d993d7",
   "metadata": {},
   "outputs": [],
   "source": [
    "FileIO.save(\"mutect$(full).jld2\", Dict(\"mach\"=>mach,\"stnd\" => stnd,\n",
    "        \"imputemach\" => imputemach, \n",
    "    ) ; compress = true\n",
    ")"
   ]
  },
  {
   "cell_type": "markdown",
   "id": "f1524aa7",
   "metadata": {},
   "source": [
    "# Vardict"
   ]
  },
  {
   "cell_type": "code",
   "execution_count": 210,
   "id": "6f59d66a",
   "metadata": {},
   "outputs": [],
   "source": [
    "x = copy(xold[train2,:]);\n",
    "y = copy(yold[train2]);"
   ]
  },
  {
   "cell_type": "code",
   "execution_count": 211,
   "id": "6dd1bbc4",
   "metadata": {},
   "outputs": [
    {
     "name": "stdout",
     "output_type": "stream",
     "text": [
      "38\n",
      "(9868,)\n",
      "\n",
      "(7575, 52)\n",
      "(7575,)\n",
      "38\n"
     ]
    }
   ],
   "source": [
    "x.col1=collect(1:nrow(x));\n",
    "coldrop = [] #\"FPpass\",\"FILTER_Mutect_PASS\"] # [\"gt_AF_Mutect\",\"AltFwd_Mutect\",\"RefFwd_Mutect\",\"AltRev_Mutect\",\"RefRev_Mutect\",\"gt_AD_ref_Mutect\",\"gt_AD_alt_Mutect\"]\n",
    "for i in names(x)\n",
    "    if i == \"col1\" || i==\"training\" || occursin( \"FILTER_Vardict\",i)\n",
    "        continue\n",
    "    end\n",
    "    if length(unique(x[:,i])) < 2 || occursin(\"Pindel\",i) || occursin(\"Lofreq\",i) || occursin(\"Mutect\",i) # || occursin(\"ALT\",i) || occursin(\"REF\",i)\n",
    "        push!(coldrop,i)\n",
    "#         println(i)\n",
    "    end \n",
    "end\n",
    "unique!(coldrop)\n",
    "select!(x, Not(coldrop));\n",
    "println(sum([i==true for i in y]))\n",
    "# println(nrow(xold))\n",
    "# dropmissing!(xold)\n",
    "# println(nrow(xold))\n",
    "filter!(x->!ismissing(x.dust_score_Vardict),x);\n",
    "println(size(y))\n",
    "# println(length(sample_key2))\n",
    "println()\n",
    "y = y[x.col1]\n",
    "# println(xold[findall(x->x,[i==true for i in yold]),\"col1\"])\n",
    "# println(xold[findall(x->!x,[i==true for i in yold]),\"col1\"])\n",
    "# sample_key2 = sample_key2[x.col1]\n",
    "select!(x,Not(\"col1\"));\n",
    "\n",
    "println(size(x))\n",
    "println(size(y))\n",
    "# println(length(sample_key2))\n",
    "println(sum([i==true for i in y]));\n",
    "\n"
   ]
  },
  {
   "cell_type": "code",
   "execution_count": 212,
   "id": "5a45cf6b",
   "metadata": {},
   "outputs": [
    {
     "name": "stdout",
     "output_type": "stream",
     "text": [
      "1762\n"
     ]
    }
   ],
   "source": [
    "transform_log!(x,10)\n",
    "stnd = fit_standardizer(x)\n",
    "transform_standardizer!(x,stnd);\n",
    "println(sum(ismissing.(Matrix(x))))"
   ]
  },
  {
   "cell_type": "code",
   "execution_count": 213,
   "id": "4bd23aed",
   "metadata": {},
   "outputs": [
    {
     "name": "stderr",
     "output_type": "stream",
     "text": [
      "┌ Info: Training Machine{MissingImputator,…}.\n",
      "└ @ MLJBase /Users/alexpanchot/.julia/packages/MLJBase/HZmTU/src/machines.jl:403\n"
     ]
    },
    {
     "name": "stdout",
     "output_type": "stream",
     "text": [
      "  9.928318 seconds (51.68 M allocations: 6.875 GiB, 23.86% gc time, 0.26% compilation time)\n"
     ]
    },
    {
     "data": {
      "text/plain": [
       "Machine{MissingImputator,…} trained 1 time; caches data\n",
       "  args: \n",
       "    1:\tSource @364 ⏎ `Table{Union{AbstractVector{Union{Missing, Continuous}}, AbstractVector{Continuous}}}`\n"
      ]
     },
     "execution_count": 213,
     "metadata": {},
     "output_type": "execute_result"
    }
   ],
   "source": [
    "imputemach = machine(MissingImputator(K=5),x) \n",
    "@time fit!(imputemach,verbosity=1)"
   ]
  },
  {
   "cell_type": "code",
   "execution_count": 214,
   "id": "d20428f3",
   "metadata": {},
   "outputs": [],
   "source": [
    "tt = MLJ.transform(imputemach,x);\n",
    "for i in 1:ncol(x)\n",
    "    x[:,i] = tt[i]\n",
    "end\n",
    "disallowmissing!(x);"
   ]
  },
  {
   "cell_type": "code",
   "execution_count": 215,
   "id": "38c0609e",
   "metadata": {},
   "outputs": [
    {
     "name": "stdout",
     "output_type": "stream",
     "text": [
      "(7575, 52) 38\n",
      "(7575,)\n",
      "(7575, 52) 38\n",
      "(7575,)\n"
     ]
    }
   ],
   "source": [
    "println(size(x),\" \",sum([i==true for i in y] ) )\n",
    "println(size(y))\n",
    "# x,y,train,test,sample_key = sampler(x,y,train,test,sample_key,\"under\",0.8);\n",
    "# x,y,train,test,sample_key = sampler(x,y,train,test,sample_key,\"over\",0.2);\n",
    "\n",
    "y = coerce(copy(y),OrderedFactor);\n",
    "\n",
    "println(size(x),\" \",sum([i==true for i in y] ) )\n",
    "println(size(y))"
   ]
  },
  {
   "cell_type": "code",
   "execution_count": 216,
   "id": "ff7418ff",
   "metadata": {},
   "outputs": [
    {
     "data": {
      "text/plain": [
       "8-element Vector{MLJBase.NumericRange{T, MLJBase.Bounded, Symbol} where T}:\n",
       " NumericRange(2 ≤ max_depth ≤ 8; origin=5.0, unit=3.0)\n",
       " NumericRange(0.0 ≤ η ≤ 1.0; origin=0.5, unit=0.5)\n",
       " NumericRange(0.0 ≤ γ ≤ 1.0; origin=0.5, unit=0.5)\n",
       " NumericRange(0.0 ≤ λ ≤ 1.0; origin=0.5, unit=0.5)\n",
       " NumericRange(0.0 ≤ α ≤ 1.0; origin=0.5, unit=0.5)\n",
       " NumericRange(0.0 ≤ min_weight ≤ 1.0; origin=0.5, unit=0.5)\n",
       " NumericRange(1 ≤ nrounds ≤ 10; origin=5.5, unit=4.5)\n",
       " NumericRange(4 ≤ nbins ≤ 128; origin=66.0, unit=62.0)"
      ]
     },
     "execution_count": 216,
     "metadata": {},
     "output_type": "execute_result"
    }
   ],
   "source": [
    "\n",
    "r = [\n",
    "    range(EvoTreeClassifier(), :max_depth, lower=2,upper=8),\n",
    "    range(EvoTreeClassifier(), :η, lower=0.0,upper=1.0),\n",
    "    range(EvoTreeClassifier(), :γ, lower=0.0,upper=1.0),\n",
    "    range(EvoTreeClassifier(), :λ, lower=0.0,upper=1.0),\n",
    "    range(EvoTreeClassifier(), :α, lower=0.0,upper=1.0),\n",
    "    range(EvoTreeClassifier(), :min_weight, lower=0.0,upper=1.0),\n",
    "    range(EvoTreeClassifier(), :nrounds, lower=1,upper=10),\n",
    "    range(EvoTreeClassifier(), :nbins, lower=4, upper=128),\n",
    "    \n",
    "    \n",
    "#     range(LogisticClassifier(), :lambda, lower=0.0,upper=1.0),\n",
    "#     range(LogisticClassifier(), :gamma, lower=0.0,upper=1.0),\n",
    "]"
   ]
  },
  {
   "cell_type": "code",
   "execution_count": 217,
   "id": "994aa282",
   "metadata": {},
   "outputs": [
    {
     "name": "stderr",
     "output_type": "stream",
     "text": [
      "┌ Info: Training Machine{ProbabilisticTunedModel{LatinHypercube,…},…}.\n",
      "└ @ MLJBase /Users/alexpanchot/.julia/packages/MLJBase/HZmTU/src/machines.jl:403\n",
      "┌ Info: Attempting to evaluate 200 models.\n",
      "└ @ MLJTuning /Users/alexpanchot/.julia/packages/MLJTuning/efiDR/src/tuned_models.jl:685\n",
      "\u001b[33mEvaluating over 200 metamodels: 100%[=========================] Time: 0:01:55\u001b[39m\n",
      "┌ Info: Training Machine{EvoTreeClassifier{Float64,…},…}.\n",
      "└ @ MLJBase /Users/alexpanchot/.julia/packages/MLJBase/HZmTU/src/machines.jl:403\n"
     ]
    },
    {
     "data": {
      "text/plain": [
       "Machine{EvoTreeClassifier{Float64,…},…} trained 1 time; caches data\n",
       "  args: \n",
       "    1:\tSource @919 ⏎ `Table{AbstractVector{Continuous}}`\n",
       "    2:\tSource @735 ⏎ `AbstractVector{OrderedFactor{2}}`\n"
      ]
     },
     "execution_count": 217,
     "metadata": {},
     "output_type": "execute_result"
    }
   ],
   "source": [
    "self_tune = TunedModel(\n",
    "#     model=LogisticClassifier(penalty=:l1),\n",
    "    model=EvoTreeClassifier(),\n",
    "    \n",
    "    resampling=StratifiedCV(nfolds=5, rng=123),\n",
    "\n",
    "    tuning=LatinHypercube(),  #     tuning=Grid(resolution=2), \n",
    "    range = r,\n",
    "    n=200,\n",
    "    operation=predict_mode, # use for probabalistic \n",
    "    measure = fnr,  # use for deterministic or with predict_mode for probab \n",
    "    acceleration=CPUThreads(),\n",
    ")\n",
    "\n",
    "machbest = machine(\n",
    "    self_tune,\n",
    "    x,y)\n",
    "fit!(machbest,verbosity=1 )\n",
    "\n",
    "mach = machine(\n",
    "    fitted_params(machbest).best_model,\n",
    "    x,y)\n",
    "fit!(mach,verbosity=1 )\n"
   ]
  },
  {
   "cell_type": "code",
   "execution_count": 218,
   "id": "d47807d8",
   "metadata": {},
   "outputs": [],
   "source": [
    "FileIO.save(\"vardict$(full).jld2\", Dict(\"mach\"=>mach,\"stnd\" => stnd,\n",
    "        \"imputemach\" => imputemach, \n",
    "    ) ; compress = true\n",
    ")"
   ]
  },
  {
   "cell_type": "markdown",
   "id": "d5553e6e",
   "metadata": {},
   "source": [
    "# Lofreq"
   ]
  },
  {
   "cell_type": "code",
   "execution_count": 219,
   "id": "39ae7bfa",
   "metadata": {},
   "outputs": [],
   "source": [
    "x = copy(xold[train2,:]);\n",
    "y = copy(yold[train2]);"
   ]
  },
  {
   "cell_type": "code",
   "execution_count": 220,
   "id": "0ff042b7",
   "metadata": {},
   "outputs": [
    {
     "name": "stdout",
     "output_type": "stream",
     "text": [
      "38\n",
      "(9868,)\n",
      "\n",
      "(9798, 39)\n",
      "(9798,)\n",
      "38\n"
     ]
    }
   ],
   "source": [
    "x.col1=collect(1:nrow(x));\n",
    "coldrop = [] #\"FPpass\",\"FILTER_Mutect_PASS\"] # [\"gt_AF_Mutect\",\"AltFwd_Mutect\",\"RefFwd_Mutect\",\"AltRev_Mutect\",\"RefRev_Mutect\",\"gt_AD_ref_Mutect\",\"gt_AD_alt_Mutect\"]\n",
    "for i in names(x)\n",
    "    if i == \"col1\" || i==\"training\" || occursin( \"FILTER_Lofreq\",i)\n",
    "        continue\n",
    "    end\n",
    "    if length(unique(x[:,i])) < 2 || occursin(\"Pindel\",i) || occursin(\"Vardict\",i) || occursin(\"Mutect\",i) # || occursin(\"ALT\",i) || occursin(\"REF\",i)\n",
    "        push!(coldrop,i)\n",
    "#         println(i)\n",
    "    end \n",
    "end\n",
    "unique!(coldrop)\n",
    "select!(x, Not(coldrop));\n",
    "println(sum([i==true for i in y]))\n",
    "# println(nrow(xold))\n",
    "# dropmissing!(xold)\n",
    "# println(nrow(xold))\n",
    "filter!(x->!ismissing(x.dust_score_Lofreq),x);\n",
    "println(size(y))\n",
    "# println(length(sample_key2))\n",
    "println()\n",
    "y = y[x.col1]\n",
    "# println(xold[findall(x->x,[i==true for i in yold]),\"col1\"])\n",
    "# println(xold[findall(x->!x,[i==true for i in yold]),\"col1\"])\n",
    "# sample_key2 = sample_key2[x.col1]\n",
    "select!(x,Not(\"col1\"));\n",
    "\n",
    "println(size(x))\n",
    "println(size(y))\n",
    "# println(length(sample_key2))\n",
    "println(sum([i==true for i in y]));\n",
    "\n",
    "\n"
   ]
  },
  {
   "cell_type": "code",
   "execution_count": 221,
   "id": "ccbc7943",
   "metadata": {},
   "outputs": [
    {
     "name": "stdout",
     "output_type": "stream",
     "text": [
      "1175\n"
     ]
    }
   ],
   "source": [
    "transform_log!(x,10)\n",
    "stnd = fit_standardizer(x)\n",
    "transform_standardizer!(x,stnd);\n",
    "println(sum(ismissing.(Matrix(x))))"
   ]
  },
  {
   "cell_type": "code",
   "execution_count": 222,
   "id": "e50ec425",
   "metadata": {},
   "outputs": [
    {
     "name": "stderr",
     "output_type": "stream",
     "text": [
      "┌ Info: Training Machine{MissingImputator,…}.\n",
      "└ @ MLJBase /Users/alexpanchot/.julia/packages/MLJBase/HZmTU/src/machines.jl:403\n"
     ]
    },
    {
     "name": "stdout",
     "output_type": "stream",
     "text": [
      "  5.737318 seconds (37.98 M allocations: 4.558 GiB, 21.54% gc time)\n"
     ]
    },
    {
     "data": {
      "text/plain": [
       "Machine{MissingImputator,…} trained 1 time; caches data\n",
       "  args: \n",
       "    1:\tSource @832 ⏎ `Table{Union{AbstractVector{Union{Missing, Continuous}}, AbstractVector{Continuous}}}`\n"
      ]
     },
     "execution_count": 222,
     "metadata": {},
     "output_type": "execute_result"
    }
   ],
   "source": [
    "imputemach = machine(MissingImputator(K=5),x) \n",
    "@time fit!(imputemach,verbosity=1)"
   ]
  },
  {
   "cell_type": "code",
   "execution_count": 223,
   "id": "f111467d",
   "metadata": {},
   "outputs": [],
   "source": [
    "tt = MLJ.transform(imputemach,x);\n",
    "for i in 1:ncol(x)\n",
    "    x[:,i] = tt[i]\n",
    "end\n",
    "disallowmissing!(x);"
   ]
  },
  {
   "cell_type": "code",
   "execution_count": 224,
   "id": "ca17233c",
   "metadata": {},
   "outputs": [
    {
     "name": "stdout",
     "output_type": "stream",
     "text": [
      "(9798, 39) 38\n",
      "(9798,)\n",
      "(9798, 39) 38\n",
      "(9798,)\n"
     ]
    }
   ],
   "source": [
    "println(size(x),\" \",sum([i==true for i in y] ) )\n",
    "println(size(y))\n",
    "# x,y,train,test,sample_key = sampler(x,y,train,test,sample_key,\"under\",0.8);\n",
    "# x,y,train,test,sample_key = sampler(x,y,train,test,sample_key,\"over\",0.2);\n",
    "\n",
    "y = coerce(copy(y),OrderedFactor);\n",
    "\n",
    "println(size(x),\" \",sum([i==true for i in y] ) )\n",
    "println(size(y))"
   ]
  },
  {
   "cell_type": "code",
   "execution_count": 225,
   "id": "85b90d8f",
   "metadata": {},
   "outputs": [
    {
     "data": {
      "text/plain": [
       "8-element Vector{MLJBase.NumericRange{T, MLJBase.Bounded, Symbol} where T}:\n",
       " NumericRange(2 ≤ max_depth ≤ 8; origin=5.0, unit=3.0)\n",
       " NumericRange(0.0 ≤ η ≤ 1.0; origin=0.5, unit=0.5)\n",
       " NumericRange(0.0 ≤ γ ≤ 1.0; origin=0.5, unit=0.5)\n",
       " NumericRange(0.0 ≤ λ ≤ 1.0; origin=0.5, unit=0.5)\n",
       " NumericRange(0.0 ≤ α ≤ 1.0; origin=0.5, unit=0.5)\n",
       " NumericRange(0.0 ≤ min_weight ≤ 1.0; origin=0.5, unit=0.5)\n",
       " NumericRange(1 ≤ nrounds ≤ 10; origin=5.5, unit=4.5)\n",
       " NumericRange(4 ≤ nbins ≤ 128; origin=66.0, unit=62.0)"
      ]
     },
     "execution_count": 225,
     "metadata": {},
     "output_type": "execute_result"
    }
   ],
   "source": [
    "\n",
    "r = [\n",
    "    range(EvoTreeClassifier(), :max_depth, lower=2,upper=8),\n",
    "    range(EvoTreeClassifier(), :η, lower=0.0,upper=1.0),\n",
    "    range(EvoTreeClassifier(), :γ, lower=0.0,upper=1.0),\n",
    "    range(EvoTreeClassifier(), :λ, lower=0.0,upper=1.0),\n",
    "    range(EvoTreeClassifier(), :α, lower=0.0,upper=1.0),\n",
    "    range(EvoTreeClassifier(), :min_weight, lower=0.0,upper=1.0),\n",
    "    range(EvoTreeClassifier(), :nrounds, lower=1,upper=10),\n",
    "    range(EvoTreeClassifier(), :nbins, lower=4, upper=128),\n",
    "    \n",
    "    \n",
    "#     range(LogisticClassifier(), :lambda, lower=0.0,upper=1.0),\n",
    "#     range(LogisticClassifier(), :gamma, lower=0.0,upper=1.0),\n",
    "]"
   ]
  },
  {
   "cell_type": "code",
   "execution_count": 226,
   "id": "a7c74ef7",
   "metadata": {},
   "outputs": [
    {
     "name": "stderr",
     "output_type": "stream",
     "text": [
      "┌ Info: Training Machine{ProbabilisticTunedModel{LatinHypercube,…},…}.\n",
      "└ @ MLJBase /Users/alexpanchot/.julia/packages/MLJBase/HZmTU/src/machines.jl:403\n",
      "┌ Info: Attempting to evaluate 200 models.\n",
      "└ @ MLJTuning /Users/alexpanchot/.julia/packages/MLJTuning/efiDR/src/tuned_models.jl:685\n",
      "\u001b[33mEvaluating over 200 metamodels: 100%[=========================] Time: 0:01:17\u001b[39m\n",
      "┌ Info: Training Machine{EvoTreeClassifier{Float64,…},…}.\n",
      "└ @ MLJBase /Users/alexpanchot/.julia/packages/MLJBase/HZmTU/src/machines.jl:403\n"
     ]
    },
    {
     "data": {
      "text/plain": [
       "Machine{EvoTreeClassifier{Float64,…},…} trained 1 time; caches data\n",
       "  args: \n",
       "    1:\tSource @960 ⏎ `Table{AbstractVector{Continuous}}`\n",
       "    2:\tSource @820 ⏎ `AbstractVector{OrderedFactor{2}}`\n"
      ]
     },
     "execution_count": 226,
     "metadata": {},
     "output_type": "execute_result"
    }
   ],
   "source": [
    "self_tune = TunedModel(\n",
    "#     model=LogisticClassifier(penalty=:l1),\n",
    "    model=EvoTreeClassifier(),\n",
    "    \n",
    "    resampling=StratifiedCV(nfolds=5, rng=123),\n",
    "\n",
    "    tuning=LatinHypercube(),  #     tuning=Grid(resolution=2), \n",
    "    range = r,\n",
    "    n=200,\n",
    "    operation=predict_mode, # use for probabalistic \n",
    "    measure = fnr,  # use for deterministic or with predict_mode for probab \n",
    "    acceleration=CPUThreads(),\n",
    ")\n",
    "\n",
    "machbest = machine(\n",
    "    self_tune,\n",
    "    x,y)\n",
    "fit!(machbest,verbosity=1 )\n",
    "\n",
    "mach = machine(\n",
    "    fitted_params(machbest).best_model,\n",
    "    x,y)\n",
    "fit!(mach,verbosity=1 )"
   ]
  },
  {
   "cell_type": "code",
   "execution_count": 230,
   "id": "7aaa7419",
   "metadata": {},
   "outputs": [],
   "source": [
    "FileIO.save(\"lofreq$(full).jld2\", Dict(\"mach\"=>mach,\"stnd\" => stnd,\n",
    "        \"imputemach\" => imputemach, \n",
    "    ) ; compress = true\n",
    ")"
   ]
  },
  {
   "cell_type": "code",
   "execution_count": 229,
   "id": "74ccddde",
   "metadata": {},
   "outputs": [
    {
     "data": {
      "text/plain": [
       "\"lofreq.jld2\""
      ]
     },
     "execution_count": 229,
     "metadata": {},
     "output_type": "execute_result"
    }
   ],
   "source": [
    "\"lofreq$(full).jld2\""
   ]
  },
  {
   "cell_type": "code",
   "execution_count": null,
   "id": "d4923d68",
   "metadata": {},
   "outputs": [],
   "source": []
  },
  {
   "cell_type": "code",
   "execution_count": null,
   "id": "efe0c70f",
   "metadata": {},
   "outputs": [],
   "source": []
  }
 ],
 "metadata": {
  "@webio": {
   "lastCommId": "f235af3cf68f44e3a01ba8476968b933",
   "lastKernelId": "ccc8ed9a-9e30-43e0-b25b-c40598deff9f"
  },
  "kernelspec": {
   "display_name": "Julia 1.6.2",
   "language": "julia",
   "name": "julia-1.6"
  },
  "language_info": {
   "file_extension": ".jl",
   "mimetype": "application/julia",
   "name": "julia",
   "version": "1.6.2"
  }
 },
 "nbformat": 4,
 "nbformat_minor": 5
}
