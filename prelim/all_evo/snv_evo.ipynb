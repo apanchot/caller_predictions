{
 "cells": [
  {
   "cell_type": "code",
   "execution_count": 1,
   "id": "697b82ee",
   "metadata": {},
   "outputs": [
    {
     "data": {
      "application/vnd.webio.node+json": {
       "children": [],
       "instanceArgs": {
        "namespace": "html",
        "tag": "div"
       },
       "nodeType": "DOM",
       "props": {},
       "type": "node"
      },
      "text/html": [
       "<div style=\"padding: 1em; background-color: #f8d6da; border: 1px solid #f5c6cb; font-weight: bold;\">\n",
       "<p>The WebIO Jupyter extension was not detected. See the\n",
       "<a href=\"https://juliagizmos.github.io/WebIO.jl/latest/providers/ijulia/\" target=\"_blank\">\n",
       "    WebIO Jupyter integration documentation\n",
       "</a>\n",
       "for more information.\n",
       "</div>\n"
      ],
      "text/plain": [
       "WebIO._IJuliaInit()"
      ]
     },
     "metadata": {
      "application/vnd.webio.node+json": {
       "kernelId": "ccc8ed9a-9e30-43e0-b25b-c40598deff9f"
      }
     },
     "output_type": "display_data"
    }
   ],
   "source": [
    "import CSV\n",
    "using DataFrames\n",
    "# using StatsBase\n",
    "include(\"$(dirname(dirname(pwd())))/pred_funcs.jl\")\n",
    "using MLJ\n",
    "# import MLJBase\n",
    "import TableView.showtable\n",
    "using Plots\n",
    "import FileIO\n",
    "import Statistics\n",
    "import LinearAlgebra\n",
    "using StatsPlots\n",
    "using Random\n",
    "Random.seed!(0);\n",
    "using StatsBase\n",
    "import MLJBase"
   ]
  },
  {
   "cell_type": "code",
   "execution_count": 2,
   "id": "039cddbb",
   "metadata": {},
   "outputs": [
    {
     "data": {
      "text/plain": [
       "EvoTrees.EvoTreeClassifier"
      ]
     },
     "execution_count": 2,
     "metadata": {},
     "output_type": "execute_result"
    }
   ],
   "source": [
    "MissingImputator = @load MissingImputator pkg=\"BetaML\" verbosity=0\n",
    "LogisticClassifier = @load LogisticClassifier pkg=\"MLJLinearModels\" verbosity=0;  # loads code defining a model type\n",
    "EvoTreeClassifier = @load EvoTreeClassifier verbosity=0"
   ]
  },
  {
   "cell_type": "code",
   "execution_count": 3,
   "id": "3565ed7b",
   "metadata": {},
   "outputs": [
    {
     "data": {
      "text/plain": [
       "\"\""
      ]
     },
     "execution_count": 3,
     "metadata": {},
     "output_type": "execute_result"
    }
   ],
   "source": [
    "full = \"\""
   ]
  },
  {
   "cell_type": "code",
   "execution_count": 4,
   "id": "962348a7",
   "metadata": {},
   "outputs": [
    {
     "name": "stdout",
     "output_type": "stream",
     "text": [
      "94626\n",
      "94626\n",
      "94626\n",
      "26217\n"
     ]
    }
   ],
   "source": [
    "\n",
    "sample_key2, xold, yold = FileIO.load(\"$(dirname(dirname(pwd())))/data$(full).jld2\",\"sample_key\",\"x\" ,\"y\");\n",
    "\n",
    "\n",
    "xold.col1=collect(1:nrow(xold));\n",
    "println(nrow(xold))\n",
    "# filter!(x->x.ALTREF_I ≈ 0,xold)\n",
    "println(nrow(xold))\n",
    "# filter!(x->x.ALT_I>0.5 || x.REF_I>0.5,xold) # indel\n",
    "# filter!(x->x.ALT_I<0.5 && x.REF_I<0.5,xold) # SNV\n",
    "println(nrow(xold))\n",
    "filter!(x->x.training>0.5,xold)\n",
    "# select!(xold,Not(\"training\"));\n",
    "println(nrow(xold))\n",
    "# filter!(x->!ismissing(x.dust_score_Mutect),xold);\n",
    "# println(nrow(xold))\n",
    "\n",
    "yold = yold[xold.col1]\n",
    "# println(xold[findall(x->x,[i==true for i in yold]),\"col1\"])\n",
    "# println(xold[findall(x->!x,[i==true for i in yold]),\"col1\"])\n",
    "sample_key2 = sample_key2[xold.col1]\n",
    "select!(xold,Not(\"col1\"));"
   ]
  },
  {
   "cell_type": "code",
   "execution_count": 5,
   "id": "cfdde65a",
   "metadata": {},
   "outputs": [],
   "source": [
    "for j in 1:ncol(xold), i in 1:nrow(xold)\n",
    "    if !ismissing(xold[i,j]) && (isnan(xold[i,j]) || isinf(xold[i,j]) )\n",
    "        xold[i,j] = missing\n",
    "    end\n",
    "end"
   ]
  },
  {
   "cell_type": "code",
   "execution_count": 6,
   "id": "ad657881",
   "metadata": {},
   "outputs": [],
   "source": [
    "train2, test2 = partition(eachindex(yold), 0.5, stratify=yold,  shuffle=true, rng=12344);\n",
    "\n",
    "select!(xold,Not(\"training\"));"
   ]
  },
  {
   "cell_type": "code",
   "execution_count": 7,
   "id": "6c6dd75b",
   "metadata": {},
   "outputs": [
    {
     "data": {
      "text/plain": [
       "46"
      ]
     },
     "execution_count": 7,
     "metadata": {},
     "output_type": "execute_result"
    }
   ],
   "source": [
    "sum([i==true for i in yold[train2]])"
   ]
  },
  {
   "cell_type": "code",
   "execution_count": 8,
   "id": "eb21f658",
   "metadata": {},
   "outputs": [
    {
     "data": {
      "text/plain": [
       "46"
      ]
     },
     "execution_count": 8,
     "metadata": {},
     "output_type": "execute_result"
    }
   ],
   "source": [
    "sum([i==true for i in yold[test2]])"
   ]
  },
  {
   "cell_type": "code",
   "execution_count": 9,
   "id": "0a74c68b",
   "metadata": {},
   "outputs": [
    {
     "data": {
      "text/plain": [
       "8023"
      ]
     },
     "execution_count": 9,
     "metadata": {},
     "output_type": "execute_result"
    }
   ],
   "source": [
    "sum(.~ismissing.(xold[train2,:dust_score_Vardict]))"
   ]
  },
  {
   "cell_type": "code",
   "execution_count": 10,
   "id": "ebfa1b7e",
   "metadata": {},
   "outputs": [],
   "source": [
    "FileIO.save(\"testdata$(full).jld2\", Dict(\"sample_key\"=>sample_key2[test2],\"x\" => xold[test2,:],\n",
    "        \"y\" => yold[test2], \n",
    "    ) ; compress = true\n",
    ")\n",
    "FileIO.save(\"traindata$(full).jld2\", Dict(\"sample_key\"=>sample_key2[train2],\"x\" => xold[train2,:],\n",
    "        \"y\" => yold[train2], \n",
    "    ) ; compress = true\n",
    ")"
   ]
  },
  {
   "cell_type": "markdown",
   "id": "b6e6631d",
   "metadata": {},
   "source": [
    "# Mutect"
   ]
  },
  {
   "cell_type": "code",
   "execution_count": 11,
   "id": "92a3d23e",
   "metadata": {},
   "outputs": [],
   "source": [
    "x = copy(xold[train2,:]);\n",
    "y = copy(yold[train2]);"
   ]
  },
  {
   "cell_type": "code",
   "execution_count": 12,
   "id": "087880db",
   "metadata": {},
   "outputs": [
    {
     "name": "stdout",
     "output_type": "stream",
     "text": [
      "46\n",
      "(13108,)\n",
      "\n",
      "(817, 70)\n",
      "(817,)\n",
      "39\n"
     ]
    }
   ],
   "source": [
    "x.col1=collect(1:nrow(x));\n",
    "coldrop = [] #\"FPpass\",\"FILTER_Mutect_PASS\"] # [\"gt_AF_Mutect\",\"AltFwd_Mutect\",\"RefFwd_Mutect\",\"AltRev_Mutect\",\"RefRev_Mutect\",\"gt_AD_ref_Mutect\",\"gt_AD_alt_Mutect\"]\n",
    "for i in names(x)\n",
    "    if i == \"col1\" || i==\"training\" || occursin( \"FILTER_Mutect\",i)\n",
    "        continue\n",
    "    end\n",
    "    if length(unique(x[:,i])) < 2 || occursin(\"Pindel\",i) || occursin(\"Lofreq\",i) || occursin(\"Vardict\",i) # || occursin(\"ALT\",i) || occursin(\"REF\",i)\n",
    "        push!(coldrop,i)\n",
    "#         println(i)\n",
    "    end \n",
    "end\n",
    "unique!(coldrop)\n",
    "select!(x, Not(coldrop));\n",
    "println(sum([i==true for i in y]))\n",
    "# println(nrow(xold))\n",
    "# dropmissing!(xold)\n",
    "# println(nrow(xold))\n",
    "filter!(x->!ismissing(x.dust_score_Mutect),x);\n",
    "println(size(y))\n",
    "# println(length(sample_key2))\n",
    "println()\n",
    "y = y[x.col1]\n",
    "# println(xold[findall(x->x,[i==true for i in yold]),\"col1\"])\n",
    "# println(xold[findall(x->!x,[i==true for i in yold]),\"col1\"])\n",
    "# sample_key2 = sample_key2[x.col1]\n",
    "select!(x,Not(\"col1\"));\n",
    "\n",
    "println(size(x))\n",
    "println(size(y))\n",
    "# println(length(sample_key2))\n",
    "println(sum([i==true for i in y]));\n"
   ]
  },
  {
   "cell_type": "code",
   "execution_count": 13,
   "id": "f806a116",
   "metadata": {},
   "outputs": [],
   "source": [
    "transform_log!(x,10)"
   ]
  },
  {
   "cell_type": "code",
   "execution_count": 14,
   "id": "d176af4b",
   "metadata": {},
   "outputs": [],
   "source": [
    "stnd = fit_standardizer(x)\n",
    "transform_standardizer!(x,stnd);"
   ]
  },
  {
   "cell_type": "code",
   "execution_count": 15,
   "id": "2ade0a16",
   "metadata": {},
   "outputs": [
    {
     "name": "stdout",
     "output_type": "stream",
     "text": [
      "18\n"
     ]
    }
   ],
   "source": [
    "println(sum(ismissing.(Matrix(x))))"
   ]
  },
  {
   "cell_type": "code",
   "execution_count": 16,
   "id": "615c97ef",
   "metadata": {},
   "outputs": [
    {
     "name": "stderr",
     "output_type": "stream",
     "text": [
      "┌ Info: Training Machine{MissingImputator,…}.\n",
      "└ @ MLJBase /Users/alexpanchot/.julia/packages/MLJBase/HZmTU/src/machines.jl:403\n"
     ]
    },
    {
     "name": "stdout",
     "output_type": "stream",
     "text": [
      " 17.646865 seconds (47.33 M allocations: 3.124 GiB, 5.07% gc time)\n"
     ]
    },
    {
     "data": {
      "text/plain": [
       "Machine{MissingImputator,…} trained 1 time; caches data\n",
       "  args: \n",
       "    1:\tSource @033 ⏎ `Table{Union{AbstractVector{Union{Missing, Continuous}}, AbstractVector{Continuous}}}`\n"
      ]
     },
     "execution_count": 16,
     "metadata": {},
     "output_type": "execute_result"
    }
   ],
   "source": [
    "imputemach = machine(MissingImputator(K=5),x) \n",
    "@time fit!(imputemach,verbosity=1)"
   ]
  },
  {
   "cell_type": "code",
   "execution_count": 17,
   "id": "f8252933",
   "metadata": {},
   "outputs": [],
   "source": [
    "tt = MLJ.transform(imputemach,x);\n",
    "for i in 1:ncol(x)\n",
    "    x[:,i] = tt[i]\n",
    "end"
   ]
  },
  {
   "cell_type": "code",
   "execution_count": 18,
   "id": "5bada5a0",
   "metadata": {},
   "outputs": [],
   "source": [
    "disallowmissing!(x);"
   ]
  },
  {
   "cell_type": "code",
   "execution_count": 19,
   "id": "3d9dcc29",
   "metadata": {},
   "outputs": [
    {
     "name": "stdout",
     "output_type": "stream",
     "text": [
      "(817, 70) 39\n",
      "(817,)\n"
     ]
    }
   ],
   "source": [
    "println(size(x),\" \",sum([i==true for i in y] ) )\n",
    "println(size(y))\n"
   ]
  },
  {
   "cell_type": "code",
   "execution_count": 20,
   "id": "f99007e8",
   "metadata": {},
   "outputs": [],
   "source": [
    "# x,y,train,test,sample_key = sampler(x,y,train,test,sample_key,\"under\",0.8);\n",
    "# x,y,train,test,sample_key = sampler(x,y,train,test,sample_key,\"over\",0.2);"
   ]
  },
  {
   "cell_type": "code",
   "execution_count": 21,
   "id": "14d38897",
   "metadata": {},
   "outputs": [],
   "source": [
    "y = coerce(copy(y),OrderedFactor);"
   ]
  },
  {
   "cell_type": "code",
   "execution_count": 22,
   "id": "88e44b38",
   "metadata": {},
   "outputs": [
    {
     "name": "stdout",
     "output_type": "stream",
     "text": [
      "(817, 70) 39\n",
      "(817,)\n"
     ]
    }
   ],
   "source": [
    "println(size(x),\" \",sum([i==true for i in y] ) )\n",
    "println(size(y))"
   ]
  },
  {
   "cell_type": "code",
   "execution_count": 23,
   "id": "db5a5aa1",
   "metadata": {},
   "outputs": [
    {
     "data": {
      "text/plain": [
       "8-element Vector{MLJBase.NumericRange{T, MLJBase.Bounded, Symbol} where T}:\n",
       " NumericRange(2 ≤ max_depth ≤ 8; origin=5.0, unit=3.0)\n",
       " NumericRange(0.0 ≤ η ≤ 1.0; origin=0.5, unit=0.5)\n",
       " NumericRange(0.0 ≤ γ ≤ 1.0; origin=0.5, unit=0.5)\n",
       " NumericRange(0.0 ≤ λ ≤ 1.0; origin=0.5, unit=0.5)\n",
       " NumericRange(0.0 ≤ α ≤ 1.0; origin=0.5, unit=0.5)\n",
       " NumericRange(0.0 ≤ min_weight ≤ 1.0; origin=0.5, unit=0.5)\n",
       " NumericRange(1 ≤ nrounds ≤ 10; origin=5.5, unit=4.5)\n",
       " NumericRange(4 ≤ nbins ≤ 128; origin=66.0, unit=62.0)"
      ]
     },
     "execution_count": 23,
     "metadata": {},
     "output_type": "execute_result"
    }
   ],
   "source": [
    "\n",
    "r = [\n",
    "    range(EvoTreeClassifier(), :max_depth, lower=2,upper=8),\n",
    "    range(EvoTreeClassifier(), :η, lower=0.0,upper=1.0),\n",
    "    range(EvoTreeClassifier(), :γ, lower=0.0,upper=1.0),\n",
    "    range(EvoTreeClassifier(), :λ, lower=0.0,upper=1.0),\n",
    "    range(EvoTreeClassifier(), :α, lower=0.0,upper=1.0),\n",
    "    range(EvoTreeClassifier(), :min_weight, lower=0.0,upper=1.0),\n",
    "    range(EvoTreeClassifier(), :nrounds, lower=1,upper=10),\n",
    "    range(EvoTreeClassifier(), :nbins, lower=4, upper=128),\n",
    "    \n",
    "    \n",
    "#     range(LogisticClassifier(), :lambda, lower=0.0,upper=1.0),\n",
    "#     range(LogisticClassifier(), :gamma, lower=0.0,upper=1.0),\n",
    "]"
   ]
  },
  {
   "cell_type": "code",
   "execution_count": 24,
   "id": "ce88cbe6",
   "metadata": {},
   "outputs": [
    {
     "name": "stderr",
     "output_type": "stream",
     "text": [
      "┌ Info: Training Machine{ProbabilisticTunedModel{LatinHypercube,…},…}.\n",
      "└ @ MLJBase /Users/alexpanchot/.julia/packages/MLJBase/HZmTU/src/machines.jl:403\n",
      "┌ Info: Attempting to evaluate 200 models.\n",
      "└ @ MLJTuning /Users/alexpanchot/.julia/packages/MLJTuning/efiDR/src/tuned_models.jl:685\n",
      "\u001b[33mEvaluating over 200 metamodels: 100%[=========================] Time: 0:01:04\u001b[39m\n"
     ]
    },
    {
     "data": {
      "text/plain": [
       "Machine{ProbabilisticTunedModel{LatinHypercube,…},…} trained 1 time; caches data\n",
       "  args: \n",
       "    1:\tSource @175 ⏎ `Table{AbstractVector{Continuous}}`\n",
       "    2:\tSource @986 ⏎ `AbstractVector{OrderedFactor{2}}`\n"
      ]
     },
     "execution_count": 24,
     "metadata": {},
     "output_type": "execute_result"
    }
   ],
   "source": [
    "self_tune = TunedModel(\n",
    "#     model=LogisticClassifier(penalty=:l1),\n",
    "    model=EvoTreeClassifier(),\n",
    "    \n",
    "    resampling=StratifiedCV(nfolds=5, rng=123),\n",
    "\n",
    "    tuning=LatinHypercube(),  #     tuning=Grid(resolution=2), \n",
    "    range = r,\n",
    "    n=200,\n",
    "    operation=predict_mode, # use for probabalistic \n",
    "    measure = fnr,  # use for deterministic or with predict_mode for probab \n",
    "    acceleration=CPUThreads(),\n",
    ")\n",
    "\n",
    "machbest = machine(\n",
    "    self_tune,\n",
    "    x,y)\n",
    "fit!(machbest,verbosity=1 )\n",
    "\n"
   ]
  },
  {
   "cell_type": "code",
   "execution_count": 25,
   "id": "f99ae1d6",
   "metadata": {},
   "outputs": [
    {
     "name": "stderr",
     "output_type": "stream",
     "text": [
      "┌ Info: Training Machine{EvoTreeClassifier{Float64,…},…}.\n",
      "└ @ MLJBase /Users/alexpanchot/.julia/packages/MLJBase/HZmTU/src/machines.jl:403\n"
     ]
    },
    {
     "data": {
      "text/plain": [
       "Machine{EvoTreeClassifier{Float64,…},…} trained 1 time; caches data\n",
       "  args: \n",
       "    1:\tSource @727 ⏎ `Table{AbstractVector{Continuous}}`\n",
       "    2:\tSource @614 ⏎ `AbstractVector{OrderedFactor{2}}`\n"
      ]
     },
     "execution_count": 25,
     "metadata": {},
     "output_type": "execute_result"
    }
   ],
   "source": [
    "mach = machine(\n",
    "    fitted_params(machbest).best_model,\n",
    "    x,y)\n",
    "fit!(mach,verbosity=4 )"
   ]
  },
  {
   "cell_type": "code",
   "execution_count": 26,
   "id": "88d993d7",
   "metadata": {},
   "outputs": [],
   "source": [
    "FileIO.save(\"mutect$(full).jld2\", Dict(\"mach\"=>mach,\"stnd\" => stnd,\n",
    "        \"imputemach\" => imputemach, \n",
    "    ) ; compress = true\n",
    ")"
   ]
  },
  {
   "cell_type": "markdown",
   "id": "f1524aa7",
   "metadata": {},
   "source": [
    "# Vardict"
   ]
  },
  {
   "cell_type": "code",
   "execution_count": 27,
   "id": "6f59d66a",
   "metadata": {},
   "outputs": [],
   "source": [
    "x = copy(xold[train2,:]);\n",
    "y = copy(yold[train2]);"
   ]
  },
  {
   "cell_type": "code",
   "execution_count": 28,
   "id": "6dd1bbc4",
   "metadata": {},
   "outputs": [
    {
     "name": "stdout",
     "output_type": "stream",
     "text": [
      "46\n",
      "(13108,)\n",
      "\n",
      "(8023, 63)\n",
      "(8023,)\n",
      "46\n"
     ]
    }
   ],
   "source": [
    "x.col1=collect(1:nrow(x));\n",
    "coldrop = [] #\"FPpass\",\"FILTER_Mutect_PASS\"] # [\"gt_AF_Mutect\",\"AltFwd_Mutect\",\"RefFwd_Mutect\",\"AltRev_Mutect\",\"RefRev_Mutect\",\"gt_AD_ref_Mutect\",\"gt_AD_alt_Mutect\"]\n",
    "for i in names(x)\n",
    "    if i == \"col1\" || i==\"training\" || occursin( \"FILTER_Vardict\",i)\n",
    "        continue\n",
    "    end\n",
    "    if length(unique(x[:,i])) < 2 || occursin(\"Pindel\",i) || occursin(\"Lofreq\",i) || occursin(\"Mutect\",i) # || occursin(\"ALT\",i) || occursin(\"REF\",i)\n",
    "        push!(coldrop,i)\n",
    "#         println(i)\n",
    "    end \n",
    "end\n",
    "unique!(coldrop)\n",
    "select!(x, Not(coldrop));\n",
    "println(sum([i==true for i in y]))\n",
    "# println(nrow(xold))\n",
    "# dropmissing!(xold)\n",
    "# println(nrow(xold))\n",
    "filter!(x->!ismissing(x.dust_score_Vardict),x);\n",
    "println(size(y))\n",
    "# println(length(sample_key2))\n",
    "println()\n",
    "y = y[x.col1]\n",
    "# println(xold[findall(x->x,[i==true for i in yold]),\"col1\"])\n",
    "# println(xold[findall(x->!x,[i==true for i in yold]),\"col1\"])\n",
    "# sample_key2 = sample_key2[x.col1]\n",
    "select!(x,Not(\"col1\"));\n",
    "\n",
    "println(size(x))\n",
    "println(size(y))\n",
    "# println(length(sample_key2))\n",
    "println(sum([i==true for i in y]));\n",
    "\n"
   ]
  },
  {
   "cell_type": "code",
   "execution_count": 29,
   "id": "5a45cf6b",
   "metadata": {},
   "outputs": [
    {
     "name": "stdout",
     "output_type": "stream",
     "text": [
      "1788\n"
     ]
    }
   ],
   "source": [
    "transform_log!(x,10)\n",
    "stnd = fit_standardizer(x)\n",
    "transform_standardizer!(x,stnd);\n",
    "println(sum(ismissing.(Matrix(x))))"
   ]
  },
  {
   "cell_type": "code",
   "execution_count": 30,
   "id": "4bd23aed",
   "metadata": {},
   "outputs": [
    {
     "name": "stderr",
     "output_type": "stream",
     "text": [
      "┌ Info: Training Machine{MissingImputator,…}.\n",
      "└ @ MLJBase /Users/alexpanchot/.julia/packages/MLJBase/HZmTU/src/machines.jl:403\n"
     ]
    },
    {
     "name": "stdout",
     "output_type": "stream",
     "text": [
      "  5.779329 seconds (34.97 M allocations: 5.406 GiB, 17.77% gc time, 2.12% compilation time)\n"
     ]
    },
    {
     "data": {
      "text/plain": [
       "Machine{MissingImputator,…} trained 1 time; caches data\n",
       "  args: \n",
       "    1:\tSource @583 ⏎ `Table{Union{AbstractVector{Union{Missing, Continuous}}, AbstractVector{Continuous}}}`\n"
      ]
     },
     "execution_count": 30,
     "metadata": {},
     "output_type": "execute_result"
    }
   ],
   "source": [
    "imputemach = machine(MissingImputator(K=5),x) \n",
    "@time fit!(imputemach,verbosity=1)"
   ]
  },
  {
   "cell_type": "code",
   "execution_count": 31,
   "id": "d20428f3",
   "metadata": {},
   "outputs": [],
   "source": [
    "tt = MLJ.transform(imputemach,x);\n",
    "for i in 1:ncol(x)\n",
    "    x[:,i] = tt[i]\n",
    "end\n",
    "disallowmissing!(x);"
   ]
  },
  {
   "cell_type": "code",
   "execution_count": 32,
   "id": "38c0609e",
   "metadata": {},
   "outputs": [
    {
     "name": "stdout",
     "output_type": "stream",
     "text": [
      "(8023, 63) 46\n",
      "(8023,)\n",
      "(8023, 63) 46\n",
      "(8023,)\n"
     ]
    }
   ],
   "source": [
    "println(size(x),\" \",sum([i==true for i in y] ) )\n",
    "println(size(y))\n",
    "# x,y,train,test,sample_key = sampler(x,y,train,test,sample_key,\"under\",0.8);\n",
    "# x,y,train,test,sample_key = sampler(x,y,train,test,sample_key,\"over\",0.2);\n",
    "\n",
    "y = coerce(copy(y),OrderedFactor);\n",
    "\n",
    "println(size(x),\" \",sum([i==true for i in y] ) )\n",
    "println(size(y))"
   ]
  },
  {
   "cell_type": "code",
   "execution_count": 33,
   "id": "ff7418ff",
   "metadata": {},
   "outputs": [
    {
     "data": {
      "text/plain": [
       "8-element Vector{MLJBase.NumericRange{T, MLJBase.Bounded, Symbol} where T}:\n",
       " NumericRange(2 ≤ max_depth ≤ 8; origin=5.0, unit=3.0)\n",
       " NumericRange(0.0 ≤ η ≤ 1.0; origin=0.5, unit=0.5)\n",
       " NumericRange(0.0 ≤ γ ≤ 1.0; origin=0.5, unit=0.5)\n",
       " NumericRange(0.0 ≤ λ ≤ 1.0; origin=0.5, unit=0.5)\n",
       " NumericRange(0.0 ≤ α ≤ 1.0; origin=0.5, unit=0.5)\n",
       " NumericRange(0.0 ≤ min_weight ≤ 1.0; origin=0.5, unit=0.5)\n",
       " NumericRange(1 ≤ nrounds ≤ 10; origin=5.5, unit=4.5)\n",
       " NumericRange(4 ≤ nbins ≤ 128; origin=66.0, unit=62.0)"
      ]
     },
     "execution_count": 33,
     "metadata": {},
     "output_type": "execute_result"
    }
   ],
   "source": [
    "\n",
    "r = [\n",
    "    range(EvoTreeClassifier(), :max_depth, lower=2,upper=8),\n",
    "    range(EvoTreeClassifier(), :η, lower=0.0,upper=1.0),\n",
    "    range(EvoTreeClassifier(), :γ, lower=0.0,upper=1.0),\n",
    "    range(EvoTreeClassifier(), :λ, lower=0.0,upper=1.0),\n",
    "    range(EvoTreeClassifier(), :α, lower=0.0,upper=1.0),\n",
    "    range(EvoTreeClassifier(), :min_weight, lower=0.0,upper=1.0),\n",
    "    range(EvoTreeClassifier(), :nrounds, lower=1,upper=10),\n",
    "    range(EvoTreeClassifier(), :nbins, lower=4, upper=128),\n",
    "    \n",
    "    \n",
    "#     range(LogisticClassifier(), :lambda, lower=0.0,upper=1.0),\n",
    "#     range(LogisticClassifier(), :gamma, lower=0.0,upper=1.0),\n",
    "]"
   ]
  },
  {
   "cell_type": "code",
   "execution_count": 34,
   "id": "994aa282",
   "metadata": {},
   "outputs": [
    {
     "name": "stderr",
     "output_type": "stream",
     "text": [
      "┌ Info: Training Machine{ProbabilisticTunedModel{LatinHypercube,…},…}.\n",
      "└ @ MLJBase /Users/alexpanchot/.julia/packages/MLJBase/HZmTU/src/machines.jl:403\n",
      "┌ Info: Attempting to evaluate 200 models.\n",
      "└ @ MLJTuning /Users/alexpanchot/.julia/packages/MLJTuning/efiDR/src/tuned_models.jl:685\n",
      "\u001b[33mEvaluating over 200 metamodels: 100%[=========================] Time: 0:00:44\u001b[39m\n",
      "┌ Info: Training Machine{EvoTreeClassifier{Float64,…},…}.\n",
      "└ @ MLJBase /Users/alexpanchot/.julia/packages/MLJBase/HZmTU/src/machines.jl:403\n"
     ]
    },
    {
     "data": {
      "text/plain": [
       "Machine{EvoTreeClassifier{Float64,…},…} trained 1 time; caches data\n",
       "  args: \n",
       "    1:\tSource @548 ⏎ `Table{AbstractVector{Continuous}}`\n",
       "    2:\tSource @995 ⏎ `AbstractVector{OrderedFactor{2}}`\n"
      ]
     },
     "execution_count": 34,
     "metadata": {},
     "output_type": "execute_result"
    }
   ],
   "source": [
    "self_tune = TunedModel(\n",
    "#     model=LogisticClassifier(penalty=:l1),\n",
    "    model=EvoTreeClassifier(),\n",
    "    \n",
    "    resampling=StratifiedCV(nfolds=5, rng=123),\n",
    "\n",
    "    tuning=LatinHypercube(),  #     tuning=Grid(resolution=2), \n",
    "    range = r,\n",
    "    n=200,\n",
    "    operation=predict_mode, # use for probabalistic \n",
    "    measure = fnr,  # use for deterministic or with predict_mode for probab \n",
    "    acceleration=CPUThreads(),\n",
    ")\n",
    "\n",
    "machbest = machine(\n",
    "    self_tune,\n",
    "    x,y)\n",
    "fit!(machbest,verbosity=1 )\n",
    "\n",
    "mach = machine(\n",
    "    fitted_params(machbest).best_model,\n",
    "    x,y)\n",
    "fit!(mach,verbosity=1 )\n"
   ]
  },
  {
   "cell_type": "code",
   "execution_count": 35,
   "id": "d47807d8",
   "metadata": {},
   "outputs": [],
   "source": [
    "FileIO.save(\"vardict$(full).jld2\", Dict(\"mach\"=>mach,\"stnd\" => stnd,\n",
    "        \"imputemach\" => imputemach, \n",
    "    ) ; compress = true\n",
    ")"
   ]
  },
  {
   "cell_type": "markdown",
   "id": "d5553e6e",
   "metadata": {},
   "source": [
    "# Lofreq"
   ]
  },
  {
   "cell_type": "code",
   "execution_count": 36,
   "id": "39ae7bfa",
   "metadata": {},
   "outputs": [],
   "source": [
    "x = copy(xold[train2,:]);\n",
    "y = copy(yold[train2]);"
   ]
  },
  {
   "cell_type": "code",
   "execution_count": 37,
   "id": "0ff042b7",
   "metadata": {},
   "outputs": [
    {
     "name": "stdout",
     "output_type": "stream",
     "text": [
      "46\n",
      "(13108,)\n",
      "\n",
      "(10016, 50)\n",
      "(10016,)\n",
      "46\n"
     ]
    }
   ],
   "source": [
    "x.col1=collect(1:nrow(x));\n",
    "coldrop = [] #\"FPpass\",\"FILTER_Mutect_PASS\"] # [\"gt_AF_Mutect\",\"AltFwd_Mutect\",\"RefFwd_Mutect\",\"AltRev_Mutect\",\"RefRev_Mutect\",\"gt_AD_ref_Mutect\",\"gt_AD_alt_Mutect\"]\n",
    "for i in names(x)\n",
    "    if i == \"col1\" || i==\"training\" || occursin( \"FILTER_Lofreq\",i)\n",
    "        continue\n",
    "    end\n",
    "    if length(unique(x[:,i])) < 2 || occursin(\"Pindel\",i) || occursin(\"Vardict\",i) || occursin(\"Mutect\",i) # || occursin(\"ALT\",i) || occursin(\"REF\",i)\n",
    "        push!(coldrop,i)\n",
    "#         println(i)\n",
    "    end \n",
    "end\n",
    "unique!(coldrop)\n",
    "select!(x, Not(coldrop));\n",
    "println(sum([i==true for i in y]))\n",
    "# println(nrow(xold))\n",
    "# dropmissing!(xold)\n",
    "# println(nrow(xold))\n",
    "filter!(x->!ismissing(x.dust_score_Lofreq),x);\n",
    "println(size(y))\n",
    "# println(length(sample_key2))\n",
    "println()\n",
    "y = y[x.col1]\n",
    "# println(xold[findall(x->x,[i==true for i in yold]),\"col1\"])\n",
    "# println(xold[findall(x->!x,[i==true for i in yold]),\"col1\"])\n",
    "# sample_key2 = sample_key2[x.col1]\n",
    "select!(x,Not(\"col1\"));\n",
    "\n",
    "println(size(x))\n",
    "println(size(y))\n",
    "# println(length(sample_key2))\n",
    "println(sum([i==true for i in y]));\n",
    "\n",
    "\n"
   ]
  },
  {
   "cell_type": "code",
   "execution_count": 38,
   "id": "ccbc7943",
   "metadata": {},
   "outputs": [
    {
     "name": "stdout",
     "output_type": "stream",
     "text": [
      "1201\n"
     ]
    }
   ],
   "source": [
    "transform_log!(x,10)\n",
    "stnd = fit_standardizer(x)\n",
    "transform_standardizer!(x,stnd);\n",
    "println(sum(ismissing.(Matrix(x))))"
   ]
  },
  {
   "cell_type": "code",
   "execution_count": 39,
   "id": "e50ec425",
   "metadata": {},
   "outputs": [
    {
     "name": "stderr",
     "output_type": "stream",
     "text": [
      "┌ Info: Training Machine{MissingImputator,…}.\n",
      "└ @ MLJBase /Users/alexpanchot/.julia/packages/MLJBase/HZmTU/src/machines.jl:403\n"
     ]
    },
    {
     "name": "stdout",
     "output_type": "stream",
     "text": [
      " 13.443852 seconds (20.52 M allocations: 2.218 GiB, 3.82% gc time, 83.97% compilation time)\n"
     ]
    },
    {
     "data": {
      "text/plain": [
       "Machine{MissingImputator,…} trained 1 time; caches data\n",
       "  args: \n",
       "    1:\tSource @780 ⏎ `Table{Union{AbstractVector{Union{Missing, Continuous}}, AbstractVector{Continuous}}}`\n"
      ]
     },
     "execution_count": 39,
     "metadata": {},
     "output_type": "execute_result"
    }
   ],
   "source": [
    "imputemach = machine(MissingImputator(K=5),x) \n",
    "@time fit!(imputemach,verbosity=1)"
   ]
  },
  {
   "cell_type": "code",
   "execution_count": 40,
   "id": "f111467d",
   "metadata": {},
   "outputs": [],
   "source": [
    "tt = MLJ.transform(imputemach,x);\n",
    "for i in 1:ncol(x)\n",
    "    x[:,i] = tt[i]\n",
    "end\n",
    "disallowmissing!(x);"
   ]
  },
  {
   "cell_type": "code",
   "execution_count": 41,
   "id": "ca17233c",
   "metadata": {},
   "outputs": [
    {
     "name": "stdout",
     "output_type": "stream",
     "text": [
      "(10016, 50) 46\n",
      "(10016,)\n",
      "(10016, 50) 46\n",
      "(10016,)\n"
     ]
    }
   ],
   "source": [
    "println(size(x),\" \",sum([i==true for i in y] ) )\n",
    "println(size(y))\n",
    "# x,y,train,test,sample_key = sampler(x,y,train,test,sample_key,\"under\",0.8);\n",
    "# x,y,train,test,sample_key = sampler(x,y,train,test,sample_key,\"over\",0.2);\n",
    "\n",
    "y = coerce(copy(y),OrderedFactor);\n",
    "\n",
    "println(size(x),\" \",sum([i==true for i in y] ) )\n",
    "println(size(y))"
   ]
  },
  {
   "cell_type": "code",
   "execution_count": 42,
   "id": "85b90d8f",
   "metadata": {},
   "outputs": [
    {
     "data": {
      "text/plain": [
       "8-element Vector{MLJBase.NumericRange{T, MLJBase.Bounded, Symbol} where T}:\n",
       " NumericRange(2 ≤ max_depth ≤ 8; origin=5.0, unit=3.0)\n",
       " NumericRange(0.0 ≤ η ≤ 1.0; origin=0.5, unit=0.5)\n",
       " NumericRange(0.0 ≤ γ ≤ 1.0; origin=0.5, unit=0.5)\n",
       " NumericRange(0.0 ≤ λ ≤ 1.0; origin=0.5, unit=0.5)\n",
       " NumericRange(0.0 ≤ α ≤ 1.0; origin=0.5, unit=0.5)\n",
       " NumericRange(0.0 ≤ min_weight ≤ 1.0; origin=0.5, unit=0.5)\n",
       " NumericRange(1 ≤ nrounds ≤ 10; origin=5.5, unit=4.5)\n",
       " NumericRange(4 ≤ nbins ≤ 128; origin=66.0, unit=62.0)"
      ]
     },
     "execution_count": 42,
     "metadata": {},
     "output_type": "execute_result"
    }
   ],
   "source": [
    "\n",
    "r = [\n",
    "    range(EvoTreeClassifier(), :max_depth, lower=2,upper=8),\n",
    "    range(EvoTreeClassifier(), :η, lower=0.0,upper=1.0),\n",
    "    range(EvoTreeClassifier(), :γ, lower=0.0,upper=1.0),\n",
    "    range(EvoTreeClassifier(), :λ, lower=0.0,upper=1.0),\n",
    "    range(EvoTreeClassifier(), :α, lower=0.0,upper=1.0),\n",
    "    range(EvoTreeClassifier(), :min_weight, lower=0.0,upper=1.0),\n",
    "    range(EvoTreeClassifier(), :nrounds, lower=1,upper=10),\n",
    "    range(EvoTreeClassifier(), :nbins, lower=4, upper=128),\n",
    "    \n",
    "    \n",
    "#     range(LogisticClassifier(), :lambda, lower=0.0,upper=1.0),\n",
    "#     range(LogisticClassifier(), :gamma, lower=0.0,upper=1.0),\n",
    "]"
   ]
  },
  {
   "cell_type": "code",
   "execution_count": 43,
   "id": "a7c74ef7",
   "metadata": {},
   "outputs": [
    {
     "name": "stderr",
     "output_type": "stream",
     "text": [
      "┌ Info: Training Machine{ProbabilisticTunedModel{LatinHypercube,…},…}.\n",
      "└ @ MLJBase /Users/alexpanchot/.julia/packages/MLJBase/HZmTU/src/machines.jl:403\n",
      "┌ Info: Attempting to evaluate 200 models.\n",
      "└ @ MLJTuning /Users/alexpanchot/.julia/packages/MLJTuning/efiDR/src/tuned_models.jl:685\n",
      "\u001b[33mEvaluating over 200 metamodels: 100%[=========================] Time: 0:00:35\u001b[39m\n",
      "┌ Info: Training Machine{EvoTreeClassifier{Float64,…},…}.\n",
      "└ @ MLJBase /Users/alexpanchot/.julia/packages/MLJBase/HZmTU/src/machines.jl:403\n"
     ]
    },
    {
     "data": {
      "text/plain": [
       "Machine{EvoTreeClassifier{Float64,…},…} trained 1 time; caches data\n",
       "  args: \n",
       "    1:\tSource @228 ⏎ `Table{AbstractVector{Continuous}}`\n",
       "    2:\tSource @458 ⏎ `AbstractVector{OrderedFactor{2}}`\n"
      ]
     },
     "execution_count": 43,
     "metadata": {},
     "output_type": "execute_result"
    }
   ],
   "source": [
    "self_tune = TunedModel(\n",
    "#     model=LogisticClassifier(penalty=:l1),\n",
    "    model=EvoTreeClassifier(),\n",
    "    \n",
    "    resampling=StratifiedCV(nfolds=5, rng=123),\n",
    "\n",
    "    tuning=LatinHypercube(),  #     tuning=Grid(resolution=2), \n",
    "    range = r,\n",
    "    n=200,\n",
    "    operation=predict_mode, # use for probabalistic \n",
    "    measure = fnr,  # use for deterministic or with predict_mode for probab \n",
    "    acceleration=CPUThreads(),\n",
    ")\n",
    "\n",
    "machbest = machine(\n",
    "    self_tune,\n",
    "    x,y)\n",
    "fit!(machbest,verbosity=1 )\n",
    "\n",
    "mach = machine(\n",
    "    fitted_params(machbest).best_model,\n",
    "    x,y)\n",
    "fit!(mach,verbosity=1 )"
   ]
  },
  {
   "cell_type": "code",
   "execution_count": 44,
   "id": "7aaa7419",
   "metadata": {},
   "outputs": [],
   "source": [
    "FileIO.save(\"lofreq$(full).jld2\", Dict(\"mach\"=>mach,\"stnd\" => stnd,\n",
    "        \"imputemach\" => imputemach, \n",
    "    ) ; compress = true\n",
    ")"
   ]
  },
  {
   "cell_type": "code",
   "execution_count": 45,
   "id": "74ccddde",
   "metadata": {},
   "outputs": [
    {
     "data": {
      "text/plain": [
       "\"lofreq.jld2\""
      ]
     },
     "execution_count": 45,
     "metadata": {},
     "output_type": "execute_result"
    }
   ],
   "source": [
    "\"lofreq$(full).jld2\""
   ]
  },
  {
   "cell_type": "markdown",
   "id": "3c9557b6",
   "metadata": {},
   "source": [
    "# Pindel"
   ]
  },
  {
   "cell_type": "code",
   "execution_count": 46,
   "id": "efe0c70f",
   "metadata": {},
   "outputs": [],
   "source": [
    "x = copy(xold[train2,:]);\n",
    "y = copy(yold[train2]);"
   ]
  },
  {
   "cell_type": "code",
   "execution_count": 47,
   "id": "ffbd7d5c",
   "metadata": {},
   "outputs": [
    {
     "name": "stdout",
     "output_type": "stream",
     "text": [
      "46\n",
      "(13108,)\n",
      "\n",
      "(2530, 40)\n",
      "(2530,)\n",
      "5\n"
     ]
    }
   ],
   "source": [
    "x.col1=collect(1:nrow(x));\n",
    "coldrop = [] #\"FPpass\",\"FILTER_Mutect_PASS\"] # [\"gt_AF_Mutect\",\"AltFwd_Mutect\",\"RefFwd_Mutect\",\"AltRev_Mutect\",\"RefRev_Mutect\",\"gt_AD_ref_Mutect\",\"gt_AD_alt_Mutect\"]\n",
    "for i in names(x)\n",
    "    if i == \"col1\" || i==\"training\" || occursin( \"FILTER_Pindel\",i)\n",
    "        continue\n",
    "    end\n",
    "    if length(unique(x[:,i])) < 2 || occursin(\"Lofreq\",i) || occursin(\"Vardict\",i) || occursin(\"Mutect\",i) # || occursin(\"ALT\",i) || occursin(\"REF\",i)\n",
    "        push!(coldrop,i)\n",
    "#         println(i)\n",
    "    end \n",
    "end\n",
    "unique!(coldrop)\n",
    "select!(x, Not(coldrop));\n",
    "println(sum([i==true for i in y]))\n",
    "# println(nrow(xold))\n",
    "# dropmissing!(xold)\n",
    "# println(nrow(xold))\n",
    "filter!(x->!ismissing(x.dust_score_Pindel),x);\n",
    "println(size(y))\n",
    "# println(length(sample_key2))\n",
    "println()\n",
    "y = y[x.col1]\n",
    "# println(xold[findall(x->x,[i==true for i in yold]),\"col1\"])\n",
    "# println(xold[findall(x->!x,[i==true for i in yold]),\"col1\"])\n",
    "# sample_key2 = sample_key2[x.col1]\n",
    "select!(x,Not(\"col1\"));\n",
    "\n",
    "println(size(x))\n",
    "println(size(y))\n",
    "# println(length(sample_key2))\n",
    "println(sum([i==true for i in y]));"
   ]
  },
  {
   "cell_type": "code",
   "execution_count": 48,
   "id": "c02973a6",
   "metadata": {},
   "outputs": [
    {
     "name": "stdout",
     "output_type": "stream",
     "text": [
      "1859\n"
     ]
    }
   ],
   "source": [
    "transform_log!(x,10)\n",
    "stnd = fit_standardizer(x)\n",
    "transform_standardizer!(x,stnd);\n",
    "println(sum(ismissing.(Matrix(x))))"
   ]
  },
  {
   "cell_type": "code",
   "execution_count": 49,
   "id": "c864a4ab",
   "metadata": {},
   "outputs": [
    {
     "name": "stderr",
     "output_type": "stream",
     "text": [
      "┌ Info: Training Machine{MissingImputator,…}.\n",
      "└ @ MLJBase /Users/alexpanchot/.julia/packages/MLJBase/HZmTU/src/machines.jl:403\n"
     ]
    },
    {
     "name": "stdout",
     "output_type": "stream",
     "text": [
      "  2.091787 seconds (13.70 M allocations: 1.515 GiB, 14.00% gc time, 14.01% compilation time)\n"
     ]
    },
    {
     "data": {
      "text/plain": [
       "Machine{MissingImputator,…} trained 1 time; caches data\n",
       "  args: \n",
       "    1:\tSource @646 ⏎ `Table{Union{AbstractVector{Union{Missing, Continuous}}, AbstractVector{Continuous}}}`\n"
      ]
     },
     "execution_count": 49,
     "metadata": {},
     "output_type": "execute_result"
    }
   ],
   "source": [
    "imputemach = machine(MissingImputator(K=5),x) \n",
    "@time fit!(imputemach,verbosity=1)"
   ]
  },
  {
   "cell_type": "code",
   "execution_count": 50,
   "id": "ffcfd149",
   "metadata": {},
   "outputs": [],
   "source": [
    "tt = MLJ.transform(imputemach,x);\n",
    "for i in 1:ncol(x)\n",
    "    x[:,i] = tt[i]\n",
    "end\n",
    "disallowmissing!(x);"
   ]
  },
  {
   "cell_type": "code",
   "execution_count": 51,
   "id": "60df08b6",
   "metadata": {},
   "outputs": [
    {
     "name": "stdout",
     "output_type": "stream",
     "text": [
      "(2530, 40) 5\n",
      "(2530,)\n",
      "(2530, 40) 5\n",
      "(2530,)\n"
     ]
    }
   ],
   "source": [
    "println(size(x),\" \",sum([i==true for i in y] ) )\n",
    "println(size(y))\n",
    "# x,y,train,test,sample_key = sampler(x,y,train,test,sample_key,\"under\",0.8);\n",
    "# x,y,train,test,sample_key = sampler(x,y,train,test,sample_key,\"over\",0.2);\n",
    "\n",
    "y = coerce(copy(y),OrderedFactor);\n",
    "\n",
    "println(size(x),\" \",sum([i==true for i in y] ) )\n",
    "println(size(y))"
   ]
  },
  {
   "cell_type": "code",
   "execution_count": 52,
   "id": "7b2f02f8",
   "metadata": {},
   "outputs": [
    {
     "data": {
      "text/plain": [
       "8-element Vector{MLJBase.NumericRange{T, MLJBase.Bounded, Symbol} where T}:\n",
       " NumericRange(2 ≤ max_depth ≤ 8; origin=5.0, unit=3.0)\n",
       " NumericRange(0.0 ≤ η ≤ 1.0; origin=0.5, unit=0.5)\n",
       " NumericRange(0.0 ≤ γ ≤ 1.0; origin=0.5, unit=0.5)\n",
       " NumericRange(0.0 ≤ λ ≤ 1.0; origin=0.5, unit=0.5)\n",
       " NumericRange(0.0 ≤ α ≤ 1.0; origin=0.5, unit=0.5)\n",
       " NumericRange(0.0 ≤ min_weight ≤ 1.0; origin=0.5, unit=0.5)\n",
       " NumericRange(1 ≤ nrounds ≤ 10; origin=5.5, unit=4.5)\n",
       " NumericRange(4 ≤ nbins ≤ 128; origin=66.0, unit=62.0)"
      ]
     },
     "execution_count": 52,
     "metadata": {},
     "output_type": "execute_result"
    }
   ],
   "source": [
    "\n",
    "r = [\n",
    "    range(EvoTreeClassifier(), :max_depth, lower=2,upper=8),\n",
    "    range(EvoTreeClassifier(), :η, lower=0.0,upper=1.0),\n",
    "    range(EvoTreeClassifier(), :γ, lower=0.0,upper=1.0),\n",
    "    range(EvoTreeClassifier(), :λ, lower=0.0,upper=1.0),\n",
    "    range(EvoTreeClassifier(), :α, lower=0.0,upper=1.0),\n",
    "    range(EvoTreeClassifier(), :min_weight, lower=0.0,upper=1.0),\n",
    "    range(EvoTreeClassifier(), :nrounds, lower=1,upper=10),\n",
    "    range(EvoTreeClassifier(), :nbins, lower=4, upper=128),\n",
    "    \n",
    "    ]"
   ]
  },
  {
   "cell_type": "code",
   "execution_count": 53,
   "id": "64fbda17",
   "metadata": {},
   "outputs": [
    {
     "name": "stderr",
     "output_type": "stream",
     "text": [
      "┌ Info: Training Machine{ProbabilisticTunedModel{LatinHypercube,…},…}.\n",
      "└ @ MLJBase /Users/alexpanchot/.julia/packages/MLJBase/HZmTU/src/machines.jl:403\n",
      "┌ Info: Attempting to evaluate 200 models.\n",
      "└ @ MLJTuning /Users/alexpanchot/.julia/packages/MLJTuning/efiDR/src/tuned_models.jl:685\n",
      "\u001b[33mEvaluating over 200 metamodels: 100%[=========================] Time: 0:00:21\u001b[39m\n",
      "┌ Info: Training Machine{EvoTreeClassifier{Float64,…},…}.\n",
      "└ @ MLJBase /Users/alexpanchot/.julia/packages/MLJBase/HZmTU/src/machines.jl:403\n"
     ]
    },
    {
     "data": {
      "text/plain": [
       "Machine{EvoTreeClassifier{Float64,…},…} trained 1 time; caches data\n",
       "  args: \n",
       "    1:\tSource @223 ⏎ `Table{AbstractVector{Continuous}}`\n",
       "    2:\tSource @318 ⏎ `AbstractVector{OrderedFactor{2}}`\n"
      ]
     },
     "execution_count": 53,
     "metadata": {},
     "output_type": "execute_result"
    }
   ],
   "source": [
    "self_tune = TunedModel(\n",
    "#     model=LogisticClassifier(penalty=:l1),\n",
    "    model=EvoTreeClassifier(),\n",
    "    \n",
    "    resampling=StratifiedCV(nfolds=5, rng=123),\n",
    "\n",
    "    tuning=LatinHypercube(),  #     tuning=Grid(resolution=2), \n",
    "    range = r,\n",
    "    n=200,\n",
    "    operation=predict_mode, # use for probabalistic \n",
    "    measure = fnr,  # use for deterministic or with predict_mode for probab \n",
    "    acceleration=CPUThreads(),\n",
    ")\n",
    "\n",
    "machbest = machine(\n",
    "    self_tune,\n",
    "    x,y)\n",
    "fit!(machbest,verbosity=1 )\n",
    "\n",
    "mach = machine(\n",
    "    fitted_params(machbest).best_model,\n",
    "    x,y)\n",
    "fit!(mach,verbosity=1 )"
   ]
  },
  {
   "cell_type": "code",
   "execution_count": 54,
   "id": "209b7d2f",
   "metadata": {},
   "outputs": [],
   "source": [
    "FileIO.save(\"pindel$(full).jld2\", Dict(\"mach\"=>mach,\"stnd\" => stnd,\n",
    "        \"imputemach\" => imputemach, \n",
    "    ) ; compress = true\n",
    ")"
   ]
  },
  {
   "cell_type": "code",
   "execution_count": null,
   "id": "1a9b441a",
   "metadata": {},
   "outputs": [],
   "source": []
  },
  {
   "cell_type": "code",
   "execution_count": null,
   "id": "1307f81f",
   "metadata": {},
   "outputs": [],
   "source": []
  },
  {
   "cell_type": "code",
   "execution_count": null,
   "id": "364dc6ba",
   "metadata": {},
   "outputs": [],
   "source": []
  },
  {
   "cell_type": "code",
   "execution_count": null,
   "id": "c9d44dd3",
   "metadata": {},
   "outputs": [],
   "source": []
  },
  {
   "cell_type": "code",
   "execution_count": null,
   "id": "df342694",
   "metadata": {},
   "outputs": [],
   "source": []
  },
  {
   "cell_type": "code",
   "execution_count": null,
   "id": "468dd936",
   "metadata": {},
   "outputs": [],
   "source": []
  },
  {
   "cell_type": "code",
   "execution_count": null,
   "id": "a78903de",
   "metadata": {},
   "outputs": [],
   "source": []
  },
  {
   "cell_type": "code",
   "execution_count": null,
   "id": "698ab5c9",
   "metadata": {},
   "outputs": [],
   "source": []
  },
  {
   "cell_type": "code",
   "execution_count": null,
   "id": "5627baef",
   "metadata": {},
   "outputs": [],
   "source": []
  }
 ],
 "metadata": {
  "@webio": {
   "lastCommId": "f235af3cf68f44e3a01ba8476968b933",
   "lastKernelId": "ccc8ed9a-9e30-43e0-b25b-c40598deff9f"
  },
  "kernelspec": {
   "display_name": "Julia 1.6.2",
   "language": "julia",
   "name": "julia-1.6"
  },
  "language_info": {
   "file_extension": ".jl",
   "mimetype": "application/julia",
   "name": "julia",
   "version": "1.6.2"
  }
 },
 "nbformat": 4,
 "nbformat_minor": 5
}
