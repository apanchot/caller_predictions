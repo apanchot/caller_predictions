{
 "cells": [
  {
   "cell_type": "code",
   "execution_count": 8,
   "id": "45f90262",
   "metadata": {
    "scrolled": true
   },
   "outputs": [
    {
     "name": "stdout",
     "output_type": "stream",
     "text": [
      "  adding: indel_evo/combine.jld2 (deflated 66%)\n",
      "  adding: indel_evo/combine_full.jld2 (deflated 8%)\n",
      "  adding: indel_evo/lofreq.jld2 (deflated 96%)\n",
      "  adding: indel_evo/lofreq_full.jld2 (deflated 56%)\n",
      "  adding: indel_evo/mutect.jld2 (deflated 99%)\n",
      "  adding: indel_evo/mutect_full.jld2 (deflated 95%)\n",
      "  adding: indel_evo/pindel.jld2 (deflated 90%)\n",
      "  adding: indel_evo/pindel_full.jld2 (deflated 95%)\n",
      "  adding: indel_evo/testdata.jld2 (deflated 67%)\n",
      "  adding: indel_evo/testdata_full.jld2 (deflated 49%)\n",
      "  adding: indel_evo/traindata.jld2 (deflated 66%)\n",
      "  adding: indel_evo/traindata_full.jld2 (deflated 49%)\n",
      "  adding: indel_evo/vardict.jld2 (deflated 99%)\n",
      "  adding: indel_evo/vardict_full.jld2 (deflated 96%)\n",
      "  adding: indel_log/combine.jld2 (deflated 68%)\n",
      "  adding: indel_log/combine_full.jld2 (deflated 8%)\n",
      "  adding: indel_log/lofreq.jld2 (deflated 75%)\n",
      "  adding: indel_log/lofreq_full.jld2 (deflated 2%)\n",
      "  adding: indel_log/mutect.jld2 (deflated 77%)\n",
      "  adding: indel_log/mutect_full.jld2 (deflated 78%)\n",
      "  adding: indel_log/pindel.jld2 (deflated 42%)\n",
      "  adding: indel_log/pindel_full.jld2 (deflated 3%)\n",
      "  adding: indel_log/testdata.jld2 (deflated 67%)\n",
      "  adding: indel_log/testdata_full.jld2 (deflated 49%)\n",
      "  adding: indel_log/traindata.jld2 (deflated 66%)\n",
      "  adding: indel_log/traindata_full.jld2 (deflated 49%)\n",
      "  adding: indel_log/vardict.jld2 (deflated 73%)\n",
      "  adding: indel_log/vardict_full.jld2 (deflated 12%)\n",
      "  adding: snv_evo/combine.jld2 (deflated 45%)\n",
      "  adding: snv_evo/combine_full.jld2 (deflated 3%)\n",
      "  adding: snv_evo/lofreq.jld2 (deflated 94%)\n",
      "  adding: snv_evo/lofreq_full.jld2 (deflated 27%)\n",
      "  adding: snv_evo/mutect.jld2 (deflated 75%)\n",
      "  adding: snv_evo/mutect_full.jld2 (deflated 96%)\n",
      "  adding: snv_evo/testdata.jld2 (deflated 37%)\n",
      "  adding: snv_evo/testdata_full.jld2 (deflated 42%)\n",
      "  adding: snv_evo/traindata.jld2 (deflated 37%)\n",
      "  adding: snv_evo/traindata_full.jld2 (deflated 42%)\n",
      "  adding: snv_evo/vardict.jld2 (deflated 92%)\n",
      "  adding: snv_evo/vardict_full.jld2 (deflated 37%)\n",
      "  adding: snv_log/combine.jld2 (deflated 28%)\n",
      "  adding: snv_log/combine_full.jld2 (deflated 2%)\n",
      "  adding: snv_log/lofreq.jld2 (deflated 12%)\n",
      "  adding: snv_log/lofreq_full.jld2 (deflated 1%)\n",
      "  adding: snv_log/mutect.jld2 (deflated 76%)\n",
      "  adding: snv_log/mutect_full.jld2 (deflated 77%)\n",
      "  adding: snv_log/testdata.jld2 (deflated 37%)\n",
      "  adding: snv_log/testdata_full.jld2 (deflated 42%)\n",
      "  adding: snv_log/traindata.jld2 (deflated 37%)\n",
      "  adding: snv_log/traindata_full.jld2 (deflated 42%)\n",
      "  adding: snv_log/vardict.jld2 (deflated 14%)\n",
      "  adding: snv_log/vardict_full.jld2 (deflated 1%)\n"
     ]
    }
   ],
   "source": [
    "for j in [\"indel_evo\",\"indel_log\",\"snv_evo\",\"snv_log\"]\n",
    "    for file in readdir(j)\n",
    "        if occursin(\"jld2\",file)\n",
    "            f = j*\"/\"*file\n",
    "            z = j*\"/\"*file[1:end-5]*\".zip\"\n",
    "            \n",
    "            run(`zip $z $f`)\n",
    "        end\n",
    "    end\n",
    "end\n",
    "    "
   ]
  }
 ],
 "metadata": {
  "kernelspec": {
   "display_name": "Julia 1.6.2",
   "language": "julia",
   "name": "julia-1.6"
  },
  "language_info": {
   "file_extension": ".jl",
   "mimetype": "application/julia",
   "name": "julia",
   "version": "1.6.2"
  }
 },
 "nbformat": 4,
 "nbformat_minor": 5
}
