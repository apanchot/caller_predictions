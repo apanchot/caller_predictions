{
 "cells": [
  {
   "cell_type": "code",
   "execution_count": 1,
   "id": "c84356dc",
   "metadata": {},
   "outputs": [
    {
     "data": {
      "application/vnd.webio.node+json": {
       "children": [],
       "instanceArgs": {
        "namespace": "html",
        "tag": "div"
       },
       "nodeType": "DOM",
       "props": {},
       "type": "node"
      },
      "text/html": [
       "<div style=\"padding: 1em; background-color: #f8d6da; border: 1px solid #f5c6cb; font-weight: bold;\">\n",
       "<p>The WebIO Jupyter extension was not detected. See the\n",
       "<a href=\"https://juliagizmos.github.io/WebIO.jl/latest/providers/ijulia/\" target=\"_blank\">\n",
       "    WebIO Jupyter integration documentation\n",
       "</a>\n",
       "for more information.\n",
       "</div>\n"
      ],
      "text/plain": [
       "WebIO._IJuliaInit()"
      ]
     },
     "metadata": {
      "application/vnd.webio.node+json": {
       "kernelId": "937469c8-814c-4e86-845b-ed731e242b20"
      }
     },
     "output_type": "display_data"
    }
   ],
   "source": [
    "import CSV\n",
    "using DataFrames\n",
    "# using StatsBase\n",
    "include(\"$(dirname(pwd()))/pred_funcs.jl\")\n",
    "using MLJ\n",
    "# import MLJBase\n",
    "import TableView.showtable\n",
    "using Plots\n",
    "import FileIO\n",
    "import Statistics\n",
    "import LinearAlgebra\n",
    "using StatsPlots\n",
    "using Random\n",
    "Random.seed!(0);\n",
    "using StatsBase\n",
    "import MLJBase"
   ]
  },
  {
   "cell_type": "code",
   "execution_count": 2,
   "id": "3c86fc2c",
   "metadata": {},
   "outputs": [
    {
     "data": {
      "text/plain": [
       "EvoTrees.EvoTreeClassifier"
      ]
     },
     "execution_count": 2,
     "metadata": {},
     "output_type": "execute_result"
    }
   ],
   "source": [
    "MissingImputator = @load MissingImputator pkg=\"BetaML\" verbosity=0\n",
    "LogisticClassifier = @load LogisticClassifier pkg=\"MLJLinearModels\" verbosity=0;  # loads code defining a model type\n",
    "EvoTreeClassifier = @load EvoTreeClassifier verbosity=0"
   ]
  },
  {
   "cell_type": "code",
   "execution_count": 3,
   "id": "0e1fa7bc",
   "metadata": {},
   "outputs": [
    {
     "data": {
      "text/plain": [
       "\"\""
      ]
     },
     "execution_count": 3,
     "metadata": {},
     "output_type": "execute_result"
    }
   ],
   "source": [
    "full = \"\""
   ]
  },
  {
   "cell_type": "code",
   "execution_count": 4,
   "id": "08dfdaeb",
   "metadata": {},
   "outputs": [],
   "source": [
    "# sample_key, xold, yold = FileIO.load(\"testdata$(full).jld2\",\"sample_key\",\"x\" ,\"y\");"
   ]
  },
  {
   "cell_type": "markdown",
   "id": "95cb4dc7",
   "metadata": {},
   "source": [
    "# Mutect"
   ]
  },
  {
   "cell_type": "code",
   "execution_count": 219,
   "id": "c7df8e83",
   "metadata": {},
   "outputs": [],
   "source": [
    "# x=copy(xold)\n",
    "# y=copy(yold)\n",
    "# machm, stndm, imputemachm = FileIO.load(\"mutect.jld2\",\"mach\", \"stnd\", \"imputemach\");\n",
    "# x.col1=collect(1:nrow(x));\n",
    "# coldrop = [] #\"FPpass\",\"FILTER_Mutect_PASS\"] # [\"gt_AF_Mutect\",\"AltFwd_Mutect\",\"RefFwd_Mutect\",\"AltRev_Mutect\",\"RefRev_Mutect\",\"gt_AD_ref_Mutect\",\"gt_AD_alt_Mutect\"]\n",
    "# for i in names(x)\n",
    "#     if i == \"col1\" || i==\"training\"\n",
    "#         continue\n",
    "#     end\n",
    "#     if length(unique(x[:,i])) < 2 || occursin(\"Pindel\",i) || occursin(\"Lofreq\",i) || occursin(\"Vardict\",i) # || occursin(\"ALT\",i) || occursin(\"REF\",i)\n",
    "#         push!(coldrop,i)\n",
    "# #         println(i)\n",
    "#     end \n",
    "# end\n",
    "# unique!(coldrop)\n",
    "# select!(x, Not(coldrop));\n",
    "\n",
    "# # println(nrow(xold))\n",
    "# # dropmissing!(xold)\n",
    "# # println(nrow(xold))\n",
    "# filter!(x->!ismissing(x.dust_score_Mutect),x);\n",
    "# println(size(y))\n",
    "# # println(length(sample_key2))\n",
    "# println()\n",
    "# y = y[x.col1]\n",
    "# # println(xold[findall(x->x,[i==true for i in yold]),\"col1\"])\n",
    "# # println(xold[findall(x->!x,[i==true for i in yold]),\"col1\"])\n",
    "# # sample_key2 = sample_key2[x.col1]\n",
    "# select!(x,Not(\"col1\"));\n",
    "# println(\"y real \",sum([i==true for i in y]))\n",
    "# println(size(x))\n",
    "# println(size(y))\n",
    "# # println(length(sample_key2))\n",
    "# println(sum([i==true for i in y]));\n",
    "# transform_log!(x,10)\n",
    "# transform_standardizer!(x,stndm);\n",
    "# println(sum(ismissing.(Matrix(x))))\n",
    "# tt = MLJ.transform(imputemachm,x);\n",
    "# for i in 1:ncol(x)\n",
    "#     x[:,i] = tt[i]\n",
    "# end\n",
    "# disallowmissing!(x);\n",
    "# yhat=MLJ.predict_mode(machm, x); # probab"
   ]
  },
  {
   "cell_type": "code",
   "execution_count": 220,
   "id": "5d53064b",
   "metadata": {},
   "outputs": [],
   "source": [
    "# ConfusionMatrix()(yhat,y)"
   ]
  },
  {
   "cell_type": "markdown",
   "id": "8a17ef08",
   "metadata": {},
   "source": [
    "# Vardict"
   ]
  },
  {
   "cell_type": "code",
   "execution_count": 221,
   "id": "1a05ed26",
   "metadata": {},
   "outputs": [],
   "source": [
    "# x=copy(xold)\n",
    "# y=copy(yold)\n",
    "# machv, stndv, imputemachv = FileIO.load(\"vardict.jld2\",\"mach\", \"stnd\", \"imputemach\");\n",
    "# x.col1=collect(1:nrow(x));\n",
    "# coldrop = [] #\"FPpass\",\"FILTER_Mutect_PASS\"] # [\"gt_AF_Mutect\",\"AltFwd_Mutect\",\"RefFwd_Mutect\",\"AltRev_Mutect\",\"RefRev_Mutect\",\"gt_AD_ref_Mutect\",\"gt_AD_alt_Mutect\"]\n",
    "# for i in names(x)\n",
    "#     if i == \"col1\" || i==\"training\"\n",
    "#         continue\n",
    "#     end\n",
    "#     if length(unique(x[:,i])) < 2 || occursin(\"Pindel\",i) || occursin(\"Lofreq\",i) || occursin(\"Mutect\",i) # || occursin(\"ALT\",i) || occursin(\"REF\",i)\n",
    "#         push!(coldrop,i)\n",
    "# #         println(i)\n",
    "#     end \n",
    "# end\n",
    "# unique!(coldrop)\n",
    "# select!(x, Not(coldrop));\n",
    "# println(sum([i==true for i in y]))\n",
    "# # println(nrow(xold))\n",
    "# # dropmissing!(xold)\n",
    "# # println(nrow(xold))\n",
    "# filter!(x->!ismissing(x.dust_score_Vardict),x);\n",
    "# println(size(y))\n",
    "# # println(length(sample_key2))\n",
    "# println()\n",
    "# y = y[x.col1]\n",
    "# # println(xold[findall(x->x,[i==true for i in yold]),\"col1\"])\n",
    "# # println(xold[findall(x->!x,[i==true for i in yold]),\"col1\"])\n",
    "# # sample_key2 = sample_key2[x.col1]\n",
    "# select!(x,Not(\"col1\"));\n",
    "\n",
    "# println(size(x))\n",
    "# println(size(y))\n",
    "# # println(length(sample_key2))\n",
    "# println(sum([i==true for i in y]));\n",
    "# transform_log!(x,10)\n",
    "# transform_standardizer!(x,stndv);\n",
    "# println(sum(ismissing.(Matrix(x))))\n",
    "# tt = MLJ.transform(imputemachv,x);\n",
    "# for i in 1:ncol(x)\n",
    "#     x[:,i] = tt[i]\n",
    "# end\n",
    "# disallowmissing!(x);\n",
    "# yhat=MLJ.predict_mode(machv, x); # probab\n"
   ]
  },
  {
   "cell_type": "code",
   "execution_count": 222,
   "id": "49eaf4df",
   "metadata": {},
   "outputs": [],
   "source": [
    "# ConfusionMatrix()(yhat,y)"
   ]
  },
  {
   "cell_type": "markdown",
   "id": "ab0bc5f9",
   "metadata": {},
   "source": [
    "# Lofreq"
   ]
  },
  {
   "cell_type": "code",
   "execution_count": 223,
   "id": "6520cff4",
   "metadata": {},
   "outputs": [],
   "source": [
    "# x=copy(xold)\n",
    "# y=copy(yold)\n",
    "# machl, stndl, imputemachl = FileIO.load(\"lofreq.jld2\",\"mach\", \"stnd\", \"imputemach\");\n",
    "# x.col1=collect(1:nrow(x));\n",
    "# coldrop = [] #\"FPpass\",\"FILTER_Mutect_PASS\"] # [\"gt_AF_Mutect\",\"AltFwd_Mutect\",\"RefFwd_Mutect\",\"AltRev_Mutect\",\"RefRev_Mutect\",\"gt_AD_ref_Mutect\",\"gt_AD_alt_Mutect\"]\n",
    "# for i in names(x)\n",
    "#     if i == \"col1\" || i==\"training\"\n",
    "#         continue\n",
    "#     end\n",
    "#     if length(unique(x[:,i])) < 2 || occursin(\"Pindel\",i) || occursin(\"Mutect\",i) || occursin(\"Vardict\",i) # || occursin(\"ALT\",i) || occursin(\"REF\",i)\n",
    "#         push!(coldrop,i)\n",
    "# #         println(i)\n",
    "#     end \n",
    "# end\n",
    "# unique!(coldrop)\n",
    "# select!(x, Not(coldrop));\n",
    "# println(sum([i==true for i in y]))\n",
    "# # println(nrow(xold))\n",
    "# # dropmissing!(xold)\n",
    "# # println(nrow(xold))\n",
    "# filter!(x->!ismissing(x.dust_score_Lofreq),x);\n",
    "# println(size(y))\n",
    "# # println(length(sample_key2))\n",
    "# println()\n",
    "# y = y[x.col1]\n",
    "# # println(xold[findall(x->x,[i==true for i in yold]),\"col1\"])\n",
    "# # println(xold[findall(x->!x,[i==true for i in yold]),\"col1\"])\n",
    "# # sample_key2 = sample_key2[x.col1]\n",
    "# select!(x,Not(\"col1\"));\n",
    "# # x=DataFrame(x[1,:])\n",
    "\n",
    "# println(size(x))\n",
    "# println(size(y))\n",
    "# # println(length(sample_key2))\n",
    "# println(sum([i==true for i in y]));\n",
    "# transform_log!(x,10)\n",
    "# transform_standardizer!(x,stndl);\n",
    "# println(sum(ismissing.(Matrix(x))))\n",
    "# tt = MLJ.transform(imputemachl,x);\n",
    "# for i in 1:ncol(x)\n",
    "#     x[:,i] = tt[i]\n",
    "# end\n",
    "# disallowmissing!(x);\n",
    "# yhat=MLJ.predict_mode(machl, x); # probab\n",
    "\n"
   ]
  },
  {
   "cell_type": "code",
   "execution_count": 224,
   "id": "bd0d2208",
   "metadata": {},
   "outputs": [],
   "source": [
    "# ConfusionMatrix()(yhat,y)"
   ]
  },
  {
   "cell_type": "markdown",
   "id": "8ac222ab",
   "metadata": {},
   "source": [
    "# Combine\n"
   ]
  },
  {
   "cell_type": "code",
   "execution_count": 34,
   "id": "306b883a",
   "metadata": {
    "scrolled": true
   },
   "outputs": [
    {
     "data": {
      "text/plain": [
       "\"_full\""
      ]
     },
     "execution_count": 34,
     "metadata": {},
     "output_type": "execute_result"
    }
   ],
   "source": [
    "full = \"_full\""
   ]
  },
  {
   "cell_type": "code",
   "execution_count": 35,
   "id": "beec2ef6",
   "metadata": {},
   "outputs": [],
   "source": [
    "sample_key, xold, yold = FileIO.load(\"traindata$(full).jld2\",\"sample_key\",\"x\" ,\"y\");"
   ]
  },
  {
   "cell_type": "code",
   "execution_count": 36,
   "id": "85bcc62c",
   "metadata": {},
   "outputs": [
    {
     "name": "stdout",
     "output_type": "stream",
     "text": [
      "12\n",
      "(114822,)\n",
      "\n"
     ]
    }
   ],
   "source": [
    "x=copy(xold)\n",
    "y=copy(yold)\n",
    "x.col1=collect(1:nrow(x));\n",
    "coldrop = [] #\"FPpass\",\"FILTER_Mutect_PASS\"] # [\"gt_AF_Mutect\",\"AltFwd_Mutect\",\"RefFwd_Mutect\",\"AltRev_Mutect\",\"RefRev_Mutect\",\"gt_AD_ref_Mutect\",\"gt_AD_alt_Mutect\"]\n",
    "for i in names(x)\n",
    "    if i == \"col1\" || i==\"training\"|| occursin( \"FILTER_Pindel\",i) || occursin( \"FILTER_Mutect\",i) || occursin( \"FILTER_Vardict\",i) || occursin( \"FILTER_Lofreq\",i)\n",
    "        continue\n",
    "    end\n",
    "    if length(unique(x[:,i])) < 2 # || occursin(\"Pindel\",i) # || occursin(\"ALT\",i) || occursin(\"REF\",i)\n",
    "        push!(coldrop,i)\n",
    "#         println(i)\n",
    "    end \n",
    "end\n",
    "unique!(coldrop)\n",
    "select!(x, Not(coldrop));\n",
    "println(sum([i==true for i in y]))\n",
    "\n",
    "println(size(y))\n",
    "\n",
    "println()\n",
    "y = y[x.col1]\n",
    "select!(x,Not(\"col1\"));\n",
    "\n"
   ]
  },
  {
   "cell_type": "code",
   "execution_count": 37,
   "id": "7692e94b",
   "metadata": {},
   "outputs": [
    {
     "data": {
      "text/plain": [
       "predictor (generic function with 1 method)"
      ]
     },
     "execution_count": 37,
     "metadata": {},
     "output_type": "execute_result"
    }
   ],
   "source": [
    "function predictor(df2, caller; prob=true,cutoff=0.5)\n",
    "    df=copy(df2)\n",
    "    preds = zeros(length(df[:,1]))\n",
    "    mach, stnd, imputemach = FileIO.load(lowercase(caller)*full*\".jld2\",\"mach\", \"stnd\", \"imputemach\");\n",
    "    calcol = setdiff([\"Mutect\",\"Lofreq\",\"Vardict\",\"Pindel\"],[caller])\n",
    "    coldrop = []\n",
    "    for i in names(df)\n",
    "        if occursin(calcol[2],i) || occursin(calcol[1],i) || occursin(calcol[3],i)\n",
    "            push!(coldrop,i)\n",
    "        end \n",
    "    end\n",
    "    unique!(coldrop)\n",
    "    select!(df, Not(coldrop));\n",
    "    \n",
    "    indx = findall(x->!ismissing(x),df[:,\"dust_score_$(caller)\"] )  # indexs to predict on, all else are 0\n",
    "    println(length(indx),\" to be predicted on\")\n",
    "    df = df[indx,:]\n",
    "    transform_log!(df,10)\n",
    "    transform_standardizer!(df,stnd);\n",
    "    println(sum(ismissing.(Matrix(df))),\" are missing\")\n",
    "    tt = MLJ.transform(imputemach,df);\n",
    "    for i in 1:ncol(df)\n",
    "        df[:,i] = tt[i]\n",
    "    end\n",
    "    disallowmissing!(df)\n",
    "    yhat = pdf(MLJ.predict(mach, df),[true]) # prob of being true\n",
    "#     return vec([i>cutoff for i in yhat ]),indx\n",
    "    ct = 1\n",
    "    for i in 1:length(preds)\n",
    "        if i == indx[ct]\n",
    "            preds[i] = yhat[ct]\n",
    "            ct+=1\n",
    "            if ct > length(indx)\n",
    "                break\n",
    "            end\n",
    "        end\n",
    "    end\n",
    "    if prob\n",
    "        return preds,indx\n",
    "    else\n",
    "        return [i>cutoff for i in preds ],indx\n",
    "    end\n",
    "end\n",
    "    "
   ]
  },
  {
   "cell_type": "code",
   "execution_count": 38,
   "id": "9b8e075e",
   "metadata": {},
   "outputs": [],
   "source": [
    "# yhat,indx=predictor(x,\"Vardict\";prob=false);"
   ]
  },
  {
   "cell_type": "code",
   "execution_count": 39,
   "id": "840bf536",
   "metadata": {},
   "outputs": [],
   "source": [
    "# ConfusionMatrix()(coerce(copy(yhat),OrderedFactor),coerce(copy(y),OrderedFactor))"
   ]
  },
  {
   "cell_type": "code",
   "execution_count": 40,
   "id": "f2976226",
   "metadata": {},
   "outputs": [
    {
     "name": "stdout",
     "output_type": "stream",
     "text": [
      "980 to be predicted on\n",
      "108 are missing\n",
      "77019 to be predicted on\n",
      "75367 are missing\n",
      "9127 to be predicted on\n",
      "7834 are missing\n",
      "86588 to be predicted on\n",
      "85285 are missing\n"
     ]
    }
   ],
   "source": [
    "fina=DataFrame(sample=sample_key, mutect=predictor(x,\"Mutect\")[1], lofreq=predictor(x,\"Lofreq\")[1], \n",
    "    vardict=predictor(x,\"Vardict\")[1], pindel=predictor(x,\"Pindel\")[1], real=y);"
   ]
  },
  {
   "cell_type": "code",
   "execution_count": 41,
   "id": "133e13b9",
   "metadata": {},
   "outputs": [
    {
     "name": "stderr",
     "output_type": "stream",
     "text": [
      "┌ Info: Training Machine{ProbabilisticTunedModel{LatinHypercube,…},…}.\n",
      "└ @ MLJBase /Users/alexpanchot/.julia/packages/MLJBase/HZmTU/src/machines.jl:403\n",
      "┌ Info: Attempting to evaluate 20 models.\n",
      "└ @ MLJTuning /Users/alexpanchot/.julia/packages/MLJTuning/efiDR/src/tuned_models.jl:685\n",
      "\u001b[33mEvaluating over 20 metamodels:  35%[========>                ]  ETA: 0:00:26\u001b[39m┌ Warning: Proximal GD did not converge in 1000 iterations.\n",
      "└ @ MLJLinearModels /Users/alexpanchot/.julia/packages/MLJLinearModels/ISbgA/src/fit/proxgrad.jl:64\n",
      "┌ Warning: Proximal GD did not converge in 1000 iterations.\n",
      "└ @ MLJLinearModels /Users/alexpanchot/.julia/packages/MLJLinearModels/ISbgA/src/fit/proxgrad.jl:64\n",
      "\u001b[33mEvaluating over 20 metamodels:  60%[===============>         ]  ETA: 0:00:16\u001b[39m┌ Warning: Proximal GD did not converge in 1000 iterations.\n",
      "└ @ MLJLinearModels /Users/alexpanchot/.julia/packages/MLJLinearModels/ISbgA/src/fit/proxgrad.jl:64\n",
      "┌ Warning: Proximal GD did not converge in 1000 iterations.\n",
      "└ @ MLJLinearModels /Users/alexpanchot/.julia/packages/MLJLinearModels/ISbgA/src/fit/proxgrad.jl:64\n",
      "┌ Warning: Proximal GD did not converge in 1000 iterations.\n",
      "└ @ MLJLinearModels /Users/alexpanchot/.julia/packages/MLJLinearModels/ISbgA/src/fit/proxgrad.jl:64\n",
      "┌ Warning: Proximal GD did not converge in 1000 iterations.\n",
      "└ @ MLJLinearModels /Users/alexpanchot/.julia/packages/MLJLinearModels/ISbgA/src/fit/proxgrad.jl:64\n",
      "┌ Warning: Proximal GD did not converge in 1000 iterations.\n",
      "└ @ MLJLinearModels /Users/alexpanchot/.julia/packages/MLJLinearModels/ISbgA/src/fit/proxgrad.jl:64\n",
      "┌ Warning: Proximal GD did not converge in 1000 iterations.\n",
      "└ @ MLJLinearModels /Users/alexpanchot/.julia/packages/MLJLinearModels/ISbgA/src/fit/proxgrad.jl:64\n",
      "┌ Warning: Proximal GD did not converge in 1000 iterations.\n",
      "└ @ MLJLinearModels /Users/alexpanchot/.julia/packages/MLJLinearModels/ISbgA/src/fit/proxgrad.jl:64\n",
      "┌ Warning: Proximal GD did not converge in 1000 iterations.\n",
      "└ @ MLJLinearModels /Users/alexpanchot/.julia/packages/MLJLinearModels/ISbgA/src/fit/proxgrad.jl:64\n",
      "┌ Warning: Proximal GD did not converge in 1000 iterations.\n",
      "└ @ MLJLinearModels /Users/alexpanchot/.julia/packages/MLJLinearModels/ISbgA/src/fit/proxgrad.jl:64\n",
      "┌ Warning: Proximal GD did not converge in 1000 iterations.\n",
      "└ @ MLJLinearModels /Users/alexpanchot/.julia/packages/MLJLinearModels/ISbgA/src/fit/proxgrad.jl:64\n",
      "┌ Warning: Proximal GD did not converge in 1000 iterations.\n",
      "└ @ MLJLinearModels /Users/alexpanchot/.julia/packages/MLJLinearModels/ISbgA/src/fit/proxgrad.jl:64\n",
      "┌ Warning: Proximal GD did not converge in 1000 iterations.\n",
      "└ @ MLJLinearModels /Users/alexpanchot/.julia/packages/MLJLinearModels/ISbgA/src/fit/proxgrad.jl:64\n",
      "\u001b[33mEvaluating over 20 metamodels:  75%[==================>      ]  ETA: 0:00:20\u001b[39m┌ Warning: Proximal GD did not converge in 1000 iterations.\n",
      "└ @ MLJLinearModels /Users/alexpanchot/.julia/packages/MLJLinearModels/ISbgA/src/fit/proxgrad.jl:64\n",
      "\u001b[33mEvaluating over 20 metamodels:  80%[====================>    ]  ETA: 0:00:17\u001b[39m┌ Warning: Proximal GD did not converge in 1000 iterations.\n",
      "└ @ MLJLinearModels /Users/alexpanchot/.julia/packages/MLJLinearModels/ISbgA/src/fit/proxgrad.jl:64\n",
      "\u001b[33mEvaluating over 20 metamodels:  85%[=====================>   ]  ETA: 0:00:12\u001b[39m┌ Warning: Proximal GD did not converge in 1000 iterations.\n",
      "└ @ MLJLinearModels /Users/alexpanchot/.julia/packages/MLJLinearModels/ISbgA/src/fit/proxgrad.jl:64\n",
      "┌ Warning: Proximal GD did not converge in 1000 iterations.\n",
      "└ @ MLJLinearModels /Users/alexpanchot/.julia/packages/MLJLinearModels/ISbgA/src/fit/proxgrad.jl:64\n",
      "┌ Warning: Proximal GD did not converge in 1000 iterations.\n",
      "└ @ MLJLinearModels /Users/alexpanchot/.julia/packages/MLJLinearModels/ISbgA/src/fit/proxgrad.jl:64\n",
      "┌ Warning: Proximal GD did not converge in 1000 iterations.\n",
      "└ @ MLJLinearModels /Users/alexpanchot/.julia/packages/MLJLinearModels/ISbgA/src/fit/proxgrad.jl:64\n",
      "┌ Warning: Proximal GD did not converge in 1000 iterations.\n",
      "└ @ MLJLinearModels /Users/alexpanchot/.julia/packages/MLJLinearModels/ISbgA/src/fit/proxgrad.jl:64\n",
      "┌ Warning: Proximal GD did not converge in 1000 iterations.\n",
      "└ @ MLJLinearModels /Users/alexpanchot/.julia/packages/MLJLinearModels/ISbgA/src/fit/proxgrad.jl:64\n",
      "┌ Warning: Proximal GD did not converge in 1000 iterations.\n",
      "└ @ MLJLinearModels /Users/alexpanchot/.julia/packages/MLJLinearModels/ISbgA/src/fit/proxgrad.jl:64\n",
      "┌ Warning: Proximal GD did not converge in 1000 iterations.\n",
      "└ @ MLJLinearModels /Users/alexpanchot/.julia/packages/MLJLinearModels/ISbgA/src/fit/proxgrad.jl:64\n",
      "\u001b[33mEvaluating over 20 metamodels:  90%[======================>  ]  ETA: 0:00:12\u001b[39m┌ Warning: Proximal GD did not converge in 1000 iterations.\n",
      "└ @ MLJLinearModels /Users/alexpanchot/.julia/packages/MLJLinearModels/ISbgA/src/fit/proxgrad.jl:64\n",
      "\u001b[33mEvaluating over 20 metamodels:  95%[=======================> ]  ETA: 0:00:06\u001b[39m┌ Warning: Proximal GD did not converge in 1000 iterations.\n",
      "└ @ MLJLinearModels /Users/alexpanchot/.julia/packages/MLJLinearModels/ISbgA/src/fit/proxgrad.jl:64\n",
      "┌ Warning: Proximal GD did not converge in 1000 iterations.\n",
      "└ @ MLJLinearModels /Users/alexpanchot/.julia/packages/MLJLinearModels/ISbgA/src/fit/proxgrad.jl:64\n",
      "┌ Warning: Proximal GD did not converge in 1000 iterations.\n",
      "└ @ MLJLinearModels /Users/alexpanchot/.julia/packages/MLJLinearModels/ISbgA/src/fit/proxgrad.jl:64\n",
      "┌ Warning: Proximal GD did not converge in 1000 iterations.\n",
      "└ @ MLJLinearModels /Users/alexpanchot/.julia/packages/MLJLinearModels/ISbgA/src/fit/proxgrad.jl:64\n",
      "┌ Warning: Proximal GD did not converge in 1000 iterations.\n",
      "└ @ MLJLinearModels /Users/alexpanchot/.julia/packages/MLJLinearModels/ISbgA/src/fit/proxgrad.jl:64\n",
      "\u001b[33mEvaluating over 20 metamodels: 100%[=========================] Time: 0:02:26\u001b[39m\n"
     ]
    },
    {
     "data": {
      "text/plain": [
       "Machine{ProbabilisticTunedModel{LatinHypercube,…},…} trained 1 time; caches data\n",
       "  args: \n",
       "    1:\tSource @461 ⏎ `Table{AbstractVector{Continuous}}`\n",
       "    2:\tSource @043 ⏎ `AbstractVector{OrderedFactor{2}}`\n"
      ]
     },
     "execution_count": 41,
     "metadata": {},
     "output_type": "execute_result"
    }
   ],
   "source": [
    "\n",
    "r = [\n",
    "    range(LogisticClassifier(), :lambda, lower=0.0,upper=1.0),\n",
    "    range(LogisticClassifier(), :gamma, lower=0.0,upper=1.0),\n",
    "    range(LogisticClassifier(), :penalty, values=[:none,:l1,:l2]),\n",
    "    ]\n",
    "self_tune = TunedModel(\n",
    "    model=LogisticClassifier(),\n",
    "    resampling=StratifiedCV(nfolds=5, rng=123),\n",
    "\n",
    "    tuning=LatinHypercube(),  \n",
    "    range = r,\n",
    "    n=20,\n",
    "    operation=predict_mode, # use for probabalistic \n",
    "    measure = fnr,  # use for deterministic or with predict_mode for probab \n",
    "    acceleration=CPUThreads(),\n",
    ")\n",
    "\n",
    "machbest = machine(\n",
    "    self_tune,\n",
    "     fina[:,[\"mutect\",\"lofreq\",\"vardict\",\"pindel\"]],fina[:,:real])\n",
    "fit!(machbest,verbosity=1 )"
   ]
  },
  {
   "cell_type": "code",
   "execution_count": 42,
   "id": "fd19cde7",
   "metadata": {},
   "outputs": [],
   "source": [
    "# machbest = machine(\n",
    "#     LogisticClassifier(penalty=:none),\n",
    "#     fina[:,[\"mutect\",\"lofreq\",\"vardict\",\"pindel\"]],fina[:,:real] )\n",
    "# fit!(machbest,verbosity=1 )\n",
    "FileIO.save(\"combine$(full).jld2\", Dict(\"mach\"=>machbest    ) ; compress = true\n",
    ")"
   ]
  },
  {
   "cell_type": "code",
   "execution_count": 43,
   "id": "96c2a12c",
   "metadata": {},
   "outputs": [
    {
     "data": {
      "text/plain": [
       "LogisticClassifier(\n",
       "    lambda = 1.0,\n",
       "    gamma = 0.42105263157894735,\n",
       "    penalty = :none,\n",
       "    fit_intercept = true,\n",
       "    penalize_intercept = false,\n",
       "    solver = nothing)"
      ]
     },
     "execution_count": 43,
     "metadata": {},
     "output_type": "execute_result"
    }
   ],
   "source": [
    "fitted_params(machbest).best_model\n",
    "\n"
   ]
  },
  {
   "cell_type": "code",
   "execution_count": 44,
   "id": "5ab139c4",
   "metadata": {},
   "outputs": [],
   "source": [
    "# pr = vec(pdf(MLJ.predict(machbest, fina[:,[\"mutect\",\"lofreq\",\"vardict\"]]),[true]))\n",
    "\n",
    "# yhat=[i > 0.5 for i in pr]\n",
    "# fina.final = pr ;"
   ]
  },
  {
   "cell_type": "code",
   "execution_count": 45,
   "id": "fdafc2a2",
   "metadata": {},
   "outputs": [],
   "source": [
    "# ConfusionMatrix()(yhat,fina[:,:real])"
   ]
  },
  {
   "cell_type": "code",
   "execution_count": 46,
   "id": "8ded20fb",
   "metadata": {},
   "outputs": [],
   "source": [
    "# showtable(filter(x->x.final>0.49,fina))"
   ]
  },
  {
   "cell_type": "code",
   "execution_count": null,
   "id": "3d71f10f",
   "metadata": {},
   "outputs": [],
   "source": []
  },
  {
   "cell_type": "markdown",
   "id": "6d49c832",
   "metadata": {},
   "source": [
    "# FINAL TESTING"
   ]
  },
  {
   "cell_type": "code",
   "execution_count": 54,
   "id": "5a3bae90",
   "metadata": {},
   "outputs": [
    {
     "data": {
      "text/plain": [
       "\"_full\""
      ]
     },
     "execution_count": 54,
     "metadata": {},
     "output_type": "execute_result"
    }
   ],
   "source": [
    "full = \"_full\""
   ]
  },
  {
   "cell_type": "code",
   "execution_count": 55,
   "id": "87f007b7",
   "metadata": {},
   "outputs": [
    {
     "name": "stdout",
     "output_type": "stream",
     "text": [
      "13\n",
      "(114822,)\n",
      "\n",
      "1000 to be predicted on\n",
      "107 are missing\n",
      "76656 to be predicted on\n",
      "75068 are missing\n",
      "9105 to be predicted on\n",
      "7820 are missing\n",
      "86448 to be predicted on\n",
      "85155 are missing\n"
     ]
    }
   ],
   "source": [
    "sample_key, x, y = FileIO.load(\"testdata$(full).jld2\",\"sample_key\",\"x\" ,\"y\");\n",
    "x.col1=collect(1:nrow(x));\n",
    "coldrop = [] #\"FPpass\",\"FILTER_Mutect_PASS\"] # [\"gt_AF_Mutect\",\"AltFwd_Mutect\",\"RefFwd_Mutect\",\"AltRev_Mutect\",\"RefRev_Mutect\",\"gt_AD_ref_Mutect\",\"gt_AD_alt_Mutect\"]\n",
    "for i in names(x)\n",
    "    if i == \"col1\" || i==\"training\" || occursin( \"FILTER_Mutect\",i) || occursin( \"FILTER_Vardict\",i) || occursin( \"FILTER_Lofreq\",i) || occursin( \"FILTER_Pindel\",i)\n",
    "        continue\n",
    "    end\n",
    "    if length(unique(x[:,i])) < 2 #|| occursin(\"Pindel\",i) # || occursin(\"ALT\",i) || occursin(\"REF\",i)\n",
    "        push!(coldrop,i)\n",
    "#         println(i)\n",
    "    end \n",
    "end\n",
    "unique!(coldrop)\n",
    "select!(x, Not(coldrop));\n",
    "println(sum([i==true for i in y]))\n",
    "\n",
    "println(size(y))\n",
    "\n",
    "println()\n",
    "y = y[x.col1]\n",
    "select!(x,Not(\"col1\"));\n",
    "fina=DataFrame(sample=sample_key, mutect=predictor(x,\"Mutect\")[1], lofreq=predictor(x,\"Lofreq\")[1], \n",
    "    vardict=predictor(x,\"Vardict\")[1], pindel=predictor(x,\"Pindel\")[1], real=y);\n",
    "\n",
    "mach = FileIO.load(\"combine$(full).jld2\",\"mach\");\n",
    "pr = vec(pdf(MLJ.predict(mach, fina[:,[\"mutect\",\"lofreq\",\"vardict\",\"pindel\"]]),[true]))\n",
    "\n",
    "\n",
    "fina.final = pr ;\n",
    "\n"
   ]
  },
  {
   "cell_type": "code",
   "execution_count": 56,
   "id": "5f5cccd1",
   "metadata": {},
   "outputs": [],
   "source": [
    "yhat=[i > 0.5 for i in pr];"
   ]
  },
  {
   "cell_type": "code",
   "execution_count": 57,
   "id": "d66458cf",
   "metadata": {},
   "outputs": [
    {
     "data": {
      "text/plain": [
       "              ┌───────────────────────────┐\n",
       "              │       Ground Truth        │\n",
       "┌─────────────┼─────────────┬─────────────┤\n",
       "│  Predicted  │    false    │    true     │\n",
       "├─────────────┼─────────────┼─────────────┤\n",
       "│    false    │   114804    │      8      │\n",
       "├─────────────┼─────────────┼─────────────┤\n",
       "│    true     │      5      │      5      │\n",
       "└─────────────┴─────────────┴─────────────┘\n"
      ]
     },
     "execution_count": 57,
     "metadata": {},
     "output_type": "execute_result"
    }
   ],
   "source": [
    "ConfusionMatrix()(yhat,fina[:,:real])"
   ]
  },
  {
   "cell_type": "code",
   "execution_count": 58,
   "id": "0be75449",
   "metadata": {},
   "outputs": [
    {
     "data": {
      "application/vnd.webio.node+json": {
       "children": [
        {
         "children": [
          {
           "children": [
            ""
           ],
           "instanceArgs": {
            "namespace": "html",
            "tag": "div"
           },
           "nodeType": "DOM",
           "props": {
            "style": {
             "background-color": "#F5F7F7",
             "color": "#1c1f20",
             "font-family": "-apple-system, BlinkMacSystemFont, \"Segoe UI\", Roboto, Oxygen-Sans, Ubuntu, Cantarell, \"Helvetica Neue\", sans-serif",
             "height": "0",
             "padding": "0"
            }
           },
           "type": "node"
          },
          {
           "children": [],
           "instanceArgs": {
            "namespace": "html",
            "tag": "div"
           },
           "nodeType": "DOM",
           "props": {
            "className": "ag-theme-balham",
            "id": "grid-d561bb62",
            "style": {
             "height": "106px",
             "width": "100%"
            }
           },
           "type": "node"
          }
         ],
         "instanceArgs": {
          "namespace": "html",
          "tag": "div"
         },
         "nodeType": "DOM",
         "props": {},
         "type": "node"
        }
       ],
       "instanceArgs": {
        "handlers": {},
        "id": "6932005947411193363",
        "imports": {
         "data": [
          {
           "name": null,
           "type": "js",
           "url": "/assetserver/ff7cedeb3c0be1fe3b78420e39e5831529252e27-rowNumberRenderer.js"
          },
          {
           "name": null,
           "type": "js",
           "url": "/assetserver/bd0edaba5158ded95855aef34fd8f3dd96ae49fb-ag-grid.js"
          },
          {
           "name": null,
           "type": "css",
           "url": "/assetserver/77a698eb508b878c6fc123d504f8b478c0953d4e-ag-grid.css"
          },
          {
           "name": null,
           "type": "css",
           "url": "/assetserver/e32886774615890ea3135fc2948c5a5d84679ad0-ag-grid-light.css"
          },
          {
           "name": null,
           "type": "css",
           "url": "/assetserver/d729992f1accd067e59a3e0aef7bd027c5dbf032-ag-grid-dark.css"
          }
         ],
         "type": "async_block"
        },
        "mount_callbacks": [
         "function () {\n    var handler = ((function (RowNumberRenderer,agGrid){var gridOptions={\"onCellFocused\":(function (ev){var x={}; (ev.rowIndex!==undefined) ? (x[\"rowIndex\"]=(ev.rowIndex+1)) : undefined; (ev.colDef!==undefined) ? (x[\"column\"]=ev.colDef.headerName) : undefined; return WebIO.setval({\"name\":\"onCellFocused\",\"scope\":\"6932005947411193363\",\"id\":\"9056902061574391255\",\"type\":\"observable\"},x)}),\"onCellValueChanged\":(function (){return }),\"rowSelection\":\"multiple\",\"multiSortKey\":\"ctrl\",\"columnDefs\":[{\"filter\":false,\"editable\":false,\"headerTooltip\":\"\",\"field\":\"__row__\",\"headerName\":\"Row\",\"sortable\":true,\"type\":\"numericColumn\",\"cellRenderer\":\"rowNumberRenderer\",\"resizable\":true},{\"filter\":true,\"editable\":false,\"headerTooltip\":\"String\",\"field\":\"sample\",\"headerName\":\"sample\",\"sortable\":true,\"type\":null,\"resizable\":true},{\"filter\":\"agNumberColumnFilter\",\"editable\":false,\"headerTooltip\":\"Float64\",\"field\":\"mutect\",\"headerName\":\"mutect\",\"sortable\":true,\"type\":\"numericColumn\",\"resizable\":true},{\"filter\":\"agNumberColumnFilter\",\"editable\":false,\"headerTooltip\":\"Float64\",\"field\":\"lofreq\",\"headerName\":\"lofreq\",\"sortable\":true,\"type\":\"numericColumn\",\"resizable\":true},{\"filter\":\"agNumberColumnFilter\",\"editable\":false,\"headerTooltip\":\"Float64\",\"field\":\"vardict\",\"headerName\":\"vardict\",\"sortable\":true,\"type\":\"numericColumn\",\"resizable\":true},{\"filter\":\"agNumberColumnFilter\",\"editable\":false,\"headerTooltip\":\"Float64\",\"field\":\"pindel\",\"headerName\":\"pindel\",\"sortable\":true,\"type\":\"numericColumn\",\"resizable\":true},{\"filter\":true,\"editable\":false,\"headerTooltip\":\"CategoricalArrays.CategoricalValue{Bool, UInt32}\",\"field\":\"real\",\"headerName\":\"real\",\"sortable\":true,\"type\":null,\"resizable\":true},{\"filter\":\"agNumberColumnFilter\",\"editable\":false,\"headerTooltip\":\"Float64\",\"field\":\"final\",\"headerName\":\"final\",\"sortable\":true,\"type\":\"numericColumn\",\"resizable\":true},{\"filter\":\"agNumberColumnFilter\",\"editable\":false,\"headerTooltip\":\"Union{Missing, Float32}\",\"field\":\"vaf\",\"headerName\":\"vaf\",\"sortable\":true,\"type\":\"numericColumn\",\"resizable\":true}],\"onCellDoubleClicked\":(function (ev){var x={}; (ev.rowIndex!==undefined) ? (x[\"rowIndex\"]=(ev.rowIndex+1)) : undefined; (ev.colDef!==undefined) ? (x[\"column\"]=ev.colDef.headerName) : undefined; return WebIO.setval({\"name\":\"onCellDoubleClicked\",\"scope\":\"6932005947411193363\",\"id\":\"10014046536229808435\",\"type\":\"observable\"},x)}),\"onRowClicked\":(function (ev){var x={}; (ev.rowIndex!==undefined) ? (x[\"rowIndex\"]=(ev.rowIndex+1)) : undefined; (ev.colDef!==undefined) ? (x[\"column\"]=ev.colDef.headerName) : undefined; return WebIO.setval({\"name\":\"onRowClicked\",\"scope\":\"6932005947411193363\",\"id\":\"15978738755658032703\",\"type\":\"observable\"},x)}),\"onCellKeyDown\":(function (ev){var x={}; (ev.rowIndex!==undefined) ? (x[\"rowIndex\"]=(ev.rowIndex+1)) : undefined; (ev.colDef!==undefined) ? (x[\"column\"]=ev.colDef.headerName) : undefined; return WebIO.setval({\"name\":\"onCellKeyDown\",\"scope\":\"6932005947411193363\",\"id\":\"13275080360807948431\",\"type\":\"observable\"},x)}),\"rowData\":[{\"sample\":\"761809_T 20:31022441 A>AG\",\"mutect\":0.0,\"lofreq\":0.9999932681863449,\"vardict\":0.0651444279615494,\"pindel\":0.1245990431809514,\"real\":\"false\",\"final\":1.0,\"vaf\":0.016421},{\"sample\":\"809382_T 20:31022441 A>AG\",\"mutect\":0.0,\"lofreq\":0.9999998505742625,\"vardict\":0.09056153059217413,\"pindel\":0.24813331767771152,\"real\":\"false\",\"final\":1.0,\"vaf\":0.015418}],\"onCellClicked\":(function (ev){var x={}; (ev.rowIndex!==undefined) ? (x[\"rowIndex\"]=(ev.rowIndex+1)) : undefined; (ev.colDef!==undefined) ? (x[\"column\"]=ev.colDef.headerName) : undefined; return WebIO.setval({\"name\":\"onCellClicked\",\"scope\":\"6932005947411193363\",\"id\":\"15274541743601089892\",\"type\":\"observable\"},x)})}; var el=document.getElementById(\"grid-d561bb62\"); gridOptions.components={\"rowNumberRenderer\":RowNumberRenderer}; false ? (agGrid.LicenseManager.setLicenseKey(null)) : undefined; this.table=new agGrid.Grid(el,gridOptions); return gridOptions.columnApi.autoSizeAllColumns()}));\n    (WebIO.importBlock({\"data\":[{\"name\":null,\"type\":\"js\",\"url\":\"/assetserver/ff7cedeb3c0be1fe3b78420e39e5831529252e27-rowNumberRenderer.js\"},{\"name\":null,\"type\":\"js\",\"url\":\"/assetserver/bd0edaba5158ded95855aef34fd8f3dd96ae49fb-ag-grid.js\"},{\"name\":null,\"type\":\"css\",\"url\":\"/assetserver/77a698eb508b878c6fc123d504f8b478c0953d4e-ag-grid.css\"},{\"name\":null,\"type\":\"css\",\"url\":\"/assetserver/e32886774615890ea3135fc2948c5a5d84679ad0-ag-grid-light.css\"},{\"name\":null,\"type\":\"css\",\"url\":\"/assetserver/d729992f1accd067e59a3e0aef7bd027c5dbf032-ag-grid-dark.css\"}],\"type\":\"async_block\"})).then((imports) => handler.apply(this, imports));\n}\n"
        ],
        "observables": {
         "onCellClicked": {
          "id": "15274541743601089892",
          "sync": false,
          "value": null
         },
         "onCellDoubleClicked": {
          "id": "10014046536229808435",
          "sync": false,
          "value": null
         },
         "onCellFocused": {
          "id": "9056902061574391255",
          "sync": false,
          "value": null
         },
         "onCellKeyDown": {
          "id": "13275080360807948431",
          "sync": false,
          "value": null
         },
         "onRowClicked": {
          "id": "15978738755658032703",
          "sync": false,
          "value": null
         }
        },
        "systemjs_options": null
       },
       "nodeType": "Scope",
       "props": {},
       "type": "node"
      },
      "text/html": [
       "<div\n",
       "    class=\"webio-mountpoint\"\n",
       "    data-webio-mountpoint=\"16681693508598030289\"\n",
       ">\n",
       "    <script>\n",
       "    (function(){\n",
       "    // Some integrations (namely, IJulia/Jupyter) use an alternate render pathway than\n",
       "    // just putting the html on the page. If WebIO isn't defined, then it's pretty likely\n",
       "    // that we're in one of those situations and the integration just isn't installed\n",
       "    // correctly.\n",
       "    if (typeof window.WebIO === \"undefined\") {\n",
       "        document\n",
       "            .querySelector('[data-webio-mountpoint=\"16681693508598030289\"]')\n",
       "            .innerHTML = (\n",
       "                '<div style=\"padding: 1em; background-color: #f8d6da; border: 1px solid #f5c6cb; font-weight: bold;\">' +\n",
       "                '<p><strong>WebIO not detected.</strong></p>' +\n",
       "                '<p>Please read ' +\n",
       "                '<a href=\"https://juliagizmos.github.io/WebIO.jl/latest/troubleshooting/not-detected/\" target=\"_blank\">the troubleshooting guide</a> ' +\n",
       "                'for more information on how to resolve this issue.</p>' +\n",
       "                '<p><a href=\"https://juliagizmos.github.io/WebIO.jl/latest/troubleshooting/not-detected/\" target=\"_blank\">https://juliagizmos.github.io/WebIO.jl/latest/troubleshooting/not-detected/</a></p>' +\n",
       "                '</div>'\n",
       "            );\n",
       "        return;\n",
       "    }\n",
       "    WebIO.mount(\n",
       "        document.querySelector('[data-webio-mountpoint=\"16681693508598030289\"]'),\n",
       "        {\"props\":{},\"nodeType\":\"Scope\",\"type\":\"node\",\"instanceArgs\":{\"imports\":{\"data\":[{\"name\":null,\"type\":\"js\",\"url\":\"\\/assetserver\\/ff7cedeb3c0be1fe3b78420e39e5831529252e27-rowNumberRenderer.js\"},{\"name\":null,\"type\":\"js\",\"url\":\"\\/assetserver\\/bd0edaba5158ded95855aef34fd8f3dd96ae49fb-ag-grid.js\"},{\"name\":null,\"type\":\"css\",\"url\":\"\\/assetserver\\/77a698eb508b878c6fc123d504f8b478c0953d4e-ag-grid.css\"},{\"name\":null,\"type\":\"css\",\"url\":\"\\/assetserver\\/e32886774615890ea3135fc2948c5a5d84679ad0-ag-grid-light.css\"},{\"name\":null,\"type\":\"css\",\"url\":\"\\/assetserver\\/d729992f1accd067e59a3e0aef7bd027c5dbf032-ag-grid-dark.css\"}],\"type\":\"async_block\"},\"id\":\"6932005947411193363\",\"handlers\":{},\"systemjs_options\":null,\"mount_callbacks\":[\"function () {\\n    var handler = ((function (RowNumberRenderer,agGrid){var gridOptions={\\\"onCellFocused\\\":(function (ev){var x={}; (ev.rowIndex!==undefined) ? (x[\\\"rowIndex\\\"]=(ev.rowIndex+1)) : undefined; (ev.colDef!==undefined) ? (x[\\\"column\\\"]=ev.colDef.headerName) : undefined; return WebIO.setval({\\\"name\\\":\\\"onCellFocused\\\",\\\"scope\\\":\\\"6932005947411193363\\\",\\\"id\\\":\\\"9056902061574391255\\\",\\\"type\\\":\\\"observable\\\"},x)}),\\\"onCellValueChanged\\\":(function (){return }),\\\"rowSelection\\\":\\\"multiple\\\",\\\"multiSortKey\\\":\\\"ctrl\\\",\\\"columnDefs\\\":[{\\\"filter\\\":false,\\\"editable\\\":false,\\\"headerTooltip\\\":\\\"\\\",\\\"field\\\":\\\"__row__\\\",\\\"headerName\\\":\\\"Row\\\",\\\"sortable\\\":true,\\\"type\\\":\\\"numericColumn\\\",\\\"cellRenderer\\\":\\\"rowNumberRenderer\\\",\\\"resizable\\\":true},{\\\"filter\\\":true,\\\"editable\\\":false,\\\"headerTooltip\\\":\\\"String\\\",\\\"field\\\":\\\"sample\\\",\\\"headerName\\\":\\\"sample\\\",\\\"sortable\\\":true,\\\"type\\\":null,\\\"resizable\\\":true},{\\\"filter\\\":\\\"agNumberColumnFilter\\\",\\\"editable\\\":false,\\\"headerTooltip\\\":\\\"Float64\\\",\\\"field\\\":\\\"mutect\\\",\\\"headerName\\\":\\\"mutect\\\",\\\"sortable\\\":true,\\\"type\\\":\\\"numericColumn\\\",\\\"resizable\\\":true},{\\\"filter\\\":\\\"agNumberColumnFilter\\\",\\\"editable\\\":false,\\\"headerTooltip\\\":\\\"Float64\\\",\\\"field\\\":\\\"lofreq\\\",\\\"headerName\\\":\\\"lofreq\\\",\\\"sortable\\\":true,\\\"type\\\":\\\"numericColumn\\\",\\\"resizable\\\":true},{\\\"filter\\\":\\\"agNumberColumnFilter\\\",\\\"editable\\\":false,\\\"headerTooltip\\\":\\\"Float64\\\",\\\"field\\\":\\\"vardict\\\",\\\"headerName\\\":\\\"vardict\\\",\\\"sortable\\\":true,\\\"type\\\":\\\"numericColumn\\\",\\\"resizable\\\":true},{\\\"filter\\\":\\\"agNumberColumnFilter\\\",\\\"editable\\\":false,\\\"headerTooltip\\\":\\\"Float64\\\",\\\"field\\\":\\\"pindel\\\",\\\"headerName\\\":\\\"pindel\\\",\\\"sortable\\\":true,\\\"type\\\":\\\"numericColumn\\\",\\\"resizable\\\":true},{\\\"filter\\\":true,\\\"editable\\\":false,\\\"headerTooltip\\\":\\\"CategoricalArrays.CategoricalValue{Bool, UInt32}\\\",\\\"field\\\":\\\"real\\\",\\\"headerName\\\":\\\"real\\\",\\\"sortable\\\":true,\\\"type\\\":null,\\\"resizable\\\":true},{\\\"filter\\\":\\\"agNumberColumnFilter\\\",\\\"editable\\\":false,\\\"headerTooltip\\\":\\\"Float64\\\",\\\"field\\\":\\\"final\\\",\\\"headerName\\\":\\\"final\\\",\\\"sortable\\\":true,\\\"type\\\":\\\"numericColumn\\\",\\\"resizable\\\":true},{\\\"filter\\\":\\\"agNumberColumnFilter\\\",\\\"editable\\\":false,\\\"headerTooltip\\\":\\\"Union{Missing, Float32}\\\",\\\"field\\\":\\\"vaf\\\",\\\"headerName\\\":\\\"vaf\\\",\\\"sortable\\\":true,\\\"type\\\":\\\"numericColumn\\\",\\\"resizable\\\":true}],\\\"onCellDoubleClicked\\\":(function (ev){var x={}; (ev.rowIndex!==undefined) ? (x[\\\"rowIndex\\\"]=(ev.rowIndex+1)) : undefined; (ev.colDef!==undefined) ? (x[\\\"column\\\"]=ev.colDef.headerName) : undefined; return WebIO.setval({\\\"name\\\":\\\"onCellDoubleClicked\\\",\\\"scope\\\":\\\"6932005947411193363\\\",\\\"id\\\":\\\"10014046536229808435\\\",\\\"type\\\":\\\"observable\\\"},x)}),\\\"onRowClicked\\\":(function (ev){var x={}; (ev.rowIndex!==undefined) ? (x[\\\"rowIndex\\\"]=(ev.rowIndex+1)) : undefined; (ev.colDef!==undefined) ? (x[\\\"column\\\"]=ev.colDef.headerName) : undefined; return WebIO.setval({\\\"name\\\":\\\"onRowClicked\\\",\\\"scope\\\":\\\"6932005947411193363\\\",\\\"id\\\":\\\"15978738755658032703\\\",\\\"type\\\":\\\"observable\\\"},x)}),\\\"onCellKeyDown\\\":(function (ev){var x={}; (ev.rowIndex!==undefined) ? (x[\\\"rowIndex\\\"]=(ev.rowIndex+1)) : undefined; (ev.colDef!==undefined) ? (x[\\\"column\\\"]=ev.colDef.headerName) : undefined; return WebIO.setval({\\\"name\\\":\\\"onCellKeyDown\\\",\\\"scope\\\":\\\"6932005947411193363\\\",\\\"id\\\":\\\"13275080360807948431\\\",\\\"type\\\":\\\"observable\\\"},x)}),\\\"rowData\\\":[{\\\"sample\\\":\\\"761809_T 20:31022441 A>AG\\\",\\\"mutect\\\":0.0,\\\"lofreq\\\":0.9999932681863449,\\\"vardict\\\":0.0651444279615494,\\\"pindel\\\":0.1245990431809514,\\\"real\\\":\\\"false\\\",\\\"final\\\":1.0,\\\"vaf\\\":0.016421},{\\\"sample\\\":\\\"809382_T 20:31022441 A>AG\\\",\\\"mutect\\\":0.0,\\\"lofreq\\\":0.9999998505742625,\\\"vardict\\\":0.09056153059217413,\\\"pindel\\\":0.24813331767771152,\\\"real\\\":\\\"false\\\",\\\"final\\\":1.0,\\\"vaf\\\":0.015418}],\\\"onCellClicked\\\":(function (ev){var x={}; (ev.rowIndex!==undefined) ? (x[\\\"rowIndex\\\"]=(ev.rowIndex+1)) : undefined; (ev.colDef!==undefined) ? (x[\\\"column\\\"]=ev.colDef.headerName) : undefined; return WebIO.setval({\\\"name\\\":\\\"onCellClicked\\\",\\\"scope\\\":\\\"6932005947411193363\\\",\\\"id\\\":\\\"15274541743601089892\\\",\\\"type\\\":\\\"observable\\\"},x)})}; var el=document.getElementById(\\\"grid-d561bb62\\\"); gridOptions.components={\\\"rowNumberRenderer\\\":RowNumberRenderer}; false ? (agGrid.LicenseManager.setLicenseKey(null)) : undefined; this.table=new agGrid.Grid(el,gridOptions); return gridOptions.columnApi.autoSizeAllColumns()}));\\n    (WebIO.importBlock({\\\"data\\\":[{\\\"name\\\":null,\\\"type\\\":\\\"js\\\",\\\"url\\\":\\\"\\/assetserver\\/ff7cedeb3c0be1fe3b78420e39e5831529252e27-rowNumberRenderer.js\\\"},{\\\"name\\\":null,\\\"type\\\":\\\"js\\\",\\\"url\\\":\\\"\\/assetserver\\/bd0edaba5158ded95855aef34fd8f3dd96ae49fb-ag-grid.js\\\"},{\\\"name\\\":null,\\\"type\\\":\\\"css\\\",\\\"url\\\":\\\"\\/assetserver\\/77a698eb508b878c6fc123d504f8b478c0953d4e-ag-grid.css\\\"},{\\\"name\\\":null,\\\"type\\\":\\\"css\\\",\\\"url\\\":\\\"\\/assetserver\\/e32886774615890ea3135fc2948c5a5d84679ad0-ag-grid-light.css\\\"},{\\\"name\\\":null,\\\"type\\\":\\\"css\\\",\\\"url\\\":\\\"\\/assetserver\\/d729992f1accd067e59a3e0aef7bd027c5dbf032-ag-grid-dark.css\\\"}],\\\"type\\\":\\\"async_block\\\"})).then((imports) => handler.apply(this, imports));\\n}\\n\"],\"observables\":{\"onCellKeyDown\":{\"sync\":false,\"id\":\"13275080360807948431\",\"value\":null},\"onRowClicked\":{\"sync\":false,\"id\":\"15978738755658032703\",\"value\":null},\"onCellDoubleClicked\":{\"sync\":false,\"id\":\"10014046536229808435\",\"value\":null},\"onCellClicked\":{\"sync\":false,\"id\":\"15274541743601089892\",\"value\":null},\"onCellFocused\":{\"sync\":false,\"id\":\"9056902061574391255\",\"value\":null}}},\"children\":[{\"props\":{},\"nodeType\":\"DOM\",\"type\":\"node\",\"instanceArgs\":{\"namespace\":\"html\",\"tag\":\"div\"},\"children\":[{\"props\":{\"style\":{\"height\":\"0\",\"padding\":\"0\",\"background-color\":\"#F5F7F7\",\"color\":\"#1c1f20\",\"font-family\":\"-apple-system, BlinkMacSystemFont, \\\"Segoe UI\\\", Roboto, Oxygen-Sans, Ubuntu, Cantarell, \\\"Helvetica Neue\\\", sans-serif\"}},\"nodeType\":\"DOM\",\"type\":\"node\",\"instanceArgs\":{\"namespace\":\"html\",\"tag\":\"div\"},\"children\":[\"\"]},{\"props\":{\"id\":\"grid-d561bb62\",\"className\":\"ag-theme-balham\",\"style\":{\"height\":\"106px\",\"width\":\"100%\"}},\"nodeType\":\"DOM\",\"type\":\"node\",\"instanceArgs\":{\"namespace\":\"html\",\"tag\":\"div\"},\"children\":[]}]}]},\n",
       "        window,\n",
       "    );\n",
       "    })()\n",
       "    </script>\n",
       "</div>\n"
      ],
      "text/plain": [
       "WebIO.Scope(WebIO.Node{WebIO.DOM}(WebIO.DOM(:html, :div), Any[WebIO.Node{WebIO.DOM}(WebIO.DOM(:html, :div), Any[\"\"], Dict{Symbol, Any}(:style => Dict(\"height\" => \"0\", \"padding\" => \"0\", \"background-color\" => \"#F5F7F7\", \"color\" => \"#1c1f20\", \"font-family\" => \"-apple-system, BlinkMacSystemFont, \\\"Segoe UI\\\", Roboto, Oxygen-Sans, Ubuntu, Cantarell, \\\"Helvetica Neue\\\", sans-serif\"))), WebIO.Node{WebIO.DOM}(WebIO.DOM(:html, :div), Any[], Dict{Symbol, Any}(:id => \"grid-d561bb62\", :className => \"ag-theme-balham\", :style => Dict(\"height\" => \"106px\", \"width\" => \"100%\")))], Dict{Symbol, Any}()), Dict{String, Tuple{Observables.AbstractObservable, Union{Nothing, Bool}}}(\"onCellKeyDown\" => (Observable{Any} with 0 listeners. Value:\n",
       "nothing, nothing), \"onRowClicked\" => (Observable{Any} with 0 listeners. Value:\n",
       "nothing, nothing), \"onCellDoubleClicked\" => (Observable{Any} with 0 listeners. Value:\n",
       "nothing, nothing), \"onCellClicked\" => (Observable{Any} with 0 listeners. Value:\n",
       "nothing, nothing), \"onCellFocused\" => (Observable{Any} with 0 listeners. Value:\n",
       "nothing, nothing)), Set{String}(), nothing, WebIO.Asset[WebIO.Asset(\"js\", nothing, \"/Users/alexpanchot/.julia/packages/TableView/CaHPi/src/rowNumberRenderer.js\"), WebIO.Asset(\"js\", nothing, \"/Users/alexpanchot/.julia/packages/TableView/CaHPi/deps/ag-grid-25.2.0/ag-grid.js\"), WebIO.Asset(\"css\", nothing, \"/Users/alexpanchot/.julia/packages/TableView/CaHPi/deps/ag-grid-25.2.0/ag-grid.css\"), WebIO.Asset(\"css\", nothing, \"/Users/alexpanchot/.julia/packages/TableView/CaHPi/deps/ag-grid-25.2.0/ag-grid-light.css\"), WebIO.Asset(\"css\", nothing, \"/Users/alexpanchot/.julia/packages/TableView/CaHPi/deps/ag-grid-25.2.0/ag-grid-dark.css\")], Dict{Any, Any}(), WebIO.ConnectionPool(Channel{Any}(32), Set{WebIO.AbstractConnection}(), Condition(Base.InvasiveLinkedList{Task}(Task (runnable) @0x000000016a552ed0, Task (runnable) @0x000000016a552ed0), Base.AlwaysLockedST(1))), WebIO.JSString[WebIO.JSString(\"function () {\\n    var handler = ((function (RowNumberRenderer,agGrid){var gridOptions={\\\"onCellFocused\\\":(function (ev){var x={}; (ev.rowIndex!==undefined) ? (x[\\\"rowIndex\\\"]=(ev.rowIndex+1)) : undefined; (ev.colDef!==undefined) ? (x[\\\"column\\\"]=ev.colDef.headerName) : undefined; return WebIO.setval({\\\"name\\\":\\\"onCellFocused\\\",\\\"scope\\\":\\\"6932005947411193363\\\",\\\"id\\\":\\\"9056902061574391255\\\",\\\"type\\\":\\\"observable\\\"},x)}),\\\"onCellValueChanged\\\":(function (){return }),\\\"rowSelection\\\":\\\"multiple\\\",\\\"multiSortKey\\\":\\\"ctrl\\\",\\\"columnDefs\\\":[{\\\"filter\\\":false,\\\"editable\\\":false,\\\"headerTooltip\\\":\\\"\\\",\\\"field\\\":\\\"__row__\\\",\\\"headerName\\\":\\\"Row\\\",\\\"sortable\\\":true,\\\"type\\\":\\\"numericColumn\\\",\\\"cellRenderer\\\":\\\"rowNumberRenderer\\\",\\\"resizable\\\":true},{\\\"filter\\\":true,\\\"editable\\\":false,\\\"headerTooltip\\\":\\\"String\\\",\\\"field\\\":\\\"sample\\\",\\\"headerName\\\":\\\"sample\\\",\\\"sortable\\\":true,\\\"type\\\":null,\\\"resizable\\\":true},{\\\"filter\\\":\\\"agNumberColumnFilter\\\",\\\"editable\\\":false,\\\"headerTooltip\\\":\\\"Float64\\\",\\\"field\\\":\\\"mutect\\\",\\\"headerName\\\":\\\"mutect\\\",\\\"sortable\\\":true,\\\"type\\\":\\\"numericColumn\\\",\\\"resizable\\\":true},{\\\"filter\\\":\\\"agNumberColumnFilter\\\",\\\"editable\\\":false,\\\"headerTooltip\\\":\\\"Float64\\\",\\\"field\\\":\\\"lofreq\\\",\\\"headerName\\\":\\\"lofreq\\\",\\\"sortable\\\":true,\\\"type\\\":\\\"numericColumn\\\",\\\"resizable\\\":true},{\\\"filter\\\":\\\"agNumberColumnFilter\\\",\\\"editable\\\":false,\\\"headerTooltip\\\":\\\"Float64\\\",\\\"field\\\":\\\"vardict\\\",\\\"headerName\\\":\\\"vardict\\\",\\\"sortable\\\":true,\\\"type\\\":\\\"numericColumn\\\",\\\"resizable\\\":true},{\\\"filter\\\":\\\"agNumberColumnFilter\\\",\\\"editable\\\":false,\\\"headerTooltip\\\":\\\"Float64\\\",\\\"field\\\":\\\"pindel\\\",\\\"headerName\\\":\\\"pindel\\\",\\\"sortable\\\":true,\\\"type\\\":\\\"numericColumn\\\",\\\"resizable\\\":true},{\\\"filter\\\":true,\\\"editable\\\":false,\\\"headerTooltip\\\":\\\"CategoricalArrays.CategoricalValue{Bool, UInt32}\\\",\\\"field\\\":\\\"real\\\",\\\"headerName\\\":\\\"real\\\",\\\"sortable\\\":true,\\\"type\\\":null,\\\"resizable\\\":true},{\\\"filter\\\":\\\"agNumberColumnFilter\\\",\\\"editable\\\":false,\\\"headerTooltip\\\":\\\"Float64\\\",\\\"field\\\":\\\"final\\\",\\\"headerName\\\":\\\"final\\\",\\\"sortable\\\":true,\\\"type\\\":\\\"numericColumn\\\",\\\"resizable\\\":true},{\\\"filter\\\":\\\"agNumberColumnFilter\\\",\\\"editable\\\":false,\\\"headerTooltip\\\":\\\"Union{Missing, Float32}\\\",\\\"field\\\":\\\"vaf\\\",\\\"headerName\\\":\\\"vaf\\\",\\\"sortable\\\":true,\\\"type\\\":\\\"numericColumn\\\",\\\"resizable\\\":true}],\\\"onCellDoubleClicked\\\":(function (ev){var x={}; (ev.rowIndex!==undefined) ? (x[\\\"rowIndex\\\"]=(ev.rowIndex+1)) : undefined; (ev.colDef!==undefined) ? (x[\\\"column\\\"]=ev.colDef.headerName) : undefined; return WebIO.setval({\\\"name\\\":\\\"onCellDoubleClicked\\\",\\\"scope\\\":\\\"6932005947411193363\\\",\\\"id\\\":\\\"10014046536229808435\\\",\\\"type\\\":\\\"observable\\\"},x)}),\\\"onRowClicked\\\":(function (ev){var x={}; (ev.rowIndex!==undefined) ? (x[\\\"rowIndex\\\"]=(ev.rowIndex+1)) : undefined; (ev.colDef!==undefined) ? (x[\\\"column\\\"]=ev.colDef.headerName) : undefined; return WebIO.setval({\\\"name\\\":\\\"onRowClicked\\\",\\\"scope\\\":\\\"6932005947411193363\\\",\\\"id\\\":\\\"15978738755658032703\\\",\\\"type\\\":\\\"observable\\\"},x)}),\\\"onCellKeyDown\\\":(function (ev){var x={}; (ev.rowIndex!==undefined) ? (x[\\\"rowIndex\\\"]=(ev.rowIndex+1)) : undefined; (ev.colDef!==undefined) ? (x[\\\"column\\\"]=ev.colDef.headerName) : undefined; return WebIO.setval({\\\"name\\\":\\\"onCellKeyDown\\\",\\\"scope\\\":\\\"6932005947411193363\\\",\\\"id\\\":\\\"13275080360807948431\\\",\\\"type\\\":\\\"observable\\\"},x)}),\\\"rowData\\\":[{\\\"sample\\\":\\\"761809_T 20:31022441 A>AG\\\",\\\"mutect\\\":0.0,\\\"lofreq\\\":0.9999932681863449,\\\"vardict\\\":0.0651444279615494,\\\"pindel\\\":0.1245990431809514,\\\"real\\\":\\\"false\\\",\\\"final\\\":1.0,\\\"vaf\\\":0.016421},{\\\"sample\\\":\\\"809382_T 20:31022441 A>AG\\\",\\\"mutect\\\":0.0,\\\"lofreq\\\":0.9999998505742625,\\\"vardict\\\":0.09056153059217413,\\\"pindel\\\":0.24813331767771152,\\\"real\\\":\\\"false\\\",\\\"final\\\":1.0,\\\"vaf\\\":0.015418}],\\\"onCellClicked\\\":(function (ev){var x={}; (ev.rowIndex!==undefined) ? (x[\\\"rowIndex\\\"]=(ev.rowIndex+1)) : undefined; (ev.colDef!==undefined) ? (x[\\\"column\\\"]=ev.colDef.headerName) : undefined; return WebIO.setval({\\\"name\\\":\\\"onCellClicked\\\",\\\"scope\\\":\\\"6932005947411193363\\\",\\\"id\\\":\\\"15274541743601089892\\\",\\\"type\\\":\\\"observable\\\"},x)})}; var el=document.getElementById(\\\"grid-d561bb62\\\"); gridOptions.components={\\\"rowNumberRenderer\\\":RowNumberRenderer}; false ? (agGrid.LicenseManager.setLicenseKey(null)) : undefined; this.table=new agGrid.Grid(el,gridOptions); return gridOptions.columnApi.autoSizeAllColumns()}));\\n    (WebIO.importBlock({\\\"data\\\":[{\\\"name\\\":null,\\\"type\\\":\\\"js\\\",\\\"url\\\":\\\"/assetserver/ff7cedeb3c0be1fe3b78420e39e5831529252e27-rowNumberRenderer.js\\\"},{\\\"name\\\":null,\\\"type\\\":\\\"js\\\",\\\"url\\\":\\\"/assetserver/bd0edaba5158ded95855aef34fd8f3dd96ae49fb-ag-grid.js\\\"},{\\\"name\\\":null,\\\"type\\\":\\\"css\\\",\\\"url\\\":\\\"/assetserver/77a698eb508b878c6fc123d504f8b478c0953d4e-ag-grid.css\\\"},{\\\"name\\\":null,\\\"type\\\":\\\"css\\\",\\\"url\\\":\\\"/assetserver/e32886774615890ea3135fc2948c5a5d84679ad0-ag-grid-light.css\\\"},{\\\"name\\\":null,\\\"type\\\":\\\"css\\\",\\\"url\\\":\\\"/assetserver/d729992f1accd067e59a3e0aef7bd027c5dbf032-ag-grid-dark.css\\\"}],\\\"type\\\":\\\"async_block\\\"})).then((imports) => handler.apply(this, imports));\\n}\\n\")])"
      ]
     },
     "execution_count": 58,
     "metadata": {
      "application/vnd.webio.node+json": {
       "kernelId": "937469c8-814c-4e86-845b-ed731e242b20"
      }
     },
     "output_type": "execute_result"
    }
   ],
   "source": [
    "fina.vaf = x.gt_AF_Lofreq\n",
    "showtable(filter(x->x.real==false && x.final> 0.5 && x.vaf > 0.001,fina))"
   ]
  },
  {
   "cell_type": "code",
   "execution_count": 53,
   "id": "edfa2fbb",
   "metadata": {},
   "outputs": [
    {
     "data": {
      "text/plain": [
       "\"/Users/alexpanchot/Documents/Caller_preds/caller_predictions/indel_log\""
      ]
     },
     "execution_count": 53,
     "metadata": {},
     "output_type": "execute_result"
    }
   ],
   "source": [
    "pwd()"
   ]
  },
  {
   "cell_type": "code",
   "execution_count": null,
   "id": "8e4ea74f",
   "metadata": {},
   "outputs": [],
   "source": []
  }
 ],
 "metadata": {
  "@webio": {
   "lastCommId": "6adbefa83dfa4fa9899e1ae044e342ba",
   "lastKernelId": "0b9231f2-df35-4424-986e-d4f9f5c54fed"
  },
  "kernelspec": {
   "display_name": "Julia 1.6.2",
   "language": "julia",
   "name": "julia-1.6"
  },
  "language_info": {
   "file_extension": ".jl",
   "mimetype": "application/julia",
   "name": "julia",
   "version": "1.6.2"
  }
 },
 "nbformat": 4,
 "nbformat_minor": 5
}
