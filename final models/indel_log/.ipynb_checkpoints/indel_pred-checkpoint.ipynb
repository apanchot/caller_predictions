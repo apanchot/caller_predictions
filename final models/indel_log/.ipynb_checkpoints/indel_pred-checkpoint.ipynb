{
 "cells": [
  {
   "cell_type": "code",
   "execution_count": 405,
   "id": "697b82ee",
   "metadata": {},
   "outputs": [],
   "source": [
    "import CSV\n",
    "using DataFrames\n",
    "# using StatsBase\n",
    "include(\"$(dirname(pwd()))/pred_funcs.jl\")\n",
    "using MLJ\n",
    "# import MLJBase\n",
    "import TableView.showtable\n",
    "using Plots\n",
    "import FileIO\n",
    "import Statistics\n",
    "import LinearAlgebra\n",
    "using StatsPlots\n",
    "using Random\n",
    "Random.seed!(0);\n",
    "using StatsBase\n",
    "import MLJBase"
   ]
  },
  {
   "cell_type": "code",
   "execution_count": 406,
   "id": "039cddbb",
   "metadata": {},
   "outputs": [
    {
     "data": {
      "text/plain": [
       "EvoTrees.EvoTreeClassifier"
      ]
     },
     "execution_count": 406,
     "metadata": {},
     "output_type": "execute_result"
    }
   ],
   "source": [
    "MissingImputator = @load MissingImputator pkg=\"BetaML\" verbosity=0\n",
    "LogisticClassifier = @load LogisticClassifier pkg=\"MLJLinearModels\" verbosity=0;  # loads code defining a model type\n",
    "EvoTreeClassifier = @load EvoTreeClassifier verbosity=0"
   ]
  },
  {
   "cell_type": "code",
   "execution_count": 407,
   "id": "cce9fe95",
   "metadata": {},
   "outputs": [
    {
     "data": {
      "text/plain": [
       "\"\""
      ]
     },
     "execution_count": 407,
     "metadata": {},
     "output_type": "execute_result"
    }
   ],
   "source": [
    "full = \"\""
   ]
  },
  {
   "cell_type": "code",
   "execution_count": 408,
   "id": "962348a7",
   "metadata": {},
   "outputs": [
    {
     "name": "stdout",
     "output_type": "stream",
     "text": [
      "94626\n",
      "15006\n",
      "15006\n",
      "6480\n"
     ]
    }
   ],
   "source": [
    "\n",
    "sample_key2, xold, yold = FileIO.load(\"$(dirname(pwd()))/data$(full).jld2\",\"sample_key\",\"x\" ,\"y\");\n",
    "\n",
    "\n",
    "xold.col1=collect(1:nrow(xold));\n",
    "println(nrow(xold))\n",
    "filter!(x->x.ALTREF_I ≈ 1,xold)\n",
    "println(nrow(xold))\n",
    "# filter!(x->x.ALT_I>0.5 || x.REF_I>0.5,xold) # indel\n",
    "# filter!(x->x.ALT_I<0.5 && x.REF_I<0.5,xold) # SNV\n",
    "println(nrow(xold))\n",
    "filter!(x->x.training>0.5,xold)\n",
    "# select!(xold,Not(\"training\"));\n",
    "println(nrow(xold))\n",
    "# filter!(x->!ismissing(x.dust_score_Mutect),xold);\n",
    "# println(nrow(xold))\n",
    "\n",
    "yold = yold[xold.col1]\n",
    "# println(xold[findall(x->x,[i==true for i in yold]),\"col1\"])\n",
    "# println(xold[findall(x->!x,[i==true for i in yold]),\"col1\"])\n",
    "sample_key2 = sample_key2[xold.col1]\n",
    "select!(xold,Not(\"col1\"));"
   ]
  },
  {
   "cell_type": "code",
   "execution_count": 409,
   "id": "cfdde65a",
   "metadata": {},
   "outputs": [],
   "source": [
    "for j in 1:ncol(xold), i in 1:nrow(xold)\n",
    "    if !ismissing(xold[i,j]) && (isnan(xold[i,j]) || isinf(xold[i,j]) )\n",
    "        xold[i,j] = missing\n",
    "    end\n",
    "end"
   ]
  },
  {
   "cell_type": "code",
   "execution_count": 410,
   "id": "ad657881",
   "metadata": {},
   "outputs": [],
   "source": [
    "train2, test2 = partition(eachindex(yold), 0.5, stratify=yold,  shuffle=true, rng=12344);\n",
    "\n",
    "select!(xold,Not(\"training\"));"
   ]
  },
  {
   "cell_type": "code",
   "execution_count": 411,
   "id": "7d79ba1e",
   "metadata": {},
   "outputs": [
    {
     "data": {
      "text/plain": [
       "8"
      ]
     },
     "execution_count": 411,
     "metadata": {},
     "output_type": "execute_result"
    }
   ],
   "source": [
    "sum([i==true for i in yold[train2]])"
   ]
  },
  {
   "cell_type": "code",
   "execution_count": 412,
   "id": "96019349",
   "metadata": {},
   "outputs": [
    {
     "data": {
      "text/plain": [
       "7"
      ]
     },
     "execution_count": 412,
     "metadata": {},
     "output_type": "execute_result"
    }
   ],
   "source": [
    "sum([i==true for i in yold[test2]])"
   ]
  },
  {
   "cell_type": "code",
   "execution_count": 413,
   "id": "0a74c68b",
   "metadata": {},
   "outputs": [
    {
     "data": {
      "text/plain": [
       "477"
      ]
     },
     "execution_count": 413,
     "metadata": {},
     "output_type": "execute_result"
    }
   ],
   "source": [
    "sum(.~ismissing.(xold[train2,:dust_score_Vardict]))"
   ]
  },
  {
   "cell_type": "code",
   "execution_count": 414,
   "id": "ebfa1b7e",
   "metadata": {},
   "outputs": [],
   "source": [
    "FileIO.save(\"testdata$(full).jld2\", Dict(\"sample_key\"=>sample_key2[test2],\"x\" => xold[test2,:],\n",
    "        \"y\" => yold[test2], \n",
    "    ) ; compress = true\n",
    ")\n",
    "FileIO.save(\"traindata$(full).jld2\", Dict(\"sample_key\"=>sample_key2[train2],\"x\" => xold[train2,:],\n",
    "        \"y\" => yold[train2], \n",
    "    ) ; compress = true\n",
    ")"
   ]
  },
  {
   "cell_type": "markdown",
   "id": "b6e6631d",
   "metadata": {},
   "source": [
    "# Mutect"
   ]
  },
  {
   "cell_type": "code",
   "execution_count": 415,
   "id": "92a3d23e",
   "metadata": {},
   "outputs": [],
   "source": [
    "x = copy(xold[train2,:]);\n",
    "y = copy(yold[train2]);"
   ]
  },
  {
   "cell_type": "code",
   "execution_count": 416,
   "id": "087880db",
   "metadata": {},
   "outputs": [
    {
     "name": "stdout",
     "output_type": "stream",
     "text": [
      "8\n",
      "(3240,)\n",
      "\n",
      "(634, 62)\n",
      "(634,)\n",
      "8\n"
     ]
    }
   ],
   "source": [
    "x.col1=collect(1:nrow(x));\n",
    "coldrop = [] #\"FPpass\",\"FILTER_Mutect_PASS\"] # [\"gt_AF_Mutect\",\"AltFwd_Mutect\",\"RefFwd_Mutect\",\"AltRev_Mutect\",\"RefRev_Mutect\",\"gt_AD_ref_Mutect\",\"gt_AD_alt_Mutect\"]\n",
    "for i in names(x)\n",
    "    if i == \"col1\" || i==\"training\" || occursin( \"FILTER_Mutect\",i)\n",
    "        continue\n",
    "    end\n",
    "    if length(unique(x[:,i])) < 2 || occursin(\"Pindel\",i) || occursin(\"Lofreq\",i) || occursin(\"Vardict\",i) # || occursin(\"ALT\",i) || occursin(\"REF\",i)\n",
    "        push!(coldrop,i)\n",
    "#         println(i)\n",
    "    end \n",
    "end\n",
    "unique!(coldrop)\n",
    "select!(x, Not(coldrop));\n",
    "println(sum([i==true for i in y]))\n",
    "# println(nrow(xold))\n",
    "# dropmissing!(xold)\n",
    "# println(nrow(xold))\n",
    "filter!(x->!ismissing(x.dust_score_Mutect),x);\n",
    "println(size(y))\n",
    "# println(length(sample_key2))\n",
    "println()\n",
    "y = y[x.col1]\n",
    "# println(xold[findall(x->x,[i==true for i in yold]),\"col1\"])\n",
    "# println(xold[findall(x->!x,[i==true for i in yold]),\"col1\"])\n",
    "# sample_key2 = sample_key2[x.col1]\n",
    "select!(x,Not(\"col1\"));\n",
    "\n",
    "println(size(x))\n",
    "println(size(y))\n",
    "# println(length(sample_key2))\n",
    "println(sum([i==true for i in y]));\n"
   ]
  },
  {
   "cell_type": "code",
   "execution_count": 417,
   "id": "f806a116",
   "metadata": {},
   "outputs": [],
   "source": [
    "transform_log!(x,10)"
   ]
  },
  {
   "cell_type": "code",
   "execution_count": 418,
   "id": "d176af4b",
   "metadata": {},
   "outputs": [],
   "source": [
    "stnd = fit_standardizer(x)\n",
    "transform_standardizer!(x,stnd);"
   ]
  },
  {
   "cell_type": "code",
   "execution_count": 419,
   "id": "2ade0a16",
   "metadata": {},
   "outputs": [
    {
     "name": "stdout",
     "output_type": "stream",
     "text": [
      "20\n"
     ]
    }
   ],
   "source": [
    "println(sum(ismissing.(Matrix(x))))"
   ]
  },
  {
   "cell_type": "code",
   "execution_count": 420,
   "id": "615c97ef",
   "metadata": {},
   "outputs": [
    {
     "name": "stderr",
     "output_type": "stream",
     "text": [
      "┌ Info: Training Machine{MissingImputator,…}.\n",
      "└ @ MLJBase /Users/alexpanchot/.julia/packages/MLJBase/HZmTU/src/machines.jl:403\n"
     ]
    },
    {
     "name": "stdout",
     "output_type": "stream",
     "text": [
      "  0.240383 seconds (1.12 M allocations: 179.307 MiB, 24.22% gc time)\n"
     ]
    },
    {
     "data": {
      "text/plain": [
       "Machine{MissingImputator,…} trained 1 time; caches data\n",
       "  args: \n",
       "    1:\tSource @143 ⏎ `Table{Union{AbstractVector{Union{Missing, Continuous}}, AbstractVector{Continuous}}}`\n"
      ]
     },
     "execution_count": 420,
     "metadata": {},
     "output_type": "execute_result"
    }
   ],
   "source": [
    "imputemach = machine(MissingImputator(K=5),x) \n",
    "@time fit!(imputemach,verbosity=1)"
   ]
  },
  {
   "cell_type": "code",
   "execution_count": 421,
   "id": "f8252933",
   "metadata": {},
   "outputs": [],
   "source": [
    "tt = MLJ.transform(imputemach,x);\n",
    "for i in 1:ncol(x)\n",
    "    x[:,i] = tt[i]\n",
    "end"
   ]
  },
  {
   "cell_type": "code",
   "execution_count": 422,
   "id": "5bada5a0",
   "metadata": {},
   "outputs": [],
   "source": [
    "disallowmissing!(x);"
   ]
  },
  {
   "cell_type": "code",
   "execution_count": 423,
   "id": "3d9dcc29",
   "metadata": {},
   "outputs": [
    {
     "name": "stdout",
     "output_type": "stream",
     "text": [
      "(634, 62) 8\n",
      "(634,)\n"
     ]
    }
   ],
   "source": [
    "println(size(x),\" \",sum([i==true for i in y] ) )\n",
    "println(size(y))\n"
   ]
  },
  {
   "cell_type": "code",
   "execution_count": 424,
   "id": "f99007e8",
   "metadata": {},
   "outputs": [],
   "source": [
    "# x,y,train,test,sample_key = sampler(x,y,train,test,sample_key,\"under\",0.8);\n",
    "# x,y,train,test,sample_key = sampler(x,y,train,test,sample_key,\"over\",0.2);"
   ]
  },
  {
   "cell_type": "code",
   "execution_count": 425,
   "id": "14d38897",
   "metadata": {},
   "outputs": [],
   "source": [
    "y = coerce(copy(y),OrderedFactor);"
   ]
  },
  {
   "cell_type": "code",
   "execution_count": 426,
   "id": "88e44b38",
   "metadata": {},
   "outputs": [
    {
     "name": "stdout",
     "output_type": "stream",
     "text": [
      "(634, 62) 8\n",
      "(634,)\n"
     ]
    }
   ],
   "source": [
    "println(size(x),\" \",sum([i==true for i in y] ) )\n",
    "println(size(y))"
   ]
  },
  {
   "cell_type": "code",
   "execution_count": 427,
   "id": "db5a5aa1",
   "metadata": {},
   "outputs": [
    {
     "data": {
      "text/plain": [
       "8-element Vector{MLJBase.NumericRange{T, MLJBase.Bounded, Symbol} where T}:\n",
       " NumericRange(2 ≤ max_depth ≤ 8; origin=5.0, unit=3.0)\n",
       " NumericRange(0.0 ≤ η ≤ 1.0; origin=0.5, unit=0.5)\n",
       " NumericRange(0.0 ≤ γ ≤ 1.0; origin=0.5, unit=0.5)\n",
       " NumericRange(0.0 ≤ λ ≤ 1.0; origin=0.5, unit=0.5)\n",
       " NumericRange(0.0 ≤ α ≤ 1.0; origin=0.5, unit=0.5)\n",
       " NumericRange(0.0 ≤ min_weight ≤ 1.0; origin=0.5, unit=0.5)\n",
       " NumericRange(1 ≤ nrounds ≤ 10; origin=5.5, unit=4.5)\n",
       " NumericRange(4 ≤ nbins ≤ 128; origin=66.0, unit=62.0)"
      ]
     },
     "execution_count": 427,
     "metadata": {},
     "output_type": "execute_result"
    }
   ],
   "source": [
    "\n",
    "r = [\n",
    "    range(EvoTreeClassifier(), :max_depth, lower=2,upper=8),\n",
    "    range(EvoTreeClassifier(), :η, lower=0.0,upper=1.0),\n",
    "    range(EvoTreeClassifier(), :γ, lower=0.0,upper=1.0),\n",
    "    range(EvoTreeClassifier(), :λ, lower=0.0,upper=1.0),\n",
    "    range(EvoTreeClassifier(), :α, lower=0.0,upper=1.0),\n",
    "    range(EvoTreeClassifier(), :min_weight, lower=0.0,upper=1.0),\n",
    "    range(EvoTreeClassifier(), :nrounds, lower=1,upper=10),\n",
    "    range(EvoTreeClassifier(), :nbins, lower=4, upper=128),\n",
    "    \n",
    "    \n",
    "#     range(LogisticClassifier(), :lambda, lower=0.0,upper=1.0),\n",
    "#     range(LogisticClassifier(), :gamma, lower=0.0,upper=1.0),\n",
    "]"
   ]
  },
  {
   "cell_type": "code",
   "execution_count": 428,
   "id": "ce88cbe6",
   "metadata": {},
   "outputs": [
    {
     "name": "stderr",
     "output_type": "stream",
     "text": [
      "┌ Info: Training Machine{ProbabilisticTunedModel{LatinHypercube,…},…}.\n",
      "└ @ MLJBase /Users/alexpanchot/.julia/packages/MLJBase/HZmTU/src/machines.jl:403\n",
      "┌ Info: Attempting to evaluate 200 models.\n",
      "└ @ MLJTuning /Users/alexpanchot/.julia/packages/MLJTuning/efiDR/src/tuned_models.jl:685\n",
      "\u001b[33mEvaluating over 200 metamodels: 100%[=========================] Time: 0:01:48\u001b[39m\n"
     ]
    },
    {
     "data": {
      "text/plain": [
       "Machine{ProbabilisticTunedModel{LatinHypercube,…},…} trained 1 time; caches data\n",
       "  args: \n",
       "    1:\tSource @270 ⏎ `Table{AbstractVector{Continuous}}`\n",
       "    2:\tSource @184 ⏎ `AbstractVector{OrderedFactor{2}}`\n"
      ]
     },
     "execution_count": 428,
     "metadata": {},
     "output_type": "execute_result"
    }
   ],
   "source": [
    "self_tune = TunedModel(\n",
    "#     model=LogisticClassifier(penalty=:l1),\n",
    "    model=EvoTreeClassifier(),\n",
    "    \n",
    "    resampling=StratifiedCV(nfolds=5, rng=123),\n",
    "\n",
    "    tuning=LatinHypercube(),  #     tuning=Grid(resolution=2), \n",
    "    range = r,\n",
    "    n=200,\n",
    "    operation=predict_mode, # use for probabalistic \n",
    "    measure = fnr,  # use for deterministic or with predict_mode for probab \n",
    "    acceleration=CPUThreads(),\n",
    ")\n",
    "\n",
    "machbest = machine(\n",
    "    self_tune,\n",
    "    x,y)\n",
    "fit!(machbest,verbosity=1 )\n",
    "\n"
   ]
  },
  {
   "cell_type": "code",
   "execution_count": 429,
   "id": "f99ae1d6",
   "metadata": {},
   "outputs": [
    {
     "name": "stderr",
     "output_type": "stream",
     "text": [
      "┌ Info: Training Machine{EvoTreeClassifier{Float64,…},…}.\n",
      "└ @ MLJBase /Users/alexpanchot/.julia/packages/MLJBase/HZmTU/src/machines.jl:403\n"
     ]
    },
    {
     "data": {
      "text/plain": [
       "Machine{EvoTreeClassifier{Float64,…},…} trained 1 time; caches data\n",
       "  args: \n",
       "    1:\tSource @576 ⏎ `Table{AbstractVector{Continuous}}`\n",
       "    2:\tSource @601 ⏎ `AbstractVector{OrderedFactor{2}}`\n"
      ]
     },
     "execution_count": 429,
     "metadata": {},
     "output_type": "execute_result"
    }
   ],
   "source": [
    "mach = machine(\n",
    "    fitted_params(machbest).best_model,\n",
    "    x,y)\n",
    "fit!(mach,verbosity=4 )"
   ]
  },
  {
   "cell_type": "code",
   "execution_count": 430,
   "id": "88d993d7",
   "metadata": {},
   "outputs": [],
   "source": [
    "FileIO.save(\"mutect$(full).jld2\", Dict(\"mach\"=>mach,\"stnd\" => stnd,\n",
    "        \"imputemach\" => imputemach, \n",
    "    ) ; compress = true\n",
    ")"
   ]
  },
  {
   "cell_type": "markdown",
   "id": "f1524aa7",
   "metadata": {},
   "source": [
    "# Vardict"
   ]
  },
  {
   "cell_type": "code",
   "execution_count": 431,
   "id": "6f59d66a",
   "metadata": {},
   "outputs": [],
   "source": [
    "x = copy(xold[train2,:]);\n",
    "y = copy(yold[train2]);"
   ]
  },
  {
   "cell_type": "code",
   "execution_count": 432,
   "id": "6dd1bbc4",
   "metadata": {},
   "outputs": [
    {
     "name": "stdout",
     "output_type": "stream",
     "text": [
      "8\n",
      "(3240,)\n",
      "\n",
      "(477, 55)\n",
      "(477,)\n",
      "8\n"
     ]
    }
   ],
   "source": [
    "x.col1=collect(1:nrow(x));\n",
    "coldrop = [] #\"FPpass\",\"FILTER_Mutect_PASS\"] # [\"gt_AF_Mutect\",\"AltFwd_Mutect\",\"RefFwd_Mutect\",\"AltRev_Mutect\",\"RefRev_Mutect\",\"gt_AD_ref_Mutect\",\"gt_AD_alt_Mutect\"]\n",
    "for i in names(x)\n",
    "    if i == \"col1\" || i==\"training\" || occursin( \"FILTER_Vardict\",i)\n",
    "        continue\n",
    "    end\n",
    "    if length(unique(x[:,i])) < 2 || occursin(\"Pindel\",i) || occursin(\"Lofreq\",i) || occursin(\"Mutect\",i) # || occursin(\"ALT\",i) || occursin(\"REF\",i)\n",
    "        push!(coldrop,i)\n",
    "#         println(i)\n",
    "    end \n",
    "end\n",
    "unique!(coldrop)\n",
    "select!(x, Not(coldrop));\n",
    "println(sum([i==true for i in y]))\n",
    "# println(nrow(xold))\n",
    "# dropmissing!(xold)\n",
    "# println(nrow(xold))\n",
    "filter!(x->!ismissing(x.dust_score_Vardict),x);\n",
    "println(size(y))\n",
    "# println(length(sample_key2))\n",
    "println()\n",
    "y = y[x.col1]\n",
    "# println(xold[findall(x->x,[i==true for i in yold]),\"col1\"])\n",
    "# println(xold[findall(x->!x,[i==true for i in yold]),\"col1\"])\n",
    "# sample_key2 = sample_key2[x.col1]\n",
    "select!(x,Not(\"col1\"));\n",
    "\n",
    "println(size(x))\n",
    "println(size(y))\n",
    "# println(length(sample_key2))\n",
    "println(sum([i==true for i in y]));\n",
    "\n"
   ]
  },
  {
   "cell_type": "code",
   "execution_count": 433,
   "id": "5a45cf6b",
   "metadata": {},
   "outputs": [
    {
     "name": "stdout",
     "output_type": "stream",
     "text": [
      "14\n"
     ]
    }
   ],
   "source": [
    "transform_log!(x,10)\n",
    "stnd = fit_standardizer(x)\n",
    "transform_standardizer!(x,stnd);\n",
    "println(sum(ismissing.(Matrix(x))))"
   ]
  },
  {
   "cell_type": "code",
   "execution_count": 434,
   "id": "4bd23aed",
   "metadata": {},
   "outputs": [
    {
     "name": "stderr",
     "output_type": "stream",
     "text": [
      "┌ Info: Training Machine{MissingImputator,…}.\n",
      "└ @ MLJBase /Users/alexpanchot/.julia/packages/MLJBase/HZmTU/src/machines.jl:403\n"
     ]
    },
    {
     "name": "stdout",
     "output_type": "stream",
     "text": [
      "  0.781191 seconds (2.26 M allocations: 336.070 MiB, 62.66% gc time)\n"
     ]
    },
    {
     "data": {
      "text/plain": [
       "Machine{MissingImputator,…} trained 1 time; caches data\n",
       "  args: \n",
       "    1:\tSource @755 ⏎ `Table{Union{AbstractVector{Union{Missing, Continuous}}, AbstractVector{Continuous}}}`\n"
      ]
     },
     "execution_count": 434,
     "metadata": {},
     "output_type": "execute_result"
    }
   ],
   "source": [
    "imputemach = machine(MissingImputator(K=5),x) \n",
    "@time fit!(imputemach,verbosity=1)"
   ]
  },
  {
   "cell_type": "code",
   "execution_count": 435,
   "id": "d20428f3",
   "metadata": {},
   "outputs": [],
   "source": [
    "tt = MLJ.transform(imputemach,x);\n",
    "for i in 1:ncol(x)\n",
    "    x[:,i] = tt[i]\n",
    "end\n",
    "disallowmissing!(x);"
   ]
  },
  {
   "cell_type": "code",
   "execution_count": 436,
   "id": "38c0609e",
   "metadata": {},
   "outputs": [
    {
     "name": "stdout",
     "output_type": "stream",
     "text": [
      "(477, 55) 8\n",
      "(477,)\n",
      "(477, 55) 8\n",
      "(477,)\n"
     ]
    }
   ],
   "source": [
    "println(size(x),\" \",sum([i==true for i in y] ) )\n",
    "println(size(y))\n",
    "# x,y,train,test,sample_key = sampler(x,y,train,test,sample_key,\"under\",0.8);\n",
    "# x,y,train,test,sample_key = sampler(x,y,train,test,sample_key,\"over\",0.2);\n",
    "\n",
    "y = coerce(copy(y),OrderedFactor);\n",
    "\n",
    "println(size(x),\" \",sum([i==true for i in y] ) )\n",
    "println(size(y))"
   ]
  },
  {
   "cell_type": "code",
   "execution_count": 437,
   "id": "ff7418ff",
   "metadata": {},
   "outputs": [
    {
     "data": {
      "text/plain": [
       "8-element Vector{MLJBase.NumericRange{T, MLJBase.Bounded, Symbol} where T}:\n",
       " NumericRange(2 ≤ max_depth ≤ 8; origin=5.0, unit=3.0)\n",
       " NumericRange(0.0 ≤ η ≤ 1.0; origin=0.5, unit=0.5)\n",
       " NumericRange(0.0 ≤ γ ≤ 1.0; origin=0.5, unit=0.5)\n",
       " NumericRange(0.0 ≤ λ ≤ 1.0; origin=0.5, unit=0.5)\n",
       " NumericRange(0.0 ≤ α ≤ 1.0; origin=0.5, unit=0.5)\n",
       " NumericRange(0.0 ≤ min_weight ≤ 1.0; origin=0.5, unit=0.5)\n",
       " NumericRange(1 ≤ nrounds ≤ 10; origin=5.5, unit=4.5)\n",
       " NumericRange(4 ≤ nbins ≤ 128; origin=66.0, unit=62.0)"
      ]
     },
     "execution_count": 437,
     "metadata": {},
     "output_type": "execute_result"
    }
   ],
   "source": [
    "\n",
    "r = [\n",
    "    range(EvoTreeClassifier(), :max_depth, lower=2,upper=8),\n",
    "    range(EvoTreeClassifier(), :η, lower=0.0,upper=1.0),\n",
    "    range(EvoTreeClassifier(), :γ, lower=0.0,upper=1.0),\n",
    "    range(EvoTreeClassifier(), :λ, lower=0.0,upper=1.0),\n",
    "    range(EvoTreeClassifier(), :α, lower=0.0,upper=1.0),\n",
    "    range(EvoTreeClassifier(), :min_weight, lower=0.0,upper=1.0),\n",
    "    range(EvoTreeClassifier(), :nrounds, lower=1,upper=10),\n",
    "    range(EvoTreeClassifier(), :nbins, lower=4, upper=128),\n",
    "    \n",
    "    \n",
    "#     range(LogisticClassifier(), :lambda, lower=0.0,upper=1.0),\n",
    "#     range(LogisticClassifier(), :gamma, lower=0.0,upper=1.0),\n",
    "]"
   ]
  },
  {
   "cell_type": "code",
   "execution_count": 438,
   "id": "994aa282",
   "metadata": {},
   "outputs": [
    {
     "name": "stderr",
     "output_type": "stream",
     "text": [
      "┌ Info: Training Machine{ProbabilisticTunedModel{LatinHypercube,…},…}.\n",
      "└ @ MLJBase /Users/alexpanchot/.julia/packages/MLJBase/HZmTU/src/machines.jl:403\n",
      "┌ Info: Attempting to evaluate 200 models.\n",
      "└ @ MLJTuning /Users/alexpanchot/.julia/packages/MLJTuning/efiDR/src/tuned_models.jl:685\n",
      "\u001b[33mEvaluating over 200 metamodels: 100%[=========================] Time: 0:01:31\u001b[39m\n",
      "┌ Info: Training Machine{EvoTreeClassifier{Float64,…},…}.\n",
      "└ @ MLJBase /Users/alexpanchot/.julia/packages/MLJBase/HZmTU/src/machines.jl:403\n"
     ]
    },
    {
     "data": {
      "text/plain": [
       "Machine{EvoTreeClassifier{Float64,…},…} trained 1 time; caches data\n",
       "  args: \n",
       "    1:\tSource @412 ⏎ `Table{AbstractVector{Continuous}}`\n",
       "    2:\tSource @169 ⏎ `AbstractVector{OrderedFactor{2}}`\n"
      ]
     },
     "execution_count": 438,
     "metadata": {},
     "output_type": "execute_result"
    }
   ],
   "source": [
    "self_tune = TunedModel(\n",
    "#     model=LogisticClassifier(penalty=:l1),\n",
    "    model=EvoTreeClassifier(),\n",
    "    \n",
    "    resampling=StratifiedCV(nfolds=5, rng=123),\n",
    "\n",
    "    tuning=LatinHypercube(),  #     tuning=Grid(resolution=2), \n",
    "    range = r,\n",
    "    n=200,\n",
    "    operation=predict_mode, # use for probabalistic \n",
    "    measure = fnr,  # use for deterministic or with predict_mode for probab \n",
    "    acceleration=CPUThreads(),\n",
    ")\n",
    "\n",
    "machbest = machine(\n",
    "    self_tune,\n",
    "    x,y)\n",
    "fit!(machbest,verbosity=1 )\n",
    "\n",
    "mach = machine(\n",
    "    fitted_params(machbest).best_model,\n",
    "    x,y)\n",
    "fit!(mach,verbosity=1 )\n"
   ]
  },
  {
   "cell_type": "code",
   "execution_count": 439,
   "id": "d47807d8",
   "metadata": {},
   "outputs": [],
   "source": [
    "FileIO.save(\"vardict$(full).jld2\", Dict(\"mach\"=>mach,\"stnd\" => stnd,\n",
    "        \"imputemach\" => imputemach, \n",
    "    ) ; compress = true\n",
    ")"
   ]
  },
  {
   "cell_type": "markdown",
   "id": "d5553e6e",
   "metadata": {},
   "source": [
    "# Lofreq"
   ]
  },
  {
   "cell_type": "code",
   "execution_count": 440,
   "id": "39ae7bfa",
   "metadata": {},
   "outputs": [],
   "source": [
    "x = copy(xold[train2,:]);\n",
    "y = copy(yold[train2]);"
   ]
  },
  {
   "cell_type": "code",
   "execution_count": 441,
   "id": "0ff042b7",
   "metadata": {},
   "outputs": [
    {
     "name": "stdout",
     "output_type": "stream",
     "text": [
      "8\n",
      "(3240,)\n",
      "\n",
      "(227, 42)\n",
      "(227,)\n",
      "8\n"
     ]
    }
   ],
   "source": [
    "x.col1=collect(1:nrow(x));\n",
    "coldrop = [] #\"FPpass\",\"FILTER_Mutect_PASS\"] # [\"gt_AF_Mutect\",\"AltFwd_Mutect\",\"RefFwd_Mutect\",\"AltRev_Mutect\",\"RefRev_Mutect\",\"gt_AD_ref_Mutect\",\"gt_AD_alt_Mutect\"]\n",
    "for i in names(x)\n",
    "    if i == \"col1\" || i==\"training\" || occursin( \"FILTER_Lofreq\",i)\n",
    "        continue\n",
    "    end\n",
    "    if length(unique(x[:,i])) < 2 || occursin(\"Pindel\",i) || occursin(\"Vardict\",i) || occursin(\"Mutect\",i) # || occursin(\"ALT\",i) || occursin(\"REF\",i)\n",
    "        push!(coldrop,i)\n",
    "#         println(i)\n",
    "    end \n",
    "end\n",
    "unique!(coldrop)\n",
    "select!(x, Not(coldrop));\n",
    "println(sum([i==true for i in y]))\n",
    "# println(nrow(xold))\n",
    "# dropmissing!(xold)\n",
    "# println(nrow(xold))\n",
    "filter!(x->!ismissing(x.dust_score_Lofreq),x);\n",
    "println(size(y))\n",
    "# println(length(sample_key2))\n",
    "println()\n",
    "y = y[x.col1]\n",
    "# println(xold[findall(x->x,[i==true for i in yold]),\"col1\"])\n",
    "# println(xold[findall(x->!x,[i==true for i in yold]),\"col1\"])\n",
    "# sample_key2 = sample_key2[x.col1]\n",
    "select!(x,Not(\"col1\"));\n",
    "\n",
    "println(size(x))\n",
    "println(size(y))\n",
    "# println(length(sample_key2))\n",
    "println(sum([i==true for i in y]));\n",
    "\n",
    "\n"
   ]
  },
  {
   "cell_type": "code",
   "execution_count": 442,
   "id": "ccbc7943",
   "metadata": {},
   "outputs": [
    {
     "name": "stdout",
     "output_type": "stream",
     "text": [
      "16\n"
     ]
    }
   ],
   "source": [
    "transform_log!(x,10)\n",
    "stnd = fit_standardizer(x)\n",
    "transform_standardizer!(x,stnd);\n",
    "println(sum(ismissing.(Matrix(x))))"
   ]
  },
  {
   "cell_type": "code",
   "execution_count": 443,
   "id": "e50ec425",
   "metadata": {},
   "outputs": [
    {
     "name": "stderr",
     "output_type": "stream",
     "text": [
      "┌ Info: Training Machine{MissingImputator,…}.\n",
      "└ @ MLJBase /Users/alexpanchot/.julia/packages/MLJBase/HZmTU/src/machines.jl:403\n"
     ]
    },
    {
     "name": "stdout",
     "output_type": "stream",
     "text": [
      "  0.561730 seconds (688.73 k allocations: 84.460 MiB, 85.61% gc time)\n"
     ]
    },
    {
     "data": {
      "text/plain": [
       "Machine{MissingImputator,…} trained 1 time; caches data\n",
       "  args: \n",
       "    1:\tSource @045 ⏎ `Table{Union{AbstractVector{Union{Missing, Continuous}}, AbstractVector{Continuous}}}`\n"
      ]
     },
     "execution_count": 443,
     "metadata": {},
     "output_type": "execute_result"
    }
   ],
   "source": [
    "imputemach = machine(MissingImputator(K=5),x) \n",
    "@time fit!(imputemach,verbosity=1)"
   ]
  },
  {
   "cell_type": "code",
   "execution_count": 444,
   "id": "f111467d",
   "metadata": {},
   "outputs": [],
   "source": [
    "tt = MLJ.transform(imputemach,x);\n",
    "for i in 1:ncol(x)\n",
    "    x[:,i] = tt[i]\n",
    "end\n",
    "disallowmissing!(x);"
   ]
  },
  {
   "cell_type": "code",
   "execution_count": 445,
   "id": "ca17233c",
   "metadata": {},
   "outputs": [
    {
     "name": "stdout",
     "output_type": "stream",
     "text": [
      "(227, 42) 8\n",
      "(227,)\n",
      "(227, 42) 8\n",
      "(227,)\n"
     ]
    }
   ],
   "source": [
    "println(size(x),\" \",sum([i==true for i in y] ) )\n",
    "println(size(y))\n",
    "# x,y,train,test,sample_key = sampler(x,y,train,test,sample_key,\"under\",0.8);\n",
    "# x,y,train,test,sample_key = sampler(x,y,train,test,sample_key,\"over\",0.2);\n",
    "\n",
    "y = coerce(copy(y),OrderedFactor);\n",
    "\n",
    "println(size(x),\" \",sum([i==true for i in y] ) )\n",
    "println(size(y))"
   ]
  },
  {
   "cell_type": "code",
   "execution_count": 446,
   "id": "85b90d8f",
   "metadata": {},
   "outputs": [
    {
     "data": {
      "text/plain": [
       "8-element Vector{MLJBase.NumericRange{T, MLJBase.Bounded, Symbol} where T}:\n",
       " NumericRange(2 ≤ max_depth ≤ 8; origin=5.0, unit=3.0)\n",
       " NumericRange(0.0 ≤ η ≤ 1.0; origin=0.5, unit=0.5)\n",
       " NumericRange(0.0 ≤ γ ≤ 1.0; origin=0.5, unit=0.5)\n",
       " NumericRange(0.0 ≤ λ ≤ 1.0; origin=0.5, unit=0.5)\n",
       " NumericRange(0.0 ≤ α ≤ 1.0; origin=0.5, unit=0.5)\n",
       " NumericRange(0.0 ≤ min_weight ≤ 1.0; origin=0.5, unit=0.5)\n",
       " NumericRange(1 ≤ nrounds ≤ 10; origin=5.5, unit=4.5)\n",
       " NumericRange(4 ≤ nbins ≤ 128; origin=66.0, unit=62.0)"
      ]
     },
     "execution_count": 446,
     "metadata": {},
     "output_type": "execute_result"
    }
   ],
   "source": [
    "\n",
    "r = [\n",
    "    range(EvoTreeClassifier(), :max_depth, lower=2,upper=8),\n",
    "    range(EvoTreeClassifier(), :η, lower=0.0,upper=1.0),\n",
    "    range(EvoTreeClassifier(), :γ, lower=0.0,upper=1.0),\n",
    "    range(EvoTreeClassifier(), :λ, lower=0.0,upper=1.0),\n",
    "    range(EvoTreeClassifier(), :α, lower=0.0,upper=1.0),\n",
    "    range(EvoTreeClassifier(), :min_weight, lower=0.0,upper=1.0),\n",
    "    range(EvoTreeClassifier(), :nrounds, lower=1,upper=10),\n",
    "    range(EvoTreeClassifier(), :nbins, lower=4, upper=128),\n",
    "    \n",
    "    \n",
    "#     range(LogisticClassifier(), :lambda, lower=0.0,upper=1.0),\n",
    "#     range(LogisticClassifier(), :gamma, lower=0.0,upper=1.0),\n",
    "]"
   ]
  },
  {
   "cell_type": "code",
   "execution_count": 447,
   "id": "a7c74ef7",
   "metadata": {},
   "outputs": [
    {
     "name": "stderr",
     "output_type": "stream",
     "text": [
      "┌ Info: Training Machine{ProbabilisticTunedModel{LatinHypercube,…},…}.\n",
      "└ @ MLJBase /Users/alexpanchot/.julia/packages/MLJBase/HZmTU/src/machines.jl:403\n",
      "┌ Info: Attempting to evaluate 200 models.\n",
      "└ @ MLJTuning /Users/alexpanchot/.julia/packages/MLJTuning/efiDR/src/tuned_models.jl:685\n",
      "\u001b[33mEvaluating over 200 metamodels: 100%[=========================] Time: 0:00:52\u001b[39m\n",
      "┌ Info: Training Machine{EvoTreeClassifier{Float64,…},…}.\n",
      "└ @ MLJBase /Users/alexpanchot/.julia/packages/MLJBase/HZmTU/src/machines.jl:403\n"
     ]
    },
    {
     "data": {
      "text/plain": [
       "Machine{EvoTreeClassifier{Float64,…},…} trained 1 time; caches data\n",
       "  args: \n",
       "    1:\tSource @827 ⏎ `Table{AbstractVector{Continuous}}`\n",
       "    2:\tSource @579 ⏎ `AbstractVector{OrderedFactor{2}}`\n"
      ]
     },
     "execution_count": 447,
     "metadata": {},
     "output_type": "execute_result"
    }
   ],
   "source": [
    "self_tune = TunedModel(\n",
    "#     model=LogisticClassifier(penalty=:l1),\n",
    "    model=EvoTreeClassifier(),\n",
    "    \n",
    "    resampling=StratifiedCV(nfolds=5, rng=123),\n",
    "\n",
    "    tuning=LatinHypercube(),  #     tuning=Grid(resolution=2), \n",
    "    range = r,\n",
    "    n=200,\n",
    "    operation=predict_mode, # use for probabalistic \n",
    "    measure = fnr,  # use for deterministic or with predict_mode for probab \n",
    "    acceleration=CPUThreads(),\n",
    ")\n",
    "\n",
    "machbest = machine(\n",
    "    self_tune,\n",
    "    x,y)\n",
    "fit!(machbest,verbosity=1 )\n",
    "\n",
    "mach = machine(\n",
    "    fitted_params(machbest).best_model,\n",
    "    x,y)\n",
    "fit!(mach,verbosity=1 )"
   ]
  },
  {
   "cell_type": "code",
   "execution_count": 448,
   "id": "7aaa7419",
   "metadata": {},
   "outputs": [],
   "source": [
    "FileIO.save(\"lofreq$(full).jld2\", Dict(\"mach\"=>mach,\"stnd\" => stnd,\n",
    "        \"imputemach\" => imputemach, \n",
    "    ) ; compress = true\n",
    ")"
   ]
  },
  {
   "cell_type": "markdown",
   "id": "cc6944d1",
   "metadata": {},
   "source": [
    "# Pindel"
   ]
  },
  {
   "cell_type": "code",
   "execution_count": 449,
   "id": "1706421e",
   "metadata": {},
   "outputs": [],
   "source": [
    "x = copy(xold[train2,:]);\n",
    "y = copy(yold[train2]);"
   ]
  },
  {
   "cell_type": "code",
   "execution_count": 450,
   "id": "b0de7230",
   "metadata": {},
   "outputs": [
    {
     "data": {
      "text/plain": [
       "false"
      ]
     },
     "execution_count": 450,
     "metadata": {},
     "output_type": "execute_result"
    }
   ],
   "source": [
    "! isonehot(unique(xold[:,\"FILTER_Pindel_Not_Detected\"])) && typeof(xold[findfirst(x->!ismissing(x),xold[:,\"FILTER_Pindel_Not_Detected\"]),\"FILTER_Pindel_Not_Detected\"]) <: Union{Float32, Float64}\n",
    "\n"
   ]
  },
  {
   "cell_type": "code",
   "execution_count": 451,
   "id": "74ccddde",
   "metadata": {},
   "outputs": [
    {
     "name": "stdout",
     "output_type": "stream",
     "text": [
      "8\n",
      "(3240,)\n",
      "\n",
      "(2480, 32)\n",
      "(2480,)\n",
      "8\n"
     ]
    }
   ],
   "source": [
    "x.col1=collect(1:nrow(x));\n",
    "coldrop = [] #\"FPpass\",\"FILTER_Mutect_PASS\"] # [\"gt_AF_Mutect\",\"AltFwd_Mutect\",\"RefFwd_Mutect\",\"AltRev_Mutect\",\"RefRev_Mutect\",\"gt_AD_ref_Mutect\",\"gt_AD_alt_Mutect\"]\n",
    "for i in names(x)\n",
    "    if i == \"col1\" || i==\"training\" || occursin( \"FILTER_Pindel\",i)\n",
    "        continue\n",
    "    end\n",
    "    if length(unique(x[:,i])) < 2 || occursin(\"Lofreq\",i) || occursin(\"Vardict\",i) || occursin(\"Mutect\",i) # || occursin(\"ALT\",i) || occursin(\"REF\",i)\n",
    "        push!(coldrop,i)\n",
    "#         println(i)\n",
    "    end \n",
    "end\n",
    "unique!(coldrop)\n",
    "select!(x, Not(coldrop));\n",
    "println(sum([i==true for i in y]))\n",
    "# println(nrow(xold))\n",
    "# dropmissing!(xold)\n",
    "# println(nrow(xold))\n",
    "filter!(x->!ismissing(x.dust_score_Pindel),x);\n",
    "println(size(y))\n",
    "# println(length(sample_key2))\n",
    "println()\n",
    "y = y[x.col1]\n",
    "# println(xold[findall(x->x,[i==true for i in yold]),\"col1\"])\n",
    "# println(xold[findall(x->!x,[i==true for i in yold]),\"col1\"])\n",
    "# sample_key2 = sample_key2[x.col1]\n",
    "select!(x,Not(\"col1\"));\n",
    "\n",
    "println(size(x))\n",
    "println(size(y))\n",
    "# println(length(sample_key2))\n",
    "println(sum([i==true for i in y]));\n",
    "\n"
   ]
  },
  {
   "cell_type": "code",
   "execution_count": 452,
   "id": "a8d23267",
   "metadata": {},
   "outputs": [
    {
     "name": "stdout",
     "output_type": "stream",
     "text": [
      "1812\n"
     ]
    }
   ],
   "source": [
    "transform_log!(x,10)\n",
    "stnd = fit_standardizer(x)\n",
    "transform_standardizer!(x,stnd);\n",
    "println(sum(ismissing.(Matrix(x))))"
   ]
  },
  {
   "cell_type": "code",
   "execution_count": 453,
   "id": "2f635968",
   "metadata": {},
   "outputs": [
    {
     "name": "stderr",
     "output_type": "stream",
     "text": [
      "┌ Info: Training Machine{MissingImputator,…}.\n",
      "└ @ MLJBase /Users/alexpanchot/.julia/packages/MLJBase/HZmTU/src/machines.jl:403\n"
     ]
    },
    {
     "name": "stdout",
     "output_type": "stream",
     "text": [
      "  0.884805 seconds (4.18 M allocations: 468.318 MiB, 58.35% gc time)\n"
     ]
    },
    {
     "data": {
      "text/plain": [
       "Machine{MissingImputator,…} trained 1 time; caches data\n",
       "  args: \n",
       "    1:\tSource @465 ⏎ `Table{Union{AbstractVector{Union{Missing, Continuous}}, AbstractVector{Continuous}}}`\n"
      ]
     },
     "execution_count": 453,
     "metadata": {},
     "output_type": "execute_result"
    }
   ],
   "source": [
    "imputemach = machine(MissingImputator(K=5),x) \n",
    "@time fit!(imputemach,verbosity=1)"
   ]
  },
  {
   "cell_type": "code",
   "execution_count": 454,
   "id": "4c32084e",
   "metadata": {},
   "outputs": [],
   "source": [
    "tt = MLJ.transform(imputemach,x);\n",
    "for i in 1:ncol(x)\n",
    "    x[:,i] = tt[i]\n",
    "end\n",
    "disallowmissing!(x);"
   ]
  },
  {
   "cell_type": "code",
   "execution_count": 455,
   "id": "70678c8c",
   "metadata": {},
   "outputs": [
    {
     "name": "stdout",
     "output_type": "stream",
     "text": [
      "(2480, 32) 8\n",
      "(2480,)\n",
      "(2480, 32) 8\n",
      "(2480,)\n"
     ]
    }
   ],
   "source": [
    "println(size(x),\" \",sum([i==true for i in y] ) )\n",
    "println(size(y))\n",
    "# x,y,train,test,sample_key = sampler(x,y,train,test,sample_key,\"under\",0.8);\n",
    "# x,y,train,test,sample_key = sampler(x,y,train,test,sample_key,\"over\",0.2);\n",
    "\n",
    "y = coerce(copy(y),OrderedFactor);\n",
    "\n",
    "println(size(x),\" \",sum([i==true for i in y] ) )\n",
    "println(size(y))"
   ]
  },
  {
   "cell_type": "code",
   "execution_count": 456,
   "id": "d4923d68",
   "metadata": {},
   "outputs": [
    {
     "data": {
      "text/plain": [
       "8-element Vector{MLJBase.NumericRange{T, MLJBase.Bounded, Symbol} where T}:\n",
       " NumericRange(2 ≤ max_depth ≤ 8; origin=5.0, unit=3.0)\n",
       " NumericRange(0.0 ≤ η ≤ 1.0; origin=0.5, unit=0.5)\n",
       " NumericRange(0.0 ≤ γ ≤ 1.0; origin=0.5, unit=0.5)\n",
       " NumericRange(0.0 ≤ λ ≤ 1.0; origin=0.5, unit=0.5)\n",
       " NumericRange(0.0 ≤ α ≤ 1.0; origin=0.5, unit=0.5)\n",
       " NumericRange(0.0 ≤ min_weight ≤ 1.0; origin=0.5, unit=0.5)\n",
       " NumericRange(1 ≤ nrounds ≤ 10; origin=5.5, unit=4.5)\n",
       " NumericRange(4 ≤ nbins ≤ 128; origin=66.0, unit=62.0)"
      ]
     },
     "execution_count": 456,
     "metadata": {},
     "output_type": "execute_result"
    }
   ],
   "source": [
    "\n",
    "r = [\n",
    "    range(EvoTreeClassifier(), :max_depth, lower=2,upper=8),\n",
    "    range(EvoTreeClassifier(), :η, lower=0.0,upper=1.0),\n",
    "    range(EvoTreeClassifier(), :γ, lower=0.0,upper=1.0),\n",
    "    range(EvoTreeClassifier(), :λ, lower=0.0,upper=1.0),\n",
    "    range(EvoTreeClassifier(), :α, lower=0.0,upper=1.0),\n",
    "    range(EvoTreeClassifier(), :min_weight, lower=0.0,upper=1.0),\n",
    "    range(EvoTreeClassifier(), :nrounds, lower=1,upper=10),\n",
    "    range(EvoTreeClassifier(), :nbins, lower=4, upper=128),\n",
    "    \n",
    "    \n",
    "#     range(LogisticClassifier(), :lambda, lower=0.0,upper=1.0),\n",
    "#     range(LogisticClassifier(), :gamma, lower=0.0,upper=1.0),\n",
    "]"
   ]
  },
  {
   "cell_type": "code",
   "execution_count": 457,
   "id": "bcd15e13",
   "metadata": {},
   "outputs": [
    {
     "name": "stderr",
     "output_type": "stream",
     "text": [
      "┌ Info: Training Machine{ProbabilisticTunedModel{LatinHypercube,…},…}.\n",
      "└ @ MLJBase /Users/alexpanchot/.julia/packages/MLJBase/HZmTU/src/machines.jl:403\n",
      "┌ Info: Attempting to evaluate 200 models.\n",
      "└ @ MLJTuning /Users/alexpanchot/.julia/packages/MLJTuning/efiDR/src/tuned_models.jl:685\n",
      "\u001b[33mEvaluating over 200 metamodels: 100%[=========================] Time: 0:00:38\u001b[39m\n",
      "┌ Info: Training Machine{EvoTreeClassifier{Float64,…},…}.\n",
      "└ @ MLJBase /Users/alexpanchot/.julia/packages/MLJBase/HZmTU/src/machines.jl:403\n"
     ]
    },
    {
     "data": {
      "text/plain": [
       "Machine{EvoTreeClassifier{Float64,…},…} trained 1 time; caches data\n",
       "  args: \n",
       "    1:\tSource @746 ⏎ `Table{AbstractVector{Continuous}}`\n",
       "    2:\tSource @551 ⏎ `AbstractVector{OrderedFactor{2}}`\n"
      ]
     },
     "execution_count": 457,
     "metadata": {},
     "output_type": "execute_result"
    }
   ],
   "source": [
    "self_tune = TunedModel(\n",
    "#     model=LogisticClassifier(penalty=:l1),\n",
    "    model=EvoTreeClassifier(),\n",
    "    \n",
    "    resampling=StratifiedCV(nfolds=5, rng=123),\n",
    "\n",
    "    tuning=LatinHypercube(),  #     tuning=Grid(resolution=2), \n",
    "    range = r,\n",
    "    n=200,\n",
    "    operation=predict_mode, # use for probabalistic \n",
    "    measure = fnr,  # use for deterministic or with predict_mode for probab \n",
    "    acceleration=CPUThreads(),\n",
    ")\n",
    "\n",
    "machbest = machine(\n",
    "    self_tune,\n",
    "    x,y)\n",
    "fit!(machbest,verbosity=1 )\n",
    "\n",
    "mach = machine(\n",
    "    fitted_params(machbest).best_model,\n",
    "    x,y)\n",
    "fit!(mach,verbosity=1 )"
   ]
  },
  {
   "cell_type": "code",
   "execution_count": 458,
   "id": "4b821117",
   "metadata": {},
   "outputs": [],
   "source": [
    "FileIO.save(\"pindel$(full).jld2\", Dict(\"mach\"=>mach,\"stnd\" => stnd,\n",
    "        \"imputemach\" => imputemach, \n",
    "    ) ; compress = true\n",
    ")"
   ]
  },
  {
   "cell_type": "code",
   "execution_count": null,
   "id": "efe0c70f",
   "metadata": {},
   "outputs": [],
   "source": []
  },
  {
   "cell_type": "code",
   "execution_count": null,
   "id": "ce451b77",
   "metadata": {},
   "outputs": [],
   "source": []
  },
  {
   "cell_type": "code",
   "execution_count": 459,
   "id": "dd7eebac",
   "metadata": {},
   "outputs": [
    {
     "name": "stdout",
     "output_type": "stream",
     "text": [
      "\tzip warning: name not matched: data_full.jld2\n",
      "\n",
      "zip error: Nothing to do! (caller_predictions/data_full.zip)\n"
     ]
    },
    {
     "ename": "LoadError",
     "evalue": "failed process: Process(`\u001b[4mzip\u001b[24m \u001b[4mcaller_predictions/data_full.zip\u001b[24m \u001b[4mdata_full.jld2\u001b[24m`, ProcessExited(12)) [12]\n",
     "output_type": "error",
     "traceback": [
      "failed process: Process(`\u001b[4mzip\u001b[24m \u001b[4mcaller_predictions/data_full.zip\u001b[24m \u001b[4mdata_full.jld2\u001b[24m`, ProcessExited(12)) [12]\n",
      "",
      "Stacktrace:",
      " [1] pipeline_error",
      "   @ ./process.jl:525 [inlined]",
      " [2] run(::Cmd; wait::Bool)",
      "   @ Base ./process.jl:440",
      " [3] run(::Cmd)",
      "   @ Base ./process.jl:438",
      " [4] top-level scope",
      "   @ In[459]:1",
      " [5] eval",
      "   @ ./boot.jl:360 [inlined]",
      " [6] include_string(mapexpr::typeof(REPL.softscope), mod::Module, code::String, filename::String)",
      "   @ Base ./loading.jl:1116"
     ]
    }
   ],
   "source": [
    "# run(`zip caller_predictions/data_full.zip data_full.jld2`)\n"
   ]
  },
  {
   "cell_type": "code",
   "execution_count": null,
   "id": "b6048ebc",
   "metadata": {},
   "outputs": [],
   "source": []
  }
 ],
 "metadata": {
  "@webio": {
   "lastCommId": "1b8a5919627a4fec94a9b4b42202dc1a",
   "lastKernelId": "4d6254f8-e8ea-40cc-a92d-aae06f711fbb"
  },
  "kernelspec": {
   "display_name": "Julia 1.6.2",
   "language": "julia",
   "name": "julia-1.6"
  },
  "language_info": {
   "file_extension": ".jl",
   "mimetype": "application/julia",
   "name": "julia",
   "version": "1.6.2"
  }
 },
 "nbformat": 4,
 "nbformat_minor": 5
}
